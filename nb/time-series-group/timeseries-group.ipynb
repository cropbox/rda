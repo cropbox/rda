{
 "cells": [
  {
   "cell_type": "code",
   "execution_count": 1,
   "metadata": {},
   "outputs": [],
   "source": [
    "import numpy as np\n",
    "import pandas as pd\n",
    "import seaborn as sns\n",
    "import matplotlib.pyplot as plt\n",
    "import sklearn.covariance\n",
    "import sklearn.cluster\n",
    "import datetime"
   ]
  },
  {
   "cell_type": "markdown",
   "metadata": {},
   "source": [
    "## Parameters"
   ]
  },
  {
   "cell_type": "markdown",
   "metadata": {},
   "source": [
    "Set up input filenames. **met** file is for the weather dataset. **obs** file is for the phenology observation dataset (i.e. cherry blossom)."
   ]
  },
  {
   "cell_type": "code",
   "execution_count": 2,
   "metadata": {},
   "outputs": [],
   "source": [
    "MET_FILENAME = '../../input/df/met/usa_ds3505.h5'\n",
    "MET_LOCATION = 724050"
   ]
  },
  {
   "cell_type": "code",
   "execution_count": 3,
   "metadata": {},
   "outputs": [],
   "source": [
    "OBS_FILENAME = '../../input/df/obs/cherry_dc.h5'\n",
    "OBS_LOCATION = 'DC'"
   ]
  },
  {
   "cell_type": "markdown",
   "metadata": {},
   "source": [
    "$L$ is a threshold determining how many samples we'd like to extract from top and bottom of the distribution. It is a proportion ranging from 0 to 1. Simply put, we're going to take 'Top $100L$%' and 'Bottom $100L$%' of the distribution."
   ]
  },
  {
   "cell_type": "code",
   "execution_count": 4,
   "metadata": {},
   "outputs": [],
   "source": [
    "L = 0.5"
   ]
  },
  {
   "cell_type": "markdown",
   "metadata": {},
   "source": [
    "Specify months for chilling and heating (anti-chilling).\n",
    "\n",
    "Note that the current year ends at September. For example, the year of 2017 starts from 2016-10 to 2017-09."
   ]
  },
  {
   "cell_type": "code",
   "execution_count": 5,
   "metadata": {},
   "outputs": [],
   "source": [
    "CHILL_MONTHS = [11, 12, 1]\n",
    "HEAT_MONTHS = [2, 3, 4]"
   ]
  },
  {
   "cell_type": "markdown",
   "metadata": {},
   "source": [
    "## Dataset"
   ]
  },
  {
   "cell_type": "code",
   "execution_count": 6,
   "metadata": {},
   "outputs": [],
   "source": [
    "met = pd.read_hdf(MET_FILENAME).loc[MET_LOCATION]"
   ]
  },
  {
   "cell_type": "code",
   "execution_count": 7,
   "metadata": {},
   "outputs": [],
   "source": [
    "obs = pd.read_hdf(OBS_FILENAME).loc[OBS_LOCATION]"
   ]
  },
  {
   "cell_type": "markdown",
   "metadata": {},
   "source": [
    "There are years where some weather data are missing (i.e. '1969-09-01':'1972-12-31')."
   ]
  },
  {
   "cell_type": "code",
   "execution_count": 8,
   "metadata": {},
   "outputs": [],
   "source": [
    "years = set(met.index.year) - set([1946, 1970, 1971, 1972, 1973])"
   ]
  },
  {
   "cell_type": "code",
   "execution_count": 9,
   "metadata": {},
   "outputs": [],
   "source": [
    "years = years & set(obs.index.get_level_values('year'))"
   ]
  },
  {
   "cell_type": "code",
   "execution_count": 10,
   "metadata": {},
   "outputs": [],
   "source": [
    "met = pd.concat([met.loc[f'{y-1}-10-01':f'{y}-09-30'] for y in years])"
   ]
  },
  {
   "cell_type": "code",
   "execution_count": 11,
   "metadata": {},
   "outputs": [
    {
     "data": {
      "text/plain": [
       "<matplotlib.axes._subplots.AxesSubplot at 0x116ca2a58>"
      ]
     },
     "execution_count": 11,
     "metadata": {},
     "output_type": "execute_result"
    },
    {
     "data": {
      "image/png": "[encoded data removed]",
      "text/plain": [
       "<Figure size 432x288 with 1 Axes>"
      ]
     },
     "metadata": {
      "image/png": {
       "height": 266,
       "width": 370
      }
     },
     "output_type": "display_data"
    }
   ],
   "source": [
    "met.groupby(met.index.month).mean().rename_axis('month').plot.bar()"
   ]
  },
  {
   "cell_type": "code",
   "execution_count": 12,
   "metadata": {},
   "outputs": [],
   "source": [
    "def extract_months(met, months):\n",
    "    df = met.loc[met.index.month.isin(months)].resample('A-SEP').mean().dropna()\n",
    "    return df.sort_values('tavg', ascending=False)"
   ]
  },
  {
   "cell_type": "markdown",
   "metadata": {},
   "source": [
    "## Chill"
   ]
  },
  {
   "cell_type": "code",
   "execution_count": 13,
   "metadata": {},
   "outputs": [],
   "source": [
    "chill = extract_months(met, CHILL_MONTHS)"
   ]
  },
  {
   "cell_type": "code",
   "execution_count": 14,
   "metadata": {},
   "outputs": [
    {
     "data": {
      "text/plain": [
       "tavg    77\n",
       "dtype: int64"
      ]
     },
     "execution_count": 14,
     "metadata": {},
     "output_type": "execute_result"
    }
   ],
   "source": [
    "chill.count()"
   ]
  },
  {
   "cell_type": "code",
   "execution_count": 15,
   "metadata": {},
   "outputs": [],
   "source": [
    "def count(df, threshold=L):\n",
    "    assert 0 <= threshold <= 1\n",
    "    return int(df.count() * threshold)"
   ]
  },
  {
   "cell_type": "code",
   "execution_count": 16,
   "metadata": {},
   "outputs": [
    {
     "data": {
      "text/plain": [
       "38"
      ]
     },
     "execution_count": 16,
     "metadata": {},
     "output_type": "execute_result"
    }
   ],
   "source": [
    "count(chill, L)"
   ]
  },
  {
   "cell_type": "code",
   "execution_count": 17,
   "metadata": {},
   "outputs": [],
   "source": [
    "def top(df, threshold=L):\n",
    "    t = count(df, threshold)\n",
    "    return df[:t]\n",
    "\n",
    "def bottom(df, threshold=L):\n",
    "    t = count(df, threshold)\n",
    "    return df[-t:]"
   ]
  },
  {
   "cell_type": "code",
   "execution_count": 18,
   "metadata": {},
   "outputs": [
    {
     "data": {
      "text/plain": [
       "5.3925024379506"
      ]
     },
     "execution_count": 18,
     "metadata": {},
     "output_type": "execute_result"
    }
   ],
   "source": [
    "chill.tavg.mean()"
   ]
  },
  {
   "cell_type": "code",
   "execution_count": 19,
   "metadata": {},
   "outputs": [
    {
     "data": {
      "text/plain": [
       "6.670933870749759"
      ]
     },
     "execution_count": 19,
     "metadata": {},
     "output_type": "execute_result"
    }
   ],
   "source": [
    "top(chill).tavg.mean()"
   ]
  },
  {
   "cell_type": "code",
   "execution_count": 20,
   "metadata": {},
   "outputs": [
    {
     "data": {
      "text/plain": [
       "4.117718571214977"
      ]
     },
     "execution_count": 20,
     "metadata": {},
     "output_type": "execute_result"
    }
   ],
   "source": [
    "bottom(chill).tavg.mean()"
   ]
  },
  {
   "cell_type": "code",
   "execution_count": 21,
   "metadata": {},
   "outputs": [],
   "source": [
    "def plot(df, threshold=L):\n",
    "    ax = df.plot(style='.', color='grey')\n",
    "    top(df, threshold).plot(style='.', color='r', ax=ax)\n",
    "    bottom(df, threshold).plot(style='.', color='b', ax=ax)\n",
    "    ax.legend(['Others', f'Top {threshold*100:.0f}%', f'Bottom {threshold*100:.0f}%'])\n",
    "    plt.axhline(y=df.tavg.mean(), color='k', ls=':')"
   ]
  },
  {
   "cell_type": "code",
   "execution_count": 22,
   "metadata": {},
   "outputs": [
    {
     "data": {
      "image/png": "[encoded data removed]",
      "text/plain": [
       "<Figure size 432x288 with 1 Axes>"
      ]
     },
     "metadata": {
      "image/png": {
       "height": 253,
       "width": 376
      }
     },
     "output_type": "display_data"
    }
   ],
   "source": [
    "plot(chill)"
   ]
  },
  {
   "cell_type": "code",
   "execution_count": 23,
   "metadata": {},
   "outputs": [],
   "source": [
    "def top_years(df, threshold=L):\n",
    "    return set(top(df, threshold).index.year.sort_values())\n",
    "\n",
    "def bottom_years(df, threshold=L):\n",
    "    return set(bottom(df, threshold).index.year.sort_values())"
   ]
  },
  {
   "cell_type": "code",
   "execution_count": 24,
   "metadata": {},
   "outputs": [],
   "source": [
    "chill_top_years = top_years(chill)"
   ]
  },
  {
   "cell_type": "code",
   "execution_count": 25,
   "metadata": {},
   "outputs": [],
   "source": [
    "chill_bottom_years = bottom_years(chill)"
   ]
  },
  {
   "cell_type": "code",
   "execution_count": 26,
   "metadata": {},
   "outputs": [],
   "source": [
    "chill_years = chill_top_years | chill_bottom_years"
   ]
  },
  {
   "cell_type": "markdown",
   "metadata": {},
   "source": [
    "## Heat"
   ]
  },
  {
   "cell_type": "code",
   "execution_count": 27,
   "metadata": {},
   "outputs": [],
   "source": [
    "heat = extract_months(met, HEAT_MONTHS)"
   ]
  },
  {
   "cell_type": "code",
   "execution_count": 28,
   "metadata": {},
   "outputs": [
    {
     "data": {
      "text/plain": [
       "8.548622744274551"
      ]
     },
     "execution_count": 28,
     "metadata": {},
     "output_type": "execute_result"
    }
   ],
   "source": [
    "heat.tavg.mean()"
   ]
  },
  {
   "cell_type": "code",
   "execution_count": 29,
   "metadata": {},
   "outputs": [
    {
     "data": {
      "text/plain": [
       "9.536575648837655"
      ]
     },
     "execution_count": 29,
     "metadata": {},
     "output_type": "execute_result"
    }
   ],
   "source": [
    "top(heat).tavg.mean()"
   ]
  },
  {
   "cell_type": "code",
   "execution_count": 30,
   "metadata": {},
   "outputs": [
    {
     "data": {
      "text/plain": [
       "7.567419618572859"
      ]
     },
     "execution_count": 30,
     "metadata": {},
     "output_type": "execute_result"
    }
   ],
   "source": [
    "bottom(heat).tavg.mean()"
   ]
  },
  {
   "cell_type": "code",
   "execution_count": 31,
   "metadata": {},
   "outputs": [
    {
     "data": {
      "image/png": "[encoded data removed]",
      "text/plain": [
       "<Figure size 432x288 with 1 Axes>"
      ]
     },
     "metadata": {
      "image/png": {
       "height": 253,
       "width": 376
      }
     },
     "output_type": "display_data"
    }
   ],
   "source": [
    "plot(heat)"
   ]
  },
  {
   "cell_type": "code",
   "execution_count": 32,
   "metadata": {},
   "outputs": [],
   "source": [
    "heat_top_years = top_years(heat)"
   ]
  },
  {
   "cell_type": "code",
   "execution_count": 33,
   "metadata": {},
   "outputs": [],
   "source": [
    "heat_bottom_years = bottom_years(heat)"
   ]
  },
  {
   "cell_type": "code",
   "execution_count": 34,
   "metadata": {},
   "outputs": [],
   "source": [
    "heat_years = heat_top_years | heat_bottom_years"
   ]
  },
  {
   "cell_type": "markdown",
   "metadata": {},
   "source": [
    "## Result"
   ]
  },
  {
   "cell_type": "code",
   "execution_count": 35,
   "metadata": {},
   "outputs": [
    {
     "data": {
      "text/plain": [
       "75"
      ]
     },
     "execution_count": 35,
     "metadata": {},
     "output_type": "execute_result"
    }
   ],
   "source": [
    "len(chill_years & heat_years)"
   ]
  },
  {
   "cell_type": "markdown",
   "metadata": {},
   "source": [
    "Here are four possible combinations of chill and heat extremes. If we want more samples, increase threshold variable $L$ above and rerun the notebook."
   ]
  },
  {
   "cell_type": "code",
   "execution_count": 36,
   "metadata": {},
   "outputs": [
    {
     "data": {
      "text/plain": [
       "{1942,\n",
       " 1949,\n",
       " 1953,\n",
       " 1954,\n",
       " 1957,\n",
       " 1974,\n",
       " 1976,\n",
       " 1980,\n",
       " 1991,\n",
       " 1998,\n",
       " 1999,\n",
       " 2000,\n",
       " 2002,\n",
       " 2006,\n",
       " 2008,\n",
       " 2012,\n",
       " 2016,\n",
       " 2017}"
      ]
     },
     "execution_count": 36,
     "metadata": {},
     "output_type": "execute_result"
    }
   ],
   "source": [
    "chill_top_years & heat_top_years"
   ]
  },
  {
   "cell_type": "code",
   "execution_count": 37,
   "metadata": {},
   "outputs": [
    {
     "data": {
      "text/plain": [
       "{1937,\n",
       " 1947,\n",
       " 1950,\n",
       " 1958,\n",
       " 1960,\n",
       " 1962,\n",
       " 1965,\n",
       " 1966,\n",
       " 1967,\n",
       " 1975,\n",
       " 1979,\n",
       " 1983,\n",
       " 1989,\n",
       " 1992,\n",
       " 1993,\n",
       " 1995,\n",
       " 2005,\n",
       " 2007,\n",
       " 2013,\n",
       " 2015}"
      ]
     },
     "execution_count": 37,
     "metadata": {},
     "output_type": "execute_result"
    }
   ],
   "source": [
    "chill_top_years & heat_bottom_years"
   ]
  },
  {
   "cell_type": "code",
   "execution_count": 38,
   "metadata": {},
   "outputs": [
    {
     "data": {
      "text/plain": [
       "{1938,\n",
       " 1939,\n",
       " 1945,\n",
       " 1948,\n",
       " 1955,\n",
       " 1959,\n",
       " 1968,\n",
       " 1977,\n",
       " 1981,\n",
       " 1985,\n",
       " 1990,\n",
       " 1994,\n",
       " 1997,\n",
       " 2001,\n",
       " 2004,\n",
       " 2009,\n",
       " 2010,\n",
       " 2011,\n",
       " 2018}"
      ]
     },
     "execution_count": 38,
     "metadata": {},
     "output_type": "execute_result"
    }
   ],
   "source": [
    "chill_bottom_years & heat_top_years"
   ]
  },
  {
   "cell_type": "code",
   "execution_count": 39,
   "metadata": {},
   "outputs": [
    {
     "data": {
      "text/plain": [
       "{1940,\n",
       " 1941,\n",
       " 1943,\n",
       " 1944,\n",
       " 1951,\n",
       " 1956,\n",
       " 1963,\n",
       " 1964,\n",
       " 1969,\n",
       " 1978,\n",
       " 1982,\n",
       " 1984,\n",
       " 1986,\n",
       " 1987,\n",
       " 1988,\n",
       " 1996,\n",
       " 2003,\n",
       " 2014}"
      ]
     },
     "execution_count": 39,
     "metadata": {},
     "output_type": "execute_result"
    }
   ],
   "source": [
    "chill_bottom_years & heat_bottom_years"
   ]
  }
 ],
 "metadata": {
  "kernelspec": {
   "display_name": "Python 3",
   "language": "python",
   "name": "python3"
  },
  "language_info": {
   "codemirror_mode": {
    "name": "ipython",
    "version": 3
   },
   "file_extension": ".py",
   "mimetype": "text/x-python",
   "name": "python",
   "nbconvert_exporter": "python",
   "pygments_lexer": "ipython3",
   "version": "3.7.0"
  }
 },
 "nbformat": 4,
 "nbformat_minor": 2
}
