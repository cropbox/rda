{
 "cells": [
  {
   "cell_type": "code",
   "execution_count": 1,
   "metadata": {
    "collapsed": true
   },
   "outputs": [],
   "source": [
    "import pandas as pd\n",
    "import numpy as np\n",
    "import scipy.optimize\n",
    "import datetime"
   ]
  },
  {
   "cell_type": "code",
   "execution_count": 2,
   "metadata": {
    "collapsed": true
   },
   "outputs": [],
   "source": [
    "import matplotlib.pyplot as plt\n",
    "from matplotlib import cm\n",
    "from mpl_toolkits.mplot3d import Axes3D\n",
    "\n",
    "%matplotlib inline"
   ]
  },
  {
   "cell_type": "markdown",
   "metadata": {},
   "source": [
    "### Observation"
   ]
  },
  {
   "cell_type": "markdown",
   "metadata": {},
   "source": [
    "Read cherry blossoms dataset for Tidal Basin, Washington DC. Records are available at https://cherryblossomwatch.com"
   ]
  },
  {
   "cell_type": "code",
   "execution_count": 3,
   "metadata": {
    "collapsed": true
   },
   "outputs": [],
   "source": [
    "cherry_dc = pd.read_hdf('./cherry_dc.h5')"
   ]
  },
  {
   "cell_type": "code",
   "execution_count": 4,
   "metadata": {
    "scrolled": true
   },
   "outputs": [
    {
     "data": {
      "text/html": [
       "<div>\n",
       "<style>\n",
       "    .dataframe thead tr:only-child th {\n",
       "        text-align: right;\n",
       "    }\n",
       "\n",
       "    .dataframe thead th {\n",
       "        text-align: left;\n",
       "    }\n",
       "\n",
       "    .dataframe tbody tr th {\n",
       "        vertical-align: top;\n",
       "    }\n",
       "</style>\n",
       "<table border=\"1\" class=\"dataframe\">\n",
       "  <thead>\n",
       "    <tr style=\"text-align: right;\">\n",
       "      <th></th>\n",
       "      <th></th>\n",
       "      <th></th>\n",
       "      <th>Extension of Florets</th>\n",
       "      <th>Florets Visible</th>\n",
       "      <th>Green Color In Buds</th>\n",
       "      <th>Peak Bloom</th>\n",
       "      <th>Peduncle Elongation</th>\n",
       "      <th>Puffy White</th>\n",
       "    </tr>\n",
       "    <tr>\n",
       "      <th>station</th>\n",
       "      <th>cultivar</th>\n",
       "      <th>year</th>\n",
       "      <th></th>\n",
       "      <th></th>\n",
       "      <th></th>\n",
       "      <th></th>\n",
       "      <th></th>\n",
       "      <th></th>\n",
       "    </tr>\n",
       "  </thead>\n",
       "  <tbody>\n",
       "    <tr>\n",
       "      <th rowspan=\"5\" valign=\"top\">DC</th>\n",
       "      <th rowspan=\"5\" valign=\"top\">Kwanzan</th>\n",
       "      <th>1921</th>\n",
       "      <td>NaT</td>\n",
       "      <td>NaT</td>\n",
       "      <td>NaT</td>\n",
       "      <td>1921-04-17</td>\n",
       "      <td>NaT</td>\n",
       "      <td>NaT</td>\n",
       "    </tr>\n",
       "    <tr>\n",
       "      <th>1922</th>\n",
       "      <td>NaT</td>\n",
       "      <td>NaT</td>\n",
       "      <td>NaT</td>\n",
       "      <td>1922-04-20</td>\n",
       "      <td>NaT</td>\n",
       "      <td>NaT</td>\n",
       "    </tr>\n",
       "    <tr>\n",
       "      <th>1923</th>\n",
       "      <td>NaT</td>\n",
       "      <td>NaT</td>\n",
       "      <td>NaT</td>\n",
       "      <td>1923-04-22</td>\n",
       "      <td>NaT</td>\n",
       "      <td>NaT</td>\n",
       "    </tr>\n",
       "    <tr>\n",
       "      <th>1924</th>\n",
       "      <td>NaT</td>\n",
       "      <td>NaT</td>\n",
       "      <td>NaT</td>\n",
       "      <td>1924-04-26</td>\n",
       "      <td>NaT</td>\n",
       "      <td>NaT</td>\n",
       "    </tr>\n",
       "    <tr>\n",
       "      <th>1925</th>\n",
       "      <td>NaT</td>\n",
       "      <td>NaT</td>\n",
       "      <td>NaT</td>\n",
       "      <td>1925-04-15</td>\n",
       "      <td>NaT</td>\n",
       "      <td>NaT</td>\n",
       "    </tr>\n",
       "  </tbody>\n",
       "</table>\n",
       "</div>"
      ],
      "text/plain": [
       "                      Extension of Florets Florets Visible  \\\n",
       "station cultivar year                                        \n",
       "DC      Kwanzan  1921                  NaT             NaT   \n",
       "                 1922                  NaT             NaT   \n",
       "                 1923                  NaT             NaT   \n",
       "                 1924                  NaT             NaT   \n",
       "                 1925                  NaT             NaT   \n",
       "\n",
       "                      Green Color In Buds Peak Bloom Peduncle Elongation  \\\n",
       "station cultivar year                                                      \n",
       "DC      Kwanzan  1921                 NaT 1921-04-17                 NaT   \n",
       "                 1922                 NaT 1922-04-20                 NaT   \n",
       "                 1923                 NaT 1923-04-22                 NaT   \n",
       "                 1924                 NaT 1924-04-26                 NaT   \n",
       "                 1925                 NaT 1925-04-15                 NaT   \n",
       "\n",
       "                      Puffy White  \n",
       "station cultivar year              \n",
       "DC      Kwanzan  1921         NaT  \n",
       "                 1922         NaT  \n",
       "                 1923         NaT  \n",
       "                 1924         NaT  \n",
       "                 1925         NaT  "
      ]
     },
     "execution_count": 4,
     "metadata": {},
     "output_type": "execute_result"
    }
   ],
   "source": [
    "cherry_dc.head()"
   ]
  },
  {
   "cell_type": "markdown",
   "metadata": {},
   "source": [
    "We only use **Peak Bloom** dates of **Yoshino** cherry in the **DC** area."
   ]
  },
  {
   "cell_type": "code",
   "execution_count": 5,
   "metadata": {
    "collapsed": true
   },
   "outputs": [],
   "source": [
    "obs = cherry_dc.loc['DC', 'Yoshino']['Peak Bloom']"
   ]
  },
  {
   "cell_type": "code",
   "execution_count": 6,
   "metadata": {},
   "outputs": [
    {
     "data": {
      "text/plain": [
       "year\n",
       "1921   1921-03-20\n",
       "1922   1922-04-07\n",
       "1923   1923-04-09\n",
       "1924   1924-04-13\n",
       "1925   1925-03-27\n",
       "1926   1926-04-11\n",
       "1927   1927-03-20\n",
       "1928   1928-04-08\n",
       "1929   1929-03-31\n",
       "1930   1930-04-01\n",
       "1931   1931-04-11\n",
       "1932   1932-04-15\n",
       "1933   1933-04-09\n",
       "1934   1934-04-15\n",
       "1935   1935-04-01\n",
       "1936   1936-04-07\n",
       "1937   1937-04-14\n",
       "1938   1938-03-25\n",
       "1939   1939-03-30\n",
       "1940   1940-04-13\n",
       "1941   1941-04-12\n",
       "1942   1942-04-05\n",
       "1943   1943-04-04\n",
       "1944   1944-04-09\n",
       "1945   1945-03-20\n",
       "1946   1946-03-23\n",
       "1947   1947-04-12\n",
       "1948   1948-03-28\n",
       "1949   1949-03-29\n",
       "1950   1950-04-09\n",
       "          ...    \n",
       "1988   1988-03-31\n",
       "1989   1989-03-29\n",
       "1990   1990-03-15\n",
       "1991   1991-03-29\n",
       "1992   1992-04-07\n",
       "1993   1993-04-11\n",
       "1994   1994-04-05\n",
       "1995   1995-04-02\n",
       "1996   1996-04-04\n",
       "1997   1997-03-26\n",
       "1998   1998-03-27\n",
       "1999   1999-04-05\n",
       "2000   2000-03-17\n",
       "2001   2001-04-06\n",
       "2002   2002-04-02\n",
       "2003   2003-04-02\n",
       "2004   2004-03-31\n",
       "2005   2005-04-09\n",
       "2006   2006-03-30\n",
       "2007   2007-04-01\n",
       "2008   2008-03-29\n",
       "2009   2009-04-01\n",
       "2010   2010-03-31\n",
       "2011   2011-03-29\n",
       "2012   2012-03-20\n",
       "2013   2013-04-09\n",
       "2014   2014-04-10\n",
       "2015   2015-04-10\n",
       "2016   2016-03-25\n",
       "2017   2017-03-25\n",
       "Name: Peak Bloom, Length: 97, dtype: datetime64[ns]"
      ]
     },
     "execution_count": 6,
     "metadata": {},
     "output_type": "execute_result"
    }
   ],
   "source": [
    "obs"
   ]
  },
  {
   "cell_type": "markdown",
   "metadata": {},
   "source": [
    "By default, all timestamps are clocked at midnight (00:00). We want to change them to noon (12:00) for better dates handling. Keep in mind that phenology observations are usually made during daytime, not midnight."
   ]
  },
  {
   "cell_type": "code",
   "execution_count": 7,
   "metadata": {
    "collapsed": true
   },
   "outputs": [],
   "source": [
    "obs = obs.apply(lambda t: t.replace(hour=12))"
   ]
  },
  {
   "cell_type": "code",
   "execution_count": 8,
   "metadata": {},
   "outputs": [
    {
     "data": {
      "text/plain": [
       "year\n",
       "2013   2013-04-09 12:00:00\n",
       "2014   2014-04-10 12:00:00\n",
       "2015   2015-04-10 12:00:00\n",
       "2016   2016-03-25 12:00:00\n",
       "2017   2017-03-25 12:00:00\n",
       "Name: Peak Bloom, dtype: datetime64[ns]"
      ]
     },
     "execution_count": 8,
     "metadata": {},
     "output_type": "execute_result"
    }
   ],
   "source": [
    "obs.tail()"
   ]
  },
  {
   "cell_type": "code",
   "execution_count": 9,
   "metadata": {},
   "outputs": [
    {
     "data": {
      "text/plain": [
       "Timestamp('2017-03-25 12:00:00')"
      ]
     },
     "execution_count": 9,
     "metadata": {},
     "output_type": "execute_result"
    }
   ],
   "source": [
    "obs[2017]"
   ]
  },
  {
   "cell_type": "markdown",
   "metadata": {},
   "source": [
    "### Weather"
   ]
  },
  {
   "cell_type": "markdown",
   "metadata": {},
   "source": [
    "Read weather dataset. Hourly data from weather stations are available at https://www7.ncdc.noaa.gov/CDO/cdopoemain.cmd?datasetabbv=DS3505\n",
    "\n",
    "Stations codes\n",
    "- 724050: Reagan National Airport\n",
    "- 727930: Seattle-Tacoma International Airport"
   ]
  },
  {
   "cell_type": "code",
   "execution_count": 10,
   "metadata": {
    "collapsed": true
   },
   "outputs": [],
   "source": [
    "usa_ds3505 = pd.read_hdf('./usa_ds3505.h5')"
   ]
  },
  {
   "cell_type": "code",
   "execution_count": 11,
   "metadata": {},
   "outputs": [
    {
     "data": {
      "text/html": [
       "<div>\n",
       "<style>\n",
       "    .dataframe thead tr:only-child th {\n",
       "        text-align: right;\n",
       "    }\n",
       "\n",
       "    .dataframe thead th {\n",
       "        text-align: left;\n",
       "    }\n",
       "\n",
       "    .dataframe tbody tr th {\n",
       "        vertical-align: top;\n",
       "    }\n",
       "</style>\n",
       "<table border=\"1\" class=\"dataframe\">\n",
       "  <thead>\n",
       "    <tr style=\"text-align: right;\">\n",
       "      <th></th>\n",
       "      <th></th>\n",
       "      <th>tavg</th>\n",
       "    </tr>\n",
       "    <tr>\n",
       "      <th>station</th>\n",
       "      <th>timestamp</th>\n",
       "      <th></th>\n",
       "    </tr>\n",
       "  </thead>\n",
       "  <tbody>\n",
       "    <tr>\n",
       "      <th rowspan=\"5\" valign=\"top\">724050</th>\n",
       "      <th>1936-09-01 07:00:00-04:00</th>\n",
       "      <td>15.7</td>\n",
       "    </tr>\n",
       "    <tr>\n",
       "      <th>1936-09-01 08:00:00-04:00</th>\n",
       "      <td>18.0</td>\n",
       "    </tr>\n",
       "    <tr>\n",
       "      <th>1936-09-01 09:00:00-04:00</th>\n",
       "      <td>17.4</td>\n",
       "    </tr>\n",
       "    <tr>\n",
       "      <th>1936-09-01 10:00:00-04:00</th>\n",
       "      <td>23.5</td>\n",
       "    </tr>\n",
       "    <tr>\n",
       "      <th>1936-09-01 11:00:00-04:00</th>\n",
       "      <td>25.2</td>\n",
       "    </tr>\n",
       "  </tbody>\n",
       "</table>\n",
       "</div>"
      ],
      "text/plain": [
       "                                   tavg\n",
       "station timestamp                      \n",
       "724050  1936-09-01 07:00:00-04:00  15.7\n",
       "        1936-09-01 08:00:00-04:00  18.0\n",
       "        1936-09-01 09:00:00-04:00  17.4\n",
       "        1936-09-01 10:00:00-04:00  23.5\n",
       "        1936-09-01 11:00:00-04:00  25.2"
      ]
     },
     "execution_count": 11,
     "metadata": {},
     "output_type": "execute_result"
    }
   ],
   "source": [
    "usa_ds3505.head()"
   ]
  },
  {
   "cell_type": "markdown",
   "metadata": {},
   "source": [
    "Weather records are originally in hourly interval and we want to convert them into daily interval for faster processing in this lab exercise. **724050** is the station code for Reagan National Airport which is located a few miles away from Tidal Basin, Washington DC."
   ]
  },
  {
   "cell_type": "code",
   "execution_count": 12,
   "metadata": {
    "collapsed": true
   },
   "outputs": [],
   "source": [
    "met = usa_ds3505.loc[724050].resample('D').mean()"
   ]
  },
  {
   "cell_type": "markdown",
   "metadata": {},
   "source": [
    "Remove timezone information from the weather dataset for easier manipulation in the later stage."
   ]
  },
  {
   "cell_type": "code",
   "execution_count": 13,
   "metadata": {
    "collapsed": true
   },
   "outputs": [],
   "source": [
    "met.index = met.index.tz_localize(None)"
   ]
  },
  {
   "cell_type": "code",
   "execution_count": 14,
   "metadata": {},
   "outputs": [
    {
     "data": {
      "text/html": [
       "<div>\n",
       "<style>\n",
       "    .dataframe thead tr:only-child th {\n",
       "        text-align: right;\n",
       "    }\n",
       "\n",
       "    .dataframe thead th {\n",
       "        text-align: left;\n",
       "    }\n",
       "\n",
       "    .dataframe tbody tr th {\n",
       "        vertical-align: top;\n",
       "    }\n",
       "</style>\n",
       "<table border=\"1\" class=\"dataframe\">\n",
       "  <thead>\n",
       "    <tr style=\"text-align: right;\">\n",
       "      <th></th>\n",
       "      <th>tavg</th>\n",
       "    </tr>\n",
       "    <tr>\n",
       "      <th>timestamp</th>\n",
       "      <th></th>\n",
       "    </tr>\n",
       "  </thead>\n",
       "  <tbody>\n",
       "    <tr>\n",
       "      <th>2017-09-26</th>\n",
       "      <td>24.866451</td>\n",
       "    </tr>\n",
       "    <tr>\n",
       "      <th>2017-09-27</th>\n",
       "      <td>27.315282</td>\n",
       "    </tr>\n",
       "    <tr>\n",
       "      <th>2017-09-28</th>\n",
       "      <td>24.516944</td>\n",
       "    </tr>\n",
       "    <tr>\n",
       "      <th>2017-09-29</th>\n",
       "      <td>19.216667</td>\n",
       "    </tr>\n",
       "    <tr>\n",
       "      <th>2017-09-30</th>\n",
       "      <td>18.066595</td>\n",
       "    </tr>\n",
       "  </tbody>\n",
       "</table>\n",
       "</div>"
      ],
      "text/plain": [
       "                 tavg\n",
       "timestamp            \n",
       "2017-09-26  24.866451\n",
       "2017-09-27  27.315282\n",
       "2017-09-28  24.516944\n",
       "2017-09-29  19.216667\n",
       "2017-09-30  18.066595"
      ]
     },
     "execution_count": 14,
     "metadata": {},
     "output_type": "execute_result"
    }
   ],
   "source": [
    "met.tail()"
   ]
  },
  {
   "cell_type": "markdown",
   "metadata": {},
   "source": [
    "### Growing Degree Days Model (GDD)"
   ]
  },
  {
   "cell_type": "markdown",
   "metadata": {
    "collapsed": true
   },
   "source": [
    "The Growing Degree Days (GDD) is one of the most widely used models to describe a linear growth rate dependent on temperature forcing above a certain base temperature. When the weather records are limited to daily time scale, GDD often interpolates diurnal temperature from daily maximum and minimum temperatures, resulting into some variants of the method. We used growing degree hours (GDH) with hourly records to avoid such interpolation, but still described its parameters in daily scale for comparison with existing model parameters.\n",
    "\n",
    "$$\n",
    "\\begin{aligned}\n",
    "\\Delta_h & = \\begin{cases}\n",
    "  \\frac{1}{24} (T_h - T_b) & \\text{if } T_h > T_b \\\\\n",
    "  0 & \\text{otherwise}\n",
    "\\end{cases} \\\\\n",
    "\\sum_{h=H_s}^{\\hat{H}-1} \\Delta_h & < R_d \\leq \\sum_{h=H_s}^{\\hat{H}} \\Delta_h\n",
    "\\end{aligned}\n",
    "$$"
   ]
  },
  {
   "cell_type": "markdown",
   "metadata": {},
   "source": [
    "#### Prepare weather data"
   ]
  },
  {
   "cell_type": "markdown",
   "metadata": {
    "collapsed": true
   },
   "source": [
    "Flowering for spring in the current year is a response to temperature changes during the past winter. Here we assume thermal accumulation for GDD model begins on the first day of the year."
   ]
  },
  {
   "cell_type": "code",
   "execution_count": 15,
   "metadata": {
    "collapsed": true
   },
   "outputs": [],
   "source": [
    "def start_date(year):\n",
    "    return datetime.date(year, 1, 1)"
   ]
  },
  {
   "cell_type": "code",
   "execution_count": 16,
   "metadata": {},
   "outputs": [
    {
     "data": {
      "text/plain": [
       "datetime.date(2017, 1, 1)"
      ]
     },
     "execution_count": 16,
     "metadata": {},
     "output_type": "execute_result"
    }
   ],
   "source": [
    "start_date(2017)"
   ]
  },
  {
   "cell_type": "markdown",
   "metadata": {
    "collapsed": true
   },
   "source": [
    "The end date of model simulation could be any date later than flowering dates which often occur during March or April. Here we decide to use May 31th."
   ]
  },
  {
   "cell_type": "code",
   "execution_count": 17,
   "metadata": {
    "collapsed": true
   },
   "outputs": [],
   "source": [
    "def end_date(year):\n",
    "    return datetime.date(year, 5, 31)"
   ]
  },
  {
   "cell_type": "code",
   "execution_count": 18,
   "metadata": {},
   "outputs": [
    {
     "data": {
      "text/plain": [
       "datetime.date(2017, 5, 31)"
      ]
     },
     "execution_count": 18,
     "metadata": {},
     "output_type": "execute_result"
    }
   ],
   "source": [
    "end_date(2017)"
   ]
  },
  {
   "cell_type": "markdown",
   "metadata": {
    "collapsed": true
   },
   "source": [
    "Now we can make a slice of weather data needed for one year of model simulation."
   ]
  },
  {
   "cell_type": "code",
   "execution_count": 19,
   "metadata": {},
   "outputs": [
    {
     "data": {
      "text/plain": [
       "timestamp\n",
       "2017-01-01    7.919167\n",
       "2017-01-02    6.378611\n",
       "2017-01-03    6.839524\n",
       "2017-01-04    8.506944\n",
       "2017-01-05    1.161957\n",
       "Freq: D, Name: tavg, dtype: float64"
      ]
     },
     "execution_count": 19,
     "metadata": {},
     "output_type": "execute_result"
    }
   ],
   "source": [
    "Th = met[start_date(2017):end_date(2017)].tavg\n",
    "Th.head()"
   ]
  },
  {
   "cell_type": "code",
   "execution_count": 20,
   "metadata": {
    "scrolled": true
   },
   "outputs": [
    {
     "data": {
      "text/plain": [
       "<matplotlib.axes._subplots.AxesSubplot at 0x1512b1bb00>"
      ]
     },
     "execution_count": 20,
     "metadata": {},
     "output_type": "execute_result"
    },
    {
     "data": {
      "image/png": "[encoded data removed]",
      "text/plain": [
       "<matplotlib.figure.Figure at 0x1512b1ae80>"
      ]
     },
     "metadata": {},
     "output_type": "display_data"
    }
   ],
   "source": [
    "Th.plot()"
   ]
  },
  {
   "cell_type": "markdown",
   "metadata": {},
   "source": [
    "#### Calculate thermal unit"
   ]
  },
  {
   "cell_type": "code",
   "execution_count": 21,
   "metadata": {
    "collapsed": true
   },
   "outputs": [],
   "source": [
    "def gdd(Th, Tb):\n",
    "    return (Th - Tb).clip(lower=0).cumsum() #/ 24"
   ]
  },
  {
   "cell_type": "code",
   "execution_count": 22,
   "metadata": {},
   "outputs": [
    {
     "data": {
      "text/plain": [
       "<matplotlib.axes._subplots.AxesSubplot at 0x1512b1af98>"
      ]
     },
     "execution_count": 22,
     "metadata": {},
     "output_type": "execute_result"
    },
    {
     "data": {
      "image/png": "[encoded data removed]",
      "text/plain": [
       "<matplotlib.figure.Figure at 0x11000ae10>"
      ]
     },
     "metadata": {},
     "output_type": "display_data"
    }
   ],
   "source": [
    "gdd(Th, 4).plot()"
   ]
  },
  {
   "cell_type": "markdown",
   "metadata": {},
   "source": [
    "#### Match the requirement"
   ]
  },
  {
   "cell_type": "markdown",
   "metadata": {},
   "source": [
    "`match` function finds the date when the cumulative thermal degree `D` reaches the thermal requirement `R`."
   ]
  },
  {
   "cell_type": "code",
   "execution_count": 23,
   "metadata": {
    "collapsed": true
   },
   "outputs": [],
   "source": [
    "def match(D, R):\n",
    "    i = D.searchsorted(R)[0]\n",
    "    try:\n",
    "        return D.index[i]\n",
    "    except:\n",
    "        return pd.NaT"
   ]
  },
  {
   "cell_type": "code",
   "execution_count": 24,
   "metadata": {},
   "outputs": [
    {
     "data": {
      "text/plain": [
       "Timestamp('2017-03-21 00:00:00', freq='D')"
      ]
     },
     "execution_count": 24,
     "metadata": {},
     "output_type": "execute_result"
    }
   ],
   "source": [
    "match(gdd(Th, 4), 300)"
   ]
  },
  {
   "cell_type": "markdown",
   "metadata": {},
   "source": [
    "#### GDD estimation in one function"
   ]
  },
  {
   "cell_type": "markdown",
   "metadata": {
    "collapsed": true
   },
   "source": [
    "Let's put all in a function for predicting phenology based on GDD accumulation."
   ]
  },
  {
   "cell_type": "code",
   "execution_count": 25,
   "metadata": {
    "collapsed": true
   },
   "outputs": [],
   "source": [
    "def gdd_estimate(met, year, params):\n",
    "    Tb, Rd = params\n",
    "    Th = met[start_date(year):end_date(year)].tavg\n",
    "    D = gdd(Th, Tb)\n",
    "    return match(D, Rd)"
   ]
  },
  {
   "cell_type": "markdown",
   "metadata": {},
   "source": [
    "Our initial guess for 2017 cherry blossom is pretty close to what actually was."
   ]
  },
  {
   "cell_type": "code",
   "execution_count": 26,
   "metadata": {},
   "outputs": [
    {
     "data": {
      "text/plain": [
       "Timestamp('2017-03-21 00:00:00', freq='D')"
      ]
     },
     "execution_count": 26,
     "metadata": {},
     "output_type": "execute_result"
    }
   ],
   "source": [
    "gdd_estimate(met, 2017, (4, 300))"
   ]
  },
  {
   "cell_type": "code",
   "execution_count": 27,
   "metadata": {},
   "outputs": [
    {
     "data": {
      "text/plain": [
       "Timedelta('4 days 12:00:00')"
      ]
     },
     "execution_count": 27,
     "metadata": {},
     "output_type": "execute_result"
    }
   ],
   "source": [
    "obs[2017] - _"
   ]
  },
  {
   "cell_type": "markdown",
   "metadata": {},
   "source": [
    "#### Residual calculation"
   ]
  },
  {
   "cell_type": "markdown",
   "metadata": {
    "collapsed": true
   },
   "source": [
    "Let's make a function for calculating such difference or 'residual' which will be used in model parameterization."
   ]
  },
  {
   "cell_type": "code",
   "execution_count": 28,
   "metadata": {
    "collapsed": true
   },
   "outputs": [],
   "source": [
    "def julian(t, year):\n",
    "    #return int(t.strftime('%j'))\n",
    "    return (t.year - year)*365 + float(t.strftime('%j')) + t.hour/24. + t.minute/(24*60.) + t.second/(24*60*60.)\n",
    "\n",
    "def residual(met, obs, year, estimate, params):\n",
    "    try:\n",
    "        e = julian(estimate(met, year, params), year)\n",
    "        o = julian(obs[year], year)\n",
    "        return o - e\n",
    "    except:\n",
    "        return 365. # np.inf"
   ]
  },
  {
   "cell_type": "code",
   "execution_count": 29,
   "metadata": {},
   "outputs": [
    {
     "data": {
      "text/plain": [
       "4.5"
      ]
     },
     "execution_count": 29,
     "metadata": {},
     "output_type": "execute_result"
    }
   ],
   "source": [
    "residual(met, obs, 2017, gdd_estimate, (4, 300))"
   ]
  },
  {
   "cell_type": "markdown",
   "metadata": {},
   "source": [
    "It will be handy to have a more general function to calculate residuals over multiple years of prediction."
   ]
  },
  {
   "cell_type": "code",
   "execution_count": 30,
   "metadata": {
    "collapsed": true
   },
   "outputs": [],
   "source": [
    "def residuals(met, obs, years, estimate, params):\n",
    "    return np.array([residual(met, obs, y, estimate, params) for y in years])"
   ]
  },
  {
   "cell_type": "markdown",
   "metadata": {},
   "source": [
    "We will use 30 years of data from 1980 to 2009 for calibration."
   ]
  },
  {
   "cell_type": "code",
   "execution_count": 31,
   "metadata": {
    "collapsed": true
   },
   "outputs": [],
   "source": [
    "years = range(1980, 2009+1)"
   ]
  },
  {
   "cell_type": "code",
   "execution_count": 32,
   "metadata": {},
   "outputs": [
    {
     "data": {
      "text/plain": [
       "array([ -3.5,   2.5, -11.5,  -2.5, -11.5,  -3.5,  -5.5, -19.5, -10.5,\n",
       "       -15.5,  -0.5,  -4.5,  -6.5,  -9.5, -10.5,  -5.5, -11.5,  -3.5,\n",
       "        -4.5,  -1.5,  -8.5,  -8.5,   2.5, -16.5, -14.5,  -3.5,  -3.5,\n",
       "        -1.5,  -2.5, -15.5])"
      ]
     },
     "execution_count": 32,
     "metadata": {},
     "output_type": "execute_result"
    }
   ],
   "source": [
    "r = residuals(met, obs, years, gdd_estimate, (4, 300))\n",
    "r"
   ]
  },
  {
   "cell_type": "markdown",
   "metadata": {},
   "source": [
    "#### RMSE (Root-Mean-Square Error)"
   ]
  },
  {
   "cell_type": "code",
   "execution_count": 33,
   "metadata": {
    "collapsed": true
   },
   "outputs": [],
   "source": [
    "def rmse(r):\n",
    "    return np.sqrt((r**2).mean())"
   ]
  },
  {
   "cell_type": "code",
   "execution_count": 34,
   "metadata": {
    "scrolled": true
   },
   "outputs": [
    {
     "data": {
      "text/plain": [
       "8.9990740264392386"
      ]
     },
     "execution_count": 34,
     "metadata": {},
     "output_type": "execute_result"
    }
   ],
   "source": [
    "rmse(r)"
   ]
  },
  {
   "cell_type": "markdown",
   "metadata": {},
   "source": [
    "#### EF (Model Efficiency)"
   ]
  },
  {
   "cell_type": "markdown",
   "metadata": {},
   "source": [
    "First, make a helper function to get observation data from multiple years."
   ]
  },
  {
   "cell_type": "code",
   "execution_count": 35,
   "metadata": {
    "collapsed": true
   },
   "outputs": [],
   "source": [
    "def observes(years):\n",
    "    return np.array([julian(obs[y], y) for y in years])"
   ]
  },
  {
   "cell_type": "markdown",
   "metadata": {},
   "source": [
    "Similarly, let's make a helper function for running multiple years of estimation. This will be used later in the notebook."
   ]
  },
  {
   "cell_type": "code",
   "execution_count": 36,
   "metadata": {
    "collapsed": true
   },
   "outputs": [],
   "source": [
    "def estimates(met, years, estimate, params):\n",
    "    return np.array([julian(estimate(met, y, params), y) for y in years])"
   ]
  },
  {
   "cell_type": "code",
   "execution_count": 37,
   "metadata": {},
   "outputs": [
    {
     "data": {
      "text/plain": [
       "array([ 101.,   91.,  109.,  100.,  106.,  101.,   98.,  107.,  102.,\n",
       "        104.,   75.,   93.,  105.,  111.,  106.,   98.,  107.,   89.,\n",
       "         91.,   97.,   86.,  105.,   90.,  109.,  106.,  103.,   93.,\n",
       "         93.,   92.,  107.])"
      ]
     },
     "execution_count": 37,
     "metadata": {},
     "output_type": "execute_result"
    }
   ],
   "source": [
    "estimates(met, years, gdd_estimate, (4, 300))"
   ]
  },
  {
   "cell_type": "code",
   "execution_count": 38,
   "metadata": {
    "collapsed": true
   },
   "outputs": [],
   "source": [
    "def ef(r, o):\n",
    "    do = o - o.mean()\n",
    "    return 1 - np.sum(r**2) / np.sum(do**2)"
   ]
  },
  {
   "cell_type": "code",
   "execution_count": 39,
   "metadata": {},
   "outputs": [
    {
     "data": {
      "text/plain": [
       "array([  97.5,   93.5,   97.5,   97.5,   94.5,   97.5,   92.5,   87.5,\n",
       "         91.5,   88.5,   74.5,   88.5,   98.5,  101.5,   95.5,   92.5,\n",
       "         95.5,   85.5,   86.5,   95.5,   77.5,   96.5,   92.5,   92.5,\n",
       "         91.5,   99.5,   89.5,   91.5,   89.5,   91.5])"
      ]
     },
     "execution_count": 39,
     "metadata": {},
     "output_type": "execute_result"
    }
   ],
   "source": [
    "o = observes(years)\n",
    "o"
   ]
  },
  {
   "cell_type": "markdown",
   "metadata": {},
   "source": [
    "Here is the model efficiency (EF) for GDD from our initial guess without parameter optimization. How would you interprete the model performance based on RMSE and EF?"
   ]
  },
  {
   "cell_type": "code",
   "execution_count": 40,
   "metadata": {},
   "outputs": [
    {
     "data": {
      "text/plain": [
       "-1.3749551956727162"
      ]
     },
     "execution_count": 40,
     "metadata": {},
     "output_type": "execute_result"
    }
   ],
   "source": [
    "ef(r, o)"
   ]
  },
  {
   "cell_type": "markdown",
   "metadata": {},
   "source": [
    "## Model Parameterization"
   ]
  },
  {
   "cell_type": "code",
   "execution_count": 41,
   "metadata": {
    "collapsed": true
   },
   "outputs": [],
   "source": [
    "def cost(params, *args):\n",
    "    return rmse(residuals(*args, params))"
   ]
  },
  {
   "cell_type": "code",
   "execution_count": 42,
   "metadata": {},
   "outputs": [
    {
     "data": {
      "text/plain": [
       "8.9990740264392386"
      ]
     },
     "execution_count": 42,
     "metadata": {},
     "output_type": "execute_result"
    }
   ],
   "source": [
    "cost((4, 300), met, obs, years, gdd_estimate)"
   ]
  },
  {
   "cell_type": "markdown",
   "metadata": {},
   "source": [
    "#### Simplex Method (a.k.a., Nelder-Mead method)"
   ]
  },
  {
   "cell_type": "code",
   "execution_count": 43,
   "metadata": {},
   "outputs": [
    {
     "name": "stdout",
     "output_type": "stream",
     "text": [
      "Optimization terminated successfully.\n",
      "         Current function value: 5.678908\n",
      "         Iterations: 34\n",
      "         Function evaluations: 97\n"
     ]
    },
    {
     "data": {
      "text/plain": [
       " final_simplex: (array([[   3.72224121,  269.34814453],\n",
       "       [   3.72224298,  269.34806049],\n",
       "       [   3.72224188,  269.34811883]]), array([ 5.67890835,  5.67890835,  5.67890835]))\n",
       "           fun: 5.6789083458002736\n",
       "       message: 'Optimization terminated successfully.'\n",
       "          nfev: 97\n",
       "           nit: 34\n",
       "        status: 0\n",
       "       success: True\n",
       "             x: array([   3.72224121,  269.34814453])"
      ]
     },
     "execution_count": 43,
     "metadata": {},
     "output_type": "execute_result"
    }
   ],
   "source": [
    "def calibrate_nm(met, obs, years, estimate, func, params0):\n",
    "    return scipy.optimize.minimize(\n",
    "        fun=func,\n",
    "        x0=params0,\n",
    "        args=(met, obs, years, estimate),\n",
    "        method='Nelder-Mead',\n",
    "        options={\n",
    "            'disp': True,\n",
    "        }\n",
    "    )\n",
    "res = calibrate_nm(met, obs, years, gdd_estimate, cost, (4, 300))\n",
    "res"
   ]
  },
  {
   "cell_type": "code",
   "execution_count": 44,
   "metadata": {
    "collapsed": true
   },
   "outputs": [],
   "source": [
    "gdd_params_nm = tuple(res.x)"
   ]
  },
  {
   "cell_type": "code",
   "execution_count": 45,
   "metadata": {},
   "outputs": [
    {
     "data": {
      "text/plain": [
       "5.6789083458002736"
      ]
     },
     "execution_count": 45,
     "metadata": {},
     "output_type": "execute_result"
    }
   ],
   "source": [
    "rmse(residuals(met, obs, years, gdd_estimate, gdd_params_nm))"
   ]
  },
  {
   "cell_type": "code",
   "execution_count": 46,
   "metadata": {},
   "outputs": [
    {
     "data": {
      "text/plain": [
       "0.054221382254228012"
      ]
     },
     "execution_count": 46,
     "metadata": {},
     "output_type": "execute_result"
    }
   ],
   "source": [
    "ef(residuals(met, obs, years, gdd_estimate, gdd_params_nm), observes(years))"
   ]
  },
  {
   "cell_type": "markdown",
   "metadata": {},
   "source": [
    "#### Differential Evolution"
   ]
  },
  {
   "cell_type": "code",
   "execution_count": 47,
   "metadata": {},
   "outputs": [
    {
     "name": "stdout",
     "output_type": "stream",
     "text": [
      "differential_evolution step 1: f(x)= 5.74311\n",
      "differential_evolution step 2: f(x)= 5.39599\n",
      "differential_evolution step 3: f(x)= 5.39599\n",
      "differential_evolution step 4: f(x)= 5.39599\n",
      "differential_evolution step 5: f(x)= 5.39599\n",
      "differential_evolution step 6: f(x)= 5.33385\n",
      "differential_evolution step 7: f(x)= 5.33385\n",
      "differential_evolution step 8: f(x)= 5.33385\n",
      "differential_evolution step 9: f(x)= 5.24563\n",
      "differential_evolution step 10: f(x)= 5.24563\n",
      "differential_evolution step 11: f(x)= 5.23291\n",
      "differential_evolution step 12: f(x)= 5.23291\n",
      "differential_evolution step 13: f(x)= 5.23291\n",
      "differential_evolution step 14: f(x)= 5.23291\n",
      "differential_evolution step 15: f(x)= 5.22653\n",
      "differential_evolution step 16: f(x)= 5.22653\n",
      "differential_evolution step 17: f(x)= 5.22015\n",
      "differential_evolution step 18: f(x)= 5.22015\n",
      "differential_evolution step 19: f(x)= 5.1817\n",
      "differential_evolution step 20: f(x)= 5.1817\n",
      "differential_evolution step 21: f(x)= 5.1817\n",
      "differential_evolution step 22: f(x)= 5.1817\n"
     ]
    },
    {
     "data": {
      "text/plain": [
       "     fun: 5.1816985632126462\n",
       " message: 'Optimization terminated successfully.'\n",
       "    nfev: 693\n",
       "     nit: 22\n",
       " success: True\n",
       "       x: array([   7.81085117,  101.69927191])"
      ]
     },
     "execution_count": 47,
     "metadata": {},
     "output_type": "execute_result"
    }
   ],
   "source": [
    "def calibrate_de(met, obs, years, estimate, func, bounds):\n",
    "    return scipy.optimize.differential_evolution(\n",
    "        func=func,\n",
    "        bounds=bounds,\n",
    "        args=(met, obs, years, estimate),\n",
    "        disp=True,\n",
    "    )\n",
    "res = calibrate_de(met, obs, years, gdd_estimate, cost, ((0, 10), (0, 1000)))\n",
    "res"
   ]
  },
  {
   "cell_type": "code",
   "execution_count": 48,
   "metadata": {
    "collapsed": true
   },
   "outputs": [],
   "source": [
    "gdd_params_de = tuple([  8.01380578,  96.2096106 ])"
   ]
  },
  {
   "cell_type": "code",
   "execution_count": 49,
   "metadata": {
    "collapsed": true
   },
   "outputs": [],
   "source": [
    "gdd_params_de = tuple(res.x)"
   ]
  },
  {
   "cell_type": "code",
   "execution_count": 50,
   "metadata": {},
   "outputs": [
    {
     "data": {
      "text/plain": [
       "0.21258431359770613"
      ]
     },
     "execution_count": 50,
     "metadata": {},
     "output_type": "execute_result"
    }
   ],
   "source": [
    "ef(residuals(met, obs, years, gdd_estimate, gdd_params_de), observes(years))"
   ]
  },
  {
   "cell_type": "markdown",
   "metadata": {
    "collapsed": true
   },
   "source": [
    "#### Brute-force (Generally, brute-force optimization can take a long time to complete so be prepared)"
   ]
  },
  {
   "cell_type": "code",
   "execution_count": 51,
   "metadata": {},
   "outputs": [
    {
     "name": "stdout",
     "output_type": "stream",
     "text": [
      "Optimization terminated successfully.\n",
      "         Current function value: 5.383617\n",
      "         Iterations: 22\n",
      "         Function evaluations: 77\n"
     ]
    }
   ],
   "source": [
    "def calibrate_bf(met, obs, years, estimate, func, ranges):\n",
    "    return scipy.optimize.brute(\n",
    "        func=func,\n",
    "        ranges=ranges,\n",
    "        args=(met, obs, years, estimate),\n",
    "        full_output=True,\n",
    "        finish=scipy.optimize.fmin,\n",
    "        disp=True,\n",
    "    )\n",
    "res = calibrate_bf(met, obs, years, gdd_estimate, cost, (slice(0, 10, 1), slice(0, 1000, 50)))\n",
    "gdd_params_bf = tuple(res[0])"
   ]
  },
  {
   "cell_type": "code",
   "execution_count": 52,
   "metadata": {},
   "outputs": [
    {
     "data": {
      "text/plain": [
       "(5.1953125, 192.8125)"
      ]
     },
     "execution_count": 52,
     "metadata": {},
     "output_type": "execute_result"
    }
   ],
   "source": [
    "gdd_params_bf"
   ]
  },
  {
   "cell_type": "code",
   "execution_count": 53,
   "metadata": {},
   "outputs": [
    {
     "data": {
      "text/plain": [
       "0.15002118022744315"
      ]
     },
     "execution_count": 53,
     "metadata": {},
     "output_type": "execute_result"
    }
   ],
   "source": [
    "ef(residuals(met, obs, years, gdd_estimate, gdd_params_bf), observes(years))"
   ]
  },
  {
   "cell_type": "code",
   "execution_count": 54,
   "metadata": {},
   "outputs": [
    {
     "data": {
      "image/png": "[encoded data removed]",
      "text/plain": [
       "<matplotlib.figure.Figure at 0x1519db9d68>"
      ]
     },
     "metadata": {},
     "output_type": "display_data"
    }
   ],
   "source": [
    "def plot_bf(res, xlim=None, ylim=None):\n",
    "    fig = plt.figure()\n",
    "    ax = Axes3D(fig)\n",
    "    ax.plot_surface(res[2][0], res[2][1], res[3])\n",
    "    if xlim is not None:\n",
    "        ax.set_xlim(*xlim)\n",
    "    if ylim is not None:\n",
    "        ax.set_ylim(*ylim)\n",
    "    plt.show()\n",
    "plot_bf(res, xlim=(0, 10), ylim=(0, 1000))"
   ]
  },
  {
   "cell_type": "markdown",
   "metadata": {},
   "source": [
    "### Plotting the results"
   ]
  },
  {
   "cell_type": "code",
   "execution_count": 55,
   "metadata": {
    "collapsed": true
   },
   "outputs": [],
   "source": [
    "def plot(met, years, estimate, params):\n",
    "    o = observes(years)\n",
    "    e = estimates(met, years, gdd_estimate, gdd_params_de)\n",
    "    return pd.DataFrame(\n",
    "        data={'obs': o, 'est': e},\n",
    "        index=years,\n",
    "    ).plot()"
   ]
  },
  {
   "cell_type": "code",
   "execution_count": 56,
   "metadata": {},
   "outputs": [
    {
     "data": {
      "text/plain": [
       "<matplotlib.axes._subplots.AxesSubplot at 0x1519e0cd68>"
      ]
     },
     "execution_count": 56,
     "metadata": {},
     "output_type": "execute_result"
    },
    {
     "data": {
      "image/png": "[encoded data removed]",
      "text/plain": [
       "<matplotlib.figure.Figure at 0x1519e52c88>"
      ]
     },
     "metadata": {},
     "output_type": "display_data"
    }
   ],
   "source": [
    "plot(met, years, gdd_estimate, gdd_params_de)"
   ]
  },
  {
   "cell_type": "markdown",
   "metadata": {},
   "source": [
    "### Chilling and Forcing Model (CF)"
   ]
  },
  {
   "cell_type": "markdown",
   "metadata": {},
   "source": [
    "Cesaraccio *et al.* split up dormancy break into two distinctive steps, rest and quiescence, that required the same amount of chilling and subsequent anti-chilling accumulation in the opposite direction. Later this model was extended to predict FBD coming after bud burst. The following equation represents our adaptation of this chilling and forcing (CF) model with three parameters: temperature threshold ($T_c$), chilling ($R_c$) and forcing ($R_f$) requirements. Unlike other forcing-only models, the starting date was implicitly set to October 1st of the previous year. Earlier dates are unlikely to impact model behavior much because the air temperature in September and before are mostly higher than the threshold ($T_c$), resulting in little or no chilling effect.\n",
    "\n",
    "$$\n",
    "\\begin{aligned}\n",
    "T'_h & = \\begin{cases}\n",
    "  T_h & \\text{if } T_h \\geq 0 \\\\\n",
    "  0 & \\text{otherwise}\n",
    "\\end{cases} \\\\\n",
    "\\Delta_h & = \\frac{1}{24} (T'_h - T_c) \\\\\n",
    "\\Delta_h^{\\mathtt{C}} & = \\begin{cases}\n",
    "  \\Delta_h & \\text{if } \\Delta_h < 0 \\\\\n",
    "  0 & \\text{otherwise}\n",
    "\\end{cases} \\\\\n",
    "\\Delta_h^{\\mathtt{F}} & = \\begin{cases}\n",
    "  \\Delta_h & \\text{if } \\Delta_h > 0 \\\\\n",
    "  0 & \\text{otherwise}\n",
    "\\end{cases} \\\\\n",
    "\\sum_{h=H_s}^{\\hat{H_0}-1} \\Delta_h^{\\mathtt{C}} & > R_d^{\\mathtt{C}} \\geq \\sum_{h=H_s}^{\\hat{H_0}} \\Delta_h^{\\mathtt{C}} \\\\\n",
    "\\sum_{h=\\hat{H_0}}^{\\hat{H}-1} \\Delta_h^{\\mathtt{F}} & < R_d^{\\mathtt{F}} \\leq \\sum_{h=\\hat{H_0}}^{\\hat{H}} \\Delta_h^{\\mathtt{F}} \\\\\n",
    "\\end{aligned}\n",
    "$$"
   ]
  },
  {
   "cell_type": "markdown",
   "metadata": {},
   "source": [
    "As the CF model takes account of dormancy break due to chilling effect, we should take a longer period of weather data than what we used for GDD model above. We assume October 1st as a starting date of thermal accumulation for the CF model."
   ]
  },
  {
   "cell_type": "code",
   "execution_count": 57,
   "metadata": {
    "collapsed": true
   },
   "outputs": [],
   "source": [
    "def cf_start_date(year):\n",
    "    return datetime.date(year-1, 10, 1)"
   ]
  },
  {
   "cell_type": "code",
   "execution_count": 58,
   "metadata": {
    "collapsed": true
   },
   "outputs": [],
   "source": [
    "Thp = met[cf_start_date(2017):end_date(2017)].tavg.clip(lower=0)"
   ]
  },
  {
   "cell_type": "code",
   "execution_count": 59,
   "metadata": {
    "collapsed": true
   },
   "outputs": [],
   "source": [
    "def chill(Th, Tc):\n",
    "    return (Th - Tc).clip(upper=0).cumsum() #/ 24"
   ]
  },
  {
   "cell_type": "code",
   "execution_count": 60,
   "metadata": {},
   "outputs": [
    {
     "data": {
      "text/plain": [
       "<matplotlib.axes._subplots.AxesSubplot at 0x1519e9aba8>"
      ]
     },
     "execution_count": 60,
     "metadata": {},
     "output_type": "execute_result"
    },
    {
     "data": {
      "image/png": "[encoded data removed]",
      "text/plain": [
       "<matplotlib.figure.Figure at 0x1519eb3cf8>"
      ]
     },
     "metadata": {},
     "output_type": "display_data"
    }
   ],
   "source": [
    "chill(Thp, 4).plot()"
   ]
  },
  {
   "cell_type": "code",
   "execution_count": 61,
   "metadata": {
    "collapsed": true
   },
   "outputs": [],
   "source": [
    "def antichill(Th, Tc):\n",
    "    return (Th - Tc).clip(lower=0).cumsum() #/ 24"
   ]
  },
  {
   "cell_type": "code",
   "execution_count": 62,
   "metadata": {},
   "outputs": [
    {
     "data": {
      "text/plain": [
       "<matplotlib.axes._subplots.AxesSubplot at 0x151618d7f0>"
      ]
     },
     "execution_count": 62,
     "metadata": {},
     "output_type": "execute_result"
    },
    {
     "data": {
      "image/png": "[encoded data removed]",
      "text/plain": [
       "<matplotlib.figure.Figure at 0x151a01b9e8>"
      ]
     },
     "metadata": {},
     "output_type": "display_data"
    }
   ],
   "source": [
    "antichill(Thp, 4).plot()"
   ]
  },
  {
   "cell_type": "code",
   "execution_count": 63,
   "metadata": {
    "collapsed": true
   },
   "outputs": [],
   "source": [
    "def cf_estimate(met, year, params):\n",
    "    Tc, Rc, Rf = params\n",
    "    Thp = met[cf_start_date(year):end_date(year)].tavg.clip(lower=0)\n",
    "    Dc = chill(Thp, Tc)\n",
    "    m = match(-Dc, -Rc)\n",
    "    # force release dormancy even if chilling requirement is not fully satisfied\n",
    "    if pd.isnull(m):\n",
    "        m = pd.Timestamp(year, 3, 1)\n",
    "    Df = antichill(Thp.loc[m:], Tc)\n",
    "    return match(Df, Rf)"
   ]
  },
  {
   "cell_type": "code",
   "execution_count": 64,
   "metadata": {},
   "outputs": [
    {
     "data": {
      "text/plain": [
       "Timestamp('2017-04-05 00:00:00', freq='D')"
      ]
     },
     "execution_count": 64,
     "metadata": {},
     "output_type": "execute_result"
    }
   ],
   "source": [
    "cf_estimate(met, 2017, (4, -100, 200))"
   ]
  },
  {
   "cell_type": "code",
   "execution_count": 65,
   "metadata": {},
   "outputs": [
    {
     "data": {
      "text/plain": [
       "Timestamp('2017-03-25 12:00:00')"
      ]
     },
     "execution_count": 65,
     "metadata": {},
     "output_type": "execute_result"
    }
   ],
   "source": [
    "obs[2017]"
   ]
  },
  {
   "cell_type": "code",
   "execution_count": 66,
   "metadata": {},
   "outputs": [
    {
     "name": "stdout",
     "output_type": "stream",
     "text": [
      "Optimization terminated successfully.\n",
      "         Current function value: 5.044799\n",
      "         Iterations: 31\n",
      "         Function evaluations: 103\n"
     ]
    },
    {
     "data": {
      "text/plain": [
       " final_simplex: (array([[   4.22125057, -106.28486511,  192.60631001],\n",
       "       [   4.22124931, -106.28483058,  192.60637481],\n",
       "       [   4.22125248, -106.28480583,  192.60625016],\n",
       "       [   4.22125074, -106.28480496,  192.60635521]]), array([ 5.0447993,  5.0447993,  5.0447993,  5.0447993]))\n",
       "           fun: 5.044799302251775\n",
       "       message: 'Optimization terminated successfully.'\n",
       "          nfev: 103\n",
       "           nit: 31\n",
       "        status: 0\n",
       "       success: True\n",
       "             x: array([   4.22125057, -106.28486511,  192.60631001])"
      ]
     },
     "execution_count": 66,
     "metadata": {},
     "output_type": "execute_result"
    }
   ],
   "source": [
    "res = calibrate_nm(met, obs, years, cf_estimate, cost, (4, -100, 200))\n",
    "cf_params_nm = tuple(res.x)\n",
    "res"
   ]
  },
  {
   "cell_type": "code",
   "execution_count": 67,
   "metadata": {},
   "outputs": [
    {
     "name": "stdout",
     "output_type": "stream",
     "text": [
      "differential_evolution step 1: f(x)= 4.7662\n",
      "differential_evolution step 2: f(x)= 4.31856\n",
      "differential_evolution step 3: f(x)= 4.31856\n",
      "differential_evolution step 4: f(x)= 4.22493\n",
      "differential_evolution step 5: f(x)= 4.08044\n",
      "differential_evolution step 6: f(x)= 4.08044\n",
      "differential_evolution step 7: f(x)= 4.08044\n",
      "differential_evolution step 8: f(x)= 4.04763\n",
      "differential_evolution step 9: f(x)= 4.04763\n",
      "differential_evolution step 10: f(x)= 4.02285\n",
      "differential_evolution step 11: f(x)= 4.02285\n",
      "differential_evolution step 12: f(x)= 4.00625\n",
      "differential_evolution step 13: f(x)= 3.95601\n",
      "differential_evolution step 14: f(x)= 3.95601\n",
      "differential_evolution step 15: f(x)= 3.95601\n",
      "differential_evolution step 16: f(x)= 3.95601\n",
      "differential_evolution step 17: f(x)= 3.95601\n",
      "differential_evolution step 18: f(x)= 3.95601\n",
      "differential_evolution step 19: f(x)= 3.95601\n",
      "differential_evolution step 20: f(x)= 3.93912\n",
      "differential_evolution step 21: f(x)= 3.93912\n",
      "differential_evolution step 22: f(x)= 3.93912\n",
      "differential_evolution step 23: f(x)= 3.93912\n",
      "differential_evolution step 24: f(x)= 3.93912\n"
     ]
    },
    {
     "data": {
      "text/plain": [
       "     fun: 3.9391200370979642\n",
       " message: 'Optimization terminated successfully.'\n",
       "    nfev: 1129\n",
       "     nit: 24\n",
       " success: True\n",
       "       x: array([   1.31985519,  -86.98019262,  229.97233402])"
      ]
     },
     "execution_count": 67,
     "metadata": {},
     "output_type": "execute_result"
    }
   ],
   "source": [
    "res = calibrate_de(met, obs, years, cf_estimate, cost, ((0, 10), (-200, 0), (0, 1000)))\n",
    "cf_params_de = tuple(res.x)\n",
    "res"
   ]
  },
  {
   "cell_type": "code",
   "execution_count": 68,
   "metadata": {},
   "outputs": [
    {
     "data": {
      "text/plain": [
       "<matplotlib.axes._subplots.AxesSubplot at 0x151a132ba8>"
      ]
     },
     "execution_count": 68,
     "metadata": {},
     "output_type": "execute_result"
    },
    {
     "data": {
      "image/png": "[encoded data removed]",
      "text/plain": [
       "<matplotlib.figure.Figure at 0x151a0bc6a0>"
      ]
     },
     "metadata": {},
     "output_type": "display_data"
    }
   ],
   "source": [
    "plot(met, years, cf_estimate, cf_params_de)"
   ]
  },
  {
   "cell_type": "markdown",
   "metadata": {},
   "source": [
    "### GDD vs. CF"
   ]
  },
  {
   "cell_type": "markdown",
   "metadata": {},
   "source": [
    "#### Calibration Results"
   ]
  },
  {
   "cell_type": "code",
   "execution_count": 69,
   "metadata": {
    "collapsed": true
   },
   "outputs": [],
   "source": [
    "r_gd_de = residuals(met, obs, years, gdd_estimate, gdd_params_de)\n",
    "r_cf_de = residuals(met, obs, years, cf_estimate, cf_params_de)\n",
    "o = observes(years)"
   ]
  },
  {
   "cell_type": "markdown",
   "metadata": {},
   "source": [
    "##### RMSE"
   ]
  },
  {
   "cell_type": "code",
   "execution_count": 70,
   "metadata": {},
   "outputs": [
    {
     "data": {
      "text/plain": [
       "5.1816985632126462"
      ]
     },
     "execution_count": 70,
     "metadata": {},
     "output_type": "execute_result"
    }
   ],
   "source": [
    "rmse(r_gd_de)"
   ]
  },
  {
   "cell_type": "code",
   "execution_count": 71,
   "metadata": {},
   "outputs": [
    {
     "data": {
      "text/plain": [
       "3.9391200370979642"
      ]
     },
     "execution_count": 71,
     "metadata": {},
     "output_type": "execute_result"
    }
   ],
   "source": [
    "rmse(r_cf_de)"
   ]
  },
  {
   "cell_type": "markdown",
   "metadata": {},
   "source": [
    "##### EF"
   ]
  },
  {
   "cell_type": "code",
   "execution_count": 72,
   "metadata": {},
   "outputs": [
    {
     "data": {
      "text/plain": [
       "0.21258431359770613"
      ]
     },
     "execution_count": 72,
     "metadata": {},
     "output_type": "execute_result"
    }
   ],
   "source": [
    "ef(r_gd_de, o)"
   ]
  },
  {
   "cell_type": "code",
   "execution_count": 73,
   "metadata": {},
   "outputs": [
    {
     "data": {
      "text/plain": [
       "0.54495095962722806"
      ]
     },
     "execution_count": 73,
     "metadata": {},
     "output_type": "execute_result"
    }
   ],
   "source": [
    "ef(r_cf_de, o)"
   ]
  },
  {
   "cell_type": "markdown",
   "metadata": {},
   "source": [
    "#### Testing Results"
   ]
  },
  {
   "cell_type": "markdown",
   "metadata": {},
   "source": [
    "Let's test (or validate) the models with a different dataset than the one used for calibration. Ideally, we need a completely independent dataset, but here we keep using the same dataset, but selecting years not seen for calibration."
   ]
  },
  {
   "cell_type": "code",
   "execution_count": 74,
   "metadata": {
    "collapsed": true
   },
   "outputs": [],
   "source": [
    "testing_years = range(2010, 2017+1)"
   ]
  },
  {
   "cell_type": "code",
   "execution_count": 75,
   "metadata": {
    "collapsed": true
   },
   "outputs": [],
   "source": [
    "testing_r_gd_de = residuals(met, obs, testing_years, gdd_estimate, gdd_params_de)\n",
    "testing_r_cf_de = residuals(met, obs, testing_years, cf_estimate, cf_params_de)\n",
    "testing_o = observes(testing_years)"
   ]
  },
  {
   "cell_type": "markdown",
   "metadata": {},
   "source": [
    "##### RMSE"
   ]
  },
  {
   "cell_type": "code",
   "execution_count": 76,
   "metadata": {},
   "outputs": [
    {
     "data": {
      "text/plain": [
       "10.428326807307105"
      ]
     },
     "execution_count": 76,
     "metadata": {},
     "output_type": "execute_result"
    }
   ],
   "source": [
    "rmse(testing_r_gd_de)"
   ]
  },
  {
   "cell_type": "code",
   "execution_count": 77,
   "metadata": {},
   "outputs": [
    {
     "data": {
      "text/plain": [
       "4.9749371855330997"
      ]
     },
     "execution_count": 77,
     "metadata": {},
     "output_type": "execute_result"
    }
   ],
   "source": [
    "rmse(testing_r_cf_de)"
   ]
  },
  {
   "cell_type": "markdown",
   "metadata": {},
   "source": [
    "##### EF"
   ]
  },
  {
   "cell_type": "code",
   "execution_count": 78,
   "metadata": {},
   "outputs": [
    {
     "data": {
      "text/plain": [
       "-0.97055492638731589"
      ]
     },
     "execution_count": 78,
     "metadata": {},
     "output_type": "execute_result"
    }
   ],
   "source": [
    "ef(testing_r_gd_de, testing_o)"
   ]
  },
  {
   "cell_type": "code",
   "execution_count": 79,
   "metadata": {},
   "outputs": [
    {
     "data": {
      "text/plain": [
       "0.55152887882219703"
      ]
     },
     "execution_count": 79,
     "metadata": {},
     "output_type": "execute_result"
    }
   ],
   "source": [
    "ef(testing_r_cf_de, testing_o)"
   ]
  },
  {
   "cell_type": "markdown",
   "metadata": {},
   "source": [
    "##### AIC"
   ]
  },
  {
   "cell_type": "code",
   "execution_count": 80,
   "metadata": {
    "collapsed": true
   },
   "outputs": [],
   "source": [
    "def aic(r, k):\n",
    "    n = len(r)\n",
    "    ssr = (r**2).sum()\n",
    "    s2 = ssr / n\n",
    "    L = (1 / np.sqrt(2*np.pi*s2))**n * np.exp(-ssr / (2*s2))\n",
    "    return 2*k - 2*np.log(L)"
   ]
  },
  {
   "cell_type": "markdown",
   "metadata": {},
   "source": [
    "Number of parameters for each model."
   ]
  },
  {
   "cell_type": "code",
   "execution_count": 81,
   "metadata": {
    "collapsed": true
   },
   "outputs": [],
   "source": [
    "gd_k = 2\n",
    "cf_k = 3"
   ]
  },
  {
   "cell_type": "code",
   "execution_count": 82,
   "metadata": {},
   "outputs": [
    {
     "data": {
      "text/plain": [
       "64.21542989102511"
      ]
     },
     "execution_count": 82,
     "metadata": {},
     "output_type": "execute_result"
    }
   ],
   "source": [
    "aic(testing_r_gd_de, gd_k)"
   ]
  },
  {
   "cell_type": "code",
   "execution_count": 83,
   "metadata": {},
   "outputs": [
    {
     "data": {
      "text/plain": [
       "54.373620443392362"
      ]
     },
     "execution_count": 83,
     "metadata": {},
     "output_type": "execute_result"
    }
   ],
   "source": [
    "aic(testing_r_cf_de, cf_k)"
   ]
  },
  {
   "cell_type": "markdown",
   "metadata": {},
   "source": [
    "### UW Cherry Blossom"
   ]
  },
  {
   "cell_type": "code",
   "execution_count": 84,
   "metadata": {
    "collapsed": true
   },
   "outputs": [],
   "source": [
    "def read_cherry_uw():\n",
    "    df = pd.read_excel(\n",
    "        io='./Cherry_PBD_2017.xls',\n",
    "        sheetname='UW',\n",
    "    )\n",
    "    s = df.set_index('year').stack()\n",
    "    s.index.names = ['year', 'cultivar']\n",
    "    s.name = 'bloom'\n",
    "    df = s.reset_index()\n",
    "    df['bloom'] = df.apply(lambda r: pd.datetime.strptime(f'{r.year}-{r.bloom}', '%Y-%j'), axis=1)\n",
    "    df['station'] = 'UW'\n",
    "    return df.set_index(['station', 'cultivar', 'year'])\n",
    "cherry_uw = read_cherry_uw()"
   ]
  },
  {
   "cell_type": "code",
   "execution_count": 85,
   "metadata": {},
   "outputs": [
    {
     "data": {
      "text/html": [
       "<div>\n",
       "<style>\n",
       "    .dataframe thead tr:only-child th {\n",
       "        text-align: right;\n",
       "    }\n",
       "\n",
       "    .dataframe thead th {\n",
       "        text-align: left;\n",
       "    }\n",
       "\n",
       "    .dataframe tbody tr th {\n",
       "        vertical-align: top;\n",
       "    }\n",
       "</style>\n",
       "<table border=\"1\" class=\"dataframe\">\n",
       "  <thead>\n",
       "    <tr style=\"text-align: right;\">\n",
       "      <th></th>\n",
       "      <th></th>\n",
       "      <th></th>\n",
       "      <th>bloom</th>\n",
       "    </tr>\n",
       "    <tr>\n",
       "      <th>station</th>\n",
       "      <th>cultivar</th>\n",
       "      <th>year</th>\n",
       "      <th></th>\n",
       "    </tr>\n",
       "  </thead>\n",
       "  <tbody>\n",
       "    <tr>\n",
       "      <th rowspan=\"5\" valign=\"top\">UW</th>\n",
       "      <th rowspan=\"5\" valign=\"top\">Yoshino</th>\n",
       "      <th>2013</th>\n",
       "      <td>2013-03-27</td>\n",
       "    </tr>\n",
       "    <tr>\n",
       "      <th>2014</th>\n",
       "      <td>2014-03-21</td>\n",
       "    </tr>\n",
       "    <tr>\n",
       "      <th>2015</th>\n",
       "      <td>2015-03-16</td>\n",
       "    </tr>\n",
       "    <tr>\n",
       "      <th>2016</th>\n",
       "      <td>2016-03-07</td>\n",
       "    </tr>\n",
       "    <tr>\n",
       "      <th>2017</th>\n",
       "      <td>2017-03-27</td>\n",
       "    </tr>\n",
       "  </tbody>\n",
       "</table>\n",
       "</div>"
      ],
      "text/plain": [
       "                           bloom\n",
       "station cultivar year           \n",
       "UW      Yoshino  2013 2013-03-27\n",
       "                 2014 2014-03-21\n",
       "                 2015 2015-03-16\n",
       "                 2016 2016-03-07\n",
       "                 2017 2017-03-27"
      ]
     },
     "execution_count": 85,
     "metadata": {},
     "output_type": "execute_result"
    }
   ],
   "source": [
    "cherry_uw.tail()"
   ]
  },
  {
   "cell_type": "code",
   "execution_count": 86,
   "metadata": {
    "collapsed": true
   },
   "outputs": [],
   "source": [
    "obs = cherry_uw.loc['UW', 'Yoshino']['bloom']"
   ]
  },
  {
   "cell_type": "markdown",
   "metadata": {},
   "source": [
    "We use weather records from SeaTac aiport to predict flowering on the UW campus. Data from Sandpoint station (94290) would have been a better choice, but unfortunately they were not available at the time of writing this notebook."
   ]
  },
  {
   "cell_type": "code",
   "execution_count": 87,
   "metadata": {
    "collapsed": true
   },
   "outputs": [],
   "source": [
    "met = usa_ds3505.loc[727930].resample('D').mean()\n",
    "met.index = met.index.tz_localize(None)"
   ]
  },
  {
   "cell_type": "code",
   "execution_count": 89,
   "metadata": {},
   "outputs": [
    {
     "data": {
      "text/html": [
       "<div>\n",
       "<style>\n",
       "    .dataframe thead tr:only-child th {\n",
       "        text-align: right;\n",
       "    }\n",
       "\n",
       "    .dataframe thead th {\n",
       "        text-align: left;\n",
       "    }\n",
       "\n",
       "    .dataframe tbody tr th {\n",
       "        vertical-align: top;\n",
       "    }\n",
       "</style>\n",
       "<table border=\"1\" class=\"dataframe\">\n",
       "  <thead>\n",
       "    <tr style=\"text-align: right;\">\n",
       "      <th></th>\n",
       "      <th>tavg</th>\n",
       "    </tr>\n",
       "    <tr>\n",
       "      <th>timestamp</th>\n",
       "      <th></th>\n",
       "    </tr>\n",
       "  </thead>\n",
       "  <tbody>\n",
       "    <tr>\n",
       "      <th>1948-01-01</th>\n",
       "      <td>8.000000</td>\n",
       "    </tr>\n",
       "    <tr>\n",
       "      <th>1948-01-02</th>\n",
       "      <td>4.995833</td>\n",
       "    </tr>\n",
       "    <tr>\n",
       "      <th>1948-01-03</th>\n",
       "      <td>4.808333</td>\n",
       "    </tr>\n",
       "    <tr>\n",
       "      <th>1948-01-04</th>\n",
       "      <td>4.537500</td>\n",
       "    </tr>\n",
       "    <tr>\n",
       "      <th>1948-01-05</th>\n",
       "      <td>4.079167</td>\n",
       "    </tr>\n",
       "  </tbody>\n",
       "</table>\n",
       "</div>"
      ],
      "text/plain": [
       "                tavg\n",
       "timestamp           \n",
       "1948-01-01  8.000000\n",
       "1948-01-02  4.995833\n",
       "1948-01-03  4.808333\n",
       "1948-01-04  4.537500\n",
       "1948-01-05  4.079167"
      ]
     },
     "execution_count": 89,
     "metadata": {},
     "output_type": "execute_result"
    }
   ],
   "source": [
    "met.head()"
   ]
  },
  {
   "cell_type": "code",
   "execution_count": 90,
   "metadata": {},
   "outputs": [
    {
     "data": {
      "text/plain": [
       "year\n",
       "1994   1994-04-02\n",
       "1996   1996-04-15\n",
       "2005   2005-03-31\n",
       "2006   2006-04-13\n",
       "2007   2007-04-10\n",
       "2008   2008-04-10\n",
       "2009   2009-04-17\n",
       "2010   2010-04-03\n",
       "2011   2011-04-13\n",
       "2012   2012-04-02\n",
       "2013   2013-03-27\n",
       "2014   2014-03-21\n",
       "2015   2015-03-16\n",
       "2016   2016-03-07\n",
       "2017   2017-03-27\n",
       "Name: bloom, dtype: datetime64[ns]"
      ]
     },
     "execution_count": 90,
     "metadata": {},
     "output_type": "execute_result"
    }
   ],
   "source": [
    "obs"
   ]
  }
 ],
 "metadata": {
  "kernelspec": {
   "display_name": "Python 3",
   "language": "python",
   "name": "python3"
  },
  "language_info": {
   "codemirror_mode": {
    "name": "ipython",
    "version": 3
   },
   "file_extension": ".py",
   "mimetype": "text/x-python",
   "name": "python",
   "nbconvert_exporter": "python",
   "pygments_lexer": "ipython3",
   "version": "3.6.2"
  }
 },
 "nbformat": 4,
 "nbformat_minor": 2
}
