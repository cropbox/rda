{
 "cells": [
  {
   "cell_type": "code",
   "execution_count": 1,
   "metadata": {},
   "outputs": [],
   "source": [
    "import pandas as pd\n",
    "import numpy as np\n",
    "import scipy.optimize\n",
    "import datetime"
   ]
  },
  {
   "cell_type": "code",
   "execution_count": 2,
   "metadata": {},
   "outputs": [],
   "source": [
    "import matplotlib.pyplot as plt\n",
    "from matplotlib import cm\n",
    "from mpl_toolkits.mplot3d import Axes3D\n",
    "\n",
    "%matplotlib inline"
   ]
  },
  {
   "cell_type": "markdown",
   "metadata": {},
   "source": [
    "### Observation"
   ]
  },
  {
   "cell_type": "markdown",
   "metadata": {},
   "source": [
    "Read cherry blossoms dataset for Tidal Basin, Washington DC. Records are available at https://cherryblossomwatch.com"
   ]
  },
  {
   "cell_type": "code",
   "execution_count": 3,
   "metadata": {},
   "outputs": [],
   "source": [
    "cherry_dc = pd.read_hdf('./cherry_dc.h5')"
   ]
  },
  {
   "cell_type": "code",
   "execution_count": 4,
   "metadata": {
    "scrolled": true
   },
   "outputs": [
    {
     "data": {
      "text/html": [
       "<div>\n",
       "<style scoped>\n",
       "    .dataframe tbody tr th:only-of-type {\n",
       "        vertical-align: middle;\n",
       "    }\n",
       "\n",
       "    .dataframe tbody tr th {\n",
       "        vertical-align: top;\n",
       "    }\n",
       "\n",
       "    .dataframe thead th {\n",
       "        text-align: right;\n",
       "    }\n",
       "</style>\n",
       "<table border=\"1\" class=\"dataframe\">\n",
       "  <thead>\n",
       "    <tr style=\"text-align: right;\">\n",
       "      <th></th>\n",
       "      <th></th>\n",
       "      <th></th>\n",
       "      <th>Extension of Florets</th>\n",
       "      <th>Florets Visible</th>\n",
       "      <th>Green Color In Buds</th>\n",
       "      <th>Peak Bloom</th>\n",
       "      <th>Peduncle Elongation</th>\n",
       "      <th>Puffy White</th>\n",
       "    </tr>\n",
       "    <tr>\n",
       "      <th>station</th>\n",
       "      <th>cultivar</th>\n",
       "      <th>year</th>\n",
       "      <th></th>\n",
       "      <th></th>\n",
       "      <th></th>\n",
       "      <th></th>\n",
       "      <th></th>\n",
       "      <th></th>\n",
       "    </tr>\n",
       "  </thead>\n",
       "  <tbody>\n",
       "    <tr>\n",
       "      <td rowspan=\"5\" valign=\"top\">DC</td>\n",
       "      <td rowspan=\"5\" valign=\"top\">Yoshino</td>\n",
       "      <td>2015</td>\n",
       "      <td>2015-04-04</td>\n",
       "      <td>2015-04-01</td>\n",
       "      <td>2015-03-18</td>\n",
       "      <td>2015-04-10</td>\n",
       "      <td>2015-04-06</td>\n",
       "      <td>2015-04-08</td>\n",
       "    </tr>\n",
       "    <tr>\n",
       "      <td>2016</td>\n",
       "      <td>2016-03-15</td>\n",
       "      <td>2016-03-13</td>\n",
       "      <td>2016-03-08</td>\n",
       "      <td>2016-03-25</td>\n",
       "      <td>2016-03-17</td>\n",
       "      <td>2016-03-22</td>\n",
       "    </tr>\n",
       "    <tr>\n",
       "      <td>2017</td>\n",
       "      <td>2017-03-06</td>\n",
       "      <td>2017-03-01</td>\n",
       "      <td>2017-02-24</td>\n",
       "      <td>2017-03-25</td>\n",
       "      <td>2017-03-08</td>\n",
       "      <td>2017-03-22</td>\n",
       "    </tr>\n",
       "    <tr>\n",
       "      <td>2018</td>\n",
       "      <td>2018-03-26</td>\n",
       "      <td>2018-03-15</td>\n",
       "      <td>2018-02-25</td>\n",
       "      <td>2018-04-05</td>\n",
       "      <td>2018-03-29</td>\n",
       "      <td>2018-04-01</td>\n",
       "    </tr>\n",
       "    <tr>\n",
       "      <td>2019</td>\n",
       "      <td>NaT</td>\n",
       "      <td>NaT</td>\n",
       "      <td>NaT</td>\n",
       "      <td>2019-04-01</td>\n",
       "      <td>NaT</td>\n",
       "      <td>NaT</td>\n",
       "    </tr>\n",
       "  </tbody>\n",
       "</table>\n",
       "</div>"
      ],
      "text/plain": [
       "                      Extension of Florets Florets Visible  \\\n",
       "station cultivar year                                        \n",
       "DC      Yoshino  2015           2015-04-04      2015-04-01   \n",
       "                 2016           2016-03-15      2016-03-13   \n",
       "                 2017           2017-03-06      2017-03-01   \n",
       "                 2018           2018-03-26      2018-03-15   \n",
       "                 2019                  NaT             NaT   \n",
       "\n",
       "                      Green Color In Buds Peak Bloom Peduncle Elongation  \\\n",
       "station cultivar year                                                      \n",
       "DC      Yoshino  2015          2015-03-18 2015-04-10          2015-04-06   \n",
       "                 2016          2016-03-08 2016-03-25          2016-03-17   \n",
       "                 2017          2017-02-24 2017-03-25          2017-03-08   \n",
       "                 2018          2018-02-25 2018-04-05          2018-03-29   \n",
       "                 2019                 NaT 2019-04-01                 NaT   \n",
       "\n",
       "                      Puffy White  \n",
       "station cultivar year              \n",
       "DC      Yoshino  2015  2015-04-08  \n",
       "                 2016  2016-03-22  \n",
       "                 2017  2017-03-22  \n",
       "                 2018  2018-04-01  \n",
       "                 2019         NaT  "
      ]
     },
     "execution_count": 4,
     "metadata": {},
     "output_type": "execute_result"
    }
   ],
   "source": [
    "cherry_dc.tail()"
   ]
  },
  {
   "cell_type": "markdown",
   "metadata": {},
   "source": [
    "We only use **Peak Bloom** dates of **Yoshino** cherry in the **DC** area."
   ]
  },
  {
   "cell_type": "code",
   "execution_count": 5,
   "metadata": {},
   "outputs": [],
   "source": [
    "obs = cherry_dc.loc['DC', 'Yoshino']['Peak Bloom']"
   ]
  },
  {
   "cell_type": "code",
   "execution_count": 6,
   "metadata": {},
   "outputs": [
    {
     "data": {
      "text/plain": [
       "year\n",
       "1921   1921-03-20\n",
       "1922   1922-04-07\n",
       "1923   1923-04-09\n",
       "1924   1924-04-13\n",
       "1925   1925-03-27\n",
       "          ...    \n",
       "2015   2015-04-10\n",
       "2016   2016-03-25\n",
       "2017   2017-03-25\n",
       "2018   2018-04-05\n",
       "2019   2019-04-01\n",
       "Name: Peak Bloom, Length: 99, dtype: datetime64[ns]"
      ]
     },
     "execution_count": 6,
     "metadata": {},
     "output_type": "execute_result"
    }
   ],
   "source": [
    "obs"
   ]
  },
  {
   "cell_type": "markdown",
   "metadata": {},
   "source": [
    "### Weather"
   ]
  },
  {
   "cell_type": "markdown",
   "metadata": {},
   "source": [
    "Read weather dataset. Hourly data from weather stations are available at https://www7.ncdc.noaa.gov/CDO/cdopoemain.cmd?datasetabbv=DS3505\n",
    "\n",
    "Stations codes\n",
    "- 724050: Reagan National Airport\n",
    "- 727930: Seattle-Tacoma International Airport"
   ]
  },
  {
   "cell_type": "code",
   "execution_count": 7,
   "metadata": {},
   "outputs": [],
   "source": [
    "usa_ds3505_dc = pd.read_hdf('./usa_ds3505_dc.h5')"
   ]
  },
  {
   "cell_type": "code",
   "execution_count": 8,
   "metadata": {},
   "outputs": [
    {
     "data": {
      "text/html": [
       "<div>\n",
       "<style scoped>\n",
       "    .dataframe tbody tr th:only-of-type {\n",
       "        vertical-align: middle;\n",
       "    }\n",
       "\n",
       "    .dataframe tbody tr th {\n",
       "        vertical-align: top;\n",
       "    }\n",
       "\n",
       "    .dataframe thead th {\n",
       "        text-align: right;\n",
       "    }\n",
       "</style>\n",
       "<table border=\"1\" class=\"dataframe\">\n",
       "  <thead>\n",
       "    <tr style=\"text-align: right;\">\n",
       "      <th></th>\n",
       "      <th></th>\n",
       "      <th>tavg</th>\n",
       "    </tr>\n",
       "    <tr>\n",
       "      <th>station</th>\n",
       "      <th>timestamp</th>\n",
       "      <th></th>\n",
       "    </tr>\n",
       "  </thead>\n",
       "  <tbody>\n",
       "    <tr>\n",
       "      <td rowspan=\"5\" valign=\"top\">724050</td>\n",
       "      <td>1936-09-01 07:00:00-04:00</td>\n",
       "      <td>15.7</td>\n",
       "    </tr>\n",
       "    <tr>\n",
       "      <td>1936-09-01 08:00:00-04:00</td>\n",
       "      <td>18.0</td>\n",
       "    </tr>\n",
       "    <tr>\n",
       "      <td>1936-09-01 09:00:00-04:00</td>\n",
       "      <td>17.4</td>\n",
       "    </tr>\n",
       "    <tr>\n",
       "      <td>1936-09-01 10:00:00-04:00</td>\n",
       "      <td>23.5</td>\n",
       "    </tr>\n",
       "    <tr>\n",
       "      <td>1936-09-01 11:00:00-04:00</td>\n",
       "      <td>25.2</td>\n",
       "    </tr>\n",
       "  </tbody>\n",
       "</table>\n",
       "</div>"
      ],
      "text/plain": [
       "                                   tavg\n",
       "station timestamp                      \n",
       "724050  1936-09-01 07:00:00-04:00  15.7\n",
       "        1936-09-01 08:00:00-04:00  18.0\n",
       "        1936-09-01 09:00:00-04:00  17.4\n",
       "        1936-09-01 10:00:00-04:00  23.5\n",
       "        1936-09-01 11:00:00-04:00  25.2"
      ]
     },
     "execution_count": 8,
     "metadata": {},
     "output_type": "execute_result"
    }
   ],
   "source": [
    "usa_ds3505_dc.head()"
   ]
  },
  {
   "cell_type": "markdown",
   "metadata": {},
   "source": [
    "Weather records are originally in hourly interval and we want to convert them into daily interval for faster processing in this lab exercise. **724050** is the station code for Reagan National Airport which is located a few miles away from Tidal Basin, Washington DC."
   ]
  },
  {
   "cell_type": "code",
   "execution_count": 9,
   "metadata": {},
   "outputs": [],
   "source": [
    "met = usa_ds3505_dc.loc[724050].resample('D').mean()"
   ]
  },
  {
   "cell_type": "markdown",
   "metadata": {},
   "source": [
    "Remove timezone information from the weather dataset for easier manipulation in the later stage."
   ]
  },
  {
   "cell_type": "code",
   "execution_count": 10,
   "metadata": {},
   "outputs": [],
   "source": [
    "met.index = met.index.tz_localize(None)"
   ]
  },
  {
   "cell_type": "code",
   "execution_count": 11,
   "metadata": {},
   "outputs": [
    {
     "data": {
      "text/html": [
       "<div>\n",
       "<style scoped>\n",
       "    .dataframe tbody tr th:only-of-type {\n",
       "        vertical-align: middle;\n",
       "    }\n",
       "\n",
       "    .dataframe tbody tr th {\n",
       "        vertical-align: top;\n",
       "    }\n",
       "\n",
       "    .dataframe thead th {\n",
       "        text-align: right;\n",
       "    }\n",
       "</style>\n",
       "<table border=\"1\" class=\"dataframe\">\n",
       "  <thead>\n",
       "    <tr style=\"text-align: right;\">\n",
       "      <th></th>\n",
       "      <th>tavg</th>\n",
       "    </tr>\n",
       "    <tr>\n",
       "      <th>timestamp</th>\n",
       "      <th></th>\n",
       "    </tr>\n",
       "  </thead>\n",
       "  <tbody>\n",
       "    <tr>\n",
       "      <td>2019-08-27</td>\n",
       "      <td>22.483736</td>\n",
       "    </tr>\n",
       "    <tr>\n",
       "      <td>2019-08-28</td>\n",
       "      <td>23.287964</td>\n",
       "    </tr>\n",
       "    <tr>\n",
       "      <td>2019-08-29</td>\n",
       "      <td>24.850556</td>\n",
       "    </tr>\n",
       "    <tr>\n",
       "      <td>2019-08-30</td>\n",
       "      <td>24.827778</td>\n",
       "    </tr>\n",
       "    <tr>\n",
       "      <td>2019-08-31</td>\n",
       "      <td>26.747667</td>\n",
       "    </tr>\n",
       "  </tbody>\n",
       "</table>\n",
       "</div>"
      ],
      "text/plain": [
       "                 tavg\n",
       "timestamp            \n",
       "2019-08-27  22.483736\n",
       "2019-08-28  23.287964\n",
       "2019-08-29  24.850556\n",
       "2019-08-30  24.827778\n",
       "2019-08-31  26.747667"
      ]
     },
     "execution_count": 11,
     "metadata": {},
     "output_type": "execute_result"
    }
   ],
   "source": [
    "met.tail()"
   ]
  },
  {
   "cell_type": "markdown",
   "metadata": {},
   "source": [
    "### Growing Degree Days Model (GDD)"
   ]
  },
  {
   "cell_type": "markdown",
   "metadata": {
    "collapsed": true
   },
   "source": [
    "The Growing Degree Days (GDD) is one of the most widely used models to describe a linear growth rate dependent on temperature forcing above a certain base temperature. When the weather records are limited to daily time scale, GDD often interpolates diurnal temperature from daily maximum and minimum temperatures, resulting into some variants of the method. We used growing degree hours (GDH) with hourly records to avoid such interpolation, but still described its parameters in daily scale for comparison with existing model parameters.\n",
    "\n",
    "$$\n",
    "\\begin{aligned}\n",
    "\\Delta_h & = \\begin{cases}\n",
    "  \\frac{1}{24} (T_h - T_b) & \\text{if } T_h > T_b \\\\\n",
    "  0 & \\text{otherwise}\n",
    "\\end{cases} \\\\\n",
    "\\sum_{h=H_s}^{\\hat{H}-1} \\Delta_h & < R_d \\leq \\sum_{h=H_s}^{\\hat{H}} \\Delta_h\n",
    "\\end{aligned}\n",
    "$$"
   ]
  },
  {
   "cell_type": "markdown",
   "metadata": {},
   "source": [
    "#### Prepare weather data"
   ]
  },
  {
   "cell_type": "markdown",
   "metadata": {
    "collapsed": true
   },
   "source": [
    "Flowering for spring in the current year is a response to temperature changes during the past winter. Here we assume thermal accumulation for GDD model begins on the first day of the year."
   ]
  },
  {
   "cell_type": "code",
   "execution_count": 12,
   "metadata": {},
   "outputs": [],
   "source": [
    "def start_date(year):\n",
    "    return datetime.date(year, 1, 1)"
   ]
  },
  {
   "cell_type": "code",
   "execution_count": 13,
   "metadata": {},
   "outputs": [
    {
     "data": {
      "text/plain": [
       "datetime.date(2019, 1, 1)"
      ]
     },
     "execution_count": 13,
     "metadata": {},
     "output_type": "execute_result"
    }
   ],
   "source": [
    "start_date(2019)"
   ]
  },
  {
   "cell_type": "markdown",
   "metadata": {
    "collapsed": true
   },
   "source": [
    "The end date of model simulation could be any date later than flowering dates which often occur during March or April. Here we decide to use May 31th."
   ]
  },
  {
   "cell_type": "code",
   "execution_count": 14,
   "metadata": {},
   "outputs": [],
   "source": [
    "def end_date(year):\n",
    "    return datetime.date(year, 5, 31)"
   ]
  },
  {
   "cell_type": "code",
   "execution_count": 15,
   "metadata": {},
   "outputs": [
    {
     "data": {
      "text/plain": [
       "datetime.date(2019, 5, 31)"
      ]
     },
     "execution_count": 15,
     "metadata": {},
     "output_type": "execute_result"
    }
   ],
   "source": [
    "end_date(2019)"
   ]
  },
  {
   "cell_type": "markdown",
   "metadata": {
    "collapsed": true
   },
   "source": [
    "Now we can make a slice of weather data needed for one year of model simulation."
   ]
  },
  {
   "cell_type": "code",
   "execution_count": 16,
   "metadata": {},
   "outputs": [
    {
     "data": {
      "text/plain": [
       "timestamp\n",
       "2019-01-01    13.659202\n",
       "2019-01-02     7.553056\n",
       "2019-01-03     8.241111\n",
       "2019-01-04     6.356821\n",
       "2019-01-05     9.615425\n",
       "Freq: D, Name: tavg, dtype: float64"
      ]
     },
     "execution_count": 16,
     "metadata": {},
     "output_type": "execute_result"
    }
   ],
   "source": [
    "Th = met[start_date(2019):end_date(2019)].tavg\n",
    "Th.head()"
   ]
  },
  {
   "cell_type": "code",
   "execution_count": 17,
   "metadata": {
    "scrolled": true
   },
   "outputs": [
    {
     "data": {
      "text/plain": [
       "<matplotlib.axes._subplots.AxesSubplot at 0x12dda8650>"
      ]
     },
     "execution_count": 17,
     "metadata": {},
     "output_type": "execute_result"
    },
    {
     "data": {
      "image/png": "[encoded data removed]",
      "text/plain": [
       "<Figure size 432x288 with 1 Axes>"
      ]
     },
     "metadata": {
      "needs_background": "light"
     },
     "output_type": "display_data"
    }
   ],
   "source": [
    "Th.plot()"
   ]
  },
  {
   "cell_type": "markdown",
   "metadata": {},
   "source": [
    "#### Calculate thermal unit"
   ]
  },
  {
   "cell_type": "code",
   "execution_count": 18,
   "metadata": {},
   "outputs": [],
   "source": [
    "def gdd(Th, Tb):\n",
    "    return (Th - Tb).clip(lower=0).cumsum() #/ 24"
   ]
  },
  {
   "cell_type": "code",
   "execution_count": 19,
   "metadata": {},
   "outputs": [
    {
     "data": {
      "text/plain": [
       "<matplotlib.axes._subplots.AxesSubplot at 0x12f110990>"
      ]
     },
     "execution_count": 19,
     "metadata": {},
     "output_type": "execute_result"
    },
    {
     "data": {
      "image/png": "[encoded data removed]",
      "text/plain": [
       "<Figure size 432x288 with 1 Axes>"
      ]
     },
     "metadata": {
      "needs_background": "light"
     },
     "output_type": "display_data"
    }
   ],
   "source": [
    "gdd(Th, 4).plot()"
   ]
  },
  {
   "cell_type": "markdown",
   "metadata": {},
   "source": [
    "#### Match the requirement"
   ]
  },
  {
   "cell_type": "markdown",
   "metadata": {},
   "source": [
    "`match` function finds the date when the cumulative thermal degree `D` reaches the thermal requirement `R`."
   ]
  },
  {
   "cell_type": "code",
   "execution_count": 20,
   "metadata": {},
   "outputs": [],
   "source": [
    "def match(D, R, ascending=True):\n",
    "    D, R = (D, R) if ascending else (-D, -R)\n",
    "    i = D.searchsorted(R)\n",
    "    try:\n",
    "        return D.index[i]\n",
    "    except:\n",
    "        return pd.NaT"
   ]
  },
  {
   "cell_type": "code",
   "execution_count": 21,
   "metadata": {},
   "outputs": [
    {
     "data": {
      "text/plain": [
       "Timestamp('2019-03-24 00:00:00', freq='D')"
      ]
     },
     "execution_count": 21,
     "metadata": {},
     "output_type": "execute_result"
    }
   ],
   "source": [
    "match(gdd(Th, 4), 200)"
   ]
  },
  {
   "cell_type": "markdown",
   "metadata": {},
   "source": [
    "For example, GDD requirement of 200 for base temperature 4 was met in the late-March this year."
   ]
  },
  {
   "cell_type": "code",
   "execution_count": 22,
   "metadata": {},
   "outputs": [],
   "source": [
    "def plot_match(D, R, ascending=True):\n",
    "    m = match(D, R, ascending)\n",
    "    D.plot()\n",
    "    plt.axvline(m, ls=':')\n",
    "    plt.axhline(R, ls=':')\n",
    "    return m"
   ]
  },
  {
   "cell_type": "code",
   "execution_count": 23,
   "metadata": {},
   "outputs": [
    {
     "data": {
      "text/plain": [
       "Timestamp('2019-03-24 00:00:00', freq='D')"
      ]
     },
     "execution_count": 23,
     "metadata": {},
     "output_type": "execute_result"
    },
    {
     "data": {
      "image/png": "[encoded data removed]",
      "text/plain": [
       "<Figure size 432x288 with 1 Axes>"
      ]
     },
     "metadata": {
      "needs_background": "light"
     },
     "output_type": "display_data"
    }
   ],
   "source": [
    "plot_match(gdd(Th, 4), 200)"
   ]
  },
  {
   "cell_type": "markdown",
   "metadata": {},
   "source": [
    "#### GDD estimation in one function"
   ]
  },
  {
   "cell_type": "markdown",
   "metadata": {
    "collapsed": true
   },
   "source": [
    "Let's put all in a function for predicting phenology based on GDD accumulation."
   ]
  },
  {
   "cell_type": "code",
   "execution_count": 24,
   "metadata": {},
   "outputs": [],
   "source": [
    "def gdd_estimate(met, year, params, plot=False):\n",
    "    Tb, Rd = params\n",
    "    Th = met[start_date(year):end_date(year)].tavg\n",
    "    D = gdd(Th, Tb)\n",
    "    return match(D, Rd)"
   ]
  },
  {
   "cell_type": "markdown",
   "metadata": {},
   "source": [
    "Our initial guess for 2019 cherry blossom is about a week off to what actually was."
   ]
  },
  {
   "cell_type": "code",
   "execution_count": 25,
   "metadata": {},
   "outputs": [],
   "source": [
    "gdd_params = (4, 300)"
   ]
  },
  {
   "cell_type": "code",
   "execution_count": 26,
   "metadata": {},
   "outputs": [
    {
     "data": {
      "text/plain": [
       "Timestamp('2019-04-07 00:00:00', freq='D')"
      ]
     },
     "execution_count": 26,
     "metadata": {},
     "output_type": "execute_result"
    }
   ],
   "source": [
    "gdd_estimate(met, 2019, gdd_params)"
   ]
  },
  {
   "cell_type": "code",
   "execution_count": 27,
   "metadata": {},
   "outputs": [
    {
     "data": {
      "text/plain": [
       "Timedelta('-6 days +00:00:00')"
      ]
     },
     "execution_count": 27,
     "metadata": {},
     "output_type": "execute_result"
    }
   ],
   "source": [
    "obs[2019] - _"
   ]
  },
  {
   "cell_type": "markdown",
   "metadata": {},
   "source": [
    "#### Residual calculation"
   ]
  },
  {
   "cell_type": "markdown",
   "metadata": {
    "collapsed": true
   },
   "source": [
    "Let's make a function for calculating such difference or 'residual' which will be used in model parameterization."
   ]
  },
  {
   "cell_type": "code",
   "execution_count": 28,
   "metadata": {},
   "outputs": [],
   "source": [
    "def julian(t, year):\n",
    "    #return int(t.strftime('%j'))\n",
    "    return (t.year - year)*365 + float(t.strftime('%j')) + t.hour/24. + t.minute/(24*60.) + t.second/(24*60*60.)\n",
    "\n",
    "def residual(met, obs, year, estimate, params):\n",
    "    try:\n",
    "        e = julian(estimate(met, year, params), year)\n",
    "        o = julian(obs[year], year)\n",
    "        return o - e\n",
    "    except:\n",
    "        return 365. # np.inf"
   ]
  },
  {
   "cell_type": "code",
   "execution_count": 29,
   "metadata": {},
   "outputs": [
    {
     "data": {
      "text/plain": [
       "-6.0"
      ]
     },
     "execution_count": 29,
     "metadata": {},
     "output_type": "execute_result"
    }
   ],
   "source": [
    "residual(met, obs, 2019, gdd_estimate, gdd_params)"
   ]
  },
  {
   "cell_type": "markdown",
   "metadata": {},
   "source": [
    "It will be handy to have a more general function to calculate residuals over multiple years of prediction."
   ]
  },
  {
   "cell_type": "code",
   "execution_count": 30,
   "metadata": {},
   "outputs": [],
   "source": [
    "def residuals(met, obs, years, estimate, params):\n",
    "    return np.array([residual(met, obs, y, estimate, params) for y in years])"
   ]
  },
  {
   "cell_type": "markdown",
   "metadata": {},
   "source": [
    "We will use 30 years of data from 1980 to 2009 for calibration."
   ]
  },
  {
   "cell_type": "code",
   "execution_count": 31,
   "metadata": {},
   "outputs": [],
   "source": [
    "years = range(1980, 2009+1)"
   ]
  },
  {
   "cell_type": "code",
   "execution_count": 32,
   "metadata": {},
   "outputs": [
    {
     "data": {
      "text/plain": [
       "array([ -4.,   2., -12.,  -3., -12.,  -4.,  -6., -20., -11., -16.,  -1.,\n",
       "        -5.,  -7., -10., -11.,  -6., -12.,  -4.,  -5.,  -2.,  -9.,  -9.,\n",
       "         2., -17., -15.,  -4.,  -4.,  -2.,  -3., -16.])"
      ]
     },
     "execution_count": 32,
     "metadata": {},
     "output_type": "execute_result"
    }
   ],
   "source": [
    "r = residuals(met, obs, years, gdd_estimate, gdd_params)\n",
    "r"
   ]
  },
  {
   "cell_type": "markdown",
   "metadata": {},
   "source": [
    "And let's keep data from 2010 to 2019 for testing later."
   ]
  },
  {
   "cell_type": "code",
   "execution_count": 33,
   "metadata": {},
   "outputs": [],
   "source": [
    "testing_years = range(2010, 2019+1)"
   ]
  },
  {
   "cell_type": "markdown",
   "metadata": {},
   "source": [
    "#### RMSE (Root-Mean-Square Error)"
   ]
  },
  {
   "cell_type": "code",
   "execution_count": 34,
   "metadata": {},
   "outputs": [],
   "source": [
    "def rmse(r):\n",
    "    return np.sqrt((r**2).mean())"
   ]
  },
  {
   "cell_type": "code",
   "execution_count": 35,
   "metadata": {
    "scrolled": true
   },
   "outputs": [
    {
     "data": {
      "text/plain": [
       "9.395034149308168"
      ]
     },
     "execution_count": 35,
     "metadata": {},
     "output_type": "execute_result"
    }
   ],
   "source": [
    "rmse(r)"
   ]
  },
  {
   "cell_type": "markdown",
   "metadata": {},
   "source": [
    "#### EF (Model Efficiency)"
   ]
  },
  {
   "cell_type": "markdown",
   "metadata": {},
   "source": [
    "First, make a helper function to get observation data from multiple years."
   ]
  },
  {
   "cell_type": "code",
   "execution_count": 36,
   "metadata": {},
   "outputs": [],
   "source": [
    "def observes(years):\n",
    "    return np.array([julian(obs[y], y) for y in years])"
   ]
  },
  {
   "cell_type": "markdown",
   "metadata": {},
   "source": [
    "Similarly, let's make a helper function for running multiple years of estimation. This will be used later in the notebook."
   ]
  },
  {
   "cell_type": "code",
   "execution_count": 37,
   "metadata": {},
   "outputs": [],
   "source": [
    "def estimates(met, years, estimate, params):\n",
    "    return np.array([julian(estimate(met, y, params), y) for y in years])"
   ]
  },
  {
   "cell_type": "code",
   "execution_count": 38,
   "metadata": {},
   "outputs": [
    {
     "data": {
      "text/plain": [
       "array([101.,  91., 109., 100., 106., 101.,  98., 107., 102., 104.,  75.,\n",
       "        93., 105., 111., 106.,  98., 107.,  89.,  91.,  97.,  86., 105.,\n",
       "        90., 109., 106., 103.,  93.,  93.,  92., 107.])"
      ]
     },
     "execution_count": 38,
     "metadata": {},
     "output_type": "execute_result"
    }
   ],
   "source": [
    "estimates(met, years, gdd_estimate, (4, 300))"
   ]
  },
  {
   "cell_type": "code",
   "execution_count": 39,
   "metadata": {},
   "outputs": [],
   "source": [
    "def ef(r, o):\n",
    "    do = o - o.mean()\n",
    "    return 1 - np.sum(r**2) / np.sum(do**2)"
   ]
  },
  {
   "cell_type": "code",
   "execution_count": 40,
   "metadata": {},
   "outputs": [
    {
     "data": {
      "text/plain": [
       "array([ 97.,  93.,  97.,  97.,  94.,  97.,  92.,  87.,  91.,  88.,  74.,\n",
       "        88.,  98., 101.,  95.,  92.,  95.,  85.,  86.,  95.,  77.,  96.,\n",
       "        92.,  92.,  91.,  99.,  89.,  91.,  89.,  91.])"
      ]
     },
     "execution_count": 40,
     "metadata": {},
     "output_type": "execute_result"
    }
   ],
   "source": [
    "o = observes(years)\n",
    "o"
   ]
  },
  {
   "cell_type": "markdown",
   "metadata": {},
   "source": [
    "Here is the model efficiency (EF) for GDD from our initial guess without parameter optimization. How would you interprete the model performance based on RMSE and EF?"
   ]
  },
  {
   "cell_type": "code",
   "execution_count": 41,
   "metadata": {},
   "outputs": [
    {
     "data": {
      "text/plain": [
       "-1.5885496431946295"
      ]
     },
     "execution_count": 41,
     "metadata": {},
     "output_type": "execute_result"
    }
   ],
   "source": [
    "ef(r, o)"
   ]
  },
  {
   "cell_type": "markdown",
   "metadata": {},
   "source": [
    "## Model Parameterization"
   ]
  },
  {
   "cell_type": "code",
   "execution_count": 42,
   "metadata": {},
   "outputs": [],
   "source": [
    "def cost(params, *args):\n",
    "    return rmse(residuals(*args, params))"
   ]
  },
  {
   "cell_type": "code",
   "execution_count": 43,
   "metadata": {},
   "outputs": [
    {
     "data": {
      "text/plain": [
       "9.395034149308168"
      ]
     },
     "execution_count": 43,
     "metadata": {},
     "output_type": "execute_result"
    }
   ],
   "source": [
    "cost((4, 300), met, obs, years, gdd_estimate)"
   ]
  },
  {
   "cell_type": "markdown",
   "metadata": {},
   "source": [
    "#### Simplex Method (a.k.a., Nelder-Mead method)"
   ]
  },
  {
   "cell_type": "code",
   "execution_count": 44,
   "metadata": {},
   "outputs": [
    {
     "name": "stdout",
     "output_type": "stream",
     "text": [
      "Optimization terminated successfully.\n",
      "         Current function value: 5.790797\n",
      "         Iterations: 29\n",
      "         Function evaluations: 87\n"
     ]
    },
    {
     "data": {
      "text/plain": [
       " final_simplex: (array([[  4.08066406, 238.41796875],\n",
       "       [  4.080666  , 238.41787755],\n",
       "       [  4.08066457, 238.41798976]]), array([5.7907973, 5.7907973, 5.7907973]))\n",
       "           fun: 5.790797296861058\n",
       "       message: 'Optimization terminated successfully.'\n",
       "          nfev: 87\n",
       "           nit: 29\n",
       "        status: 0\n",
       "       success: True\n",
       "             x: array([  4.08066406, 238.41796875])"
      ]
     },
     "execution_count": 44,
     "metadata": {},
     "output_type": "execute_result"
    }
   ],
   "source": [
    "def calibrate_nm(met, obs, years, estimate, func, params0):\n",
    "    return scipy.optimize.minimize(\n",
    "        fun=func,\n",
    "        x0=params0,\n",
    "        args=(met, obs, years, estimate),\n",
    "        method='Nelder-Mead',\n",
    "        options={\n",
    "            'disp': True,\n",
    "        }\n",
    "    )\n",
    "res = calibrate_nm(met, obs, years, gdd_estimate, cost, (4, 300))\n",
    "res"
   ]
  },
  {
   "cell_type": "code",
   "execution_count": 45,
   "metadata": {},
   "outputs": [],
   "source": [
    "gdd_params_nm = tuple(res.x)"
   ]
  },
  {
   "cell_type": "code",
   "execution_count": 46,
   "metadata": {},
   "outputs": [
    {
     "data": {
      "text/plain": [
       "5.790797296861058"
      ]
     },
     "execution_count": 46,
     "metadata": {},
     "output_type": "execute_result"
    }
   ],
   "source": [
    "rmse(residuals(met, obs, years, gdd_estimate, gdd_params_nm))"
   ]
  },
  {
   "cell_type": "code",
   "execution_count": 47,
   "metadata": {},
   "outputs": [
    {
     "data": {
      "text/plain": [
       "0.016585747336179235"
      ]
     },
     "execution_count": 47,
     "metadata": {},
     "output_type": "execute_result"
    }
   ],
   "source": [
    "ef(residuals(met, obs, years, gdd_estimate, gdd_params_nm), observes(years))"
   ]
  },
  {
   "cell_type": "markdown",
   "metadata": {},
   "source": [
    "#### Differential Evolution"
   ]
  },
  {
   "cell_type": "code",
   "execution_count": 48,
   "metadata": {},
   "outputs": [
    {
     "name": "stdout",
     "output_type": "stream",
     "text": [
      "differential_evolution step 1: f(x)= 6.10737\n",
      "differential_evolution step 2: f(x)= 6.02495\n",
      "differential_evolution step 3: f(x)= 6.02495\n",
      "differential_evolution step 4: f(x)= 5.98052\n",
      "differential_evolution step 5: f(x)= 5.73004\n",
      "differential_evolution step 6: f(x)= 5.46199\n",
      "differential_evolution step 7: f(x)= 5.46199\n",
      "differential_evolution step 8: f(x)= 5.46199\n",
      "differential_evolution step 9: f(x)= 5.39753\n",
      "differential_evolution step 10: f(x)= 5.39753\n",
      "differential_evolution step 11: f(x)= 5.39753\n",
      "differential_evolution step 12: f(x)= 5.39753\n",
      "differential_evolution step 13: f(x)= 5.36346\n",
      "differential_evolution step 14: f(x)= 5.35724\n",
      "differential_evolution step 15: f(x)= 5.35724\n",
      "differential_evolution step 16: f(x)= 5.35724\n",
      "differential_evolution step 17: f(x)= 5.28835\n",
      "differential_evolution step 18: f(x)= 5.28835\n",
      "differential_evolution step 19: f(x)= 5.28835\n",
      "differential_evolution step 20: f(x)= 5.28835\n",
      "differential_evolution step 21: f(x)= 5.28835\n",
      "differential_evolution step 22: f(x)= 5.28835\n",
      "differential_evolution step 23: f(x)= 5.28835\n",
      "differential_evolution step 24: f(x)= 5.28835\n",
      "differential_evolution step 25: f(x)= 5.28835\n"
     ]
    }
   ],
   "source": [
    "def calibrate_de(met, obs, years, estimate, func, bounds):\n",
    "    return scipy.optimize.differential_evolution(\n",
    "        func=func,\n",
    "        bounds=bounds,\n",
    "        args=(met, obs, years, estimate),\n",
    "        disp=True,\n",
    "    )\n",
    "res = calibrate_de(met, obs, years, gdd_estimate, cost, ((0, 10), (0, 1000)))\n",
    "gdd_params_de = tuple(res.x)"
   ]
  },
  {
   "cell_type": "code",
   "execution_count": 49,
   "metadata": {},
   "outputs": [
    {
     "data": {
      "text/plain": [
       "0.17983642347420914"
      ]
     },
     "execution_count": 49,
     "metadata": {},
     "output_type": "execute_result"
    }
   ],
   "source": [
    "ef(residuals(met, obs, years, gdd_estimate, gdd_params_de), observes(years))"
   ]
  },
  {
   "cell_type": "markdown",
   "metadata": {
    "collapsed": true
   },
   "source": [
    "#### Brute-force (Generally, brute-force optimization can take a long time to complete so be prepared)"
   ]
  },
  {
   "cell_type": "code",
   "execution_count": 50,
   "metadata": {},
   "outputs": [
    {
     "name": "stdout",
     "output_type": "stream",
     "text": [
      "Optimization terminated successfully.\n",
      "         Current function value: 5.534739\n",
      "         Iterations: 25\n",
      "         Function evaluations: 76\n"
     ]
    }
   ],
   "source": [
    "def calibrate_bf(met, obs, years, estimate, func, ranges):\n",
    "    return scipy.optimize.brute(\n",
    "        func=func,\n",
    "        ranges=ranges,\n",
    "        args=(met, obs, years, estimate),\n",
    "        full_output=True,\n",
    "        finish=scipy.optimize.fmin,\n",
    "        disp=True,\n",
    "    )\n",
    "res = calibrate_bf(met, obs, years, gdd_estimate, cost, (slice(0, 10, 1), slice(0, 1000, 50)))\n",
    "gdd_params_bf = tuple(res[0])"
   ]
  },
  {
   "cell_type": "code",
   "execution_count": 51,
   "metadata": {},
   "outputs": [
    {
     "data": {
      "text/plain": [
       "(5.25, 190.0)"
      ]
     },
     "execution_count": 51,
     "metadata": {},
     "output_type": "execute_result"
    }
   ],
   "source": [
    "gdd_params_bf"
   ]
  },
  {
   "cell_type": "code",
   "execution_count": 52,
   "metadata": {},
   "outputs": [
    {
     "data": {
      "text/plain": [
       "0.10163250676138047"
      ]
     },
     "execution_count": 52,
     "metadata": {},
     "output_type": "execute_result"
    }
   ],
   "source": [
    "ef(residuals(met, obs, years, gdd_estimate, gdd_params_bf), observes(years))"
   ]
  },
  {
   "cell_type": "code",
   "execution_count": 53,
   "metadata": {},
   "outputs": [
    {
     "data": {
      "image/png": "[encoded data removed]",
      "text/plain": [
       "<Figure size 432x288 with 1 Axes>"
      ]
     },
     "metadata": {
      "needs_background": "light"
     },
     "output_type": "display_data"
    }
   ],
   "source": [
    "def plot_bf(res, xlim=None, ylim=None):\n",
    "    fig = plt.figure()\n",
    "    ax = Axes3D(fig)\n",
    "    ax.plot_surface(res[2][0], res[2][1], res[3])\n",
    "    if xlim is not None:\n",
    "        ax.set_xlim(*xlim)\n",
    "    if ylim is not None:\n",
    "        ax.set_ylim(*ylim)\n",
    "    plt.show()\n",
    "plot_bf(res, xlim=(0, 10), ylim=(0, 1000))"
   ]
  },
  {
   "cell_type": "markdown",
   "metadata": {},
   "source": [
    "### Plotting the results"
   ]
  },
  {
   "cell_type": "code",
   "execution_count": 54,
   "metadata": {},
   "outputs": [],
   "source": [
    "def plot(met, years, estimate, params):\n",
    "    o = observes(years)\n",
    "    e = estimates(met, years, estimate, params)\n",
    "    return pd.DataFrame(\n",
    "        data={'obs': o, 'est': e},\n",
    "        index=years,\n",
    "    ).plot()"
   ]
  },
  {
   "cell_type": "code",
   "execution_count": 55,
   "metadata": {},
   "outputs": [
    {
     "data": {
      "text/plain": [
       "<matplotlib.axes._subplots.AxesSubplot at 0x12e0b4910>"
      ]
     },
     "execution_count": 55,
     "metadata": {},
     "output_type": "execute_result"
    },
    {
     "data": {
      "image/png": "[encoded data removed]",
      "text/plain": [
       "<Figure size 432x288 with 1 Axes>"
      ]
     },
     "metadata": {
      "needs_background": "light"
     },
     "output_type": "display_data"
    }
   ],
   "source": [
    "plot(met, years, gdd_estimate, gdd_params_de)"
   ]
  },
  {
   "cell_type": "code",
   "execution_count": 56,
   "metadata": {},
   "outputs": [
    {
     "data": {
      "text/plain": [
       "<matplotlib.axes._subplots.AxesSubplot at 0x12e0c9690>"
      ]
     },
     "execution_count": 56,
     "metadata": {},
     "output_type": "execute_result"
    },
    {
     "data": {
      "image/png": "[encoded data removed]",
      "text/plain": [
       "<Figure size 432x288 with 1 Axes>"
      ]
     },
     "metadata": {
      "needs_background": "light"
     },
     "output_type": "display_data"
    }
   ],
   "source": [
    "plot(met, testing_years, gdd_estimate, gdd_params_de)"
   ]
  },
  {
   "cell_type": "markdown",
   "metadata": {},
   "source": [
    "### Chilling and Forcing Model (CF)"
   ]
  },
  {
   "cell_type": "markdown",
   "metadata": {},
   "source": [
    "Cesaraccio *et al.* split up dormancy break into two distinctive steps, rest and quiescence, that required the same amount of chilling and subsequent anti-chilling accumulation in the opposite direction. Later this model was extended to predict FBD coming after bud burst. The following equation represents our adaptation of this chilling and forcing (CF) model with three parameters: temperature threshold ($T_c$), chilling ($R^{\\mathtt{C}}$) and forcing ($R^{\\mathtt{F}}$) requirements. Unlike other forcing-only models, the starting date was implicitly set to October 1st of the previous year. Earlier dates are unlikely to impact model behavior much because the air temperature in September and before are mostly higher than the threshold ($T_c$), resulting in little or no chilling effect.\n",
    "\n",
    "$$\n",
    "\\begin{aligned}\n",
    "T'_h & = \\begin{cases}\n",
    "  T_h & \\text{if } T_h \\geq 0 \\\\\n",
    "  0 & \\text{otherwise}\n",
    "\\end{cases} \\\\\n",
    "\\Delta_h & = \\frac{1}{24} (T'_h - T_c) \\\\\n",
    "\\Delta_h^{\\mathtt{C}} & = \\begin{cases}\n",
    "  \\Delta_h & \\text{if } \\Delta_h < 0 \\\\\n",
    "  0 & \\text{otherwise}\n",
    "\\end{cases} \\\\\n",
    "\\Delta_h^{\\mathtt{F}} & = \\begin{cases}\n",
    "  \\Delta_h & \\text{if } \\Delta_h > 0 \\\\\n",
    "  0 & \\text{otherwise}\n",
    "\\end{cases} \\\\\n",
    "\\sum_{h=H_s}^{\\hat{H_0}-1} \\Delta_h^{\\mathtt{C}} & > R_d^{\\mathtt{C}} \\geq \\sum_{h=H_s}^{\\hat{H_0}} \\Delta_h^{\\mathtt{C}} \\\\\n",
    "\\sum_{h=\\hat{H_0}}^{\\hat{H}-1} \\Delta_h^{\\mathtt{F}} & < R_d^{\\mathtt{F}} \\leq \\sum_{h=\\hat{H_0}}^{\\hat{H}} \\Delta_h^{\\mathtt{F}} \\\\\n",
    "\\end{aligned}\n",
    "$$"
   ]
  },
  {
   "cell_type": "markdown",
   "metadata": {},
   "source": [
    "As the CF model takes account of dormancy break due to chilling effect, we should take a longer period of weather data than what we used for GDD model above. We assume October 1st as a starting date of thermal accumulation for the CF model."
   ]
  },
  {
   "cell_type": "code",
   "execution_count": 57,
   "metadata": {},
   "outputs": [],
   "source": [
    "def cf_start_date(year):\n",
    "    return datetime.date(year-1, 10, 1)"
   ]
  },
  {
   "cell_type": "code",
   "execution_count": 58,
   "metadata": {},
   "outputs": [],
   "source": [
    "Thp = met[cf_start_date(2019):end_date(2019)].tavg.clip(lower=0)"
   ]
  },
  {
   "cell_type": "code",
   "execution_count": 59,
   "metadata": {},
   "outputs": [],
   "source": [
    "def chill(Th, Tc):\n",
    "    return (Th - Tc).clip(upper=0).cumsum() #/ 24"
   ]
  },
  {
   "cell_type": "code",
   "execution_count": 60,
   "metadata": {},
   "outputs": [
    {
     "data": {
      "text/plain": [
       "Timestamp('2019-02-20 00:00:00', freq='D')"
      ]
     },
     "execution_count": 60,
     "metadata": {},
     "output_type": "execute_result"
    },
    {
     "data": {
      "image/png": "[encoded data removed]",
      "text/plain": [
       "<Figure size 432x288 with 1 Axes>"
      ]
     },
     "metadata": {
      "needs_background": "light"
     },
     "output_type": "display_data"
    }
   ],
   "source": [
    "plot_match(chill(Thp, 4), -100, ascending=False)"
   ]
  },
  {
   "cell_type": "code",
   "execution_count": 61,
   "metadata": {},
   "outputs": [],
   "source": [
    "def antichill(Th, Tc):\n",
    "    return (Th - Tc).clip(lower=0).cumsum() #/ 24"
   ]
  },
  {
   "cell_type": "code",
   "execution_count": 62,
   "metadata": {},
   "outputs": [
    {
     "data": {
      "text/plain": [
       "Timestamp('2019-04-06 00:00:00', freq='D')"
      ]
     },
     "execution_count": 62,
     "metadata": {},
     "output_type": "execute_result"
    },
    {
     "data": {
      "image/png": "[encoded data removed]",
      "text/plain": [
       "<Figure size 432x288 with 1 Axes>"
      ]
     },
     "metadata": {
      "needs_background": "light"
     },
     "output_type": "display_data"
    }
   ],
   "source": [
    "plot_match(antichill(Thp.loc[_:], 4), 200)"
   ]
  },
  {
   "cell_type": "code",
   "execution_count": 63,
   "metadata": {},
   "outputs": [],
   "source": [
    "def cf_estimate(met, year, params):\n",
    "    Tc, Rc, Rf = params\n",
    "    Thp = met[cf_start_date(year):end_date(year)].tavg.clip(lower=0)\n",
    "    Dc = chill(Thp, Tc)\n",
    "    m = match(-Dc, -Rc)\n",
    "    # force release dormancy even if chilling requirement is not fully satisfied\n",
    "    if pd.isnull(m):\n",
    "        m = pd.Timestamp(year, 3, 1)\n",
    "    Df = antichill(Thp.loc[m:], Tc)\n",
    "    return match(Df, Rf)"
   ]
  },
  {
   "cell_type": "code",
   "execution_count": 64,
   "metadata": {},
   "outputs": [],
   "source": [
    "cf_params = (4, -100, 200)"
   ]
  },
  {
   "cell_type": "code",
   "execution_count": 65,
   "metadata": {},
   "outputs": [
    {
     "data": {
      "text/plain": [
       "Timestamp('2019-04-06 00:00:00', freq='D')"
      ]
     },
     "execution_count": 65,
     "metadata": {},
     "output_type": "execute_result"
    }
   ],
   "source": [
    "cf_estimate(met, 2019, cf_params)"
   ]
  },
  {
   "cell_type": "code",
   "execution_count": 66,
   "metadata": {},
   "outputs": [
    {
     "data": {
      "text/plain": [
       "Timestamp('2019-04-01 00:00:00')"
      ]
     },
     "execution_count": 66,
     "metadata": {},
     "output_type": "execute_result"
    }
   ],
   "source": [
    "obs[2019]"
   ]
  },
  {
   "cell_type": "code",
   "execution_count": 67,
   "metadata": {},
   "outputs": [
    {
     "name": "stdout",
     "output_type": "stream",
     "text": [
      "Optimization terminated successfully.\n",
      "         Current function value: 5.170429\n",
      "         Iterations: 32\n",
      "         Function evaluations: 105\n"
     ]
    },
    {
     "data": {
      "text/plain": [
       " final_simplex: (array([[   4.21610852, -105.49364849,  193.06497206],\n",
       "       [   4.21610735, -105.49370077,  193.06506912],\n",
       "       [   4.21610843, -105.49365039,  193.0650364 ],\n",
       "       [   4.21610937, -105.49367427,  193.06498719]]), array([5.17042874, 5.17042874, 5.17042874, 5.17042874]))\n",
       "           fun: 5.170428737864331\n",
       "       message: 'Optimization terminated successfully.'\n",
       "          nfev: 105\n",
       "           nit: 32\n",
       "        status: 0\n",
       "       success: True\n",
       "             x: array([   4.21610852, -105.49364849,  193.06497206])"
      ]
     },
     "execution_count": 67,
     "metadata": {},
     "output_type": "execute_result"
    }
   ],
   "source": [
    "res = calibrate_nm(met, obs, years, cf_estimate, cost, cf_params)\n",
    "cf_params_nm = tuple(res.x)\n",
    "res"
   ]
  },
  {
   "cell_type": "code",
   "execution_count": 68,
   "metadata": {},
   "outputs": [
    {
     "name": "stdout",
     "output_type": "stream",
     "text": [
      "differential_evolution step 1: f(x)= 5.03653\n",
      "differential_evolution step 2: f(x)= 4.37417\n",
      "differential_evolution step 3: f(x)= 4.05791\n",
      "differential_evolution step 4: f(x)= 4.05791\n",
      "differential_evolution step 5: f(x)= 4.05791\n",
      "differential_evolution step 6: f(x)= 4.01248\n",
      "differential_evolution step 7: f(x)= 4.01248\n",
      "differential_evolution step 8: f(x)= 4.01248\n",
      "differential_evolution step 9: f(x)= 4.01248\n",
      "differential_evolution step 10: f(x)= 4.01248\n",
      "differential_evolution step 11: f(x)= 4.00832\n",
      "differential_evolution step 12: f(x)= 4.00832\n",
      "differential_evolution step 13: f(x)= 4.00832\n",
      "differential_evolution step 14: f(x)= 4.00832\n",
      "differential_evolution step 15: f(x)= 4.00832\n"
     ]
    },
    {
     "data": {
      "text/plain": [
       "     fun: 4.00832467081531\n",
       " message: 'Optimization terminated successfully.'\n",
       "    nfev: 724\n",
       "     nit: 15\n",
       " success: True\n",
       "       x: array([   0.66972106, -119.38624161,  242.55383531])"
      ]
     },
     "execution_count": 68,
     "metadata": {},
     "output_type": "execute_result"
    }
   ],
   "source": [
    "res = calibrate_de(met, obs, years, cf_estimate, cost, ((0, 10), (-200, 0), (0, 1000)))\n",
    "cf_params_de = tuple(res.x)\n",
    "res"
   ]
  },
  {
   "cell_type": "code",
   "execution_count": 69,
   "metadata": {},
   "outputs": [
    {
     "data": {
      "text/plain": [
       "<matplotlib.axes._subplots.AxesSubplot at 0x12e575290>"
      ]
     },
     "execution_count": 69,
     "metadata": {},
     "output_type": "execute_result"
    },
    {
     "data": {
      "image/png": "[encoded data removed]",
      "text/plain": [
       "<Figure size 432x288 with 1 Axes>"
      ]
     },
     "metadata": {
      "needs_background": "light"
     },
     "output_type": "display_data"
    }
   ],
   "source": [
    "plot(met, years, cf_estimate, cf_params_de)"
   ]
  },
  {
   "cell_type": "code",
   "execution_count": 70,
   "metadata": {},
   "outputs": [
    {
     "data": {
      "text/plain": [
       "<matplotlib.axes._subplots.AxesSubplot at 0x12e45b150>"
      ]
     },
     "execution_count": 70,
     "metadata": {},
     "output_type": "execute_result"
    },
    {
     "data": {
      "image/png": "[encoded data removed]",
      "text/plain": [
       "<Figure size 432x288 with 1 Axes>"
      ]
     },
     "metadata": {
      "needs_background": "light"
     },
     "output_type": "display_data"
    }
   ],
   "source": [
    "plot(met, testing_years, cf_estimate, cf_params_de)"
   ]
  },
  {
   "cell_type": "markdown",
   "metadata": {},
   "source": [
    "### GDD vs. CF"
   ]
  },
  {
   "cell_type": "markdown",
   "metadata": {},
   "source": [
    "#### Calibration Results"
   ]
  },
  {
   "cell_type": "code",
   "execution_count": 71,
   "metadata": {},
   "outputs": [],
   "source": [
    "r_gd_de = residuals(met, obs, years, gdd_estimate, gdd_params_de)\n",
    "r_cf_de = residuals(met, obs, years, cf_estimate, cf_params_de)\n",
    "o = observes(years)"
   ]
  },
  {
   "cell_type": "markdown",
   "metadata": {},
   "source": [
    "##### RMSE"
   ]
  },
  {
   "cell_type": "code",
   "execution_count": 72,
   "metadata": {},
   "outputs": [
    {
     "data": {
      "text/plain": [
       "5.2883519802171515"
      ]
     },
     "execution_count": 72,
     "metadata": {},
     "output_type": "execute_result"
    }
   ],
   "source": [
    "rmse(r_gd_de)"
   ]
  },
  {
   "cell_type": "code",
   "execution_count": 73,
   "metadata": {},
   "outputs": [
    {
     "data": {
      "text/plain": [
       "4.00832467081531"
      ]
     },
     "execution_count": 73,
     "metadata": {},
     "output_type": "execute_result"
    }
   ],
   "source": [
    "rmse(r_cf_de)"
   ]
  },
  {
   "cell_type": "markdown",
   "metadata": {},
   "source": [
    "##### EF"
   ]
  },
  {
   "cell_type": "code",
   "execution_count": 74,
   "metadata": {},
   "outputs": [
    {
     "data": {
      "text/plain": [
       "0.17983642347420914"
      ]
     },
     "execution_count": 74,
     "metadata": {},
     "output_type": "execute_result"
    }
   ],
   "source": [
    "ef(r_gd_de, o)"
   ]
  },
  {
   "cell_type": "code",
   "execution_count": 75,
   "metadata": {},
   "outputs": [
    {
     "data": {
      "text/plain": [
       "0.5288214018052071"
      ]
     },
     "execution_count": 75,
     "metadata": {},
     "output_type": "execute_result"
    }
   ],
   "source": [
    "ef(r_cf_de, o)"
   ]
  },
  {
   "cell_type": "markdown",
   "metadata": {},
   "source": [
    "#### Testing Results"
   ]
  },
  {
   "cell_type": "markdown",
   "metadata": {},
   "source": [
    "Let's test (or validate) the models with a different dataset than the one used for calibration. Ideally, we need a completely independent dataset, but here we keep using the same dataset, but selecting years not seen for calibration."
   ]
  },
  {
   "cell_type": "code",
   "execution_count": 76,
   "metadata": {},
   "outputs": [],
   "source": [
    "testing_r_gd_de = residuals(met, obs, testing_years, gdd_estimate, gdd_params_de)\n",
    "testing_r_cf_de = residuals(met, obs, testing_years, cf_estimate, cf_params_de)\n",
    "testing_o = observes(testing_years)"
   ]
  },
  {
   "cell_type": "markdown",
   "metadata": {},
   "source": [
    "##### RMSE"
   ]
  },
  {
   "cell_type": "code",
   "execution_count": 77,
   "metadata": {},
   "outputs": [
    {
     "data": {
      "text/plain": [
       "9.257429448826494"
      ]
     },
     "execution_count": 77,
     "metadata": {},
     "output_type": "execute_result"
    }
   ],
   "source": [
    "rmse(testing_r_gd_de)"
   ]
  },
  {
   "cell_type": "code",
   "execution_count": 78,
   "metadata": {},
   "outputs": [
    {
     "data": {
      "text/plain": [
       "4.527692569068709"
      ]
     },
     "execution_count": 78,
     "metadata": {},
     "output_type": "execute_result"
    }
   ],
   "source": [
    "rmse(testing_r_cf_de)"
   ]
  },
  {
   "cell_type": "markdown",
   "metadata": {},
   "source": [
    "##### EF"
   ]
  },
  {
   "cell_type": "code",
   "execution_count": 79,
   "metadata": {},
   "outputs": [
    {
     "data": {
      "text/plain": [
       "-0.8728146853146852"
      ]
     },
     "execution_count": 79,
     "metadata": {},
     "output_type": "execute_result"
    }
   ],
   "source": [
    "ef(testing_r_gd_de, testing_o)"
   ]
  },
  {
   "cell_type": "code",
   "execution_count": 80,
   "metadata": {},
   "outputs": [
    {
     "data": {
      "text/plain": [
       "0.5520104895104896"
      ]
     },
     "execution_count": 80,
     "metadata": {},
     "output_type": "execute_result"
    }
   ],
   "source": [
    "ef(testing_r_cf_de, testing_o)"
   ]
  },
  {
   "cell_type": "markdown",
   "metadata": {},
   "source": [
    "##### AIC"
   ]
  },
  {
   "cell_type": "code",
   "execution_count": 81,
   "metadata": {},
   "outputs": [],
   "source": [
    "def aic(r, k):\n",
    "    n = len(r)\n",
    "    ssr = (r**2).sum()\n",
    "    s2 = ssr / n\n",
    "    L = (1 / np.sqrt(2*np.pi*s2))**n * np.exp(-ssr / (2*s2))\n",
    "    return 2*k - 2*np.log(L)"
   ]
  },
  {
   "cell_type": "markdown",
   "metadata": {},
   "source": [
    "Number of parameters for each model."
   ]
  },
  {
   "cell_type": "code",
   "execution_count": 82,
   "metadata": {},
   "outputs": [],
   "source": [
    "gd_k = 2\n",
    "cf_k = 3"
   ]
  },
  {
   "cell_type": "code",
   "execution_count": 83,
   "metadata": {},
   "outputs": [
    {
     "data": {
      "text/plain": [
       "76.8872989201308"
      ]
     },
     "execution_count": 83,
     "metadata": {},
     "output_type": "execute_result"
    }
   ],
   "source": [
    "aic(testing_r_gd_de, gd_k)"
   ]
  },
  {
   "cell_type": "code",
   "execution_count": 84,
   "metadata": {},
   "outputs": [
    {
     "data": {
      "text/plain": [
       "64.58301952553708"
      ]
     },
     "execution_count": 84,
     "metadata": {},
     "output_type": "execute_result"
    }
   ],
   "source": [
    "aic(testing_r_cf_de, cf_k)"
   ]
  },
  {
   "cell_type": "markdown",
   "metadata": {},
   "source": [
    "### UW Cherry Blossom"
   ]
  },
  {
   "cell_type": "code",
   "execution_count": 85,
   "metadata": {},
   "outputs": [],
   "source": [
    "def read_cherry_uw():\n",
    "    df = pd.read_excel(\n",
    "        io='./Cherry_PBD.xls',\n",
    "        sheet_name='UW',\n",
    "    )\n",
    "    s = df.set_index('year').stack()\n",
    "    s.index.names = ['year', 'cultivar']\n",
    "    s.name = 'bloom'\n",
    "    df = s.reset_index()\n",
    "    df['bloom'] = df.apply(lambda r: pd.datetime.strptime(f'{r.year}-{r.bloom}', '%Y-%j'), axis=1)\n",
    "    df['station'] = 'UW'\n",
    "    return df.set_index(['station', 'cultivar', 'year'])\n",
    "cherry_uw = read_cherry_uw()"
   ]
  },
  {
   "cell_type": "code",
   "execution_count": 86,
   "metadata": {},
   "outputs": [
    {
     "data": {
      "text/html": [
       "<div>\n",
       "<style scoped>\n",
       "    .dataframe tbody tr th:only-of-type {\n",
       "        vertical-align: middle;\n",
       "    }\n",
       "\n",
       "    .dataframe tbody tr th {\n",
       "        vertical-align: top;\n",
       "    }\n",
       "\n",
       "    .dataframe thead th {\n",
       "        text-align: right;\n",
       "    }\n",
       "</style>\n",
       "<table border=\"1\" class=\"dataframe\">\n",
       "  <thead>\n",
       "    <tr style=\"text-align: right;\">\n",
       "      <th></th>\n",
       "      <th></th>\n",
       "      <th></th>\n",
       "      <th>bloom</th>\n",
       "    </tr>\n",
       "    <tr>\n",
       "      <th>station</th>\n",
       "      <th>cultivar</th>\n",
       "      <th>year</th>\n",
       "      <th></th>\n",
       "    </tr>\n",
       "  </thead>\n",
       "  <tbody>\n",
       "    <tr>\n",
       "      <td rowspan=\"5\" valign=\"top\">UW</td>\n",
       "      <td rowspan=\"5\" valign=\"top\">Yoshino</td>\n",
       "      <td>2015</td>\n",
       "      <td>2015-03-16</td>\n",
       "    </tr>\n",
       "    <tr>\n",
       "      <td>2016</td>\n",
       "      <td>2016-03-11</td>\n",
       "    </tr>\n",
       "    <tr>\n",
       "      <td>2017</td>\n",
       "      <td>2017-03-26</td>\n",
       "    </tr>\n",
       "    <tr>\n",
       "      <td>2018</td>\n",
       "      <td>2018-03-20</td>\n",
       "    </tr>\n",
       "    <tr>\n",
       "      <td>2019</td>\n",
       "      <td>2019-03-29</td>\n",
       "    </tr>\n",
       "  </tbody>\n",
       "</table>\n",
       "</div>"
      ],
      "text/plain": [
       "                           bloom\n",
       "station cultivar year           \n",
       "UW      Yoshino  2015 2015-03-16\n",
       "                 2016 2016-03-11\n",
       "                 2017 2017-03-26\n",
       "                 2018 2018-03-20\n",
       "                 2019 2019-03-29"
      ]
     },
     "execution_count": 86,
     "metadata": {},
     "output_type": "execute_result"
    }
   ],
   "source": [
    "cherry_uw.tail()"
   ]
  },
  {
   "cell_type": "code",
   "execution_count": 87,
   "metadata": {},
   "outputs": [],
   "source": [
    "uw_obs = cherry_uw.loc['UW', 'Yoshino']['bloom']"
   ]
  },
  {
   "cell_type": "markdown",
   "metadata": {},
   "source": [
    "We use weather records from SeaTac aiport to predict flowering on the UW campus. Data from Sandpoint station (94290) would have been a better choice, but unfortunately they were not available at the time of writing this notebook."
   ]
  },
  {
   "cell_type": "code",
   "execution_count": 88,
   "metadata": {},
   "outputs": [],
   "source": [
    "usa_ds3505_seatac = pd.read_hdf('./usa_ds3505_seatac.h5')\n",
    "uw_met = usa_ds3505_seatac.loc[727930].resample('D').mean()\n",
    "uw_met.index = uw_met.index.tz_localize(None)"
   ]
  },
  {
   "cell_type": "code",
   "execution_count": 89,
   "metadata": {},
   "outputs": [
    {
     "data": {
      "text/html": [
       "<div>\n",
       "<style scoped>\n",
       "    .dataframe tbody tr th:only-of-type {\n",
       "        vertical-align: middle;\n",
       "    }\n",
       "\n",
       "    .dataframe tbody tr th {\n",
       "        vertical-align: top;\n",
       "    }\n",
       "\n",
       "    .dataframe thead th {\n",
       "        text-align: right;\n",
       "    }\n",
       "</style>\n",
       "<table border=\"1\" class=\"dataframe\">\n",
       "  <thead>\n",
       "    <tr style=\"text-align: right;\">\n",
       "      <th></th>\n",
       "      <th>tavg</th>\n",
       "    </tr>\n",
       "    <tr>\n",
       "      <th>timestamp</th>\n",
       "      <th></th>\n",
       "    </tr>\n",
       "  </thead>\n",
       "  <tbody>\n",
       "    <tr>\n",
       "      <td>2019-08-27</td>\n",
       "      <td>22.167778</td>\n",
       "    </tr>\n",
       "    <tr>\n",
       "      <td>2019-08-28</td>\n",
       "      <td>24.276250</td>\n",
       "    </tr>\n",
       "    <tr>\n",
       "      <td>2019-08-29</td>\n",
       "      <td>19.027917</td>\n",
       "    </tr>\n",
       "    <tr>\n",
       "      <td>2019-08-30</td>\n",
       "      <td>20.503283</td>\n",
       "    </tr>\n",
       "    <tr>\n",
       "      <td>2019-08-31</td>\n",
       "      <td>19.474412</td>\n",
       "    </tr>\n",
       "  </tbody>\n",
       "</table>\n",
       "</div>"
      ],
      "text/plain": [
       "                 tavg\n",
       "timestamp            \n",
       "2019-08-27  22.167778\n",
       "2019-08-28  24.276250\n",
       "2019-08-29  19.027917\n",
       "2019-08-30  20.503283\n",
       "2019-08-31  19.474412"
      ]
     },
     "execution_count": 89,
     "metadata": {},
     "output_type": "execute_result"
    }
   ],
   "source": [
    "uw_met.tail()"
   ]
  },
  {
   "cell_type": "code",
   "execution_count": 90,
   "metadata": {},
   "outputs": [
    {
     "data": {
      "text/plain": [
       "year\n",
       "1994   1994-04-02\n",
       "1996   1996-04-15\n",
       "2005   2005-03-31\n",
       "2006   2006-04-13\n",
       "2007   2007-04-10\n",
       "2008   2008-04-10\n",
       "2009   2009-04-17\n",
       "2010   2010-04-03\n",
       "2011   2011-04-13\n",
       "2012   2012-04-02\n",
       "2013   2013-04-03\n",
       "2014   2014-03-21\n",
       "2015   2015-03-16\n",
       "2016   2016-03-11\n",
       "2017   2017-03-26\n",
       "2018   2018-03-20\n",
       "2019   2019-03-29\n",
       "Name: bloom, dtype: datetime64[ns]"
      ]
     },
     "execution_count": 90,
     "metadata": {},
     "output_type": "execute_result"
    }
   ],
   "source": [
    "uw_obs"
   ]
  }
 ],
 "metadata": {
  "@webio": {
   "lastCommId": null,
   "lastKernelId": null
  },
  "kernelspec": {
   "display_name": "Python 3",
   "language": "python",
   "name": "python3"
  },
  "language_info": {
   "codemirror_mode": {
    "name": "ipython",
    "version": 3
   },
   "file_extension": ".py",
   "mimetype": "text/x-python",
   "name": "python",
   "nbconvert_exporter": "python",
   "pygments_lexer": "ipython3",
   "version": "3.7.4"
  }
 },
 "nbformat": 4,
 "nbformat_minor": 2
}
