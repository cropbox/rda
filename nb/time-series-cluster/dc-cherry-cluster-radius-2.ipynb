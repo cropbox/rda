{
 "cells": [
  {
   "cell_type": "code",
   "execution_count": 1,
   "metadata": {
    "collapsed": false
   },
   "outputs": [
    {
     "data": {
      "text/plain": [
       "'/Users/tomyun/Google Drive/Projects/RDA/work/nb/time-series-cluster'"
      ]
     },
     "execution_count": 1,
     "metadata": {},
     "output_type": "execute_result"
    }
   ],
   "source": [
    "import os\n",
    "os.getcwd()"
   ]
  },
  {
   "cell_type": "code",
   "execution_count": 2,
   "metadata": {
    "collapsed": true
   },
   "outputs": [],
   "source": [
    "import sys\n",
    "sys.path.append('../../code')"
   ]
  },
  {
   "cell_type": "code",
   "execution_count": 3,
   "metadata": {
    "collapsed": true
   },
   "outputs": [],
   "source": [
    "import numpy as np"
   ]
  },
  {
   "cell_type": "code",
   "execution_count": 4,
   "metadata": {
    "collapsed": false
   },
   "outputs": [],
   "source": [
    "import pheno"
   ]
  },
  {
   "cell_type": "code",
   "execution_count": 5,
   "metadata": {
    "collapsed": true
   },
   "outputs": [],
   "source": [
    "from pheno.data.dataset import DataSet"
   ]
  },
  {
   "cell_type": "code",
   "execution_count": 6,
   "metadata": {
    "collapsed": false
   },
   "outputs": [],
   "source": [
    "ds = DataSet('usa_ds3505', 'cherry_dc', translator={\n",
    "    'DC': 724050,\n",
    "}).set(cultivar='Yoshino', stage='Peak Bloom')"
   ]
  },
  {
   "cell_type": "code",
   "execution_count": 7,
   "metadata": {
    "collapsed": true
   },
   "outputs": [],
   "source": [
    "cf = pheno.estimation.ChillingForce(ds)"
   ]
  },
  {
   "cell_type": "code",
   "execution_count": null,
   "metadata": {
    "collapsed": true
   },
   "outputs": [],
   "source": []
  },
  {
   "cell_type": "code",
   "execution_count": 8,
   "metadata": {
    "collapsed": true
   },
   "outputs": [],
   "source": [
    "year_groups = {\n",
    " 0: [1952, 1953, 1955, 1974, 1975],\n",
    " 1: [1958, 1985, 1994, 1999, 2007],\n",
    " 2: [1951, 1962, 1963, 1995, 1996, 2004],\n",
    " 3: [1959, 1961, 1964, 1976, 1984, 1986, 2008],\n",
    " 4: [1944, 1947, 1960, 1968, 1969, 1978, 1979, 1987],\n",
    " 5: [1965, 1980, 1988, 1989, 1992, 1997, 2002],\n",
    " 6: [1941, 1966, 1967, 1977, 1993, 2003, 2009],\n",
    " 7: [1950, 1983, 1991, 1998, 2006],\n",
    " 8: [1940, 1942, 1943, 1948, 1954, 1956, 1957, 1981, 1990, 2001],\n",
    " 9: [1945, 1949, 1982, 2000, 2005]\n",
    "}"
   ]
  },
  {
   "cell_type": "code",
   "execution_count": 9,
   "metadata": {
    "collapsed": false
   },
   "outputs": [
    {
     "name": "stdout",
     "output_type": "stream",
     "text": [
      "Optimization terminated successfully.\n",
      "         Current function value: 4.007632\n",
      "         Iterations: 51\n",
      "         Function evaluations: 135\n",
      "Optimization terminated successfully.\n",
      "         Current function value: 3.551506\n",
      "         Iterations: 45\n",
      "         Function evaluations: 119\n",
      "Optimization terminated successfully.\n",
      "         Current function value: 3.830691\n",
      "         Iterations: 56\n",
      "         Function evaluations: 141\n",
      "Optimization terminated successfully.\n",
      "         Current function value: 4.763036\n",
      "         Iterations: 40\n",
      "         Function evaluations: 114\n",
      "Optimization terminated successfully.\n",
      "         Current function value: 3.495067\n",
      "         Iterations: 59\n",
      "         Function evaluations: 144\n",
      "Optimization terminated successfully.\n",
      "         Current function value: 3.535920\n",
      "         Iterations: 52\n",
      "         Function evaluations: 136\n",
      "Optimization terminated successfully.\n",
      "         Current function value: 3.887142\n",
      "         Iterations: 53\n",
      "         Function evaluations: 138\n",
      "Optimization terminated successfully.\n",
      "         Current function value: 3.031948\n",
      "         Iterations: 57\n",
      "         Function evaluations: 155\n",
      "Optimization terminated successfully.\n",
      "         Current function value: 3.545390\n",
      "         Iterations: 69\n",
      "         Function evaluations: 166\n",
      "Optimization terminated successfully.\n",
      "         Current function value: 3.884174\n",
      "         Iterations: 47\n",
      "         Function evaluations: 128\n"
     ]
    }
   ],
   "source": [
    "coeff_groups = {g: cf.calibrate(year_groups[g], method='nelder-mead') for g in year_groups}"
   ]
  },
  {
   "cell_type": "code",
   "execution_count": null,
   "metadata": {
    "collapsed": true
   },
   "outputs": [],
   "source": []
  },
  {
   "cell_type": "code",
   "execution_count": 10,
   "metadata": {
    "collapsed": false
   },
   "outputs": [
    {
     "data": {
      "text/plain": [
       "{0: datetime.datetime(2015, 4, 10, 21, 0, tzinfo=<DstTzInfo 'US/Eastern' EDT-1 day, 20:00:00 DST>),\n",
       " 1: datetime.datetime(2015, 4, 10, 17, 0, tzinfo=<DstTzInfo 'US/Eastern' EDT-1 day, 20:00:00 DST>),\n",
       " 2: datetime.datetime(2015, 4, 7, 20, 0, tzinfo=<DstTzInfo 'US/Eastern' EDT-1 day, 20:00:00 DST>),\n",
       " 3: datetime.datetime(2015, 4, 12, 13, 0, tzinfo=<DstTzInfo 'US/Eastern' EDT-1 day, 20:00:00 DST>),\n",
       " 4: datetime.datetime(2015, 4, 6, 15, 0, tzinfo=<DstTzInfo 'US/Eastern' EDT-1 day, 20:00:00 DST>),\n",
       " 5: datetime.datetime(2015, 4, 13, 11, 0, tzinfo=<DstTzInfo 'US/Eastern' EDT-1 day, 20:00:00 DST>),\n",
       " 6: datetime.datetime(2015, 4, 11, 5, 0, tzinfo=<DstTzInfo 'US/Eastern' EDT-1 day, 20:00:00 DST>),\n",
       " 7: datetime.datetime(2015, 4, 13, 21, 0, tzinfo=<DstTzInfo 'US/Eastern' EDT-1 day, 20:00:00 DST>),\n",
       " 8: datetime.datetime(2015, 4, 11, 1, 0, tzinfo=<DstTzInfo 'US/Eastern' EDT-1 day, 20:00:00 DST>),\n",
       " 9: datetime.datetime(2015, 4, 6, 17, 0, tzinfo=<DstTzInfo 'US/Eastern' EDT-1 day, 20:00:00 DST>)}"
      ]
     },
     "execution_count": 10,
     "metadata": {},
     "output_type": "execute_result"
    }
   ],
   "source": [
    "{g: cf.estimate(2015, coeff=coeff_groups[g]) for g in year_groups}"
   ]
  },
  {
   "cell_type": "code",
   "execution_count": 11,
   "metadata": {
    "collapsed": false
   },
   "outputs": [
    {
     "data": {
      "text/plain": [
       "{0: 100.875,\n",
       " 1: 100.70833333333333,\n",
       " 2: 97.83333333333333,\n",
       " 3: 102.54166666666667,\n",
       " 4: 96.625,\n",
       " 5: 103.45833333333333,\n",
       " 6: 101.20833333333333,\n",
       " 7: 103.875,\n",
       " 8: 101.04166666666667,\n",
       " 9: 96.70833333333333}"
      ]
     },
     "execution_count": 11,
     "metadata": {},
     "output_type": "execute_result"
    }
   ],
   "source": [
    "{g: cf.estimate(2015, coeff=coeff_groups[g], julian=True) for g in year_groups}"
   ]
  },
  {
   "cell_type": "code",
   "execution_count": 12,
   "metadata": {
    "collapsed": false
   },
   "outputs": [
    {
     "data": {
      "text/plain": [
       "100.44468820221977"
      ]
     },
     "execution_count": 12,
     "metadata": {},
     "output_type": "execute_result"
    }
   ],
   "source": [
    "np.average([cf.estimate(2015, coeff=coeff_groups[g], julian=True) for g in year_groups],\n",
    "           weights=[ 0.09498385,  0.10704749,  0.09913173,  0.10184521,  0.10179117,\n",
    "         0.10126059,  0.1169261 ,  0.08302625,  0.09474539,  0.09924223])"
   ]
  },
  {
   "cell_type": "code",
   "execution_count": null,
   "metadata": {
    "collapsed": true
   },
   "outputs": [],
   "source": []
  },
  {
   "cell_type": "code",
   "execution_count": 13,
   "metadata": {
    "collapsed": false
   },
   "outputs": [
    {
     "data": {
      "text/plain": [
       "{0: datetime.datetime(2014, 4, 8, 17, 0, tzinfo=<DstTzInfo 'US/Eastern' EDT-1 day, 20:00:00 DST>),\n",
       " 1: datetime.datetime(2014, 4, 7, 4, 0, tzinfo=<DstTzInfo 'US/Eastern' EDT-1 day, 20:00:00 DST>),\n",
       " 2: datetime.datetime(2014, 4, 4, 20, 0, tzinfo=<DstTzInfo 'US/Eastern' EDT-1 day, 20:00:00 DST>),\n",
       " 3: datetime.datetime(2014, 4, 10, 11, 0, tzinfo=<DstTzInfo 'US/Eastern' EDT-1 day, 20:00:00 DST>),\n",
       " 4: datetime.datetime(2014, 4, 3, 16, 0, tzinfo=<DstTzInfo 'US/Eastern' EDT-1 day, 20:00:00 DST>),\n",
       " 5: datetime.datetime(2014, 4, 7, 1, 0, tzinfo=<DstTzInfo 'US/Eastern' EDT-1 day, 20:00:00 DST>),\n",
       " 6: datetime.datetime(2014, 4, 8, 10, 0, tzinfo=<DstTzInfo 'US/Eastern' EDT-1 day, 20:00:00 DST>),\n",
       " 7: datetime.datetime(2014, 4, 11, 14, 0, tzinfo=<DstTzInfo 'US/Eastern' EDT-1 day, 20:00:00 DST>),\n",
       " 8: datetime.datetime(2014, 4, 9, 10, 0, tzinfo=<DstTzInfo 'US/Eastern' EDT-1 day, 20:00:00 DST>),\n",
       " 9: datetime.datetime(2014, 3, 31, 18, 0, tzinfo=<DstTzInfo 'US/Eastern' EDT-1 day, 20:00:00 DST>)}"
      ]
     },
     "execution_count": 13,
     "metadata": {},
     "output_type": "execute_result"
    }
   ],
   "source": [
    "{g: cf.estimate(2014, coeff=coeff_groups[g]) for g in year_groups}"
   ]
  },
  {
   "cell_type": "code",
   "execution_count": 14,
   "metadata": {
    "collapsed": false
   },
   "outputs": [
    {
     "data": {
      "text/plain": [
       "{0: 98.70833333333333,\n",
       " 1: 97.16666666666667,\n",
       " 2: 94.83333333333333,\n",
       " 3: 100.45833333333333,\n",
       " 4: 93.66666666666667,\n",
       " 5: 97.04166666666667,\n",
       " 6: 98.41666666666667,\n",
       " 7: 101.58333333333333,\n",
       " 8: 99.41666666666667,\n",
       " 9: 90.75}"
      ]
     },
     "execution_count": 14,
     "metadata": {},
     "output_type": "execute_result"
    }
   ],
   "source": [
    "{g: cf.estimate(2014, coeff=coeff_groups[g], julian=True) for g in year_groups}"
   ]
  },
  {
   "cell_type": "code",
   "execution_count": 15,
   "metadata": {
    "collapsed": false
   },
   "outputs": [
    {
     "data": {
      "text/plain": [
       "97.206088973750013"
      ]
     },
     "execution_count": 15,
     "metadata": {},
     "output_type": "execute_result"
    }
   ],
   "source": [
    "np.average([cf.estimate(2014, coeff=coeff_groups[g], julian=True) for g in year_groups],\n",
    "           weights=[ 0.10629536,  0.09405369,  0.1062217 ,  0.10165912,  0.0962553 ,\n",
    "         0.09128461,  0.10378265,  0.09839119,  0.10030571,  0.10175067])"
   ]
  },
  {
   "cell_type": "code",
   "execution_count": null,
   "metadata": {
    "collapsed": true
   },
   "outputs": [],
   "source": []
  },
  {
   "cell_type": "code",
   "execution_count": 17,
   "metadata": {
    "collapsed": false
   },
   "outputs": [
    {
     "data": {
      "text/plain": [
       "{0: datetime.datetime(2013, 4, 12, 20, 0, tzinfo=<DstTzInfo 'US/Eastern' EDT-1 day, 20:00:00 DST>),\n",
       " 1: datetime.datetime(2013, 4, 11, 6, 0, tzinfo=<DstTzInfo 'US/Eastern' EDT-1 day, 20:00:00 DST>),\n",
       " 2: datetime.datetime(2013, 4, 10, 15, 0, tzinfo=<DstTzInfo 'US/Eastern' EDT-1 day, 20:00:00 DST>),\n",
       " 3: datetime.datetime(2013, 4, 14, 5, 0, tzinfo=<DstTzInfo 'US/Eastern' EDT-1 day, 20:00:00 DST>),\n",
       " 4: datetime.datetime(2013, 4, 10, 16, 0, tzinfo=<DstTzInfo 'US/Eastern' EDT-1 day, 20:00:00 DST>),\n",
       " 5: datetime.datetime(2013, 4, 11, 19, 0, tzinfo=<DstTzInfo 'US/Eastern' EDT-1 day, 20:00:00 DST>),\n",
       " 6: datetime.datetime(2013, 4, 11, 15, 0, tzinfo=<DstTzInfo 'US/Eastern' EDT-1 day, 20:00:00 DST>),\n",
       " 7: datetime.datetime(2013, 4, 14, 12, 0, tzinfo=<DstTzInfo 'US/Eastern' EDT-1 day, 20:00:00 DST>),\n",
       " 8: None,\n",
       " 9: datetime.datetime(2013, 4, 10, 17, 0, tzinfo=<DstTzInfo 'US/Eastern' EDT-1 day, 20:00:00 DST>)}"
      ]
     },
     "execution_count": 17,
     "metadata": {},
     "output_type": "execute_result"
    }
   ],
   "source": [
    "{g: cf.estimate_safely(2013, coeff=coeff_groups[g]) for g in year_groups}"
   ]
  },
  {
   "cell_type": "code",
   "execution_count": 18,
   "metadata": {
    "collapsed": false
   },
   "outputs": [
    {
     "data": {
      "text/plain": [
       "{0: 102.83333333333333,\n",
       " 1: 101.25,\n",
       " 2: 100.625,\n",
       " 3: 104.20833333333333,\n",
       " 4: 100.66666666666667,\n",
       " 5: 101.79166666666667,\n",
       " 6: 101.625,\n",
       " 7: 104.5,\n",
       " 8: 0,\n",
       " 9: 100.70833333333333}"
      ]
     },
     "execution_count": 18,
     "metadata": {},
     "output_type": "execute_result"
    }
   ],
   "source": [
    "{g: cf.estimate_safely(2013, coeff=coeff_groups[g], julian=True) for g in year_groups}"
   ]
  },
  {
   "cell_type": "code",
   "execution_count": null,
   "metadata": {
    "collapsed": false
   },
   "outputs": [],
   "source": [
    "#np.average([cf.estimate(2013, coeff=coeff_groups[g], julian=True) for g in year_groups],\n",
    "           weights=[ 0.11165949,  0.10023267,  0.08229006,  0.09844445,  0.10211626,\n",
    "         0.11908929,  0.09301055,  0.10065207,  0.10029489,  0.09221027])"
   ]
  },
  {
   "cell_type": "code",
   "execution_count": null,
   "metadata": {
    "collapsed": true
   },
   "outputs": [],
   "source": []
  },
  {
   "cell_type": "code",
   "execution_count": 19,
   "metadata": {
    "collapsed": false
   },
   "outputs": [
    {
     "data": {
      "text/plain": [
       "{0: datetime.datetime(2012, 3, 20, 10, 0, tzinfo=<DstTzInfo 'US/Eastern' EDT-1 day, 20:00:00 DST>),\n",
       " 1: datetime.datetime(2012, 3, 15, 19, 0, tzinfo=<DstTzInfo 'US/Eastern' EDT-1 day, 20:00:00 DST>),\n",
       " 2: datetime.datetime(2012, 3, 14, 19, 0, tzinfo=<DstTzInfo 'US/Eastern' EDT-1 day, 20:00:00 DST>),\n",
       " 3: datetime.datetime(2012, 3, 21, 9, 0, tzinfo=<DstTzInfo 'US/Eastern' EDT-1 day, 20:00:00 DST>),\n",
       " 4: datetime.datetime(2012, 3, 17, 7, 0, tzinfo=<DstTzInfo 'US/Eastern' EDT-1 day, 20:00:00 DST>),\n",
       " 5: datetime.datetime(2012, 3, 17, 2, 0, tzinfo=<DstTzInfo 'US/Eastern' EDT-1 day, 20:00:00 DST>),\n",
       " 6: datetime.datetime(2012, 3, 16, 12, 0, tzinfo=<DstTzInfo 'US/Eastern' EDT-1 day, 20:00:00 DST>),\n",
       " 7: datetime.datetime(2012, 3, 19, 12, 0, tzinfo=<DstTzInfo 'US/Eastern' EDT-1 day, 20:00:00 DST>),\n",
       " 8: None,\n",
       " 9: datetime.datetime(2012, 3, 12, 7, 0, tzinfo=<DstTzInfo 'US/Eastern' EDT-1 day, 20:00:00 DST>)}"
      ]
     },
     "execution_count": 19,
     "metadata": {},
     "output_type": "execute_result"
    }
   ],
   "source": [
    "{g: cf.estimate_safely(2012, coeff=coeff_groups[g]) for g in year_groups}"
   ]
  },
  {
   "cell_type": "code",
   "execution_count": 20,
   "metadata": {
    "collapsed": false
   },
   "outputs": [
    {
     "data": {
      "text/plain": [
       "{0: 80.41666666666667,\n",
       " 1: 75.79166666666667,\n",
       " 2: 74.79166666666667,\n",
       " 3: 81.375,\n",
       " 4: 77.29166666666667,\n",
       " 5: 77.08333333333333,\n",
       " 6: 76.5,\n",
       " 7: 79.5,\n",
       " 8: 0,\n",
       " 9: 72.29166666666667}"
      ]
     },
     "execution_count": 20,
     "metadata": {},
     "output_type": "execute_result"
    }
   ],
   "source": [
    "{g: cf.estimate_safely(2012, coeff=coeff_groups[g], julian=True) for g in year_groups}"
   ]
  },
  {
   "cell_type": "code",
   "execution_count": null,
   "metadata": {
    "collapsed": true
   },
   "outputs": [],
   "source": [
    "#np.average([cf.estimate(2013, coeff=coeff_groups[g], julian=True) for g in year_groups],\n",
    "           weights=[ 0.10692213,  0.10007378,  0.09551677,  0.10732289,  0.09695218,\n",
    "         0.09683776,  0.08963344,  0.10999009,  0.10153293,  0.09521803])"
   ]
  },
  {
   "cell_type": "code",
   "execution_count": null,
   "metadata": {
    "collapsed": true
   },
   "outputs": [],
   "source": []
  },
  {
   "cell_type": "code",
   "execution_count": 21,
   "metadata": {
    "collapsed": false
   },
   "outputs": [
    {
     "data": {
      "text/plain": [
       "{0: datetime.datetime(2011, 4, 6, 11, 0, tzinfo=<DstTzInfo 'US/Eastern' EDT-1 day, 20:00:00 DST>),\n",
       " 1: datetime.datetime(2011, 4, 5, 15, 0, tzinfo=<DstTzInfo 'US/Eastern' EDT-1 day, 20:00:00 DST>),\n",
       " 2: datetime.datetime(2011, 4, 4, 15, 0, tzinfo=<DstTzInfo 'US/Eastern' EDT-1 day, 20:00:00 DST>),\n",
       " 3: datetime.datetime(2011, 4, 8, 13, 0, tzinfo=<DstTzInfo 'US/Eastern' EDT-1 day, 20:00:00 DST>),\n",
       " 4: datetime.datetime(2011, 3, 27, 15, 0, tzinfo=<DstTzInfo 'US/Eastern' EDT-1 day, 20:00:00 DST>),\n",
       " 5: datetime.datetime(2011, 4, 12, 5, 0, tzinfo=<DstTzInfo 'US/Eastern' EDT-1 day, 20:00:00 DST>),\n",
       " 6: datetime.datetime(2011, 4, 7, 1, 0, tzinfo=<DstTzInfo 'US/Eastern' EDT-1 day, 20:00:00 DST>),\n",
       " 7: datetime.datetime(2011, 4, 12, 2, 0, tzinfo=<DstTzInfo 'US/Eastern' EDT-1 day, 20:00:00 DST>),\n",
       " 8: datetime.datetime(2011, 4, 4, 17, 0, tzinfo=<DstTzInfo 'US/Eastern' EDT-1 day, 20:00:00 DST>),\n",
       " 9: datetime.datetime(2011, 4, 10, 18, 0, tzinfo=<DstTzInfo 'US/Eastern' EDT-1 day, 20:00:00 DST>)}"
      ]
     },
     "execution_count": 21,
     "metadata": {},
     "output_type": "execute_result"
    }
   ],
   "source": [
    "{g: cf.estimate_safely(2011, coeff=coeff_groups[g]) for g in year_groups}"
   ]
  },
  {
   "cell_type": "code",
   "execution_count": 22,
   "metadata": {
    "collapsed": false
   },
   "outputs": [
    {
     "data": {
      "text/plain": [
       "{0: 96.45833333333333,\n",
       " 1: 95.625,\n",
       " 2: 94.625,\n",
       " 3: 98.54166666666667,\n",
       " 4: 86.625,\n",
       " 5: 102.20833333333333,\n",
       " 6: 97.04166666666667,\n",
       " 7: 102.08333333333333,\n",
       " 8: 94.70833333333333,\n",
       " 9: 100.75}"
      ]
     },
     "execution_count": 22,
     "metadata": {},
     "output_type": "execute_result"
    }
   ],
   "source": [
    "{g: cf.estimate_safely(2011, coeff=coeff_groups[g], julian=True) for g in year_groups}"
   ]
  },
  {
   "cell_type": "code",
   "execution_count": 23,
   "metadata": {
    "collapsed": false
   },
   "outputs": [
    {
     "data": {
      "text/plain": [
       "96.918618941250003"
      ]
     },
     "execution_count": 23,
     "metadata": {},
     "output_type": "execute_result"
    }
   ],
   "source": [
    "np.average([cf.estimate(2011, coeff=coeff_groups[g], julian=True) for g in year_groups],\n",
    "           weights=[ 0.10080298,  0.09758138,  0.11235155,  0.0974939 ,  0.09080339,\n",
    "         0.09913896,  0.10182296,  0.09672116,  0.10072705,  0.10255667])"
   ]
  },
  {
   "cell_type": "code",
   "execution_count": null,
   "metadata": {
    "collapsed": true
   },
   "outputs": [],
   "source": []
  },
  {
   "cell_type": "code",
   "execution_count": 24,
   "metadata": {
    "collapsed": false
   },
   "outputs": [
    {
     "data": {
      "text/plain": [
       "{0: datetime.datetime(2010, 4, 1, 6, 0, tzinfo=<DstTzInfo 'US/Eastern' EDT-1 day, 20:00:00 DST>),\n",
       " 1: datetime.datetime(2010, 3, 31, 22, 0, tzinfo=<DstTzInfo 'US/Eastern' EDT-1 day, 20:00:00 DST>),\n",
       " 2: datetime.datetime(2010, 3, 30, 6, 0, tzinfo=<DstTzInfo 'US/Eastern' EDT-1 day, 20:00:00 DST>),\n",
       " 3: datetime.datetime(2010, 4, 2, 11, 0, tzinfo=<DstTzInfo 'US/Eastern' EDT-1 day, 20:00:00 DST>),\n",
       " 4: datetime.datetime(2010, 3, 26, 5, 0, tzinfo=<DstTzInfo 'US/Eastern' EDT-1 day, 20:00:00 DST>),\n",
       " 5: datetime.datetime(2010, 4, 3, 22, 0, tzinfo=<DstTzInfo 'US/Eastern' EDT-1 day, 20:00:00 DST>),\n",
       " 6: datetime.datetime(2010, 4, 1, 15, 0, tzinfo=<DstTzInfo 'US/Eastern' EDT-1 day, 20:00:00 DST>),\n",
       " 7: datetime.datetime(2010, 4, 4, 10, 0, tzinfo=<DstTzInfo 'US/Eastern' EDT-1 day, 20:00:00 DST>),\n",
       " 8: datetime.datetime(2010, 4, 1, 23, 0, tzinfo=<DstTzInfo 'US/Eastern' EDT-1 day, 20:00:00 DST>),\n",
       " 9: datetime.datetime(2010, 4, 1, 21, 0, tzinfo=<DstTzInfo 'US/Eastern' EDT-1 day, 20:00:00 DST>)}"
      ]
     },
     "execution_count": 24,
     "metadata": {},
     "output_type": "execute_result"
    }
   ],
   "source": [
    "{g: cf.estimate_safely(2010, coeff=coeff_groups[g]) for g in year_groups}"
   ]
  },
  {
   "cell_type": "code",
   "execution_count": 25,
   "metadata": {
    "collapsed": false
   },
   "outputs": [
    {
     "data": {
      "text/plain": [
       "{0: 91.25,\n",
       " 1: 90.91666666666667,\n",
       " 2: 89.25,\n",
       " 3: 92.45833333333333,\n",
       " 4: 85.20833333333333,\n",
       " 5: 93.91666666666667,\n",
       " 6: 91.625,\n",
       " 7: 94.41666666666667,\n",
       " 8: 91.95833333333333,\n",
       " 9: 91.875}"
      ]
     },
     "execution_count": 25,
     "metadata": {},
     "output_type": "execute_result"
    }
   ],
   "source": [
    "{g: cf.estimate_safely(2010, coeff=coeff_groups[g], julian=True) for g in year_groups}"
   ]
  },
  {
   "cell_type": "code",
   "execution_count": 26,
   "metadata": {
    "collapsed": false
   },
   "outputs": [
    {
     "data": {
      "text/plain": [
       "91.186818288750018"
      ]
     },
     "execution_count": 26,
     "metadata": {},
     "output_type": "execute_result"
    }
   ],
   "source": [
    "np.average([cf.estimate(2010, coeff=coeff_groups[g], julian=True) for g in year_groups],\n",
    "           weights=[ 0.10208197,  0.09682666,  0.10275545,  0.09562427,  0.10737038,\n",
    "         0.09147678,  0.10674735,  0.09064707,  0.09232332,  0.11414675])"
   ]
  }
 ],
 "metadata": {
  "kernelspec": {
   "display_name": "Python 3",
   "language": "python",
   "name": "python3"
  },
  "language_info": {
   "codemirror_mode": {
    "name": "ipython",
    "version": 3
   },
   "file_extension": ".py",
   "mimetype": "text/x-python",
   "name": "python",
   "nbconvert_exporter": "python",
   "pygments_lexer": "ipython3",
   "version": "3.5.1"
  }
 },
 "nbformat": 4,
 "nbformat_minor": 0
}
