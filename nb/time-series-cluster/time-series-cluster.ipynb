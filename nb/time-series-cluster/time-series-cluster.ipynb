{
 "cells": [
  {
   "cell_type": "code",
   "execution_count": 1,
   "metadata": {
    "collapsed": true
   },
   "outputs": [],
   "source": [
    "%matplotlib inline"
   ]
  },
  {
   "cell_type": "code",
   "execution_count": 2,
   "metadata": {
    "collapsed": true
   },
   "outputs": [],
   "source": [
    "import numpy as np\n",
    "import pandas as pd\n",
    "import seaborn as sns\n",
    "import matplotlib.pyplot as plt\n",
    "import sklearn.covariance\n",
    "import sklearn.cluster\n",
    "import datetime\n",
    "import fastdtw"
   ]
  },
  {
   "cell_type": "code",
   "execution_count": null,
   "metadata": {
    "collapsed": true
   },
   "outputs": [],
   "source": []
  },
  {
   "cell_type": "code",
   "execution_count": 3,
   "metadata": {
    "collapsed": false
   },
   "outputs": [],
   "source": [
    "met = pd.read_hdf('../../input/df/met/usa_ds3505.h5').loc[724050]"
   ]
  },
  {
   "cell_type": "code",
   "execution_count": 4,
   "metadata": {
    "collapsed": true
   },
   "outputs": [],
   "source": [
    "obs = pd.read_hdf('../../input/df/obs/cherry_dc.h5').loc['DC']"
   ]
  },
  {
   "cell_type": "code",
   "execution_count": 5,
   "metadata": {
    "collapsed": false
   },
   "outputs": [],
   "source": [
    "#years = list(range(1940, 2010))\n",
    "years = list(set(range(1940, 2010)) - set([1946, 1970, 1971, 1972, 1973]))"
   ]
  },
  {
   "cell_type": "code",
   "execution_count": 6,
   "metadata": {
    "collapsed": true
   },
   "outputs": [],
   "source": [
    "def timeseries(year, length=5000, s=met.tavg):\n",
    "    t = datetime.date(year-1, 10, 1)\n",
    "    return np.array(s.loc[t:][:length])"
   ]
  },
  {
   "cell_type": "code",
   "execution_count": 7,
   "metadata": {
    "collapsed": true
   },
   "outputs": [],
   "source": [
    "def timeseriess(years, length=5000, s=met.tavg):\n",
    "    return np.array([timeseries(y, length, s) for y in years])"
   ]
  },
  {
   "cell_type": "code",
   "execution_count": 8,
   "metadata": {
    "collapsed": false
   },
   "outputs": [],
   "source": [
    "def timeframe(year, length=5000, s=met.tavg, to_dict=False):\n",
    "    t = datetime.date(year-1, 10, 1)\n",
    "    hows = ['mean', 'min', 'max']\n",
    "    a = np.array([s.loc[t:][:length].resample('D', how=h) for h in hows])\n",
    "    if to_dict:\n",
    "        return dict(zip(hows, a))\n",
    "    else:\n",
    "        return a.T"
   ]
  },
  {
   "cell_type": "code",
   "execution_count": 9,
   "metadata": {
    "collapsed": true
   },
   "outputs": [],
   "source": [
    "def timeframes(years, length=5000, s=met.tavg):\n",
    "    return np.array([timeframe(y, length, s).flatten() for y in years])"
   ]
  },
  {
   "cell_type": "code",
   "execution_count": 10,
   "metadata": {
    "collapsed": false
   },
   "outputs": [],
   "source": [
    "def affinity_matrix_hourly(years, length=5000, s=met.tavg):\n",
    "    n = len(years)\n",
    "    M = np.zeros(n*n).reshape(n, n)\n",
    "    for (i, yi) in enumerate(years):\n",
    "        ai = timeseries(yi, length, s)\n",
    "        for (j, yj) in enumerate(years):\n",
    "            if i == j:\n",
    "                M[i, j] = 1\n",
    "            else:\n",
    "                aj = timeseries(yj, length, s)\n",
    "                d = fastdtw.fastdtw(ai, aj, radius=1)[0]\n",
    "                M[i, j] = M[j, i] = 1/d\n",
    "    return M"
   ]
  },
  {
   "cell_type": "code",
   "execution_count": 11,
   "metadata": {
    "collapsed": true
   },
   "outputs": [],
   "source": [
    "def affinity_matrix_daily(years, length=5000, s=met.tavg):\n",
    "    n = len(years)\n",
    "    M = np.zeros(n*n).reshape(n, n)\n",
    "    for (i, yi) in enumerate(years):\n",
    "        ai = timeframe(yi, length, s)\n",
    "        for (j, yj) in enumerate(years):\n",
    "            if i == j:\n",
    "                M[i, j] = 1\n",
    "            else:\n",
    "                aj = timeframe(yj, length, s)\n",
    "                d = fastdtw.fastdtw(ai, aj, radius=1, dist=lambda x, y: sum((x - y)**2)**0.5)[0]\n",
    "                M[i, j] = M[j, i] = 1/d\n",
    "    return M"
   ]
  },
  {
   "cell_type": "code",
   "execution_count": 12,
   "metadata": {
    "collapsed": true
   },
   "outputs": [],
   "source": [
    "def affinity_matrix_daily_mean(years, length=5000, s=met.tavg):\n",
    "    n = len(years)\n",
    "    M = np.zeros(n*n).reshape(n, n)\n",
    "    for (i, yi) in enumerate(years):\n",
    "        ai = timeframe(yi, length, s, to_dict=True)['mean']\n",
    "        for (j, yj) in enumerate(years):\n",
    "            if i == j:\n",
    "                M[i, j] = 1\n",
    "            else:\n",
    "                aj = timeframe(yj, length, s, to_dict=True)['mean']\n",
    "                d = fastdtw.fastdtw(ai, aj, radius=1)[0]\n",
    "                M[i, j] = M[j, i] = 1/d\n",
    "    return M"
   ]
  },
  {
   "cell_type": "code",
   "execution_count": 13,
   "metadata": {
    "collapsed": true
   },
   "outputs": [],
   "source": [
    "def affinity_matrix_daily_diff(years, length=5000, s=met.tavg):\n",
    "    n = len(years)\n",
    "    M = np.zeros(n*n).reshape(n, n)\n",
    "    am = np.array([timeframe(y, length, s, to_dict=True)['mean'] for y in years]).mean(axis=0)\n",
    "    for (i, yi) in enumerate(years):\n",
    "        ai = timeframe(yi, length, s, to_dict=True)['mean'] - am\n",
    "        for (j, yj) in enumerate(years):\n",
    "            if i == j:\n",
    "                M[i, j] = 1\n",
    "            else:\n",
    "                aj = timeframe(yj, length, s, to_dict=True)['mean'] - am\n",
    "                d = fastdtw.fastdtw(ai, aj, radius=1)[0]\n",
    "                M[i, j] = M[j, i] = 1/d\n",
    "    return M"
   ]
  },
  {
   "cell_type": "code",
   "execution_count": 14,
   "metadata": {
    "collapsed": true
   },
   "outputs": [],
   "source": [
    "def affinity_matrix_daily_cumulative_residual(years, length=5000, s=met.tavg):\n",
    "    n = len(years)\n",
    "    M = np.zeros(n*n).reshape(n, n)\n",
    "    am = np.array([timeframe(y, length, s, to_dict=True)['mean'] for y in years]).mean(axis=0)\n",
    "    def a(y):\n",
    "        ad = timeframe(y, length, s, to_dict=True)['mean'] - am\n",
    "        return np.array([ad.clip(min=0).cumsum(), ad.clip(max=0).cumsum()]).T\n",
    "    for (i, yi) in enumerate(years):\n",
    "        ai = a(yi)\n",
    "        for (j, yj) in enumerate(years):\n",
    "            if i == j:\n",
    "                M[i, j] = 1\n",
    "            else:\n",
    "                aj = a(yj)\n",
    "                d = fastdtw.fastdtw(ai, aj, radius=1, dist=lambda x, y: sum((x - y)**2)**0.5)[0]\n",
    "                M[i, j] = M[j, i] = 1/d\n",
    "    return M"
   ]
  },
  {
   "cell_type": "code",
   "execution_count": 15,
   "metadata": {
    "collapsed": true
   },
   "outputs": [],
   "source": [
    "def affinity_matrix_daily_cumulative_diff(years, length=5000, s=met.tavg):\n",
    "    n = len(years)\n",
    "    M = np.zeros(n*n).reshape(n, n)\n",
    "    def a(y):\n",
    "        tf = timeframe(y, length, s, to_dict=True)['mean']\n",
    "        ad = tf[:-1] - tf[1:]\n",
    "        return np.array([ad.clip(min=0).cumsum(), ad.clip(max=0).cumsum()]).T\n",
    "    for (i, yi) in enumerate(years):\n",
    "        ai = a(yi)\n",
    "        for (j, yj) in enumerate(years):\n",
    "            if i == j:\n",
    "                M[i, j] = 1\n",
    "            else:\n",
    "                aj = a(yj)\n",
    "                d = fastdtw.fastdtw(ai, aj, radius=1, dist=lambda x, y: sum((x - y)**2)**0.5)[0]\n",
    "                M[i, j] = M[j, i] = 1/d\n",
    "    return M"
   ]
  },
  {
   "cell_type": "code",
   "execution_count": 16,
   "metadata": {
    "collapsed": true
   },
   "outputs": [],
   "source": [
    "def affinity_matrix_hourly_cumulative_residual(years, length=5000, s=met.tavg):\n",
    "    n = len(years)\n",
    "    M = np.zeros(n*n).reshape(n, n)\n",
    "    am = np.array([timeseries(y, length, s) for y in years]).mean(axis=0)\n",
    "    def a(y):\n",
    "        ad = timeseries(y, length, s) - am\n",
    "        return np.array([ad.clip(min=0).cumsum(), ad.clip(max=0).cumsum()]).T\n",
    "    for (i, yi) in enumerate(years):\n",
    "        ai = a(yi)\n",
    "        for (j, yj) in enumerate(years):\n",
    "            if i == j:\n",
    "                M[i, j] = 1\n",
    "            else:\n",
    "                aj = a(yj)\n",
    "                d = fastdtw.fastdtw(ai, aj, radius=1, dist=lambda x, y: sum((x - y)**2)**0.5)[0]\n",
    "                M[i, j] = M[j, i] = 1/d\n",
    "    return M"
   ]
  },
  {
   "cell_type": "code",
   "execution_count": 17,
   "metadata": {
    "collapsed": true
   },
   "outputs": [],
   "source": [
    "def covariance_matrix(years, length=5000, s=met.tavg):\n",
    "    X = np.array([timeseries(y, length, s) for y in years])\n",
    "    cov = sklearn.covariance.GraphLassoCV()\n",
    "    cov.fit(X.T)\n",
    "    return cov.covariance_"
   ]
  },
  {
   "cell_type": "code",
   "execution_count": 18,
   "metadata": {
    "collapsed": true
   },
   "outputs": [],
   "source": [
    "def correlation_matrix(years, length=5000, s=met.tavg):\n",
    "    n = len(years)\n",
    "    M = np.zeros(n*n).reshape(n, n)\n",
    "    for (i, yi) in enumerate(years):\n",
    "        ai = pd.Series(timeseries(yi, length, s))\n",
    "        for (j, yj) in enumerate(years):\n",
    "            aj = pd.Series(timeseries(yj, length, s))\n",
    "            M[i, j] = M[j, i] = ai.corr(aj)\n",
    "    return M"
   ]
  },
  {
   "cell_type": "code",
   "execution_count": 19,
   "metadata": {
    "collapsed": false
   },
   "outputs": [],
   "source": [
    "def timefeature(year, length=5000, s=met.tavg, to_dict=False):\n",
    "    t = datetime.date(year-1, 10, 1)\n",
    "    df = s.loc[t:][:length]\n",
    "    def feature(h):\n",
    "        v = df.resample('M', h).tolist()\n",
    "        if to_dict:\n",
    "            k = ['t{}{}'.format(h, i) for i in range(len(v))]\n",
    "            return dict(zip(k, v))\n",
    "        else:\n",
    "            return v\n",
    "    fs = [feature(h) for h in {'mean', 'min', 'max'}]\n",
    "    if to_dict:\n",
    "        d = {}\n",
    "        [d.update(f) for f in fs]\n",
    "        return d\n",
    "    else:\n",
    "        return sum(fs, [])"
   ]
  },
  {
   "cell_type": "code",
   "execution_count": 20,
   "metadata": {
    "collapsed": true
   },
   "outputs": [],
   "source": [
    "def affinity_matrix_feature(years, length=5000, s=met.tavg):\n",
    "    X = np.array([timefeature(y) for y in years])\n",
    "    return sklearn.metrics.pairwise_distances(X)"
   ]
  },
  {
   "cell_type": "code",
   "execution_count": null,
   "metadata": {
    "collapsed": true
   },
   "outputs": [],
   "source": []
  },
  {
   "cell_type": "code",
   "execution_count": 21,
   "metadata": {
    "collapsed": true
   },
   "outputs": [],
   "source": [
    "import scipy.signal"
   ]
  },
  {
   "cell_type": "code",
   "execution_count": 22,
   "metadata": {
    "collapsed": false
   },
   "outputs": [
    {
     "data": {
      "image/png": "[encoded data removed]",
      "text/plain": [
       "<matplotlib.figure.Figure at 0x116434eb8>"
      ]
     },
     "metadata": {},
     "output_type": "display_data"
    }
   ],
   "source": [
    "for y in years:\n",
    "    plt.semilogx(*scipy.signal.periodogram(timeseries(y)))"
   ]
  },
  {
   "cell_type": "code",
   "execution_count": null,
   "metadata": {
    "collapsed": true
   },
   "outputs": [],
   "source": []
  },
  {
   "cell_type": "code",
   "execution_count": null,
   "metadata": {
    "collapsed": true
   },
   "outputs": [],
   "source": []
  },
  {
   "cell_type": "code",
   "execution_count": null,
   "metadata": {
    "collapsed": true
   },
   "outputs": [],
   "source": []
  },
  {
   "cell_type": "code",
   "execution_count": null,
   "metadata": {
    "collapsed": true
   },
   "outputs": [],
   "source": []
  },
  {
   "cell_type": "code",
   "execution_count": 23,
   "metadata": {
    "collapsed": false
   },
   "outputs": [],
   "source": [
    "#M = affinity_matrix_daily(years)\n",
    "#M = affinity_matrix_hourly(years)\n",
    "M = correlation_matrix(years)\n",
    "af = sklearn.cluster.AffinityPropagation(affinity='precomputed').fit(M)"
   ]
  },
  {
   "cell_type": "code",
   "execution_count": 24,
   "metadata": {
    "collapsed": false
   },
   "outputs": [
    {
     "data": {
      "text/plain": [
       "array([ 0,  1,  2,  3,  4,  5,  6,  7,  8,  9, 10])"
      ]
     },
     "execution_count": 24,
     "metadata": {},
     "output_type": "execute_result"
    }
   ],
   "source": [
    "groups = np.unique(af.labels_)\n",
    "groups"
   ]
  },
  {
   "cell_type": "code",
   "execution_count": null,
   "metadata": {
    "collapsed": true
   },
   "outputs": [],
   "source": []
  },
  {
   "cell_type": "code",
   "execution_count": 25,
   "metadata": {
    "collapsed": true
   },
   "outputs": [],
   "source": [
    "mask = np.zeros_like(M, dtype=np.bool)\n",
    "mask[np.triu_indices_from(mask)] = True"
   ]
  },
  {
   "cell_type": "code",
   "execution_count": 26,
   "metadata": {
    "collapsed": false
   },
   "outputs": [
    {
     "data": {
      "text/plain": [
       "0.71511374179813947"
      ]
     },
     "execution_count": 26,
     "metadata": {},
     "output_type": "execute_result"
    }
   ],
   "source": [
    "np.ma.array(M, mask=mask).max()"
   ]
  },
  {
   "cell_type": "code",
   "execution_count": 27,
   "metadata": {
    "collapsed": false
   },
   "outputs": [
    {
     "data": {
      "text/plain": [
       "0.32242378704776636"
      ]
     },
     "execution_count": 27,
     "metadata": {},
     "output_type": "execute_result"
    }
   ],
   "source": [
    "M.min()"
   ]
  },
  {
   "cell_type": "code",
   "execution_count": 28,
   "metadata": {
    "collapsed": false
   },
   "outputs": [
    {
     "data": {
      "text/plain": [
       "<matplotlib.axes._subplots.AxesSubplot at 0x117887240>"
      ]
     },
     "execution_count": 28,
     "metadata": {},
     "output_type": "execute_result"
    },
    {
     "data": {
      "image/png": "[encoded data removed]",
      "text/plain": [
       "<matplotlib.figure.Figure at 0x1179512b0>"
      ]
     },
     "metadata": {},
     "output_type": "display_data"
    }
   ],
   "source": [
    "sns.set(style='white')\n",
    "sns.heatmap(M, mask=mask, vmax=np.ma.array(M, mask=mask).max(), vmin=M.min())"
   ]
  },
  {
   "cell_type": "code",
   "execution_count": null,
   "metadata": {
    "collapsed": true
   },
   "outputs": [],
   "source": []
  },
  {
   "cell_type": "code",
   "execution_count": 29,
   "metadata": {
    "collapsed": false
   },
   "outputs": [],
   "source": [
    "DM = 1/M\n",
    "np.fill_diagonal(DM, 0)\n",
    "D = scipy.spatial.distance.squareform(DM)"
   ]
  },
  {
   "cell_type": "code",
   "execution_count": 30,
   "metadata": {
    "collapsed": false
   },
   "outputs": [
    {
     "data": {
      "text/plain": [
       "{'color_list': ['b',\n",
       "  'b',\n",
       "  'b',\n",
       "  'b',\n",
       "  'b',\n",
       "  'b',\n",
       "  'b',\n",
       "  'b',\n",
       "  'b',\n",
       "  'b',\n",
       "  'b',\n",
       "  'b',\n",
       "  'b',\n",
       "  'b',\n",
       "  'b',\n",
       "  'b',\n",
       "  'b',\n",
       "  'b',\n",
       "  'b',\n",
       "  'b',\n",
       "  'b',\n",
       "  'b',\n",
       "  'b',\n",
       "  'b',\n",
       "  'b',\n",
       "  'b',\n",
       "  'b',\n",
       "  'b',\n",
       "  'b',\n",
       "  'b',\n",
       "  'b',\n",
       "  'b',\n",
       "  'b',\n",
       "  'b',\n",
       "  'b',\n",
       "  'b',\n",
       "  'b',\n",
       "  'b',\n",
       "  'b',\n",
       "  'b',\n",
       "  'b',\n",
       "  'b',\n",
       "  'b',\n",
       "  'b',\n",
       "  'b',\n",
       "  'b',\n",
       "  'b',\n",
       "  'b',\n",
       "  'b',\n",
       "  'b',\n",
       "  'b',\n",
       "  'b',\n",
       "  'b',\n",
       "  'b',\n",
       "  'b',\n",
       "  'b',\n",
       "  'b',\n",
       "  'b',\n",
       "  'b',\n",
       "  'b',\n",
       "  'b',\n",
       "  'b',\n",
       "  'b',\n",
       "  'b'],\n",
       " 'dcoord': [[0.0, 1.613201320751791, 1.613201320751791, 0.0],\n",
       "  [0.0, 1.5311837790994287, 1.5311837790994287, 0.0],\n",
       "  [0.0, 1.5192479646897485, 1.5192479646897485, 0.0],\n",
       "  [0.0, 1.4820651346905913, 1.4820651346905913, 0.0],\n",
       "  [0.0, 1.4196592621266277, 1.4196592621266277, 0.0],\n",
       "  [0.0, 1.4850051191206839, 1.4850051191206839, 1.4196592621266277],\n",
       "  [0.0, 1.4859363701789614, 1.4859363701789614, 1.4850051191206839],\n",
       "  [1.4820651346905913,\n",
       "   1.4969944059132114,\n",
       "   1.4969944059132114,\n",
       "   1.4859363701789614],\n",
       "  [0.0, 1.3983789452647346, 1.3983789452647346, 0.0],\n",
       "  [0.0, 1.4439874194182745, 1.4439874194182745, 0.0],\n",
       "  [0.0, 1.425017815896076, 1.425017815896076, 0.0],\n",
       "  [0.0, 1.4456594285228976, 1.4456594285228976, 1.425017815896076],\n",
       "  [0.0, 1.4497695504203794, 1.4497695504203794, 1.4456594285228976],\n",
       "  [0.0, 1.4599387256954599, 1.4599387256954599, 1.4497695504203794],\n",
       "  [1.4439874194182745,\n",
       "   1.4650043931633465,\n",
       "   1.4650043931633465,\n",
       "   1.4599387256954599],\n",
       "  [0.0, 1.4663141718872301, 1.4663141718872301, 1.4650043931633465],\n",
       "  [0.0, 1.4919320743469808, 1.4919320743469808, 1.4663141718872301],\n",
       "  [0.0, 1.489704224081146, 1.489704224081146, 0.0],\n",
       "  [0.0, 1.4962551516289109, 1.4962551516289109, 1.489704224081146],\n",
       "  [0.0, 1.5013010433864553, 1.5013010433864553, 1.4962551516289109],\n",
       "  [0.0, 1.5031264673185971, 1.5031264673185971, 1.5013010433864553],\n",
       "  [1.4919320743469808,\n",
       "   1.5045334060002893,\n",
       "   1.5045334060002893,\n",
       "   1.5031264673185971],\n",
       "  [1.3983789452647346,\n",
       "   1.5079775912618891,\n",
       "   1.5079775912618891,\n",
       "   1.5045334060002893],\n",
       "  [0.0, 1.4772936206893941, 1.4772936206893941, 0.0],\n",
       "  [0.0, 1.5061828880314019, 1.5061828880314019, 1.4772936206893941],\n",
       "  [0.0, 1.5095074674359643, 1.5095074674359643, 1.5061828880314019],\n",
       "  [1.5079775912618891,\n",
       "   1.5116253982860568,\n",
       "   1.5116253982860568,\n",
       "   1.5095074674359643],\n",
       "  [0.0, 1.5131977464785211, 1.5131977464785211, 1.5116253982860568],\n",
       "  [0.0, 1.51758804745988, 1.51758804745988, 1.5131977464785211],\n",
       "  [0.0, 1.5251933230822792, 1.5251933230822792, 1.51758804745988],\n",
       "  [0.0, 1.5262106936587758, 1.5262106936587758, 1.5251933230822792],\n",
       "  [0.0, 1.5278134834422978, 1.5278134834422978, 1.5262106936587758],\n",
       "  [1.4969944059132114,\n",
       "   1.5281061851892461,\n",
       "   1.5281061851892461,\n",
       "   1.5278134834422978],\n",
       "  [0.0, 1.5335979727479425, 1.5335979727479425, 1.5281061851892461],\n",
       "  [1.5192479646897485,\n",
       "   1.5398192768035888,\n",
       "   1.5398192768035888,\n",
       "   1.5335979727479425],\n",
       "  [0.0, 1.5424099766855306, 1.5424099766855306, 1.5398192768035888],\n",
       "  [0.0, 1.5445025809370949, 1.5445025809370949, 1.5424099766855306],\n",
       "  [0.0, 1.5497786658228081, 1.5497786658228081, 1.5445025809370949],\n",
       "  [0.0, 1.5558644821308125, 1.5558644821308125, 1.5497786658228081],\n",
       "  [0.0, 1.5648876603432362, 1.5648876603432362, 1.5558644821308125],\n",
       "  [0.0, 1.5674383414516633, 1.5674383414516633, 1.5648876603432362],\n",
       "  [0.0, 1.567999734547205, 1.567999734547205, 1.5674383414516633],\n",
       "  [0.0, 1.5758871377213881, 1.5758871377213881, 1.567999734547205],\n",
       "  [0.0, 1.5811287292541367, 1.5811287292541367, 1.5758871377213881],\n",
       "  [0.0, 1.594108562196793, 1.594108562196793, 1.5811287292541367],\n",
       "  [0.0, 1.5942298428756878, 1.5942298428756878, 1.594108562196793],\n",
       "  [1.5311837790994287,\n",
       "   1.6007132030325688,\n",
       "   1.6007132030325688,\n",
       "   1.5942298428756878],\n",
       "  [0.0, 1.6090861799268832, 1.6090861799268832, 1.6007132030325688],\n",
       "  [0.0, 1.6134477600932213, 1.6134477600932213, 1.6090861799268832],\n",
       "  [0.0, 1.6154208026761061, 1.6154208026761061, 1.6134477600932213],\n",
       "  [0.0, 1.6294184945512467, 1.6294184945512467, 1.6154208026761061],\n",
       "  [0.0, 1.6300446715169252, 1.6300446715169252, 1.6294184945512467],\n",
       "  [0.0, 1.6334421531398262, 1.6334421531398262, 1.6300446715169252],\n",
       "  [1.613201320751791,\n",
       "   1.6448266969539109,\n",
       "   1.6448266969539109,\n",
       "   1.6334421531398262],\n",
       "  [0.0, 1.6450758695725944, 1.6450758695725944, 1.6448266969539109],\n",
       "  [0.0, 1.651038515704454, 1.651038515704454, 1.6450758695725944],\n",
       "  [0.0, 1.653349935493672, 1.653349935493672, 1.651038515704454],\n",
       "  [0.0, 1.6624244177007035, 1.6624244177007035, 1.653349935493672],\n",
       "  [0.0, 1.6677771637256493, 1.6677771637256493, 1.6624244177007035],\n",
       "  [0.0, 1.7087901195564454, 1.7087901195564454, 1.6677771637256493],\n",
       "  [0.0, 1.7207659935677502, 1.7207659935677502, 1.7087901195564454],\n",
       "  [0.0, 1.7501903605306521, 1.7501903605306521, 1.7207659935677502],\n",
       "  [0.0, 1.7683364633346679, 1.7683364633346679, 1.7501903605306521],\n",
       "  [0.0, 1.915417249016973, 1.915417249016973, 1.7683364633346679]],\n",
       " 'icoord': [[105.0, 105.0, 115.0, 115.0],\n",
       "  [185.0, 185.0, 195.0, 195.0],\n",
       "  [315.0, 315.0, 325.0, 325.0],\n",
       "  [345.0, 345.0, 355.0, 355.0],\n",
       "  [385.0, 385.0, 395.0, 395.0],\n",
       "  [375.0, 375.0, 390.0, 390.0],\n",
       "  [365.0, 365.0, 382.5, 382.5],\n",
       "  [350.0, 350.0, 373.75, 373.75],\n",
       "  [455.0, 455.0, 465.0, 465.0],\n",
       "  [495.0, 495.0, 505.0, 505.0],\n",
       "  [545.0, 545.0, 555.0, 555.0],\n",
       "  [535.0, 535.0, 550.0, 550.0],\n",
       "  [525.0, 525.0, 542.5, 542.5],\n",
       "  [515.0, 515.0, 533.75, 533.75],\n",
       "  [500.0, 500.0, 524.375, 524.375],\n",
       "  [485.0, 485.0, 512.1875, 512.1875],\n",
       "  [475.0, 475.0, 498.59375, 498.59375],\n",
       "  [595.0, 595.0, 605.0, 605.0],\n",
       "  [585.0, 585.0, 600.0, 600.0],\n",
       "  [575.0, 575.0, 592.5, 592.5],\n",
       "  [565.0, 565.0, 583.75, 583.75],\n",
       "  [486.796875, 486.796875, 574.375, 574.375],\n",
       "  [460.0, 460.0, 530.5859375, 530.5859375],\n",
       "  [635.0, 635.0, 645.0, 645.0],\n",
       "  [625.0, 625.0, 640.0, 640.0],\n",
       "  [615.0, 615.0, 632.5, 632.5],\n",
       "  [495.29296875, 495.29296875, 623.75, 623.75],\n",
       "  [445.0, 445.0, 559.521484375, 559.521484375],\n",
       "  [435.0, 435.0, 502.2607421875, 502.2607421875],\n",
       "  [425.0, 425.0, 468.63037109375, 468.63037109375],\n",
       "  [415.0, 415.0, 446.815185546875, 446.815185546875],\n",
       "  [405.0, 405.0, 430.9075927734375, 430.9075927734375],\n",
       "  [361.875, 361.875, 417.95379638671875, 417.95379638671875],\n",
       "  [335.0, 335.0, 389.9143981933594, 389.9143981933594],\n",
       "  [320.0, 320.0, 362.4571990966797, 362.4571990966797],\n",
       "  [305.0, 305.0, 341.22859954833984, 341.22859954833984],\n",
       "  [295.0, 295.0, 323.1142997741699, 323.1142997741699],\n",
       "  [285.0, 285.0, 309.05714988708496, 309.05714988708496],\n",
       "  [275.0, 275.0, 297.0285749435425, 297.0285749435425],\n",
       "  [265.0, 265.0, 286.01428747177124, 286.01428747177124],\n",
       "  [255.0, 255.0, 275.5071437358856, 275.5071437358856],\n",
       "  [245.0, 245.0, 265.2535718679428, 265.2535718679428],\n",
       "  [235.0, 235.0, 255.1267859339714, 255.1267859339714],\n",
       "  [225.0, 225.0, 245.0633929669857, 245.0633929669857],\n",
       "  [215.0, 215.0, 235.03169648349285, 235.03169648349285],\n",
       "  [205.0, 205.0, 225.01584824174643, 225.01584824174643],\n",
       "  [190.0, 190.0, 215.0079241208732, 215.0079241208732],\n",
       "  [175.0, 175.0, 202.5039620604366, 202.5039620604366],\n",
       "  [165.0, 165.0, 188.7519810302183, 188.7519810302183],\n",
       "  [155.0, 155.0, 176.87599051510915, 176.87599051510915],\n",
       "  [145.0, 145.0, 165.93799525755458, 165.93799525755458],\n",
       "  [135.0, 135.0, 155.4689976287773, 155.4689976287773],\n",
       "  [125.0, 125.0, 145.23449881438864, 145.23449881438864],\n",
       "  [110.0, 110.0, 135.11724940719432, 135.11724940719432],\n",
       "  [95.0, 95.0, 122.55862470359716, 122.55862470359716],\n",
       "  [85.0, 85.0, 108.77931235179858, 108.77931235179858],\n",
       "  [75.0, 75.0, 96.88965617589929, 96.88965617589929],\n",
       "  [65.0, 65.0, 85.94482808794965, 85.94482808794965],\n",
       "  [55.0, 55.0, 75.47241404397482, 75.47241404397482],\n",
       "  [45.0, 45.0, 65.23620702198741, 65.23620702198741],\n",
       "  [35.0, 35.0, 55.118103510993706, 55.118103510993706],\n",
       "  [25.0, 25.0, 45.05905175549685, 45.05905175549685],\n",
       "  [15.0, 15.0, 35.029525877748426, 35.029525877748426],\n",
       "  [5.0, 5.0, 25.014762938874213, 25.014762938874213]],\n",
       " 'ivl': ['9',\n",
       "  '24',\n",
       "  '26',\n",
       "  '11',\n",
       "  '8',\n",
       "  '57',\n",
       "  '47',\n",
       "  '44',\n",
       "  '62',\n",
       "  '52',\n",
       "  '29',\n",
       "  '38',\n",
       "  '30',\n",
       "  '27',\n",
       "  '12',\n",
       "  '64',\n",
       "  '6',\n",
       "  '13',\n",
       "  '1',\n",
       "  '48',\n",
       "  '54',\n",
       "  '14',\n",
       "  '43',\n",
       "  '4',\n",
       "  '35',\n",
       "  '0',\n",
       "  '25',\n",
       "  '10',\n",
       "  '23',\n",
       "  '61',\n",
       "  '55',\n",
       "  '19',\n",
       "  '53',\n",
       "  '60',\n",
       "  '3',\n",
       "  '41',\n",
       "  '63',\n",
       "  '58',\n",
       "  '22',\n",
       "  '42',\n",
       "  '18',\n",
       "  '45',\n",
       "  '36',\n",
       "  '50',\n",
       "  '46',\n",
       "  '5',\n",
       "  '32',\n",
       "  '16',\n",
       "  '7',\n",
       "  '37',\n",
       "  '49',\n",
       "  '28',\n",
       "  '17',\n",
       "  '34',\n",
       "  '21',\n",
       "  '33',\n",
       "  '15',\n",
       "  '20',\n",
       "  '40',\n",
       "  '31',\n",
       "  '59',\n",
       "  '2',\n",
       "  '39',\n",
       "  '51',\n",
       "  '56'],\n",
       " 'leaves': [9,\n",
       "  24,\n",
       "  26,\n",
       "  11,\n",
       "  8,\n",
       "  57,\n",
       "  47,\n",
       "  44,\n",
       "  62,\n",
       "  52,\n",
       "  29,\n",
       "  38,\n",
       "  30,\n",
       "  27,\n",
       "  12,\n",
       "  64,\n",
       "  6,\n",
       "  13,\n",
       "  1,\n",
       "  48,\n",
       "  54,\n",
       "  14,\n",
       "  43,\n",
       "  4,\n",
       "  35,\n",
       "  0,\n",
       "  25,\n",
       "  10,\n",
       "  23,\n",
       "  61,\n",
       "  55,\n",
       "  19,\n",
       "  53,\n",
       "  60,\n",
       "  3,\n",
       "  41,\n",
       "  63,\n",
       "  58,\n",
       "  22,\n",
       "  42,\n",
       "  18,\n",
       "  45,\n",
       "  36,\n",
       "  50,\n",
       "  46,\n",
       "  5,\n",
       "  32,\n",
       "  16,\n",
       "  7,\n",
       "  37,\n",
       "  49,\n",
       "  28,\n",
       "  17,\n",
       "  34,\n",
       "  21,\n",
       "  33,\n",
       "  15,\n",
       "  20,\n",
       "  40,\n",
       "  31,\n",
       "  59,\n",
       "  2,\n",
       "  39,\n",
       "  51,\n",
       "  56]}"
      ]
     },
     "execution_count": 30,
     "metadata": {},
     "output_type": "execute_result"
    },
    {
     "data": {
      "image/png": "[encoded data removed]",
      "text/plain": [
       "<matplotlib.figure.Figure at 0x116fb8358>"
      ]
     },
     "metadata": {},
     "output_type": "display_data"
    }
   ],
   "source": [
    "Z = scipy.cluster.hierarchy.linkage(D)\n",
    "scipy.cluster.hierarchy.dendrogram(Z)"
   ]
  },
  {
   "cell_type": "code",
   "execution_count": null,
   "metadata": {
    "collapsed": false
   },
   "outputs": [],
   "source": []
  },
  {
   "cell_type": "code",
   "execution_count": null,
   "metadata": {
    "collapsed": true
   },
   "outputs": [],
   "source": []
  },
  {
   "cell_type": "code",
   "execution_count": null,
   "metadata": {
    "collapsed": true
   },
   "outputs": [],
   "source": []
  },
  {
   "cell_type": "code",
   "execution_count": 31,
   "metadata": {
    "collapsed": true
   },
   "outputs": [],
   "source": [
    "def plot_group_hourly(af, years, group):\n",
    "    for i, y in enumerate(years):\n",
    "        if af.labels_[i] == group:\n",
    "            print(y)\n",
    "            pd.Series(timeseries(y)).plot(figsize=(4,3), ylim=(-25, 35))"
   ]
  },
  {
   "cell_type": "code",
   "execution_count": 32,
   "metadata": {
    "collapsed": true
   },
   "outputs": [],
   "source": [
    "def plot_group_daily(af, years, group):\n",
    "    for i, y in enumerate(years):\n",
    "        if af.labels_[i] == group:\n",
    "            print(y)\n",
    "            pd.DataFrame(timeframe(y, to_dict=True)).plot(figsize=(4,3), ylim=(-25, 35))"
   ]
  },
  {
   "cell_type": "code",
   "execution_count": 33,
   "metadata": {
    "collapsed": true
   },
   "outputs": [],
   "source": [
    "def plot_group_daily_cumulative_residual(af, years, group, length=5000, s=met.tavg):\n",
    "    am = np.array([timeframe(y, length, s, to_dict=True)['mean'] for y in years]).mean(axis=0)\n",
    "    def a(y):\n",
    "        ad = timeframe(y, length, s, to_dict=True)['mean'] - am\n",
    "        return np.array([ad.clip(min=0).cumsum(), ad.clip(max=0).cumsum()]).T\n",
    "    for i, y in enumerate(years):\n",
    "        if af.labels_[i] == group:\n",
    "            print(y)\n",
    "            ai = a(y).T\n",
    "            plt.figure(figsize=(10,1))\n",
    "            plt.subplot(1, 2, 1)\n",
    "            pd.Series(ai[0]).plot(ylim=(0,500))\n",
    "            plt.subplot(1, 2, 2)\n",
    "            pd.Series(ai[1]).plot(ylim=(-500,0))"
   ]
  },
  {
   "cell_type": "code",
   "execution_count": 34,
   "metadata": {
    "collapsed": false
   },
   "outputs": [],
   "source": [
    "def plot_group_daily_cumulative_residual(af, years, group, length=5000, s=met.tavg):\n",
    "    am = np.array([timeframe(y, length, s, to_dict=True)['mean'] for y in years]).mean(axis=0)\n",
    "    def a(y):\n",
    "        ad = timeframe(y, length, s, to_dict=True)['mean'] - am\n",
    "        return np.array([ad.clip(min=0).cumsum(), ad.clip(max=0).cumsum()]).T    \n",
    "    plt.figure(figsize=(10,1))\n",
    "    plt.subplot(1, 2, 1)\n",
    "    for i, y in enumerate(years):\n",
    "        if af.labels_[i] == group:\n",
    "            ai = a(y).T\n",
    "            pd.Series(ai[0]).plot(ylim=(0,500))\n",
    "    plt.subplot(1, 2, 2)\n",
    "    for i, y in enumerate(years):\n",
    "        if af.labels_[i] == group:\n",
    "            pd.Series(ai[1]).plot(ylim=(-500,0))"
   ]
  },
  {
   "cell_type": "code",
   "execution_count": null,
   "metadata": {
    "collapsed": true
   },
   "outputs": [],
   "source": []
  },
  {
   "cell_type": "code",
   "execution_count": null,
   "metadata": {
    "collapsed": true
   },
   "outputs": [],
   "source": []
  },
  {
   "cell_type": "code",
   "execution_count": 60,
   "metadata": {
    "collapsed": false
   },
   "outputs": [
    {
     "data": {
      "text/plain": [
       "array([[ 1.        ,  0.52191413,  0.59677404, ...,  0.46974913,\n",
       "         0.58654641,  0.58455249],\n",
       "       [ 0.52191413,  1.        ,  0.56398793, ...,  0.45559734,\n",
       "         0.58671386,  0.54078576],\n",
       "       [ 0.59677404,  0.56398793,  1.        , ...,  0.46198655,\n",
       "         0.58125785,  0.59921484],\n",
       "       ..., \n",
       "       [ 0.46974913,  0.45559734,  0.46198655, ...,  1.        ,\n",
       "         0.49622081,  0.45621323],\n",
       "       [ 0.58654641,  0.58671386,  0.58125785, ...,  0.49622081,\n",
       "         1.        ,  0.58909443],\n",
       "       [ 0.58455249,  0.54078576,  0.59921484, ...,  0.45621323,\n",
       "         0.58909443,  1.        ]])"
      ]
     },
     "execution_count": 60,
     "metadata": {},
     "output_type": "execute_result"
    }
   ],
   "source": [
    "M"
   ]
  },
  {
   "cell_type": "code",
   "execution_count": 59,
   "metadata": {
    "collapsed": false
   },
   "outputs": [
    {
     "name": "stdout",
     "output_type": "stream",
     "text": [
      "1941\n",
      "1947\n",
      "1960\n",
      "1993\n"
     ]
    },
    {
     "data": {
      "image/png": "[encoded data removed]",
      "text/plain": [
       "<matplotlib.figure.Figure at 0x117533828>"
      ]
     },
     "metadata": {},
     "output_type": "display_data"
    }
   ],
   "source": [
    "plt.figure()\n",
    "plot_group_hourly(af, years, 0)"
   ]
  },
  {
   "cell_type": "code",
   "execution_count": 36,
   "metadata": {
    "collapsed": false
   },
   "outputs": [
    {
     "name": "stdout",
     "output_type": "stream",
     "text": [
      "1950\n"
     ]
    },
    {
     "data": {
      "image/png": "[encoded data removed]",
      "text/plain": [
       "<matplotlib.figure.Figure at 0x11703c0b8>"
      ]
     },
     "metadata": {},
     "output_type": "display_data"
    }
   ],
   "source": [
    "plt.figure()\n",
    "plot_group_hourly(af, years, 1)"
   ]
  },
  {
   "cell_type": "code",
   "execution_count": null,
   "metadata": {
    "collapsed": true
   },
   "outputs": [],
   "source": []
  },
  {
   "cell_type": "code",
   "execution_count": 37,
   "metadata": {
    "collapsed": false
   },
   "outputs": [],
   "source": [
    "#plot_group_daily(af, years, 0)"
   ]
  },
  {
   "cell_type": "code",
   "execution_count": null,
   "metadata": {
    "collapsed": true
   },
   "outputs": [],
   "source": []
  },
  {
   "cell_type": "code",
   "execution_count": 38,
   "metadata": {
    "collapsed": true
   },
   "outputs": [],
   "source": [
    "npm = sklearn.manifold.LocallyLinearEmbedding(n_neighbors=5, n_components=2)"
   ]
  },
  {
   "cell_type": "code",
   "execution_count": 39,
   "metadata": {
    "collapsed": false
   },
   "outputs": [],
   "source": [
    "embedding = npm.fit_transform(timeseriess(years)).T\n",
    "#embedding = npm.fit_transform(timeframes(years)).T"
   ]
  },
  {
   "cell_type": "code",
   "execution_count": 40,
   "metadata": {
    "collapsed": false
   },
   "outputs": [
    {
     "data": {
      "image/png": "[encoded data removed]",
      "text/plain": [
       "<matplotlib.figure.Figure at 0x11703b8d0>"
      ]
     },
     "metadata": {},
     "output_type": "display_data"
    }
   ],
   "source": [
    "plt.scatter(embedding[0], embedding[1], c=af.labels_, cmap=plt.cm.rainbow)\n",
    "for (i, (x, y)) in enumerate(zip(*embedding)):\n",
    "    plt.text(x, y - 0.025, '{}'.format(years[i]), size='small')"
   ]
  },
  {
   "cell_type": "code",
   "execution_count": null,
   "metadata": {
    "collapsed": true
   },
   "outputs": [],
   "source": []
  },
  {
   "cell_type": "code",
   "execution_count": 41,
   "metadata": {
    "collapsed": false
   },
   "outputs": [],
   "source": [
    "df = pd.DataFrame(years, af.labels_)"
   ]
  },
  {
   "cell_type": "code",
   "execution_count": 42,
   "metadata": {
    "collapsed": false
   },
   "outputs": [],
   "source": [
    "#df.reset_index().sort_values(['index', 0]).set_index(['index'])"
   ]
  },
  {
   "cell_type": "code",
   "execution_count": null,
   "metadata": {
    "collapsed": true
   },
   "outputs": [],
   "source": []
  },
  {
   "cell_type": "code",
   "execution_count": 43,
   "metadata": {
    "collapsed": true
   },
   "outputs": [],
   "source": [
    "def extract_years(af, years, group):\n",
    "    df = pd.DataFrame(years, af.labels_)\n",
    "    return df[df.index == group][0].tolist()"
   ]
  },
  {
   "cell_type": "code",
   "execution_count": 44,
   "metadata": {
    "collapsed": false
   },
   "outputs": [
    {
     "data": {
      "text/plain": [
       "[1941, 1947, 1960, 1993]"
      ]
     },
     "execution_count": 44,
     "metadata": {},
     "output_type": "execute_result"
    }
   ],
   "source": [
    "extract_years(af, years, 0)"
   ]
  },
  {
   "cell_type": "code",
   "execution_count": 45,
   "metadata": {
    "collapsed": false
   },
   "outputs": [
    {
     "data": {
      "text/plain": [
       "{0: [1941, 1947, 1960, 1993],\n",
       " 1: [1950],\n",
       " 2: [1963, 1987, 1989, 1998, 2000, 2003],\n",
       " 3: [1942, 1944, 1958, 1959, 1968, 1969, 1991, 1999, 2002],\n",
       " 4: [1974, 1983],\n",
       " 5: [1954, 1961, 1976, 1981, 1984, 2004],\n",
       " 6: [1940,\n",
       "  1945,\n",
       "  1948,\n",
       "  1949,\n",
       "  1951,\n",
       "  1957,\n",
       "  1962,\n",
       "  1965,\n",
       "  1966,\n",
       "  1975,\n",
       "  1978,\n",
       "  1979,\n",
       "  1980,\n",
       "  1982,\n",
       "  1995,\n",
       "  2005],\n",
       " 7: [1977, 1985, 1994, 1997, 2007, 2008, 2009],\n",
       " 8: [1943, 1964, 1967, 1986, 1988, 2006],\n",
       " 9: [1992],\n",
       " 10: [1952, 1953, 1955, 1956, 1990, 1996, 2001]}"
      ]
     },
     "execution_count": 45,
     "metadata": {},
     "output_type": "execute_result"
    }
   ],
   "source": [
    "{g: extract_years(af, years, g) for g in groups}"
   ]
  },
  {
   "cell_type": "code",
   "execution_count": null,
   "metadata": {
    "collapsed": true
   },
   "outputs": [],
   "source": []
  },
  {
   "cell_type": "code",
   "execution_count": null,
   "metadata": {
    "collapsed": true
   },
   "outputs": [],
   "source": []
  },
  {
   "cell_type": "code",
   "execution_count": null,
   "metadata": {
    "collapsed": true
   },
   "outputs": [],
   "source": []
  },
  {
   "cell_type": "markdown",
   "metadata": {},
   "source": [
    "Group 8 includes the years of top 6 (1996), 7 (1983), 8 (2009), and 9 (2003) snowstorms in Washington, D.C.\n",
    "Reference: http://www.wusa9.com/story/weather/2016/01/21/these-top-10-snowfalls-dc-history/79120848/"
   ]
  },
  {
   "cell_type": "code",
   "execution_count": null,
   "metadata": {
    "collapsed": true
   },
   "outputs": [],
   "source": []
  },
  {
   "cell_type": "code",
   "execution_count": 46,
   "metadata": {
    "collapsed": true
   },
   "outputs": [],
   "source": [
    "def extract_stat(af, years, group):\n",
    "    v = np.array([timeseries(y) for y in extract_years(af, years, group)])\n",
    "    return {\n",
    "        'mean': v.mean(axis=1).mean(),\n",
    "        'min': v.min(axis=1).min(),\n",
    "        'max': v.max(axis=1).max(),\n",
    "    }"
   ]
  },
  {
   "cell_type": "code",
   "execution_count": null,
   "metadata": {
    "collapsed": true
   },
   "outputs": [],
   "source": []
  },
  {
   "cell_type": "code",
   "execution_count": 47,
   "metadata": {
    "collapsed": false
   },
   "outputs": [
    {
     "data": {
      "text/plain": [
       "{0: {'max': 34.600000000000001,\n",
       "  'mean': 7.4808689285714287,\n",
       "  'min': -13.699999999999999},\n",
       " 1: {'max': 30.199999999999999,\n",
       "  'mean': 8.5967399999999987,\n",
       "  'min': -9.1999999999999993},\n",
       " 2: {'max': 32.399999999999999, 'mean': 7.6311741029223574, 'min': -15.9},\n",
       " 3: {'max': 35.600000000000001,\n",
       "  'mean': 8.0798897325304111,\n",
       "  'min': -15.300000000000001},\n",
       " 4: {'max': 30.0, 'mean': 9.1212194983277595, 'min': -8.1999999999999993},\n",
       " 5: {'max': 35.0, 'mean': 8.2026861102616238, 'min': -17.100000000000001},\n",
       " 6: {'max': 34.100000000000001, 'mean': 7.7400555416837653, 'min': -20.5},\n",
       " 7: {'max': 33.299999999999997, 'mean': 7.8936268943313141, 'min': -20.0},\n",
       " 8: {'max': 31.300000000000001,\n",
       "  'mean': 7.7224085775591051,\n",
       "  'min': -16.699999999999999},\n",
       " 9: {'max': 29.399999999999999,\n",
       "  'mean': 8.1564999999999994,\n",
       "  'min': -9.9000000000000004},\n",
       " 10: {'max': 34.100000000000001, 'mean': 7.6152226513768326, 'min': -15.0}}"
      ]
     },
     "execution_count": 47,
     "metadata": {},
     "output_type": "execute_result"
    }
   ],
   "source": [
    "{g: extract_stat(af, years, g) for g in groups}"
   ]
  },
  {
   "cell_type": "code",
   "execution_count": null,
   "metadata": {
    "collapsed": true
   },
   "outputs": [],
   "source": []
  },
  {
   "cell_type": "code",
   "execution_count": 48,
   "metadata": {
    "collapsed": true
   },
   "outputs": [],
   "source": [
    "def affinity_daily(af, years, year, group, length=5000, s=met.tavg):\n",
    "    years_group = extract_years(af, years, group)\n",
    "    n = len(years_group)\n",
    "    ai = timeframe(year, length, s)\n",
    "    M = np.zeros(n)\n",
    "    for (j, yj) in enumerate(years_group):\n",
    "        aj = timeframe(yj, length, s)\n",
    "        d = fastdtw.fastdtw(ai, aj, dist=lambda x, y: sum((x - y)**2)**0.5)[0]\n",
    "        M[j] = d\n",
    "    return M"
   ]
  },
  {
   "cell_type": "code",
   "execution_count": 49,
   "metadata": {
    "collapsed": true
   },
   "outputs": [],
   "source": [
    "def predict_group_daily(af, years, year, length=5000, s=met.tavg):\n",
    "    r = np.array([affinity_daily(af, years, year, g).mean() for g in groups])\n",
    "    ir = 1/r\n",
    "    return (r.argmin(), ir/ir.sum())"
   ]
  },
  {
   "cell_type": "code",
   "execution_count": 50,
   "metadata": {
    "collapsed": false
   },
   "outputs": [
    {
     "data": {
      "text/plain": [
       "(0, array([ 0.10016283,  0.05328284,  0.09808537,  0.0939418 ,  0.09577451,\n",
       "         0.08596501,  0.09278576,  0.09933974,  0.09906459,  0.09279303,\n",
       "         0.08880452]))"
      ]
     },
     "execution_count": 50,
     "metadata": {},
     "output_type": "execute_result"
    }
   ],
   "source": [
    "predict_group_daily(af, years, 2015)"
   ]
  },
  {
   "cell_type": "code",
   "execution_count": 51,
   "metadata": {
    "collapsed": false
   },
   "outputs": [
    {
     "data": {
      "text/plain": [
       "(9, array([ 0.08124851,  0.08903687,  0.08748888,  0.09182357,  0.09158967,\n",
       "         0.09225803,  0.08713601,  0.08254082,  0.09932682,  0.1002153 ,\n",
       "         0.09733552]))"
      ]
     },
     "execution_count": 51,
     "metadata": {},
     "output_type": "execute_result"
    }
   ],
   "source": [
    "predict_group_daily(af, years, 2014)"
   ]
  },
  {
   "cell_type": "code",
   "execution_count": 52,
   "metadata": {
    "collapsed": false
   },
   "outputs": [
    {
     "data": {
      "text/plain": [
       "(9, array([ 0.09128967,  0.09807774,  0.08067381,  0.08602773,  0.09499813,\n",
       "         0.08103377,  0.08492682,  0.08880231,  0.08712342,  0.11785696,\n",
       "         0.08918963]))"
      ]
     },
     "execution_count": 52,
     "metadata": {},
     "output_type": "execute_result"
    }
   ],
   "source": [
    "predict_group_daily(af, years, 2013)"
   ]
  },
  {
   "cell_type": "code",
   "execution_count": 53,
   "metadata": {
    "collapsed": false
   },
   "outputs": [
    {
     "data": {
      "text/plain": [
       "(9, array([ 0.07507798,  0.09192207,  0.09467332,  0.09439219,  0.09325387,\n",
       "         0.10085404,  0.08194157,  0.08236168,  0.09804218,  0.1011266 ,\n",
       "         0.08635451]))"
      ]
     },
     "execution_count": 53,
     "metadata": {},
     "output_type": "execute_result"
    }
   ],
   "source": [
    "predict_group_daily(af, years, 2012)"
   ]
  },
  {
   "cell_type": "code",
   "execution_count": 54,
   "metadata": {
    "collapsed": false
   },
   "outputs": [
    {
     "data": {
      "text/plain": [
       "(9, array([ 0.0806903 ,  0.08274445,  0.10509513,  0.09834576,  0.0869088 ,\n",
       "         0.08829893,  0.0833505 ,  0.08096405,  0.08836028,  0.1136095 ,\n",
       "         0.09163229]))"
      ]
     },
     "execution_count": 54,
     "metadata": {},
     "output_type": "execute_result"
    }
   ],
   "source": [
    "predict_group_daily(af, years, 2011)"
   ]
  },
  {
   "cell_type": "code",
   "execution_count": 55,
   "metadata": {
    "collapsed": false
   },
   "outputs": [
    {
     "data": {
      "text/plain": [
       "(8, array([ 0.09633882,  0.08099595,  0.08741795,  0.08894395,  0.09528155,\n",
       "         0.07814839,  0.09659617,  0.09076676,  0.10330476,  0.09580261,\n",
       "         0.08640311]))"
      ]
     },
     "execution_count": 55,
     "metadata": {},
     "output_type": "execute_result"
    }
   ],
   "source": [
    "predict_group_daily(af, years, 2010)"
   ]
  },
  {
   "cell_type": "code",
   "execution_count": null,
   "metadata": {
    "collapsed": true
   },
   "outputs": [],
   "source": []
  },
  {
   "cell_type": "code",
   "execution_count": 56,
   "metadata": {
    "collapsed": false
   },
   "outputs": [
    {
     "data": {
      "text/plain": [
       "[2184.115246816315,\n",
       " 2129.8939504746204,\n",
       " 1676.9273886744968,\n",
       " 1792.0133252464821,\n",
       " 2027.8372199132268,\n",
       " 1995.9120094300924,\n",
       " 2114.4071842523181,\n",
       " 2176.7302269437319,\n",
       " 1994.5262334649408,\n",
       " 1551.2514873354764,\n",
       " 1923.3057179981672]"
      ]
     },
     "execution_count": 56,
     "metadata": {},
     "output_type": "execute_result"
    }
   ],
   "source": [
    "[affinity_daily(af, years, 2011, g).mean() for g in groups]"
   ]
  }
 ],
 "metadata": {
  "kernelspec": {
   "display_name": "Python 3",
   "language": "python",
   "name": "python3"
  },
  "language_info": {
   "codemirror_mode": {
    "name": "ipython",
    "version": 3
   },
   "file_extension": ".py",
   "mimetype": "text/x-python",
   "name": "python",
   "nbconvert_exporter": "python",
   "pygments_lexer": "ipython3",
   "version": "3.5.1"
  }
 },
 "nbformat": 4,
 "nbformat_minor": 0
}
