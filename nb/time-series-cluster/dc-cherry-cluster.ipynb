{
 "cells": [
  {
   "cell_type": "code",
   "execution_count": 1,
   "metadata": {
    "collapsed": false
   },
   "outputs": [
    {
     "data": {
      "text/plain": [
       "'/Users/tomyun/Google Drive/Projects/RDA/work/nb/time-series-cluster'"
      ]
     },
     "execution_count": 1,
     "metadata": {},
     "output_type": "execute_result"
    }
   ],
   "source": [
    "import os\n",
    "os.getcwd()"
   ]
  },
  {
   "cell_type": "code",
   "execution_count": 2,
   "metadata": {
    "collapsed": true
   },
   "outputs": [],
   "source": [
    "import sys\n",
    "sys.path.append('../../code')"
   ]
  },
  {
   "cell_type": "code",
   "execution_count": 18,
   "metadata": {
    "collapsed": true
   },
   "outputs": [],
   "source": [
    "import numpy as np"
   ]
  },
  {
   "cell_type": "code",
   "execution_count": 3,
   "metadata": {
    "collapsed": false
   },
   "outputs": [],
   "source": [
    "import pheno"
   ]
  },
  {
   "cell_type": "code",
   "execution_count": 4,
   "metadata": {
    "collapsed": true
   },
   "outputs": [],
   "source": [
    "from pheno.data.dataset import DataSet"
   ]
  },
  {
   "cell_type": "code",
   "execution_count": 5,
   "metadata": {
    "collapsed": false
   },
   "outputs": [],
   "source": [
    "ds = DataSet('usa_ds3505', 'cherry_dc', translator={\n",
    "    'DC': 724050,\n",
    "}).set(cultivar='Yoshino', stage='Peak Bloom')"
   ]
  },
  {
   "cell_type": "code",
   "execution_count": 6,
   "metadata": {
    "collapsed": true
   },
   "outputs": [],
   "source": [
    "cf = pheno.estimation.ChillingForce(ds)"
   ]
  },
  {
   "cell_type": "code",
   "execution_count": null,
   "metadata": {
    "collapsed": true
   },
   "outputs": [],
   "source": []
  },
  {
   "cell_type": "code",
   "execution_count": 7,
   "metadata": {
    "collapsed": true
   },
   "outputs": [],
   "source": [
    "year_groups = {\n",
    " 0: [1951, 1962, 1978, 1985, 1986, 2004],\n",
    " 1: [1953, 1955, 1965, 1974, 1975, 1977, 1979, 1982, 1991, 1992, 2002],\n",
    " 2: [1943, 1959, 1964, 1969],\n",
    " 3: [1947, 1961, 1980, 1984, 1988, 1989, 1995, 1999],\n",
    " 4: [1941, 1956, 1966, 1967, 1987, 1993],\n",
    " 5: [1940, 1945, 1957, 1968, 1976, 1981, 1994, 2007],\n",
    " 6: [1950, 1998, 2006, 2008],\n",
    " 7: [1942, 1948, 1952, 1954, 1963, 1990, 2001],\n",
    " 8: [1960, 1983, 1996, 2003, 2009],\n",
    " 9: [1944, 1946, 1949, 1958, 1997, 2000, 2005]\n",
    "}"
   ]
  },
  {
   "cell_type": "code",
   "execution_count": 8,
   "metadata": {
    "collapsed": false
   },
   "outputs": [
    {
     "name": "stdout",
     "output_type": "stream",
     "text": [
      "Optimization terminated successfully.\n",
      "         Current function value: 4.209536\n",
      "         Iterations: 47\n",
      "         Function evaluations: 128\n",
      "Optimization terminated successfully.\n",
      "         Current function value: 5.391448\n",
      "         Iterations: 46\n",
      "         Function evaluations: 130\n",
      "Optimization terminated successfully.\n",
      "         Current function value: 3.137406\n",
      "         Iterations: 36\n",
      "         Function evaluations: 114\n",
      "Optimization terminated successfully.\n",
      "         Current function value: 2.582577\n",
      "         Iterations: 60\n",
      "         Function evaluations: 139\n",
      "Optimization terminated successfully.\n",
      "         Current function value: 4.874852\n",
      "         Iterations: 50\n",
      "         Function evaluations: 133\n",
      "Optimization terminated successfully.\n",
      "         Current function value: 6.797192\n",
      "         Iterations: 60\n",
      "         Function evaluations: 149\n",
      "Optimization terminated successfully.\n",
      "         Current function value: 4.411898\n",
      "         Iterations: 57\n",
      "         Function evaluations: 152\n",
      "Optimization terminated successfully.\n",
      "         Current function value: 3.066961\n",
      "         Iterations: 63\n",
      "         Function evaluations: 150\n",
      "Optimization terminated successfully.\n",
      "         Current function value: 1.596872\n",
      "         Iterations: 51\n",
      "         Function evaluations: 136\n",
      "Optimization terminated successfully.\n",
      "         Current function value: 4.552357\n",
      "         Iterations: 59\n",
      "         Function evaluations: 140\n"
     ]
    }
   ],
   "source": [
    "coeff_groups = {g: cf.calibrate(year_groups[g], method='nelder-mead') for g in year_groups}"
   ]
  },
  {
   "cell_type": "code",
   "execution_count": null,
   "metadata": {
    "collapsed": true
   },
   "outputs": [],
   "source": []
  },
  {
   "cell_type": "code",
   "execution_count": 9,
   "metadata": {
    "collapsed": false
   },
   "outputs": [
    {
     "data": {
      "text/plain": [
       "{0: datetime.datetime(2015, 4, 11, 20, 0, tzinfo=<DstTzInfo 'US/Eastern' EDT-1 day, 20:00:00 DST>),\n",
       " 1: datetime.datetime(2015, 4, 13, 16, 0, tzinfo=<DstTzInfo 'US/Eastern' EDT-1 day, 20:00:00 DST>),\n",
       " 2: datetime.datetime(2015, 4, 13, 8, 0, tzinfo=<DstTzInfo 'US/Eastern' EDT-1 day, 20:00:00 DST>),\n",
       " 3: datetime.datetime(2015, 4, 8, 9, 0, tzinfo=<DstTzInfo 'US/Eastern' EDT-1 day, 20:00:00 DST>),\n",
       " 4: datetime.datetime(2015, 4, 7, 13, 0, tzinfo=<DstTzInfo 'US/Eastern' EDT-1 day, 20:00:00 DST>),\n",
       " 5: datetime.datetime(2015, 4, 11, 1, 0, tzinfo=<DstTzInfo 'US/Eastern' EDT-1 day, 20:00:00 DST>),\n",
       " 6: datetime.datetime(2015, 4, 13, 11, 0, tzinfo=<DstTzInfo 'US/Eastern' EDT-1 day, 20:00:00 DST>),\n",
       " 7: datetime.datetime(2015, 4, 13, 19, 0, tzinfo=<DstTzInfo 'US/Eastern' EDT-1 day, 20:00:00 DST>),\n",
       " 8: datetime.datetime(2015, 4, 10, 18, 0, tzinfo=<DstTzInfo 'US/Eastern' EDT-1 day, 20:00:00 DST>),\n",
       " 9: datetime.datetime(2015, 4, 11, 15, 0, tzinfo=<DstTzInfo 'US/Eastern' EDT-1 day, 20:00:00 DST>)}"
      ]
     },
     "execution_count": 9,
     "metadata": {},
     "output_type": "execute_result"
    }
   ],
   "source": [
    "{g: cf.estimate(2015, coeff=coeff_groups[g]) for g in year_groups}"
   ]
  },
  {
   "cell_type": "code",
   "execution_count": 17,
   "metadata": {
    "collapsed": false
   },
   "outputs": [
    {
     "data": {
      "text/plain": [
       "{0: 101.83333333333333,\n",
       " 1: 103.66666666666667,\n",
       " 2: 103.33333333333333,\n",
       " 3: 98.375,\n",
       " 4: 97.54166666666667,\n",
       " 5: 101.04166666666667,\n",
       " 6: 103.45833333333333,\n",
       " 7: 103.79166666666667,\n",
       " 8: 100.75,\n",
       " 9: 101.625}"
      ]
     },
     "execution_count": 17,
     "metadata": {},
     "output_type": "execute_result"
    }
   ],
   "source": [
    "{g: cf.estimate(2015, coeff=coeff_groups[g], julian=True) for g in year_groups}"
   ]
  },
  {
   "cell_type": "code",
   "execution_count": 20,
   "metadata": {
    "collapsed": false
   },
   "outputs": [
    {
     "data": {
      "text/plain": [
       "101.37093538329268"
      ]
     },
     "execution_count": 20,
     "metadata": {},
     "output_type": "execute_result"
    }
   ],
   "source": [
    "np.average([cf.estimate(2015, coeff=coeff_groups[g], julian=True) for g in year_groups],\n",
    "           weights=[0.10161205, 0.09434977, 0.09927689, 0.10427572, 0.1184648, 0.10689178, 0.08038753, 0.08733794, 0.10181833, 0.10558518])"
   ]
  },
  {
   "cell_type": "code",
   "execution_count": null,
   "metadata": {
    "collapsed": true
   },
   "outputs": [],
   "source": []
  },
  {
   "cell_type": "code",
   "execution_count": 10,
   "metadata": {
    "collapsed": false
   },
   "outputs": [
    {
     "data": {
      "text/plain": [
       "{0: datetime.datetime(2014, 4, 10, 23, 0, tzinfo=<DstTzInfo 'US/Eastern' EDT-1 day, 20:00:00 DST>),\n",
       " 1: datetime.datetime(2014, 4, 6, 10, 0, tzinfo=<DstTzInfo 'US/Eastern' EDT-1 day, 20:00:00 DST>),\n",
       " 2: datetime.datetime(2014, 4, 10, 16, 0, tzinfo=<DstTzInfo 'US/Eastern' EDT-1 day, 20:00:00 DST>),\n",
       " 3: datetime.datetime(2014, 4, 5, 7, 0, tzinfo=<DstTzInfo 'US/Eastern' EDT-1 day, 20:00:00 DST>),\n",
       " 4: datetime.datetime(2014, 4, 4, 6, 0, tzinfo=<DstTzInfo 'US/Eastern' EDT-1 day, 20:00:00 DST>),\n",
       " 5: datetime.datetime(2014, 4, 8, 16, 0, tzinfo=<DstTzInfo 'US/Eastern' EDT-1 day, 20:00:00 DST>),\n",
       " 6: datetime.datetime(2014, 4, 10, 23, 0, tzinfo=<DstTzInfo 'US/Eastern' EDT-1 day, 20:00:00 DST>),\n",
       " 7: datetime.datetime(2014, 4, 11, 9, 0, tzinfo=<DstTzInfo 'US/Eastern' EDT-1 day, 20:00:00 DST>),\n",
       " 8: datetime.datetime(2014, 4, 1, 18, 0, tzinfo=<DstTzInfo 'US/Eastern' EDT-1 day, 20:00:00 DST>),\n",
       " 9: datetime.datetime(2014, 4, 3, 22, 0, tzinfo=<DstTzInfo 'US/Eastern' EDT-1 day, 20:00:00 DST>)}"
      ]
     },
     "execution_count": 10,
     "metadata": {},
     "output_type": "execute_result"
    }
   ],
   "source": [
    "{g: cf.estimate(2014, coeff=coeff_groups[g]) for g in year_groups}"
   ]
  },
  {
   "cell_type": "code",
   "execution_count": 16,
   "metadata": {
    "collapsed": false
   },
   "outputs": [
    {
     "data": {
      "text/plain": [
       "{0: 100.95833333333333,\n",
       " 1: 96.41666666666667,\n",
       " 2: 100.66666666666667,\n",
       " 3: 95.29166666666667,\n",
       " 4: 94.25,\n",
       " 5: 98.66666666666667,\n",
       " 6: 100.95833333333333,\n",
       " 7: 101.375,\n",
       " 8: 91.75,\n",
       " 9: 93.91666666666667}"
      ]
     },
     "execution_count": 16,
     "metadata": {},
     "output_type": "execute_result"
    }
   ],
   "source": [
    "{g: cf.estimate(2014, coeff=coeff_groups[g], julian=True) for g in year_groups}"
   ]
  },
  {
   "cell_type": "code",
   "execution_count": 22,
   "metadata": {
    "collapsed": false
   },
   "outputs": [
    {
     "data": {
      "text/plain": [
       "97.433979946666682"
      ]
     },
     "execution_count": 22,
     "metadata": {},
     "output_type": "execute_result"
    }
   ],
   "source": [
    "np.average([cf.estimate(2014, coeff=coeff_groups[g], julian=True) for g in year_groups],\n",
    "           weights=[0.09949975, 0.09694437, 0.10421432, 0.09531736, 0.10910458, 0.09590825, 0.09849159, 0.10340876, 0.10012342, 0.0969876])"
   ]
  },
  {
   "cell_type": "code",
   "execution_count": null,
   "metadata": {
    "collapsed": true
   },
   "outputs": [],
   "source": []
  },
  {
   "cell_type": "code",
   "execution_count": 23,
   "metadata": {
    "collapsed": false
   },
   "outputs": [
    {
     "data": {
      "text/plain": [
       "{0: datetime.datetime(2013, 4, 14, 19, 0, tzinfo=<DstTzInfo 'US/Eastern' EDT-1 day, 20:00:00 DST>),\n",
       " 1: datetime.datetime(2013, 4, 11, 18, 0, tzinfo=<DstTzInfo 'US/Eastern' EDT-1 day, 20:00:00 DST>),\n",
       " 2: datetime.datetime(2013, 4, 14, 17, 0, tzinfo=<DstTzInfo 'US/Eastern' EDT-1 day, 20:00:00 DST>),\n",
       " 3: datetime.datetime(2013, 4, 11, 22, 0, tzinfo=<DstTzInfo 'US/Eastern' EDT-1 day, 20:00:00 DST>),\n",
       " 4: datetime.datetime(2013, 4, 10, 10, 0, tzinfo=<DstTzInfo 'US/Eastern' EDT-1 day, 20:00:00 DST>),\n",
       " 5: datetime.datetime(2013, 4, 12, 18, 0, tzinfo=<DstTzInfo 'US/Eastern' EDT-1 day, 20:00:00 DST>),\n",
       " 6: datetime.datetime(2013, 4, 13, 15, 0, tzinfo=<DstTzInfo 'US/Eastern' EDT-1 day, 20:00:00 DST>),\n",
       " 7: datetime.datetime(2013, 4, 15, 13, 0, tzinfo=<DstTzInfo 'US/Eastern' EDT-1 day, 20:00:00 DST>),\n",
       " 8: datetime.datetime(2013, 4, 11, 8, 0, tzinfo=<DstTzInfo 'US/Eastern' EDT-1 day, 20:00:00 DST>),\n",
       " 9: datetime.datetime(2013, 4, 10, 20, 0, tzinfo=<DstTzInfo 'US/Eastern' EDT-1 day, 20:00:00 DST>)}"
      ]
     },
     "execution_count": 23,
     "metadata": {},
     "output_type": "execute_result"
    }
   ],
   "source": [
    "{g: cf.estimate(2013, coeff=coeff_groups[g]) for g in year_groups}"
   ]
  },
  {
   "cell_type": "code",
   "execution_count": 24,
   "metadata": {
    "collapsed": false
   },
   "outputs": [
    {
     "data": {
      "text/plain": [
       "{0: 104.79166666666667,\n",
       " 1: 101.75,\n",
       " 2: 104.70833333333333,\n",
       " 3: 101.91666666666667,\n",
       " 4: 100.41666666666667,\n",
       " 5: 102.75,\n",
       " 6: 103.625,\n",
       " 7: 105.54166666666667,\n",
       " 8: 101.33333333333333,\n",
       " 9: 100.83333333333333}"
      ]
     },
     "execution_count": 24,
     "metadata": {},
     "output_type": "execute_result"
    }
   ],
   "source": [
    "{g: cf.estimate(2013, coeff=coeff_groups[g], julian=True) for g in year_groups}"
   ]
  },
  {
   "cell_type": "code",
   "execution_count": 25,
   "metadata": {
    "collapsed": false
   },
   "outputs": [
    {
     "data": {
      "text/plain": [
       "102.77823554096766"
      ]
     },
     "execution_count": 25,
     "metadata": {},
     "output_type": "execute_result"
    }
   ],
   "source": [
    "np.average([cf.estimate(2013, coeff=coeff_groups[g], julian=True) for g in year_groups],\n",
    "           weights=[0.08179916, 0.11072514, 0.10126655, 0.09834699, 0.09971944, 0.10624896, 0.10814733, 0.10900153, 0.08688896, 0.09785595])"
   ]
  },
  {
   "cell_type": "code",
   "execution_count": null,
   "metadata": {
    "collapsed": true
   },
   "outputs": [],
   "source": []
  },
  {
   "cell_type": "code",
   "execution_count": 27,
   "metadata": {
    "collapsed": false
   },
   "outputs": [
    {
     "data": {
      "text/plain": [
       "{0: None,\n",
       " 1: datetime.datetime(2012, 3, 18, 14, 0, tzinfo=<DstTzInfo 'US/Eastern' EDT-1 day, 20:00:00 DST>),\n",
       " 2: datetime.datetime(2012, 4, 20, 10, 0, tzinfo=<DstTzInfo 'US/Eastern' EDT-1 day, 20:00:00 DST>),\n",
       " 3: None,\n",
       " 4: datetime.datetime(2012, 3, 14, 14, 0, tzinfo=<DstTzInfo 'US/Eastern' EDT-1 day, 20:00:00 DST>),\n",
       " 5: datetime.datetime(2012, 3, 20, 10, 0, tzinfo=<DstTzInfo 'US/Eastern' EDT-1 day, 20:00:00 DST>),\n",
       " 6: datetime.datetime(2012, 3, 18, 18, 0, tzinfo=<DstTzInfo 'US/Eastern' EDT-1 day, 20:00:00 DST>),\n",
       " 7: datetime.datetime(2012, 3, 29, 21, 0, tzinfo=<DstTzInfo 'US/Eastern' EDT-1 day, 20:00:00 DST>),\n",
       " 8: datetime.datetime(2012, 3, 15, 19, 0, tzinfo=<DstTzInfo 'US/Eastern' EDT-1 day, 20:00:00 DST>),\n",
       " 9: datetime.datetime(2012, 3, 16, 9, 0, tzinfo=<DstTzInfo 'US/Eastern' EDT-1 day, 20:00:00 DST>)}"
      ]
     },
     "execution_count": 27,
     "metadata": {},
     "output_type": "execute_result"
    }
   ],
   "source": [
    "{g: cf.estimate_safely(2012, coeff=coeff_groups[g]) for g in year_groups}"
   ]
  },
  {
   "cell_type": "code",
   "execution_count": 29,
   "metadata": {
    "collapsed": false
   },
   "outputs": [
    {
     "data": {
      "text/plain": [
       "{0: 0,\n",
       " 1: 78.58333333333333,\n",
       " 2: 111.41666666666667,\n",
       " 3: 0,\n",
       " 4: 74.58333333333333,\n",
       " 5: 80.41666666666667,\n",
       " 6: 78.75,\n",
       " 7: 89.875,\n",
       " 8: 75.79166666666667,\n",
       " 9: 76.375}"
      ]
     },
     "execution_count": 29,
     "metadata": {},
     "output_type": "execute_result"
    }
   ],
   "source": [
    "{g: cf.estimate_safely(2012, coeff=coeff_groups[g], julian=True) for g in year_groups}"
   ]
  },
  {
   "cell_type": "code",
   "execution_count": null,
   "metadata": {
    "collapsed": true
   },
   "outputs": [],
   "source": []
  },
  {
   "cell_type": "code",
   "execution_count": 30,
   "metadata": {
    "collapsed": false
   },
   "outputs": [
    {
     "data": {
      "text/plain": [
       "{0: datetime.datetime(2011, 4, 7, 5, 0, tzinfo=<DstTzInfo 'US/Eastern' EDT-1 day, 20:00:00 DST>),\n",
       " 1: datetime.datetime(2011, 4, 11, 23, 0, tzinfo=<DstTzInfo 'US/Eastern' EDT-1 day, 20:00:00 DST>),\n",
       " 2: datetime.datetime(2011, 4, 11, 3, 0, tzinfo=<DstTzInfo 'US/Eastern' EDT-1 day, 20:00:00 DST>),\n",
       " 3: datetime.datetime(2011, 4, 4, 17, 0, tzinfo=<DstTzInfo 'US/Eastern' EDT-1 day, 20:00:00 DST>),\n",
       " 4: datetime.datetime(2011, 4, 4, 6, 0, tzinfo=<DstTzInfo 'US/Eastern' EDT-1 day, 20:00:00 DST>),\n",
       " 5: datetime.datetime(2011, 4, 5, 18, 0, tzinfo=<DstTzInfo 'US/Eastern' EDT-1 day, 20:00:00 DST>),\n",
       " 6: datetime.datetime(2011, 4, 11, 15, 0, tzinfo=<DstTzInfo 'US/Eastern' EDT-1 day, 20:00:00 DST>),\n",
       " 7: datetime.datetime(2011, 4, 11, 19, 0, tzinfo=<DstTzInfo 'US/Eastern' EDT-1 day, 20:00:00 DST>),\n",
       " 8: datetime.datetime(2011, 4, 6, 12, 0, tzinfo=<DstTzInfo 'US/Eastern' EDT-1 day, 20:00:00 DST>),\n",
       " 9: datetime.datetime(2011, 4, 10, 23, 0, tzinfo=<DstTzInfo 'US/Eastern' EDT-1 day, 20:00:00 DST>)}"
      ]
     },
     "execution_count": 30,
     "metadata": {},
     "output_type": "execute_result"
    }
   ],
   "source": [
    "{g: cf.estimate_safely(2011, coeff=coeff_groups[g]) for g in year_groups}"
   ]
  },
  {
   "cell_type": "code",
   "execution_count": 31,
   "metadata": {
    "collapsed": false
   },
   "outputs": [
    {
     "data": {
      "text/plain": [
       "{0: 97.20833333333333,\n",
       " 1: 101.95833333333333,\n",
       " 2: 101.125,\n",
       " 3: 94.70833333333333,\n",
       " 4: 94.25,\n",
       " 5: 95.75,\n",
       " 6: 101.625,\n",
       " 7: 101.79166666666667,\n",
       " 8: 96.5,\n",
       " 9: 100.95833333333333}"
      ]
     },
     "execution_count": 31,
     "metadata": {},
     "output_type": "execute_result"
    }
   ],
   "source": [
    "{g: cf.estimate_safely(2011, coeff=coeff_groups[g], julian=True) for g in year_groups}"
   ]
  },
  {
   "cell_type": "code",
   "execution_count": 32,
   "metadata": {
    "collapsed": false
   },
   "outputs": [
    {
     "data": {
      "text/plain": [
       "98.649121943574542"
      ]
     },
     "execution_count": 32,
     "metadata": {},
     "output_type": "execute_result"
    }
   ],
   "source": [
    "np.average([cf.estimate(2011, coeff=coeff_groups[g], julian=True) for g in year_groups],\n",
    "           weights=[0.09587449, 0.1090192, 0.10762814, 0.09305648, 0.10291478, 0.08911466, 0.09508037, 0.09287938, 0.1079545, 0.10647799])"
   ]
  },
  {
   "cell_type": "code",
   "execution_count": null,
   "metadata": {
    "collapsed": true
   },
   "outputs": [],
   "source": []
  },
  {
   "cell_type": "code",
   "execution_count": 33,
   "metadata": {
    "collapsed": false
   },
   "outputs": [
    {
     "data": {
      "text/plain": [
       "{0: datetime.datetime(2010, 4, 1, 3, 0, tzinfo=<DstTzInfo 'US/Eastern' EDT-1 day, 20:00:00 DST>),\n",
       " 1: datetime.datetime(2010, 4, 3, 17, 0, tzinfo=<DstTzInfo 'US/Eastern' EDT-1 day, 20:00:00 DST>),\n",
       " 2: datetime.datetime(2010, 4, 2, 16, 0, tzinfo=<DstTzInfo 'US/Eastern' EDT-1 day, 20:00:00 DST>),\n",
       " 3: datetime.datetime(2010, 3, 29, 8, 0, tzinfo=<DstTzInfo 'US/Eastern' EDT-1 day, 20:00:00 DST>),\n",
       " 4: datetime.datetime(2010, 3, 29, 15, 0, tzinfo=<DstTzInfo 'US/Eastern' EDT-1 day, 20:00:00 DST>),\n",
       " 5: datetime.datetime(2010, 4, 1, 0, 0, tzinfo=<DstTzInfo 'US/Eastern' EDT-1 day, 20:00:00 DST>),\n",
       " 6: datetime.datetime(2010, 4, 3, 17, 0, tzinfo=<DstTzInfo 'US/Eastern' EDT-1 day, 20:00:00 DST>),\n",
       " 7: datetime.datetime(2010, 4, 3, 15, 0, tzinfo=<DstTzInfo 'US/Eastern' EDT-1 day, 20:00:00 DST>),\n",
       " 8: datetime.datetime(2010, 4, 1, 0, 0, tzinfo=<DstTzInfo 'US/Eastern' EDT-1 day, 20:00:00 DST>),\n",
       " 9: datetime.datetime(2010, 4, 2, 12, 0, tzinfo=<DstTzInfo 'US/Eastern' EDT-1 day, 20:00:00 DST>)}"
      ]
     },
     "execution_count": 33,
     "metadata": {},
     "output_type": "execute_result"
    }
   ],
   "source": [
    "{g: cf.estimate_safely(2010, coeff=coeff_groups[g]) for g in year_groups}"
   ]
  },
  {
   "cell_type": "code",
   "execution_count": 34,
   "metadata": {
    "collapsed": false
   },
   "outputs": [
    {
     "data": {
      "text/plain": [
       "{0: 91.125,\n",
       " 1: 93.70833333333333,\n",
       " 2: 92.66666666666667,\n",
       " 3: 88.33333333333333,\n",
       " 4: 88.625,\n",
       " 5: 91.0,\n",
       " 6: 93.70833333333333,\n",
       " 7: 93.625,\n",
       " 8: 91.0,\n",
       " 9: 92.5}"
      ]
     },
     "execution_count": 34,
     "metadata": {},
     "output_type": "execute_result"
    }
   ],
   "source": [
    "{g: cf.estimate_safely(2010, coeff=coeff_groups[g], julian=True) for g in year_groups}"
   ]
  },
  {
   "cell_type": "code",
   "execution_count": 35,
   "metadata": {
    "collapsed": false
   },
   "outputs": [
    {
     "data": {
      "text/plain": [
       "91.5823067870936"
      ]
     },
     "execution_count": 35,
     "metadata": {},
     "output_type": "execute_result"
    }
   ],
   "source": [
    "np.average([cf.estimate(2010, coeff=coeff_groups[g], julian=True) for g in year_groups],\n",
    "           weights=[0.10593241, 0.09837075, 0.11298145, 0.09436486, 0.11091351, 0.09777633, 0.0925214, 0.08644812, 0.09942708, 0.1012641])"
   ]
  }
 ],
 "metadata": {
  "kernelspec": {
   "display_name": "Python 3",
   "language": "python",
   "name": "python3"
  },
  "language_info": {
   "codemirror_mode": {
    "name": "ipython",
    "version": 3
   },
   "file_extension": ".py",
   "mimetype": "text/x-python",
   "name": "python",
   "nbconvert_exporter": "python",
   "pygments_lexer": "ipython3",
   "version": "3.5.1"
  }
 },
 "nbformat": 4,
 "nbformat_minor": 0
}
