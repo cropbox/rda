{
 "cells": [
  {
   "cell_type": "code",
   "execution_count": 1,
   "metadata": {
    "colab": {
     "autoexec": {
      "startup": false,
      "wait_interval": 0
     }
    },
    "colab_type": "code",
    "id": "Pa1uBaRpL9Mp"
   },
   "outputs": [],
   "source": [
    "%matplotlib inline"
   ]
  },
  {
   "cell_type": "code",
   "execution_count": 2,
   "metadata": {
    "colab": {
     "autoexec": {
      "startup": false,
      "wait_interval": 0
     },
     "base_uri": "https://localhost:8080/",
     "height": 334
    },
    "colab_type": "code",
    "executionInfo": {
     "elapsed": 858,
     "status": "error",
     "timestamp": 1524263558022,
     "user": {
      "displayName": "Kyungdahm Yun",
      "photoUrl": "//lh3.googleusercontent.com/-SfjrjIIlRxU/AAAAAAAAAAI/AAAAAAAAABI/9PjjZfU0za4/s50-c-k-no/photo.jpg",
      "userId": "109145957366884268044"
     },
     "user_tz": 420
    },
    "id": "OkfM4fzcL9Ms",
    "outputId": "3fe61fa7-40de-402e-e166-9a61f8dff2e4"
   },
   "outputs": [],
   "source": [
    "import numpy as np\n",
    "import pandas as pd\n",
    "import seaborn as sns\n",
    "import matplotlib.pyplot as plt\n",
    "import sklearn.covariance\n",
    "import sklearn.cluster\n",
    "import datetime\n",
    "import fastdtw"
   ]
  },
  {
   "cell_type": "code",
   "execution_count": null,
   "metadata": {
    "colab": {
     "autoexec": {
      "startup": false,
      "wait_interval": 0
     }
    },
    "colab_type": "code",
    "id": "rZ2kp8SGL9Mv"
   },
   "outputs": [],
   "source": []
  },
  {
   "cell_type": "code",
   "execution_count": 3,
   "metadata": {
    "colab": {
     "autoexec": {
      "startup": false,
      "wait_interval": 0
     }
    },
    "colab_type": "code",
    "id": "v-RRlKvWL9Mx"
   },
   "outputs": [],
   "source": [
    "met = pd.read_hdf('../../input/df/met/usa_ds3505.h5').loc[724050]"
   ]
  },
  {
   "cell_type": "code",
   "execution_count": 4,
   "metadata": {
    "colab": {
     "autoexec": {
      "startup": false,
      "wait_interval": 0
     }
    },
    "colab_type": "code",
    "id": "Zh5wvn_JL9My"
   },
   "outputs": [],
   "source": [
    "obs = pd.read_hdf('../../input/df/obs/cherry_dc.h5').loc['DC']"
   ]
  },
  {
   "cell_type": "code",
   "execution_count": 5,
   "metadata": {
    "colab": {
     "autoexec": {
      "startup": false,
      "wait_interval": 0
     }
    },
    "colab_type": "code",
    "id": "WS-Y1AsSL9M0"
   },
   "outputs": [],
   "source": [
    "#years = list(range(1940, 2010))\n",
    "years = list(set(range(1940, 2010)) - set([1946, 1970, 1971, 1972, 1973]))"
   ]
  },
  {
   "cell_type": "code",
   "execution_count": 6,
   "metadata": {},
   "outputs": [],
   "source": [
    "L = 5000"
   ]
  },
  {
   "cell_type": "code",
   "execution_count": 7,
   "metadata": {
    "colab": {
     "autoexec": {
      "startup": false,
      "wait_interval": 0
     }
    },
    "colab_type": "code",
    "id": "2D4NSvnQL9M3"
   },
   "outputs": [],
   "source": [
    "def timeseries(year, length=L, s=met.tavg):\n",
    "    t = datetime.date(year-1, 10, 1)\n",
    "    return np.array(s.loc[t:][:length])"
   ]
  },
  {
   "cell_type": "code",
   "execution_count": 8,
   "metadata": {
    "colab": {
     "autoexec": {
      "startup": false,
      "wait_interval": 0
     }
    },
    "colab_type": "code",
    "id": "DH96ZmklL9M5"
   },
   "outputs": [],
   "source": [
    "def timeseriess(years, length=L, s=met.tavg):\n",
    "    return np.array([timeseries(y, length, s) for y in years])"
   ]
  },
  {
   "cell_type": "code",
   "execution_count": 9,
   "metadata": {
    "colab": {
     "autoexec": {
      "startup": false,
      "wait_interval": 0
     }
    },
    "colab_type": "code",
    "id": "9BzMYZVUL9M7"
   },
   "outputs": [],
   "source": [
    "def timeframe(year, length=L, s=met.tavg, freq='D', to_dict=False):\n",
    "    t = datetime.date(year-1, 10, 1)\n",
    "    hows = ['mean', 'min', 'max']\n",
    "    a = s.loc[t:][:length].resample(freq).aggregate(hows).values\n",
    "    if to_dict:\n",
    "         return dict(zip(hows, a.T))\n",
    "    else:\n",
    "         return a"
   ]
  },
  {
   "cell_type": "code",
   "execution_count": 10,
   "metadata": {
    "colab": {
     "autoexec": {
      "startup": false,
      "wait_interval": 0
     }
    },
    "colab_type": "code",
    "id": "wE_rYb7EL9M9"
   },
   "outputs": [],
   "source": [
    "def timeframes(years, length=L, s=met.tavg, freq='D'):\n",
    "    return np.array([timeframe(y, length, s, freq).flatten() for y in years])"
   ]
  },
  {
   "cell_type": "code",
   "execution_count": null,
   "metadata": {},
   "outputs": [],
   "source": []
  },
  {
   "cell_type": "code",
   "execution_count": 11,
   "metadata": {},
   "outputs": [],
   "source": [
    "def time_winter_months(year, s=met.tavg):\n",
    "    t0 = datetime.date(year-1, 12, 1)\n",
    "    t1 = datetime.date(year, 3, 31)\n",
    "    hows = ['mean', 'min', 'max']\n",
    "    return s.loc[t0:][:t1].resample('M').aggregate(hows).values"
   ]
  },
  {
   "cell_type": "code",
   "execution_count": 12,
   "metadata": {},
   "outputs": [
    {
     "data": {
      "text/plain": [
       "array([[ 3.31352723, -4.4       , 17.8       ],\n",
       "       [ 1.51061922, -8.9       , 19.4       ],\n",
       "       [ 1.28952771, -8.3       , 10.        ],\n",
       "       [10.38751318,  0.6       , 23.67333333]])"
      ]
     },
     "execution_count": 12,
     "metadata": {},
     "output_type": "execute_result"
    }
   ],
   "source": [
    "time_winter_months(2010)"
   ]
  },
  {
   "cell_type": "code",
   "execution_count": 13,
   "metadata": {},
   "outputs": [
    {
     "data": {
      "text/plain": [
       "array([[ 5.47701207, -6.1       , 19.85      ],\n",
       "       [ 1.92732976, -9.4       , 21.1       ],\n",
       "       [ 5.24952345, -5.36      , 22.71      ],\n",
       "       [10.84508735, -2.68      , 28.985     ]])"
      ]
     },
     "execution_count": 13,
     "metadata": {},
     "output_type": "execute_result"
    }
   ],
   "source": [
    "time_winter_months(2000)"
   ]
  },
  {
   "cell_type": "code",
   "execution_count": null,
   "metadata": {},
   "outputs": [],
   "source": []
  },
  {
   "cell_type": "code",
   "execution_count": 14,
   "metadata": {},
   "outputs": [],
   "source": [
    "def plot_heatmap(M):\n",
    "    mask = np.zeros_like(M, dtype=np.bool)\n",
    "    mask[np.triu_indices_from(mask)] = True\n",
    "    sns.heatmap(M, mask=mask, vmax=np.ma.array(M, mask=mask).max(), vmin=M.min())"
   ]
  },
  {
   "cell_type": "code",
   "execution_count": 15,
   "metadata": {
    "colab": {
     "autoexec": {
      "startup": false,
      "wait_interval": 0
     }
    },
    "colab_type": "code",
    "id": "c8uagQiGL9NA"
   },
   "outputs": [],
   "source": [
    "def affinity_matrix_hourly(years, length=L, s=met.tavg):\n",
    "    n = len(years)\n",
    "    M = np.zeros(n*n).reshape(n, n)\n",
    "    for (i, yi) in enumerate(years):\n",
    "        ai = timeseries(yi, length, s)\n",
    "        for (j, yj) in enumerate(years):\n",
    "            if i == j:\n",
    "                M[i, j] = 1\n",
    "            else:\n",
    "                aj = timeseries(yj, length, s)\n",
    "                d = fastdtw.fastdtw(ai, aj, radius=1)[0]\n",
    "                M[i, j] = M[j, i] = 1/d\n",
    "    return M"
   ]
  },
  {
   "cell_type": "code",
   "execution_count": 16,
   "metadata": {},
   "outputs": [],
   "source": [
    "#plot_heatmap(affinity_matrix_hourly(years))"
   ]
  },
  {
   "cell_type": "code",
   "execution_count": 17,
   "metadata": {
    "colab": {
     "autoexec": {
      "startup": false,
      "wait_interval": 0
     }
    },
    "colab_type": "code",
    "id": "kaBpAg7dL9NC"
   },
   "outputs": [],
   "source": [
    "def affinity_matrix_daily(years, length=L, s=met.tavg):\n",
    "    n = len(years)\n",
    "    M = np.zeros(n*n).reshape(n, n)\n",
    "    for (i, yi) in enumerate(years):\n",
    "        ai = timeframe(yi, length, s)\n",
    "        for (j, yj) in enumerate(years):\n",
    "            if i == j:\n",
    "                M[i, j] = 1\n",
    "            else:\n",
    "                aj = timeframe(yj, length, s)\n",
    "                d = fastdtw.fastdtw(ai, aj, radius=1, dist=lambda x, y: sum((x - y)**2)**0.5)[0]\n",
    "                M[i, j] = M[j, i] = 1/d\n",
    "    return M"
   ]
  },
  {
   "cell_type": "code",
   "execution_count": 18,
   "metadata": {},
   "outputs": [],
   "source": [
    "#plot_heatmap(affinity_matrix_daily(years))"
   ]
  },
  {
   "cell_type": "code",
   "execution_count": 19,
   "metadata": {
    "colab": {
     "autoexec": {
      "startup": false,
      "wait_interval": 0
     }
    },
    "colab_type": "code",
    "id": "ZkjevRISL9NF"
   },
   "outputs": [],
   "source": [
    "def affinity_matrix_daily_mean(years, length=L, s=met.tavg):\n",
    "    n = len(years)\n",
    "    M = np.zeros(n*n).reshape(n, n)\n",
    "    for (i, yi) in enumerate(years):\n",
    "        ai = timeframe(yi, length, s, to_dict=True)['mean']\n",
    "        for (j, yj) in enumerate(years):\n",
    "            if i == j:\n",
    "                M[i, j] = 1\n",
    "            else:\n",
    "                aj = timeframe(yj, length, s, to_dict=True)['mean']\n",
    "                d = fastdtw.fastdtw(ai, aj, radius=1)[0]\n",
    "                M[i, j] = M[j, i] = 1/d\n",
    "    return M"
   ]
  },
  {
   "cell_type": "code",
   "execution_count": 20,
   "metadata": {},
   "outputs": [],
   "source": [
    "#plot_heatmap(affinity_matrix_daily_mean(years))"
   ]
  },
  {
   "cell_type": "code",
   "execution_count": 21,
   "metadata": {
    "colab": {
     "autoexec": {
      "startup": false,
      "wait_interval": 0
     }
    },
    "colab_type": "code",
    "id": "vY3Wsge-L9NH"
   },
   "outputs": [],
   "source": [
    "def affinity_matrix_daily_diff(years, length=L, s=met.tavg):\n",
    "    n = len(years)\n",
    "    M = np.zeros(n*n).reshape(n, n)\n",
    "    am = np.array([timeframe(y, length, s, to_dict=True)['mean'] for y in years]).mean(axis=0)\n",
    "    for (i, yi) in enumerate(years):\n",
    "        ai = timeframe(yi, length, s, to_dict=True)['mean'] - am\n",
    "        for (j, yj) in enumerate(years):\n",
    "            if i == j:\n",
    "                M[i, j] = 1\n",
    "            else:\n",
    "                aj = timeframe(yj, length, s, to_dict=True)['mean'] - am\n",
    "                d = fastdtw.fastdtw(ai, aj, radius=1)[0]\n",
    "                M[i, j] = M[j, i] = 1/d\n",
    "    return M"
   ]
  },
  {
   "cell_type": "code",
   "execution_count": 22,
   "metadata": {},
   "outputs": [],
   "source": [
    "#plot_heatmap(affinity_matrix_daily_diff(years))"
   ]
  },
  {
   "cell_type": "code",
   "execution_count": 23,
   "metadata": {
    "colab": {
     "autoexec": {
      "startup": false,
      "wait_interval": 0
     }
    },
    "colab_type": "code",
    "id": "euNuv9z3L9NK"
   },
   "outputs": [],
   "source": [
    "def affinity_matrix_daily_cumulative_residual(years, length=L, s=met.tavg):\n",
    "    n = len(years)\n",
    "    M = np.zeros(n*n).reshape(n, n)\n",
    "    am = np.array([timeframe(y, length, s, to_dict=True)['mean'] for y in years]).mean(axis=0)\n",
    "    def a(y):\n",
    "        ad = timeframe(y, length, s, to_dict=True)['mean'] - am\n",
    "        return np.array([ad.clip(min=0).cumsum(), ad.clip(max=0).cumsum()]).T\n",
    "    for (i, yi) in enumerate(years):\n",
    "        ai = a(yi)\n",
    "        for (j, yj) in enumerate(years):\n",
    "            if i == j:\n",
    "                M[i, j] = 1\n",
    "            else:\n",
    "                aj = a(yj)\n",
    "                d = fastdtw.fastdtw(ai, aj, radius=1, dist=lambda x, y: sum((x - y)**2)**0.5)[0]\n",
    "                M[i, j] = M[j, i] = 1/d\n",
    "    return M"
   ]
  },
  {
   "cell_type": "code",
   "execution_count": 24,
   "metadata": {},
   "outputs": [],
   "source": [
    "#plot_heatmap(affinity_matrix_daily_cumulative_residual(years))"
   ]
  },
  {
   "cell_type": "code",
   "execution_count": 25,
   "metadata": {
    "colab": {
     "autoexec": {
      "startup": false,
      "wait_interval": 0
     }
    },
    "colab_type": "code",
    "id": "E-HoyJneL9NM"
   },
   "outputs": [],
   "source": [
    "def affinity_matrix_daily_cumulative_diff(years, length=L, s=met.tavg):\n",
    "    n = len(years)\n",
    "    M = np.zeros(n*n).reshape(n, n)\n",
    "    def a(y):\n",
    "        tf = timeframe(y, length, s, to_dict=True)['mean']\n",
    "        ad = tf[:-1] - tf[1:]\n",
    "        return np.array([ad.clip(min=0).cumsum(), ad.clip(max=0).cumsum()]).T\n",
    "    for (i, yi) in enumerate(years):\n",
    "        ai = a(yi)\n",
    "        for (j, yj) in enumerate(years):\n",
    "            if i == j:\n",
    "                M[i, j] = 1\n",
    "            else:\n",
    "                aj = a(yj)\n",
    "                d = fastdtw.fastdtw(ai, aj, radius=1, dist=lambda x, y: sum((x - y)**2)**0.5)[0]\n",
    "                M[i, j] = M[j, i] = 1/d\n",
    "    return M"
   ]
  },
  {
   "cell_type": "code",
   "execution_count": 26,
   "metadata": {},
   "outputs": [],
   "source": [
    "#plot_heatmap(affinity_matrix_daily_cumulative_diff(years))"
   ]
  },
  {
   "cell_type": "code",
   "execution_count": 27,
   "metadata": {
    "colab": {
     "autoexec": {
      "startup": false,
      "wait_interval": 0
     }
    },
    "colab_type": "code",
    "id": "5hEWq4dqL9NO"
   },
   "outputs": [],
   "source": [
    "def affinity_matrix_hourly_cumulative_residual(years, length=L, s=met.tavg):\n",
    "    n = len(years)\n",
    "    M = np.zeros(n*n).reshape(n, n)\n",
    "    am = np.array([timeseries(y, length, s) for y in years]).mean(axis=0)\n",
    "    def a(y):\n",
    "        ad = timeseries(y, length, s) - am\n",
    "        return np.array([ad.clip(min=0).cumsum(), ad.clip(max=0).cumsum()]).T\n",
    "    for (i, yi) in enumerate(years):\n",
    "        ai = a(yi)\n",
    "        for (j, yj) in enumerate(years):\n",
    "            if i == j:\n",
    "                M[i, j] = 1\n",
    "            else:\n",
    "                aj = a(yj)\n",
    "                d = fastdtw.fastdtw(ai, aj, radius=1, dist=lambda x, y: sum((x - y)**2)**0.5)[0]\n",
    "                M[i, j] = M[j, i] = 1/d\n",
    "    return M"
   ]
  },
  {
   "cell_type": "code",
   "execution_count": 28,
   "metadata": {},
   "outputs": [],
   "source": [
    "#plot_heatmap(affinity_matrix_hourly_cumulative_residual(years))"
   ]
  },
  {
   "cell_type": "code",
   "execution_count": 29,
   "metadata": {
    "colab": {
     "autoexec": {
      "startup": false,
      "wait_interval": 0
     }
    },
    "colab_type": "code",
    "id": "5bShPO_aL9NR"
   },
   "outputs": [],
   "source": [
    "def covariance_matrix(years, length=L, s=met.tavg):\n",
    "    X = np.array([timeseries(y, length, s) for y in years])\n",
    "    cov = sklearn.covariance.GraphLassoCV()\n",
    "    cov.fit(X.T)\n",
    "    return cov.covariance_"
   ]
  },
  {
   "cell_type": "code",
   "execution_count": 30,
   "metadata": {},
   "outputs": [],
   "source": [
    "#plot_heatmap(covariance_matrix(years))"
   ]
  },
  {
   "cell_type": "code",
   "execution_count": 31,
   "metadata": {
    "colab": {
     "autoexec": {
      "startup": false,
      "wait_interval": 0
     }
    },
    "colab_type": "code",
    "id": "e2iJj9S5L9NT"
   },
   "outputs": [],
   "source": [
    "def correlation_matrix(years, length=L, s=met.tavg):\n",
    "    n = len(years)\n",
    "    M = np.zeros(n*n).reshape(n, n)\n",
    "    for (i, yi) in enumerate(years):\n",
    "        ai = pd.Series(timeseries(yi, length, s))\n",
    "        for (j, yj) in enumerate(years):\n",
    "            aj = pd.Series(timeseries(yj, length, s))\n",
    "            M[i, j] = M[j, i] = ai.corr(aj)\n",
    "    return M"
   ]
  },
  {
   "cell_type": "code",
   "execution_count": 32,
   "metadata": {},
   "outputs": [
    {
     "data": {
      "image/png": "[encoded data removed]",
      "text/plain": [
       "<Figure size 432x288 with 2 Axes>"
      ]
     },
     "metadata": {},
     "output_type": "display_data"
    }
   ],
   "source": [
    "plot_heatmap(correlation_matrix(years))"
   ]
  },
  {
   "cell_type": "code",
   "execution_count": 33,
   "metadata": {
    "colab": {
     "autoexec": {
      "startup": false,
      "wait_interval": 0
     }
    },
    "colab_type": "code",
    "id": "4WIFxIOkL9NX"
   },
   "outputs": [],
   "source": [
    "def timefeature(year, length=L, s=met.tavg, to_dict=False):\n",
    "    t = datetime.date(year-1, 10, 1)\n",
    "    df = s.loc[t:][:length]\n",
    "    def feature(h):\n",
    "        v = df.resample('M').aggregate(h).tolist()\n",
    "        if to_dict:\n",
    "            k = ['t{}{}'.format(h, i) for i in range(len(v))]\n",
    "            return dict(zip(k, v))\n",
    "        else:\n",
    "            return v\n",
    "    fs = [feature(h) for h in {'mean', 'min', 'max'}]\n",
    "    if to_dict:\n",
    "        d = {}\n",
    "        [d.update(f) for f in fs]\n",
    "        return d\n",
    "    else:\n",
    "        return sum(fs, [])"
   ]
  },
  {
   "cell_type": "code",
   "execution_count": 34,
   "metadata": {
    "colab": {
     "autoexec": {
      "startup": false,
      "wait_interval": 0
     }
    },
    "colab_type": "code",
    "id": "HvR2NTwZL9NZ"
   },
   "outputs": [],
   "source": [
    "def affinity_matrix_feature(years, length=L, s=met.tavg):\n",
    "    X = np.array([timefeature(y) for y in years])\n",
    "    return sklearn.metrics.pairwise_distances(X)"
   ]
  },
  {
   "cell_type": "code",
   "execution_count": 35,
   "metadata": {},
   "outputs": [
    {
     "data": {
      "image/png": "[encoded data removed]",
      "text/plain": [
       "<Figure size 432x288 with 2 Axes>"
      ]
     },
     "metadata": {},
     "output_type": "display_data"
    }
   ],
   "source": [
    "plot_heatmap(affinity_matrix_feature(years))"
   ]
  },
  {
   "cell_type": "code",
   "execution_count": null,
   "metadata": {
    "colab": {
     "autoexec": {
      "startup": false,
      "wait_interval": 0
     }
    },
    "colab_type": "code",
    "id": "wG4vZnpGL9Na"
   },
   "outputs": [],
   "source": []
  },
  {
   "cell_type": "code",
   "execution_count": 36,
   "metadata": {
    "colab": {
     "autoexec": {
      "startup": false,
      "wait_interval": 0
     }
    },
    "colab_type": "code",
    "id": "5HtLPKh7L9Nc"
   },
   "outputs": [],
   "source": [
    "import scipy.signal"
   ]
  },
  {
   "cell_type": "code",
   "execution_count": 37,
   "metadata": {
    "colab": {
     "autoexec": {
      "startup": false,
      "wait_interval": 0
     }
    },
    "colab_type": "code",
    "id": "zbcWgwA3L9Nd",
    "outputId": "ecdfed2c-f11b-4c26-83d5-aa1835992451"
   },
   "outputs": [
    {
     "data": {
      "image/png": "[encoded data removed]",
      "text/plain": [
       "<Figure size 432x288 with 1 Axes>"
      ]
     },
     "metadata": {},
     "output_type": "display_data"
    }
   ],
   "source": [
    "for y in years:\n",
    "    plt.semilogx(*scipy.signal.periodogram(timeseries(y)))"
   ]
  },
  {
   "cell_type": "code",
   "execution_count": null,
   "metadata": {
    "colab": {
     "autoexec": {
      "startup": false,
      "wait_interval": 0
     }
    },
    "colab_type": "code",
    "id": "_kkiuYNNL9Nh"
   },
   "outputs": [],
   "source": []
  },
  {
   "cell_type": "code",
   "execution_count": null,
   "metadata": {
    "colab": {
     "autoexec": {
      "startup": false,
      "wait_interval": 0
     }
    },
    "colab_type": "code",
    "id": "Be440VREL9Ni"
   },
   "outputs": [],
   "source": []
  },
  {
   "cell_type": "code",
   "execution_count": null,
   "metadata": {
    "colab": {
     "autoexec": {
      "startup": false,
      "wait_interval": 0
     }
    },
    "colab_type": "code",
    "id": "cIni6d2ML9Nk"
   },
   "outputs": [],
   "source": []
  },
  {
   "cell_type": "code",
   "execution_count": null,
   "metadata": {
    "colab": {
     "autoexec": {
      "startup": false,
      "wait_interval": 0
     }
    },
    "colab_type": "code",
    "id": "h2-evUe-L9Nm"
   },
   "outputs": [],
   "source": []
  },
  {
   "cell_type": "code",
   "execution_count": 38,
   "metadata": {
    "colab": {
     "autoexec": {
      "startup": false,
      "wait_interval": 0
     }
    },
    "colab_type": "code",
    "id": "dzoIYh_nL9Nn"
   },
   "outputs": [],
   "source": [
    "#M = affinity_matrix_daily(years)\n",
    "#M = affinity_matrix_hourly(years)\n",
    "M = correlation_matrix(years)\n",
    "af = sklearn.cluster.AffinityPropagation(affinity='precomputed').fit(M)"
   ]
  },
  {
   "cell_type": "code",
   "execution_count": 39,
   "metadata": {
    "colab": {
     "autoexec": {
      "startup": false,
      "wait_interval": 0
     }
    },
    "colab_type": "code",
    "id": "7n8vPyj7L9Np",
    "outputId": "7cf04e6d-f1bb-4951-d108-8c6e02c9b705"
   },
   "outputs": [
    {
     "data": {
      "text/plain": [
       "array([ 0,  1,  2,  3,  4,  5,  6,  7,  8,  9, 10])"
      ]
     },
     "execution_count": 39,
     "metadata": {},
     "output_type": "execute_result"
    }
   ],
   "source": [
    "groups = np.unique(af.labels_)\n",
    "groups"
   ]
  },
  {
   "cell_type": "code",
   "execution_count": null,
   "metadata": {
    "colab": {
     "autoexec": {
      "startup": false,
      "wait_interval": 0
     }
    },
    "colab_type": "code",
    "id": "icu_EYvKL9Nr"
   },
   "outputs": [],
   "source": []
  },
  {
   "cell_type": "code",
   "execution_count": 40,
   "metadata": {
    "colab": {
     "autoexec": {
      "startup": false,
      "wait_interval": 0
     }
    },
    "colab_type": "code",
    "id": "nprTgL5RL9Nt"
   },
   "outputs": [],
   "source": [
    "mask = np.zeros_like(M, dtype=np.bool)\n",
    "mask[np.triu_indices_from(mask)] = True"
   ]
  },
  {
   "cell_type": "code",
   "execution_count": 41,
   "metadata": {
    "colab": {
     "autoexec": {
      "startup": false,
      "wait_interval": 0
     }
    },
    "colab_type": "code",
    "id": "-t4KVCpbL9Nv",
    "outputId": "4d149ea0-01c6-4f3d-f8c3-947427340433"
   },
   "outputs": [
    {
     "data": {
      "text/plain": [
       "0.7151137417981396"
      ]
     },
     "execution_count": 41,
     "metadata": {},
     "output_type": "execute_result"
    }
   ],
   "source": [
    "np.ma.array(M, mask=mask).max()"
   ]
  },
  {
   "cell_type": "code",
   "execution_count": 42,
   "metadata": {
    "colab": {
     "autoexec": {
      "startup": false,
      "wait_interval": 0
     }
    },
    "colab_type": "code",
    "id": "Fa-aAyGHL9Nx",
    "outputId": "05777f01-c375-4fb5-dad9-e29afab44006"
   },
   "outputs": [
    {
     "data": {
      "text/plain": [
       "0.32242378704776636"
      ]
     },
     "execution_count": 42,
     "metadata": {},
     "output_type": "execute_result"
    }
   ],
   "source": [
    "M.min()"
   ]
  },
  {
   "cell_type": "code",
   "execution_count": 43,
   "metadata": {
    "colab": {
     "autoexec": {
      "startup": false,
      "wait_interval": 0
     }
    },
    "colab_type": "code",
    "id": "kWu9dx4ML9N0",
    "outputId": "c9f5b1c5-ea6d-432f-84ad-1d4ee454ead1"
   },
   "outputs": [
    {
     "data": {
      "image/png": "[encoded data removed]",
      "text/plain": [
       "<Figure size 432x288 with 2 Axes>"
      ]
     },
     "metadata": {},
     "output_type": "display_data"
    }
   ],
   "source": [
    "sns.set(style='white')\n",
    "#sns.heatmap(M, mask=mask, vmax=np.ma.array(M, mask=mask).max(), vmin=M.min())\n",
    "plot_heatmap(M)"
   ]
  },
  {
   "cell_type": "code",
   "execution_count": null,
   "metadata": {
    "colab": {
     "autoexec": {
      "startup": false,
      "wait_interval": 0
     }
    },
    "colab_type": "code",
    "id": "Ma-MplvOL9N2"
   },
   "outputs": [],
   "source": []
  },
  {
   "cell_type": "code",
   "execution_count": 44,
   "metadata": {
    "colab": {
     "autoexec": {
      "startup": false,
      "wait_interval": 0
     }
    },
    "colab_type": "code",
    "id": "qRtfGn7nL9N4"
   },
   "outputs": [],
   "source": [
    "DM = 1/M\n",
    "np.fill_diagonal(DM, 0)\n",
    "D = scipy.spatial.distance.squareform(DM)"
   ]
  },
  {
   "cell_type": "code",
   "execution_count": 45,
   "metadata": {
    "colab": {
     "autoexec": {
      "startup": false,
      "wait_interval": 0
     }
    },
    "colab_type": "code",
    "id": "jcuY8aJDL9N5",
    "outputId": "3b99887b-af4d-4454-f270-4d7b7366d05b"
   },
   "outputs": [
    {
     "data": {
      "text/plain": [
       "{'icoord': [[105.0, 105.0, 115.0, 115.0],\n",
       "  [185.0, 185.0, 195.0, 195.0],\n",
       "  [315.0, 315.0, 325.0, 325.0],\n",
       "  [345.0, 345.0, 355.0, 355.0],\n",
       "  [385.0, 385.0, 395.0, 395.0],\n",
       "  [375.0, 375.0, 390.0, 390.0],\n",
       "  [365.0, 365.0, 382.5, 382.5],\n",
       "  [350.0, 350.0, 373.75, 373.75],\n",
       "  [455.0, 455.0, 465.0, 465.0],\n",
       "  [495.0, 495.0, 505.0, 505.0],\n",
       "  [545.0, 545.0, 555.0, 555.0],\n",
       "  [535.0, 535.0, 550.0, 550.0],\n",
       "  [525.0, 525.0, 542.5, 542.5],\n",
       "  [515.0, 515.0, 533.75, 533.75],\n",
       "  [500.0, 500.0, 524.375, 524.375],\n",
       "  [485.0, 485.0, 512.1875, 512.1875],\n",
       "  [475.0, 475.0, 498.59375, 498.59375],\n",
       "  [595.0, 595.0, 605.0, 605.0],\n",
       "  [585.0, 585.0, 600.0, 600.0],\n",
       "  [575.0, 575.0, 592.5, 592.5],\n",
       "  [565.0, 565.0, 583.75, 583.75],\n",
       "  [486.796875, 486.796875, 574.375, 574.375],\n",
       "  [460.0, 460.0, 530.5859375, 530.5859375],\n",
       "  [635.0, 635.0, 645.0, 645.0],\n",
       "  [625.0, 625.0, 640.0, 640.0],\n",
       "  [615.0, 615.0, 632.5, 632.5],\n",
       "  [495.29296875, 495.29296875, 623.75, 623.75],\n",
       "  [445.0, 445.0, 559.521484375, 559.521484375],\n",
       "  [435.0, 435.0, 502.2607421875, 502.2607421875],\n",
       "  [425.0, 425.0, 468.63037109375, 468.63037109375],\n",
       "  [415.0, 415.0, 446.815185546875, 446.815185546875],\n",
       "  [405.0, 405.0, 430.9075927734375, 430.9075927734375],\n",
       "  [361.875, 361.875, 417.95379638671875, 417.95379638671875],\n",
       "  [335.0, 335.0, 389.9143981933594, 389.9143981933594],\n",
       "  [320.0, 320.0, 362.4571990966797, 362.4571990966797],\n",
       "  [305.0, 305.0, 341.22859954833984, 341.22859954833984],\n",
       "  [295.0, 295.0, 323.1142997741699, 323.1142997741699],\n",
       "  [285.0, 285.0, 309.05714988708496, 309.05714988708496],\n",
       "  [275.0, 275.0, 297.0285749435425, 297.0285749435425],\n",
       "  [265.0, 265.0, 286.01428747177124, 286.01428747177124],\n",
       "  [255.0, 255.0, 275.5071437358856, 275.5071437358856],\n",
       "  [245.0, 245.0, 265.2535718679428, 265.2535718679428],\n",
       "  [235.0, 235.0, 255.1267859339714, 255.1267859339714],\n",
       "  [225.0, 225.0, 245.0633929669857, 245.0633929669857],\n",
       "  [215.0, 215.0, 235.03169648349285, 235.03169648349285],\n",
       "  [205.0, 205.0, 225.01584824174643, 225.01584824174643],\n",
       "  [190.0, 190.0, 215.0079241208732, 215.0079241208732],\n",
       "  [175.0, 175.0, 202.5039620604366, 202.5039620604366],\n",
       "  [165.0, 165.0, 188.7519810302183, 188.7519810302183],\n",
       "  [155.0, 155.0, 176.87599051510915, 176.87599051510915],\n",
       "  [145.0, 145.0, 165.93799525755458, 165.93799525755458],\n",
       "  [135.0, 135.0, 155.4689976287773, 155.4689976287773],\n",
       "  [125.0, 125.0, 145.23449881438864, 145.23449881438864],\n",
       "  [110.0, 110.0, 135.11724940719432, 135.11724940719432],\n",
       "  [95.0, 95.0, 122.55862470359716, 122.55862470359716],\n",
       "  [85.0, 85.0, 108.77931235179858, 108.77931235179858],\n",
       "  [75.0, 75.0, 96.88965617589929, 96.88965617589929],\n",
       "  [65.0, 65.0, 85.94482808794965, 85.94482808794965],\n",
       "  [55.0, 55.0, 75.47241404397482, 75.47241404397482],\n",
       "  [45.0, 45.0, 65.23620702198741, 65.23620702198741],\n",
       "  [35.0, 35.0, 55.118103510993706, 55.118103510993706],\n",
       "  [25.0, 25.0, 45.05905175549685, 45.05905175549685],\n",
       "  [15.0, 15.0, 35.029525877748426, 35.029525877748426],\n",
       "  [5.0, 5.0, 25.014762938874213, 25.014762938874213]],\n",
       " 'dcoord': [[0.0, 1.6132013207517908, 1.6132013207517908, 0.0],\n",
       "  [0.0, 1.5311837790994287, 1.5311837790994287, 0.0],\n",
       "  [0.0, 1.5192485372830227, 1.5192485372830227, 0.0],\n",
       "  [0.0, 1.4820651346905915, 1.4820651346905915, 0.0],\n",
       "  [0.0, 1.4196592621266277, 1.4196592621266277, 0.0],\n",
       "  [0.0, 1.4850092305902203, 1.4850092305902203, 1.4196592621266277],\n",
       "  [0.0, 1.4859520386095382, 1.4859520386095382, 1.4850092305902203],\n",
       "  [1.4820651346905915,\n",
       "   1.4969944059132114,\n",
       "   1.4969944059132114,\n",
       "   1.4859520386095382],\n",
       "  [0.0, 1.3983789452647344, 1.3983789452647344, 0.0],\n",
       "  [0.0, 1.4439874194182745, 1.4439874194182745, 0.0],\n",
       "  [0.0, 1.425017815896076, 1.425017815896076, 0.0],\n",
       "  [0.0, 1.4456594285228976, 1.4456594285228976, 1.425017815896076],\n",
       "  [0.0, 1.4497695504203791, 1.4497695504203791, 1.4456594285228976],\n",
       "  [0.0, 1.45993872569546, 1.45993872569546, 1.4497695504203791],\n",
       "  [1.4439874194182745,\n",
       "   1.4650043931633465,\n",
       "   1.4650043931633465,\n",
       "   1.45993872569546],\n",
       "  [0.0, 1.4663141718872301, 1.4663141718872301, 1.4650043931633465],\n",
       "  [0.0, 1.4919320743469808, 1.4919320743469808, 1.4663141718872301],\n",
       "  [0.0, 1.4896880990929309, 1.4896880990929309, 0.0],\n",
       "  [0.0, 1.4962428015539175, 1.4962428015539175, 1.4896880990929309],\n",
       "  [0.0, 1.5012767824598492, 1.5012767824598492, 1.4962428015539175],\n",
       "  [0.0, 1.5031264673185971, 1.5031264673185971, 1.5012767824598492],\n",
       "  [1.4919320743469808,\n",
       "   1.504533406000289,\n",
       "   1.504533406000289,\n",
       "   1.5031264673185971],\n",
       "  [1.3983789452647344,\n",
       "   1.507977591261889,\n",
       "   1.507977591261889,\n",
       "   1.504533406000289],\n",
       "  [0.0, 1.4772936206893938, 1.4772936206893938, 0.0],\n",
       "  [0.0, 1.5061828880314017, 1.5061828880314017, 1.4772936206893938],\n",
       "  [0.0, 1.5095074674359643, 1.5095074674359643, 1.5061828880314017],\n",
       "  [1.507977591261889,\n",
       "   1.511625398286057,\n",
       "   1.511625398286057,\n",
       "   1.5095074674359643],\n",
       "  [0.0, 1.5131977464785211, 1.5131977464785211, 1.511625398286057],\n",
       "  [0.0, 1.5175880474598797, 1.5175880474598797, 1.5131977464785211],\n",
       "  [0.0, 1.5251933230822794, 1.5251933230822794, 1.5175880474598797],\n",
       "  [0.0, 1.5262106936587758, 1.5262106936587758, 1.5251933230822794],\n",
       "  [0.0, 1.5278134834422978, 1.5278134834422978, 1.5262106936587758],\n",
       "  [1.4969944059132114,\n",
       "   1.5281061851892463,\n",
       "   1.5281061851892463,\n",
       "   1.5278134834422978],\n",
       "  [0.0, 1.5336474275890437, 1.5336474275890437, 1.5281061851892463],\n",
       "  [1.5192485372830227,\n",
       "   1.539813421254668,\n",
       "   1.539813421254668,\n",
       "   1.5336474275890437],\n",
       "  [0.0, 1.5423232961621662, 1.5423232961621662, 1.539813421254668],\n",
       "  [0.0, 1.5446994897408934, 1.5446994897408934, 1.5423232961621662],\n",
       "  [0.0, 1.549778665822808, 1.549778665822808, 1.5446994897408934],\n",
       "  [0.0, 1.5558644821308125, 1.5558644821308125, 1.549778665822808],\n",
       "  [0.0, 1.5648876603432362, 1.5648876603432362, 1.5558644821308125],\n",
       "  [0.0, 1.5674383414516633, 1.5674383414516633, 1.5648876603432362],\n",
       "  [0.0, 1.567999734547205, 1.567999734547205, 1.5674383414516633],\n",
       "  [0.0, 1.5758871377213883, 1.5758871377213883, 1.567999734547205],\n",
       "  [0.0, 1.5811287292541365, 1.5811287292541365, 1.5758871377213883],\n",
       "  [0.0, 1.594108562196793, 1.594108562196793, 1.5811287292541365],\n",
       "  [0.0, 1.5942502326483314, 1.5942502326483314, 1.594108562196793],\n",
       "  [1.5311837790994287,\n",
       "   1.6006859297185811,\n",
       "   1.6006859297185811,\n",
       "   1.5942502326483314],\n",
       "  [0.0, 1.6090861799268827, 1.6090861799268827, 1.6006859297185811],\n",
       "  [0.0, 1.6134477600932213, 1.6134477600932213, 1.6090861799268827],\n",
       "  [0.0, 1.6154104947207626, 1.6154104947207626, 1.6134477600932213],\n",
       "  [0.0, 1.6294184945512464, 1.6294184945512464, 1.6154104947207626],\n",
       "  [0.0, 1.6300446715169248, 1.6300446715169248, 1.6294184945512464],\n",
       "  [0.0, 1.6334421531398267, 1.6334421531398267, 1.6300446715169248],\n",
       "  [1.6132013207517908,\n",
       "   1.644826696953911,\n",
       "   1.644826696953911,\n",
       "   1.6334421531398267],\n",
       "  [0.0, 1.6450758695725944, 1.6450758695725944, 1.644826696953911],\n",
       "  [0.0, 1.651042276174625, 1.651042276174625, 1.6450758695725944],\n",
       "  [0.0, 1.653349935493672, 1.653349935493672, 1.651042276174625],\n",
       "  [0.0, 1.6624244177007035, 1.6624244177007035, 1.653349935493672],\n",
       "  [0.0, 1.667777163725649, 1.667777163725649, 1.6624244177007035],\n",
       "  [0.0, 1.7087901195564454, 1.7087901195564454, 1.667777163725649],\n",
       "  [0.0, 1.7207659935677502, 1.7207659935677502, 1.7087901195564454],\n",
       "  [0.0, 1.7501903605306521, 1.7501903605306521, 1.7207659935677502],\n",
       "  [0.0, 1.7683364633346679, 1.7683364633346679, 1.7501903605306521],\n",
       "  [0.0, 1.915417249016973, 1.915417249016973, 1.7683364633346679]],\n",
       " 'ivl': ['9',\n",
       "  '24',\n",
       "  '26',\n",
       "  '11',\n",
       "  '8',\n",
       "  '57',\n",
       "  '47',\n",
       "  '44',\n",
       "  '62',\n",
       "  '52',\n",
       "  '29',\n",
       "  '38',\n",
       "  '30',\n",
       "  '27',\n",
       "  '12',\n",
       "  '64',\n",
       "  '6',\n",
       "  '13',\n",
       "  '1',\n",
       "  '48',\n",
       "  '54',\n",
       "  '14',\n",
       "  '43',\n",
       "  '4',\n",
       "  '35',\n",
       "  '0',\n",
       "  '25',\n",
       "  '10',\n",
       "  '23',\n",
       "  '61',\n",
       "  '55',\n",
       "  '19',\n",
       "  '53',\n",
       "  '60',\n",
       "  '3',\n",
       "  '41',\n",
       "  '63',\n",
       "  '58',\n",
       "  '22',\n",
       "  '42',\n",
       "  '18',\n",
       "  '45',\n",
       "  '36',\n",
       "  '50',\n",
       "  '46',\n",
       "  '5',\n",
       "  '32',\n",
       "  '16',\n",
       "  '7',\n",
       "  '37',\n",
       "  '49',\n",
       "  '28',\n",
       "  '17',\n",
       "  '34',\n",
       "  '21',\n",
       "  '33',\n",
       "  '15',\n",
       "  '20',\n",
       "  '40',\n",
       "  '31',\n",
       "  '59',\n",
       "  '2',\n",
       "  '39',\n",
       "  '51',\n",
       "  '56'],\n",
       " 'leaves': [9,\n",
       "  24,\n",
       "  26,\n",
       "  11,\n",
       "  8,\n",
       "  57,\n",
       "  47,\n",
       "  44,\n",
       "  62,\n",
       "  52,\n",
       "  29,\n",
       "  38,\n",
       "  30,\n",
       "  27,\n",
       "  12,\n",
       "  64,\n",
       "  6,\n",
       "  13,\n",
       "  1,\n",
       "  48,\n",
       "  54,\n",
       "  14,\n",
       "  43,\n",
       "  4,\n",
       "  35,\n",
       "  0,\n",
       "  25,\n",
       "  10,\n",
       "  23,\n",
       "  61,\n",
       "  55,\n",
       "  19,\n",
       "  53,\n",
       "  60,\n",
       "  3,\n",
       "  41,\n",
       "  63,\n",
       "  58,\n",
       "  22,\n",
       "  42,\n",
       "  18,\n",
       "  45,\n",
       "  36,\n",
       "  50,\n",
       "  46,\n",
       "  5,\n",
       "  32,\n",
       "  16,\n",
       "  7,\n",
       "  37,\n",
       "  49,\n",
       "  28,\n",
       "  17,\n",
       "  34,\n",
       "  21,\n",
       "  33,\n",
       "  15,\n",
       "  20,\n",
       "  40,\n",
       "  31,\n",
       "  59,\n",
       "  2,\n",
       "  39,\n",
       "  51,\n",
       "  56],\n",
       " 'color_list': ['b',\n",
       "  'b',\n",
       "  'b',\n",
       "  'b',\n",
       "  'b',\n",
       "  'b',\n",
       "  'b',\n",
       "  'b',\n",
       "  'b',\n",
       "  'b',\n",
       "  'b',\n",
       "  'b',\n",
       "  'b',\n",
       "  'b',\n",
       "  'b',\n",
       "  'b',\n",
       "  'b',\n",
       "  'b',\n",
       "  'b',\n",
       "  'b',\n",
       "  'b',\n",
       "  'b',\n",
       "  'b',\n",
       "  'b',\n",
       "  'b',\n",
       "  'b',\n",
       "  'b',\n",
       "  'b',\n",
       "  'b',\n",
       "  'b',\n",
       "  'b',\n",
       "  'b',\n",
       "  'b',\n",
       "  'b',\n",
       "  'b',\n",
       "  'b',\n",
       "  'b',\n",
       "  'b',\n",
       "  'b',\n",
       "  'b',\n",
       "  'b',\n",
       "  'b',\n",
       "  'b',\n",
       "  'b',\n",
       "  'b',\n",
       "  'b',\n",
       "  'b',\n",
       "  'b',\n",
       "  'b',\n",
       "  'b',\n",
       "  'b',\n",
       "  'b',\n",
       "  'b',\n",
       "  'b',\n",
       "  'b',\n",
       "  'b',\n",
       "  'b',\n",
       "  'b',\n",
       "  'b',\n",
       "  'b',\n",
       "  'b',\n",
       "  'b',\n",
       "  'b',\n",
       "  'b']}"
      ]
     },
     "execution_count": 45,
     "metadata": {},
     "output_type": "execute_result"
    },
    {
     "data": {
      "image/png": "[encoded data removed]",
      "text/plain": [
       "<Figure size 432x288 with 1 Axes>"
      ]
     },
     "metadata": {},
     "output_type": "display_data"
    }
   ],
   "source": [
    "Z = scipy.cluster.hierarchy.linkage(D)\n",
    "scipy.cluster.hierarchy.dendrogram(Z)"
   ]
  },
  {
   "cell_type": "code",
   "execution_count": null,
   "metadata": {
    "colab": {
     "autoexec": {
      "startup": false,
      "wait_interval": 0
     }
    },
    "colab_type": "code",
    "id": "b8eiqXGuL9N7"
   },
   "outputs": [],
   "source": []
  },
  {
   "cell_type": "code",
   "execution_count": null,
   "metadata": {
    "colab": {
     "autoexec": {
      "startup": false,
      "wait_interval": 0
     }
    },
    "colab_type": "code",
    "id": "VflNLSheL9N9"
   },
   "outputs": [],
   "source": []
  },
  {
   "cell_type": "code",
   "execution_count": null,
   "metadata": {
    "colab": {
     "autoexec": {
      "startup": false,
      "wait_interval": 0
     }
    },
    "colab_type": "code",
    "id": "94ARVJ18L9N_"
   },
   "outputs": [],
   "source": []
  },
  {
   "cell_type": "code",
   "execution_count": 46,
   "metadata": {
    "colab": {
     "autoexec": {
      "startup": false,
      "wait_interval": 0
     }
    },
    "colab_type": "code",
    "id": "i3RxsOjQL9OB"
   },
   "outputs": [],
   "source": [
    "def plot_group_hourly(af, years, group):\n",
    "    for i, y in enumerate(years):\n",
    "        if af.labels_[i] == group:\n",
    "            print(y)\n",
    "            pd.Series(timeseries(y)).plot(figsize=(4,3), ylim=(-25, 35))"
   ]
  },
  {
   "cell_type": "code",
   "execution_count": 47,
   "metadata": {
    "colab": {
     "autoexec": {
      "startup": false,
      "wait_interval": 0
     }
    },
    "colab_type": "code",
    "id": "4k_0x2KnL9OF"
   },
   "outputs": [],
   "source": [
    "def plot_group_daily(af, years, group):\n",
    "    for i, y in enumerate(years):\n",
    "        if af.labels_[i] == group:\n",
    "            print(y)\n",
    "            pd.DataFrame(timeframe(y, to_dict=True)).plot(figsize=(4,3), ylim=(-25, 35))"
   ]
  },
  {
   "cell_type": "code",
   "execution_count": 48,
   "metadata": {
    "colab": {
     "autoexec": {
      "startup": false,
      "wait_interval": 0
     }
    },
    "colab_type": "code",
    "id": "okCW5WGaL9OG"
   },
   "outputs": [],
   "source": [
    "def plot_group_daily_cumulative_residual(af, years, group, length=L, s=met.tavg):\n",
    "    am = np.array([timeframe(y, length, s, to_dict=True)['mean'] for y in years]).mean(axis=0)\n",
    "    def a(y):\n",
    "        ad = timeframe(y, length, s, to_dict=True)['mean'] - am\n",
    "        return np.array([ad.clip(min=0).cumsum(), ad.clip(max=0).cumsum()]).T\n",
    "    for i, y in enumerate(years):\n",
    "        if af.labels_[i] == group:\n",
    "            print(y)\n",
    "            ai = a(y).T\n",
    "            plt.figure(figsize=(10,1))\n",
    "            plt.subplot(1, 2, 1)\n",
    "            pd.Series(ai[0]).plot(ylim=(0,500))\n",
    "            plt.subplot(1, 2, 2)\n",
    "            pd.Series(ai[1]).plot(ylim=(-500,0))"
   ]
  },
  {
   "cell_type": "code",
   "execution_count": 49,
   "metadata": {
    "colab": {
     "autoexec": {
      "startup": false,
      "wait_interval": 0
     }
    },
    "colab_type": "code",
    "id": "m_oFii1sL9OI"
   },
   "outputs": [],
   "source": [
    "def plot_group_daily_cumulative_residual(af, years, group, length=L, s=met.tavg):\n",
    "    am = np.array([timeframe(y, length, s, to_dict=True)['mean'] for y in years]).mean(axis=0)\n",
    "    def a(y):\n",
    "        ad = timeframe(y, length, s, to_dict=True)['mean'] - am\n",
    "        return np.array([ad.clip(min=0).cumsum(), ad.clip(max=0).cumsum()]).T    \n",
    "    plt.figure(figsize=(10,1))\n",
    "    plt.subplot(1, 2, 1)\n",
    "    for i, y in enumerate(years):\n",
    "        if af.labels_[i] == group:\n",
    "            ai = a(y).T\n",
    "            pd.Series(ai[0]).plot(ylim=(0,500))\n",
    "    plt.subplot(1, 2, 2)\n",
    "    for i, y in enumerate(years):\n",
    "        if af.labels_[i] == group:\n",
    "            pd.Series(ai[1]).plot(ylim=(-500,0))"
   ]
  },
  {
   "cell_type": "code",
   "execution_count": null,
   "metadata": {
    "colab": {
     "autoexec": {
      "startup": false,
      "wait_interval": 0
     }
    },
    "colab_type": "code",
    "id": "iAegje1LL9OL"
   },
   "outputs": [],
   "source": []
  },
  {
   "cell_type": "code",
   "execution_count": null,
   "metadata": {
    "colab": {
     "autoexec": {
      "startup": false,
      "wait_interval": 0
     }
    },
    "colab_type": "code",
    "id": "6SFjrnzjL9OO"
   },
   "outputs": [],
   "source": []
  },
  {
   "cell_type": "code",
   "execution_count": 50,
   "metadata": {
    "colab": {
     "autoexec": {
      "startup": false,
      "wait_interval": 0
     }
    },
    "colab_type": "code",
    "id": "2aEVFCasL9OQ",
    "outputId": "4dcbd63b-f6a1-438e-9a2c-5a8eae36ccc5"
   },
   "outputs": [
    {
     "data": {
      "text/plain": [
       "array([[1.        , 0.52191413, 0.59677404, ..., 0.4697523 , 0.58653665,\n",
       "        0.58454756],\n",
       "       [0.52191413, 1.        , 0.56398793, ..., 0.45558984, 0.58670246,\n",
       "        0.54078125],\n",
       "       [0.59677404, 0.56398793, 1.        , ..., 0.46198358, 0.58125064,\n",
       "        0.59921083],\n",
       "       ...,\n",
       "       [0.4697523 , 0.45558984, 0.46198358, ..., 1.        , 0.4962045 ,\n",
       "        0.45621254],\n",
       "       [0.58653665, 0.58670246, 0.58125064, ..., 0.4962045 , 1.        ,\n",
       "        0.58910247],\n",
       "       [0.58454756, 0.54078125, 0.59921083, ..., 0.45621254, 0.58910247,\n",
       "        1.        ]])"
      ]
     },
     "execution_count": 50,
     "metadata": {},
     "output_type": "execute_result"
    }
   ],
   "source": [
    "M"
   ]
  },
  {
   "cell_type": "code",
   "execution_count": 51,
   "metadata": {
    "colab": {
     "autoexec": {
      "startup": false,
      "wait_interval": 0
     }
    },
    "colab_type": "code",
    "id": "ot51RbvRL9OT",
    "outputId": "0d9ef650-2b67-4056-b3a5-ff6ce535f342"
   },
   "outputs": [
    {
     "name": "stdout",
     "output_type": "stream",
     "text": [
      "1941\n",
      "1947\n",
      "1960\n",
      "1993\n"
     ]
    },
    {
     "data": {
      "image/png": "[encoded data removed]",
      "text/plain": [
       "<Figure size 288x216 with 1 Axes>"
      ]
     },
     "metadata": {},
     "output_type": "display_data"
    }
   ],
   "source": [
    "plt.figure()\n",
    "plot_group_hourly(af, years, 0)"
   ]
  },
  {
   "cell_type": "code",
   "execution_count": 52,
   "metadata": {
    "colab": {
     "autoexec": {
      "startup": false,
      "wait_interval": 0
     }
    },
    "colab_type": "code",
    "id": "4rU1SP99L9OV",
    "outputId": "8789d838-f639-414b-9cab-bdd81610d26e"
   },
   "outputs": [
    {
     "name": "stdout",
     "output_type": "stream",
     "text": [
      "1950\n"
     ]
    },
    {
     "data": {
      "image/png": "[encoded data removed]",
      "text/plain": [
       "<Figure size 288x216 with 1 Axes>"
      ]
     },
     "metadata": {},
     "output_type": "display_data"
    }
   ],
   "source": [
    "plt.figure()\n",
    "plot_group_hourly(af, years, 1)"
   ]
  },
  {
   "cell_type": "code",
   "execution_count": null,
   "metadata": {
    "colab": {
     "autoexec": {
      "startup": false,
      "wait_interval": 0
     }
    },
    "colab_type": "code",
    "id": "_zIrH6A6L9OX"
   },
   "outputs": [],
   "source": []
  },
  {
   "cell_type": "code",
   "execution_count": 53,
   "metadata": {
    "colab": {
     "autoexec": {
      "startup": false,
      "wait_interval": 0
     }
    },
    "colab_type": "code",
    "id": "MWIoS542L9OY"
   },
   "outputs": [],
   "source": [
    "#plot_group_daily(af, years, 0)"
   ]
  },
  {
   "cell_type": "code",
   "execution_count": null,
   "metadata": {
    "colab": {
     "autoexec": {
      "startup": false,
      "wait_interval": 0
     }
    },
    "colab_type": "code",
    "id": "vg-Qy6SNL9OZ"
   },
   "outputs": [],
   "source": []
  },
  {
   "cell_type": "code",
   "execution_count": 54,
   "metadata": {
    "colab": {
     "autoexec": {
      "startup": false,
      "wait_interval": 0
     }
    },
    "colab_type": "code",
    "id": "KvcuCNSKL9Ob"
   },
   "outputs": [],
   "source": [
    "npm = sklearn.manifold.LocallyLinearEmbedding(n_neighbors=5, n_components=2)"
   ]
  },
  {
   "cell_type": "code",
   "execution_count": 55,
   "metadata": {
    "colab": {
     "autoexec": {
      "startup": false,
      "wait_interval": 0
     }
    },
    "colab_type": "code",
    "id": "gb2zVTrgL9Oc"
   },
   "outputs": [],
   "source": [
    "embedding = npm.fit_transform(timeseriess(years)).T\n",
    "#embedding = npm.fit_transform(timeframes(years)).T"
   ]
  },
  {
   "cell_type": "code",
   "execution_count": 56,
   "metadata": {
    "colab": {
     "autoexec": {
      "startup": false,
      "wait_interval": 0
     }
    },
    "colab_type": "code",
    "id": "949ag09IL9Oc",
    "outputId": "4ded821c-7a67-49dc-c831-6b1bb0442c55"
   },
   "outputs": [
    {
     "data": {
      "image/png": "[encoded data removed]",
      "text/plain": [
       "<Figure size 432x288 with 1 Axes>"
      ]
     },
     "metadata": {},
     "output_type": "display_data"
    }
   ],
   "source": [
    "plt.scatter(embedding[0], embedding[1], c=af.labels_, cmap=plt.cm.rainbow)\n",
    "for (i, (x, y)) in enumerate(zip(*embedding)):\n",
    "    plt.text(x, y - 0.025, '{}'.format(years[i]), size='small')"
   ]
  },
  {
   "cell_type": "code",
   "execution_count": null,
   "metadata": {
    "colab": {
     "autoexec": {
      "startup": false,
      "wait_interval": 0
     }
    },
    "colab_type": "code",
    "id": "Rdwtmst7L9Oe"
   },
   "outputs": [],
   "source": []
  },
  {
   "cell_type": "code",
   "execution_count": 57,
   "metadata": {
    "colab": {
     "autoexec": {
      "startup": false,
      "wait_interval": 0
     }
    },
    "colab_type": "code",
    "id": "XVN0Oa1-L9Og"
   },
   "outputs": [],
   "source": [
    "df = pd.DataFrame(years, af.labels_)"
   ]
  },
  {
   "cell_type": "code",
   "execution_count": 58,
   "metadata": {
    "colab": {
     "autoexec": {
      "startup": false,
      "wait_interval": 0
     }
    },
    "colab_type": "code",
    "id": "-M-ECP9-L9Oj"
   },
   "outputs": [],
   "source": [
    "#df.reset_index().sort_values(['index', 0]).set_index(['index'])"
   ]
  },
  {
   "cell_type": "code",
   "execution_count": null,
   "metadata": {
    "colab": {
     "autoexec": {
      "startup": false,
      "wait_interval": 0
     }
    },
    "colab_type": "code",
    "id": "2QrcrrOQL9Oj"
   },
   "outputs": [],
   "source": []
  },
  {
   "cell_type": "code",
   "execution_count": 59,
   "metadata": {
    "colab": {
     "autoexec": {
      "startup": false,
      "wait_interval": 0
     }
    },
    "colab_type": "code",
    "id": "DHZdRVW1L9Om"
   },
   "outputs": [],
   "source": [
    "def extract_years(af, years, group):\n",
    "    df = pd.DataFrame(years, af.labels_)\n",
    "    return df[df.index == group][0].tolist()"
   ]
  },
  {
   "cell_type": "code",
   "execution_count": 60,
   "metadata": {
    "colab": {
     "autoexec": {
      "startup": false,
      "wait_interval": 0
     }
    },
    "colab_type": "code",
    "id": "4zYl4beXL9On",
    "outputId": "41853d30-8cb3-40c4-8cc8-c678678e5a35"
   },
   "outputs": [
    {
     "data": {
      "text/plain": [
       "[1941, 1947, 1960, 1993]"
      ]
     },
     "execution_count": 60,
     "metadata": {},
     "output_type": "execute_result"
    }
   ],
   "source": [
    "extract_years(af, years, 0)"
   ]
  },
  {
   "cell_type": "code",
   "execution_count": 61,
   "metadata": {
    "colab": {
     "autoexec": {
      "startup": false,
      "wait_interval": 0
     }
    },
    "colab_type": "code",
    "id": "xFU76LvCL9Op",
    "outputId": "b9cc7494-ed04-47e8-fa9b-8266bdba17a2"
   },
   "outputs": [
    {
     "data": {
      "text/plain": [
       "{0: [1941, 1947, 1960, 1993],\n",
       " 1: [1950],\n",
       " 2: [1963, 1987, 1989, 1998, 2000, 2003],\n",
       " 3: [1942, 1944, 1958, 1959, 1968, 1969, 1991, 1999, 2002],\n",
       " 4: [1974, 1983],\n",
       " 5: [1954, 1961, 1976, 1981, 1984, 2004],\n",
       " 6: [1940,\n",
       "  1945,\n",
       "  1948,\n",
       "  1949,\n",
       "  1951,\n",
       "  1957,\n",
       "  1962,\n",
       "  1965,\n",
       "  1966,\n",
       "  1975,\n",
       "  1978,\n",
       "  1979,\n",
       "  1980,\n",
       "  1982,\n",
       "  1995,\n",
       "  2005],\n",
       " 7: [1977, 1985, 1994, 1997, 2007, 2008, 2009],\n",
       " 8: [1943, 1964, 1967, 1986, 1988, 2006],\n",
       " 9: [1992],\n",
       " 10: [1952, 1953, 1955, 1956, 1990, 1996, 2001]}"
      ]
     },
     "execution_count": 61,
     "metadata": {},
     "output_type": "execute_result"
    }
   ],
   "source": [
    "{g: extract_years(af, years, g) for g in groups}"
   ]
  },
  {
   "cell_type": "code",
   "execution_count": null,
   "metadata": {
    "colab": {
     "autoexec": {
      "startup": false,
      "wait_interval": 0
     }
    },
    "colab_type": "code",
    "id": "iT4td6p2L9Oq"
   },
   "outputs": [],
   "source": []
  },
  {
   "cell_type": "code",
   "execution_count": null,
   "metadata": {
    "colab": {
     "autoexec": {
      "startup": false,
      "wait_interval": 0
     }
    },
    "colab_type": "code",
    "id": "uPkWogqPL9Or"
   },
   "outputs": [],
   "source": []
  },
  {
   "cell_type": "code",
   "execution_count": null,
   "metadata": {
    "colab": {
     "autoexec": {
      "startup": false,
      "wait_interval": 0
     }
    },
    "colab_type": "code",
    "id": "XsWVPgFdL9Ot"
   },
   "outputs": [],
   "source": []
  },
  {
   "cell_type": "markdown",
   "metadata": {
    "colab_type": "text",
    "id": "UQGNFCrDL9Ot"
   },
   "source": [
    "Group 8 includes the years of top 6 (1996), 7 (1983), 8 (2009), and 9 (2003) snowstorms in Washington, D.C.\n",
    "Reference: http://www.wusa9.com/story/weather/2016/01/21/these-top-10-snowfalls-dc-history/79120848/"
   ]
  },
  {
   "cell_type": "code",
   "execution_count": null,
   "metadata": {
    "colab": {
     "autoexec": {
      "startup": false,
      "wait_interval": 0
     }
    },
    "colab_type": "code",
    "id": "n67m35MkL9Ot"
   },
   "outputs": [],
   "source": []
  },
  {
   "cell_type": "code",
   "execution_count": 62,
   "metadata": {
    "colab": {
     "autoexec": {
      "startup": false,
      "wait_interval": 0
     }
    },
    "colab_type": "code",
    "id": "viOyMgtiL9Ov"
   },
   "outputs": [],
   "source": [
    "def extract_stat(af, years, group):\n",
    "    v = np.array([timeseries(y) for y in extract_years(af, years, group)])\n",
    "    return {\n",
    "        'mean': v.mean(axis=1).mean(),\n",
    "        'min': v.min(axis=1).min(),\n",
    "        'max': v.max(axis=1).max(),\n",
    "    }"
   ]
  },
  {
   "cell_type": "code",
   "execution_count": null,
   "metadata": {
    "colab": {
     "autoexec": {
      "startup": false,
      "wait_interval": 0
     }
    },
    "colab_type": "code",
    "id": "ltw80tnWL9Ow"
   },
   "outputs": [],
   "source": []
  },
  {
   "cell_type": "code",
   "execution_count": 63,
   "metadata": {
    "colab": {
     "autoexec": {
      "startup": false,
      "wait_interval": 0
     }
    },
    "colab_type": "code",
    "id": "xS09K3ifL9Oy",
    "outputId": "2e062e93-6f64-4b27-a740-1377499091d5"
   },
   "outputs": [
    {
     "data": {
      "text/plain": [
       "{0: {'mean': 7.480868928571429, 'min': -13.7, 'max': 34.6},\n",
       " 1: {'mean': 8.596739999999999, 'min': -9.2, 'max': 30.2},\n",
       " 2: {'mean': 7.631235171104174, 'min': -15.9, 'max': 32.4},\n",
       " 3: {'mean': 8.079875486973945, 'min': -15.3, 'max': 35.6},\n",
       " 4: {'mean': 9.12121949832776, 'min': -8.2, 'max': 30.0},\n",
       " 5: {'mean': 8.20269802692829, 'min': -17.1, 'max': 35.0},\n",
       " 6: {'mean': 7.74003686682157, 'min': -20.5, 'max': 34.1},\n",
       " 7: {'mean': 7.893644201690622, 'min': -20.0, 'max': 33.3},\n",
       " 8: {'mean': 7.722629590394159, 'min': -16.7, 'max': 31.3},\n",
       " 9: {'mean': 8.1565, 'min': -9.9, 'max': 29.4},\n",
       " 10: {'mean': 7.615222651376833, 'min': -15.0, 'max': 34.1}}"
      ]
     },
     "execution_count": 63,
     "metadata": {},
     "output_type": "execute_result"
    }
   ],
   "source": [
    "{g: extract_stat(af, years, g) for g in groups}"
   ]
  },
  {
   "cell_type": "code",
   "execution_count": null,
   "metadata": {
    "colab": {
     "autoexec": {
      "startup": false,
      "wait_interval": 0
     }
    },
    "colab_type": "code",
    "id": "-SOO1DcYL9O0"
   },
   "outputs": [],
   "source": []
  },
  {
   "cell_type": "code",
   "execution_count": 64,
   "metadata": {
    "colab": {
     "autoexec": {
      "startup": false,
      "wait_interval": 0
     }
    },
    "colab_type": "code",
    "id": "PO56iYlRL9O3"
   },
   "outputs": [],
   "source": [
    "def affinity_daily(af, years, year, group, length=L, s=met.tavg):\n",
    "    years_group = extract_years(af, years, group)\n",
    "    n = len(years_group)\n",
    "    ai = timeframe(year, length, s)\n",
    "    M = np.zeros(n)\n",
    "    for (j, yj) in enumerate(years_group):\n",
    "        aj = timeframe(yj, length, s)\n",
    "        d = fastdtw.fastdtw(ai, aj, dist=lambda x, y: sum((x - y)**2)**0.5)[0]\n",
    "        M[j] = d\n",
    "    return M"
   ]
  },
  {
   "cell_type": "code",
   "execution_count": 65,
   "metadata": {
    "colab": {
     "autoexec": {
      "startup": false,
      "wait_interval": 0
     }
    },
    "colab_type": "code",
    "id": "JmLRb4OQL9O4"
   },
   "outputs": [],
   "source": [
    "def predict_group_daily(af, years, year, length=L, s=met.tavg):\n",
    "    r = np.array([affinity_daily(af, years, year, g).mean() for g in groups])\n",
    "    ir = 1/r\n",
    "    return (r.argmin(), ir/ir.sum())"
   ]
  },
  {
   "cell_type": "code",
   "execution_count": 66,
   "metadata": {},
   "outputs": [
    {
     "name": "stdout",
     "output_type": "stream",
     "text": [
      "Automatic pdb calling has been turned ON\n"
     ]
    }
   ],
   "source": [
    "%pdb"
   ]
  },
  {
   "cell_type": "code",
   "execution_count": 67,
   "metadata": {
    "colab": {
     "autoexec": {
      "startup": false,
      "wait_interval": 0
     }
    },
    "colab_type": "code",
    "id": "WgIUNeM7L9O6",
    "outputId": "9290c221-c00c-4757-93b1-35e09ac021ae"
   },
   "outputs": [
    {
     "data": {
      "text/plain": [
       "(9, array([0.0904048 , 0.08523026, 0.09402089, 0.09138679, 0.08665836,\n",
       "        0.09383751, 0.09052006, 0.09220162, 0.0912896 , 0.09741233,\n",
       "        0.08703779]))"
      ]
     },
     "execution_count": 67,
     "metadata": {},
     "output_type": "execute_result"
    }
   ],
   "source": [
    "predict_group_daily(af, years, 2015)"
   ]
  },
  {
   "cell_type": "code",
   "execution_count": 68,
   "metadata": {
    "colab": {
     "autoexec": {
      "startup": false,
      "wait_interval": 0
     }
    },
    "colab_type": "code",
    "id": "VHTd_CdSL9O8",
    "outputId": "85677251-6ac6-4f77-e895-3e6905a65442"
   },
   "outputs": [
    {
     "data": {
      "text/plain": [
       "(9, array([0.08950051, 0.08587332, 0.09413777, 0.09052797, 0.09134112,\n",
       "        0.08950838, 0.0906412 , 0.09388554, 0.090348  , 0.09442235,\n",
       "        0.08981384]))"
      ]
     },
     "execution_count": 68,
     "metadata": {},
     "output_type": "execute_result"
    }
   ],
   "source": [
    "predict_group_daily(af, years, 2014)"
   ]
  },
  {
   "cell_type": "code",
   "execution_count": 69,
   "metadata": {
    "colab": {
     "autoexec": {
      "startup": false,
      "wait_interval": 0
     }
    },
    "colab_type": "code",
    "id": "YXk4tWUEL9O9",
    "outputId": "e3ecea3b-626c-489f-da85-9d7bc518cc73"
   },
   "outputs": [
    {
     "data": {
      "text/plain": [
       "(9, array([0.0902699 , 0.0875666 , 0.0941485 , 0.09254659, 0.08985654,\n",
       "        0.08897789, 0.09134282, 0.08774438, 0.08948207, 0.10046173,\n",
       "        0.08760299]))"
      ]
     },
     "execution_count": 69,
     "metadata": {},
     "output_type": "execute_result"
    }
   ],
   "source": [
    "predict_group_daily(af, years, 2013)"
   ]
  },
  {
   "cell_type": "code",
   "execution_count": 70,
   "metadata": {
    "colab": {
     "autoexec": {
      "startup": false,
      "wait_interval": 0
     }
    },
    "colab_type": "code",
    "id": "qUYto77WL9O_",
    "outputId": "1589ffc9-0a9e-49e2-921e-d0c44b9f7542"
   },
   "outputs": [
    {
     "data": {
      "text/plain": [
       "(4, array([0.0899359 , 0.08671426, 0.09291814, 0.09205117, 0.09627215,\n",
       "        0.09057462, 0.09073396, 0.09338483, 0.08918651, 0.09098949,\n",
       "        0.08723896]))"
      ]
     },
     "execution_count": 70,
     "metadata": {},
     "output_type": "execute_result"
    }
   ],
   "source": [
    "predict_group_daily(af, years, 2012)"
   ]
  },
  {
   "cell_type": "code",
   "execution_count": 71,
   "metadata": {
    "colab": {
     "autoexec": {
      "startup": false,
      "wait_interval": 0
     }
    },
    "colab_type": "code",
    "id": "rJMF61DgL9PC",
    "outputId": "0082ce72-4390-46c7-e498-ac004704a28f"
   },
   "outputs": [
    {
     "data": {
      "text/plain": [
       "(5, array([0.09011513, 0.07544881, 0.09183004, 0.09203252, 0.09379376,\n",
       "        0.0982347 , 0.09349478, 0.09106441, 0.08970699, 0.08858258,\n",
       "        0.09569628]))"
      ]
     },
     "execution_count": 71,
     "metadata": {},
     "output_type": "execute_result"
    }
   ],
   "source": [
    "predict_group_daily(af, years, 2011)"
   ]
  },
  {
   "cell_type": "code",
   "execution_count": 72,
   "metadata": {
    "colab": {
     "autoexec": {
      "startup": false,
      "wait_interval": 0
     }
    },
    "colab_type": "code",
    "id": "N4XSfIRzL9PE",
    "outputId": "5d7257c1-4baa-4738-8f18-e788c936b318"
   },
   "outputs": [
    {
     "data": {
      "text/plain": [
       "(2, array([0.09644305, 0.07564868, 0.09765058, 0.09700065, 0.09122497,\n",
       "        0.09207196, 0.09531905, 0.0913158 , 0.09087248, 0.08499475,\n",
       "        0.08745802]))"
      ]
     },
     "execution_count": 72,
     "metadata": {},
     "output_type": "execute_result"
    }
   ],
   "source": [
    "predict_group_daily(af, years, 2010)"
   ]
  },
  {
   "cell_type": "code",
   "execution_count": null,
   "metadata": {
    "colab": {
     "autoexec": {
      "startup": false,
      "wait_interval": 0
     }
    },
    "colab_type": "code",
    "id": "v00kCPdgL9PF"
   },
   "outputs": [],
   "source": []
  },
  {
   "cell_type": "code",
   "execution_count": 73,
   "metadata": {
    "colab": {
     "autoexec": {
      "startup": false,
      "wait_interval": 0
     }
    },
    "colab_type": "code",
    "id": "uoyXyN7yL9PH",
    "outputId": "2f90d423-18c7-4eca-9b9f-b53eb7d8124f"
   },
   "outputs": [
    {
     "data": {
      "text/plain": [
       "[1347.1672486481962,\n",
       " 1609.040061828432,\n",
       " 1322.009111598746,\n",
       " 1319.100648480629,\n",
       " 1294.3308491132047,\n",
       " 1235.8174324444146,\n",
       " 1298.4698160639055,\n",
       " 1333.1240620075903,\n",
       " 1353.296474729385,\n",
       " 1370.4742964236764,\n",
       " 1268.598449982444]"
      ]
     },
     "execution_count": 73,
     "metadata": {},
     "output_type": "execute_result"
    }
   ],
   "source": [
    "[affinity_daily(af, years, 2011, g).mean() for g in groups]"
   ]
  }
 ],
 "metadata": {
  "colab": {
   "default_view": {},
   "name": "time-series-cluster.ipynb",
   "provenance": [],
   "version": "0.3.2",
   "views": {}
  },
  "kernelspec": {
   "display_name": "Python 3",
   "language": "python",
   "name": "python3"
  },
  "language_info": {
   "codemirror_mode": {
    "name": "ipython",
    "version": 3
   },
   "file_extension": ".py",
   "mimetype": "text/x-python",
   "name": "python",
   "nbconvert_exporter": "python",
   "pygments_lexer": "ipython3",
   "version": "3.7.0"
  }
 },
 "nbformat": 4,
 "nbformat_minor": 1
}
