{
 "cells": [
  {
   "cell_type": "code",
   "execution_count": 10,
   "metadata": {
    "collapsed": false
   },
   "outputs": [
    {
     "data": {
      "text/plain": [
       "'/Users/tomyun/Google Drive/Projects/RDA/work/nb/time-series-cluster'"
      ]
     },
     "execution_count": 10,
     "metadata": {},
     "output_type": "execute_result"
    }
   ],
   "source": [
    "import os\n",
    "os.getcwd()"
   ]
  },
  {
   "cell_type": "code",
   "execution_count": 11,
   "metadata": {
    "collapsed": true
   },
   "outputs": [],
   "source": [
    "import sys\n",
    "sys.path.append('../../code')"
   ]
  },
  {
   "cell_type": "code",
   "execution_count": 12,
   "metadata": {
    "collapsed": true
   },
   "outputs": [],
   "source": [
    "import numpy as np"
   ]
  },
  {
   "cell_type": "code",
   "execution_count": 13,
   "metadata": {
    "collapsed": false
   },
   "outputs": [],
   "source": [
    "import pheno"
   ]
  },
  {
   "cell_type": "code",
   "execution_count": 14,
   "metadata": {
    "collapsed": true
   },
   "outputs": [],
   "source": [
    "from pheno.data.dataset import DataSet"
   ]
  },
  {
   "cell_type": "code",
   "execution_count": 15,
   "metadata": {
    "collapsed": false
   },
   "outputs": [],
   "source": [
    "ds = DataSet('usa_ds3505', 'cherry_dc', translator={\n",
    "    'DC': 724050,\n",
    "}).set(cultivar='Yoshino', stage='Peak Bloom')"
   ]
  },
  {
   "cell_type": "code",
   "execution_count": 16,
   "metadata": {
    "collapsed": true
   },
   "outputs": [],
   "source": [
    "cf = pheno.estimation.ChillingForce(ds)"
   ]
  },
  {
   "cell_type": "code",
   "execution_count": null,
   "metadata": {
    "collapsed": true
   },
   "outputs": [],
   "source": []
  },
  {
   "cell_type": "code",
   "execution_count": 17,
   "metadata": {
    "collapsed": true
   },
   "outputs": [],
   "source": [
    "year_groups = {\n",
    " 0: [1952, 1957, 1981, 1989, 1990],\n",
    " 1: [1963, 1964, 1969, 1979, 1986, 1991, 1996, 2008],\n",
    " 2: [1947, 1962, 1975, 1998, 2002],\n",
    " 3: [1950, 1966, 1982, 2003],\n",
    " 4: [1940, 1941, 1943, 1944, 1949, 1953, 1954, 1955, 1965, 1974, 1987, 1988, 2009],\n",
    " 5: [1948, 1960, 1967, 1968, 1985, 1993],\n",
    " 6: [1958, 1978, 1995],\n",
    " 7: [1945, 1961, 1976, 1980, 1997, 2000],\n",
    " 8: [1942, 1951, 1956, 1959, 1977, 1994, 1999, 2001, 2004, 2006],\n",
    " 9: [1983, 1984, 1992, 2005, 2007]\n",
    "}"
   ]
  },
  {
   "cell_type": "code",
   "execution_count": 18,
   "metadata": {
    "collapsed": false
   },
   "outputs": [
    {
     "name": "stdout",
     "output_type": "stream",
     "text": [
      "Optimization terminated successfully.\n",
      "         Current function value: 3.787223\n",
      "         Iterations: 50\n",
      "         Function evaluations: 138\n",
      "Optimization terminated successfully.\n",
      "         Current function value: 3.276203\n",
      "         Iterations: 58\n",
      "         Function evaluations: 142\n",
      "Optimization terminated successfully.\n",
      "         Current function value: 2.421547\n",
      "         Iterations: 46\n",
      "         Function evaluations: 130\n",
      "Optimization terminated successfully.\n",
      "         Current function value: 3.487204\n",
      "         Iterations: 70\n",
      "         Function evaluations: 166\n",
      "Optimization terminated successfully.\n",
      "         Current function value: 8.038054\n",
      "         Iterations: 42\n",
      "         Function evaluations: 119\n",
      "Optimization terminated successfully.\n",
      "         Current function value: 2.829399\n",
      "         Iterations: 56\n",
      "         Function evaluations: 140\n",
      "Optimization terminated successfully.\n",
      "         Current function value: 1.709688\n",
      "         Iterations: 54\n",
      "         Function evaluations: 138\n",
      "Optimization terminated successfully.\n",
      "         Current function value: 3.638385\n",
      "         Iterations: 56\n",
      "         Function evaluations: 140\n",
      "Optimization terminated successfully.\n",
      "         Current function value: 3.532021\n",
      "         Iterations: 61\n",
      "         Function evaluations: 144\n",
      "Optimization terminated successfully.\n",
      "         Current function value: 2.099272\n",
      "         Iterations: 45\n",
      "         Function evaluations: 128\n"
     ]
    }
   ],
   "source": [
    "coeff_groups = {g: cf.calibrate(year_groups[g], method='nelder-mead') for g in year_groups}"
   ]
  },
  {
   "cell_type": "code",
   "execution_count": null,
   "metadata": {
    "collapsed": true
   },
   "outputs": [],
   "source": []
  },
  {
   "cell_type": "code",
   "execution_count": 19,
   "metadata": {
    "collapsed": false
   },
   "outputs": [
    {
     "data": {
      "text/plain": [
       "{0: datetime.datetime(2015, 4, 12, 15, 0, tzinfo=<DstTzInfo 'US/Eastern' EDT-1 day, 20:00:00 DST>),\n",
       " 1: datetime.datetime(2015, 4, 11, 1, 0, tzinfo=<DstTzInfo 'US/Eastern' EDT-1 day, 20:00:00 DST>),\n",
       " 2: datetime.datetime(2015, 4, 8, 0, 0, tzinfo=<DstTzInfo 'US/Eastern' EDT-1 day, 20:00:00 DST>),\n",
       " 3: datetime.datetime(2015, 4, 6, 21, 0, tzinfo=<DstTzInfo 'US/Eastern' EDT-1 day, 20:00:00 DST>),\n",
       " 4: datetime.datetime(2015, 4, 12, 21, 0, tzinfo=<DstTzInfo 'US/Eastern' EDT-1 day, 20:00:00 DST>),\n",
       " 5: datetime.datetime(2015, 4, 12, 10, 0, tzinfo=<DstTzInfo 'US/Eastern' EDT-1 day, 20:00:00 DST>),\n",
       " 6: datetime.datetime(2015, 4, 12, 10, 0, tzinfo=<DstTzInfo 'US/Eastern' EDT-1 day, 20:00:00 DST>),\n",
       " 7: datetime.datetime(2015, 4, 12, 22, 0, tzinfo=<DstTzInfo 'US/Eastern' EDT-1 day, 20:00:00 DST>),\n",
       " 8: datetime.datetime(2015, 4, 11, 17, 0, tzinfo=<DstTzInfo 'US/Eastern' EDT-1 day, 20:00:00 DST>),\n",
       " 9: datetime.datetime(2015, 4, 8, 20, 0, tzinfo=<DstTzInfo 'US/Eastern' EDT-1 day, 20:00:00 DST>)}"
      ]
     },
     "execution_count": 19,
     "metadata": {},
     "output_type": "execute_result"
    }
   ],
   "source": [
    "{g: cf.estimate(2015, coeff=coeff_groups[g]) for g in year_groups}"
   ]
  },
  {
   "cell_type": "code",
   "execution_count": 20,
   "metadata": {
    "collapsed": false
   },
   "outputs": [
    {
     "data": {
      "text/plain": [
       "{0: 102.625,\n",
       " 1: 101.04166666666667,\n",
       " 2: 98.0,\n",
       " 3: 96.875,\n",
       " 4: 102.875,\n",
       " 5: 102.41666666666667,\n",
       " 6: 102.41666666666667,\n",
       " 7: 102.91666666666667,\n",
       " 8: 101.70833333333333,\n",
       " 9: 98.83333333333333}"
      ]
     },
     "execution_count": 20,
     "metadata": {},
     "output_type": "execute_result"
    }
   ],
   "source": [
    "{g: cf.estimate(2015, coeff=coeff_groups[g], julian=True) for g in year_groups}"
   ]
  },
  {
   "cell_type": "code",
   "execution_count": 21,
   "metadata": {
    "collapsed": false
   },
   "outputs": [
    {
     "data": {
      "text/plain": [
       "101.09186399758531"
      ]
     },
     "execution_count": 21,
     "metadata": {},
     "output_type": "execute_result"
    }
   ],
   "source": [
    "np.average([cf.estimate(2015, coeff=coeff_groups[g], julian=True) for g in year_groups],\n",
    "           weights=[ 0.10177997,  0.09185104,  0.09233498,  0.08566001,  0.10159417,\n",
    "         0.103957  ,  0.11292073,  0.10351707,  0.10574755,  0.10063747])"
   ]
  },
  {
   "cell_type": "code",
   "execution_count": null,
   "metadata": {
    "collapsed": true
   },
   "outputs": [],
   "source": []
  },
  {
   "cell_type": "code",
   "execution_count": 22,
   "metadata": {
    "collapsed": false
   },
   "outputs": [
    {
     "data": {
      "text/plain": [
       "{0: datetime.datetime(2014, 4, 7, 22, 0, tzinfo=<DstTzInfo 'US/Eastern' EDT-1 day, 20:00:00 DST>),\n",
       " 1: datetime.datetime(2014, 4, 8, 3, 0, tzinfo=<DstTzInfo 'US/Eastern' EDT-1 day, 20:00:00 DST>),\n",
       " 2: datetime.datetime(2014, 4, 5, 0, 0, tzinfo=<DstTzInfo 'US/Eastern' EDT-1 day, 20:00:00 DST>),\n",
       " 3: datetime.datetime(2014, 4, 4, 8, 0, tzinfo=<DstTzInfo 'US/Eastern' EDT-1 day, 20:00:00 DST>),\n",
       " 4: datetime.datetime(2014, 4, 10, 15, 0, tzinfo=<DstTzInfo 'US/Eastern' EDT-1 day, 20:00:00 DST>),\n",
       " 5: datetime.datetime(2014, 4, 3, 19, 0, tzinfo=<DstTzInfo 'US/Eastern' EDT-1 day, 20:00:00 DST>),\n",
       " 6: datetime.datetime(2014, 4, 9, 18, 0, tzinfo=<DstTzInfo 'US/Eastern' EDT-1 day, 20:00:00 DST>),\n",
       " 7: datetime.datetime(2014, 4, 5, 21, 0, tzinfo=<DstTzInfo 'US/Eastern' EDT-1 day, 20:00:00 DST>),\n",
       " 8: datetime.datetime(2014, 4, 9, 6, 0, tzinfo=<DstTzInfo 'US/Eastern' EDT-1 day, 20:00:00 DST>),\n",
       " 9: datetime.datetime(2014, 3, 31, 19, 0, tzinfo=<DstTzInfo 'US/Eastern' EDT-1 day, 20:00:00 DST>)}"
      ]
     },
     "execution_count": 22,
     "metadata": {},
     "output_type": "execute_result"
    }
   ],
   "source": [
    "{g: cf.estimate(2014, coeff=coeff_groups[g]) for g in year_groups}"
   ]
  },
  {
   "cell_type": "code",
   "execution_count": 23,
   "metadata": {
    "collapsed": false
   },
   "outputs": [
    {
     "data": {
      "text/plain": [
       "{0: 97.91666666666667,\n",
       " 1: 98.125,\n",
       " 2: 95.0,\n",
       " 3: 94.33333333333333,\n",
       " 4: 100.625,\n",
       " 5: 93.79166666666667,\n",
       " 6: 99.75,\n",
       " 7: 95.875,\n",
       " 8: 99.25,\n",
       " 9: 90.79166666666667}"
      ]
     },
     "execution_count": 23,
     "metadata": {},
     "output_type": "execute_result"
    }
   ],
   "source": [
    "{g: cf.estimate(2014, coeff=coeff_groups[g], julian=True) for g in year_groups}"
   ]
  },
  {
   "cell_type": "code",
   "execution_count": 24,
   "metadata": {
    "collapsed": false
   },
   "outputs": [
    {
     "data": {
      "text/plain": [
       "96.514164318750005"
      ]
     },
     "execution_count": 24,
     "metadata": {},
     "output_type": "execute_result"
    }
   ],
   "source": [
    "np.average([cf.estimate(2014, coeff=coeff_groups[g], julian=True) for g in year_groups],\n",
    "           weights=[ 0.08891954,  0.09724948,  0.09215557,  0.10893153,  0.10106489,\n",
    "         0.09923191,  0.10330996,  0.09696062,  0.10549287,  0.10668363])"
   ]
  },
  {
   "cell_type": "code",
   "execution_count": null,
   "metadata": {
    "collapsed": true
   },
   "outputs": [],
   "source": []
  },
  {
   "cell_type": "code",
   "execution_count": 25,
   "metadata": {
    "collapsed": false
   },
   "outputs": [
    {
     "data": {
      "text/plain": [
       "{0: datetime.datetime(2013, 4, 12, 0, 0, tzinfo=<DstTzInfo 'US/Eastern' EDT-1 day, 20:00:00 DST>),\n",
       " 1: datetime.datetime(2013, 4, 12, 13, 0, tzinfo=<DstTzInfo 'US/Eastern' EDT-1 day, 20:00:00 DST>),\n",
       " 2: datetime.datetime(2013, 4, 11, 6, 0, tzinfo=<DstTzInfo 'US/Eastern' EDT-1 day, 20:00:00 DST>),\n",
       " 3: datetime.datetime(2013, 4, 10, 22, 0, tzinfo=<DstTzInfo 'US/Eastern' EDT-1 day, 20:00:00 DST>),\n",
       " 4: datetime.datetime(2013, 4, 13, 0, 0, tzinfo=<DstTzInfo 'US/Eastern' EDT-1 day, 20:00:00 DST>),\n",
       " 5: datetime.datetime(2013, 4, 12, 14, 0, tzinfo=<DstTzInfo 'US/Eastern' EDT-1 day, 20:00:00 DST>),\n",
       " 6: datetime.datetime(2013, 4, 12, 13, 0, tzinfo=<DstTzInfo 'US/Eastern' EDT-1 day, 20:00:00 DST>),\n",
       " 7: datetime.datetime(2013, 4, 11, 14, 0, tzinfo=<DstTzInfo 'US/Eastern' EDT-1 day, 20:00:00 DST>),\n",
       " 8: datetime.datetime(2013, 4, 11, 23, 0, tzinfo=<DstTzInfo 'US/Eastern' EDT-1 day, 20:00:00 DST>),\n",
       " 9: datetime.datetime(2013, 4, 10, 23, 0, tzinfo=<DstTzInfo 'US/Eastern' EDT-1 day, 20:00:00 DST>)}"
      ]
     },
     "execution_count": 25,
     "metadata": {},
     "output_type": "execute_result"
    }
   ],
   "source": [
    "{g: cf.estimate(2013, coeff=coeff_groups[g]) for g in year_groups}"
   ]
  },
  {
   "cell_type": "code",
   "execution_count": 26,
   "metadata": {
    "collapsed": false
   },
   "outputs": [
    {
     "data": {
      "text/plain": [
       "{0: 102.0,\n",
       " 1: 102.54166666666667,\n",
       " 2: 101.25,\n",
       " 3: 100.91666666666667,\n",
       " 4: 103.0,\n",
       " 5: 102.58333333333333,\n",
       " 6: 102.54166666666667,\n",
       " 7: 101.58333333333333,\n",
       " 8: 101.95833333333333,\n",
       " 9: 100.95833333333333}"
      ]
     },
     "execution_count": 26,
     "metadata": {},
     "output_type": "execute_result"
    }
   ],
   "source": [
    "{g: cf.estimate(2013, coeff=coeff_groups[g], julian=True) for g in year_groups}"
   ]
  },
  {
   "cell_type": "code",
   "execution_count": 27,
   "metadata": {
    "collapsed": false
   },
   "outputs": [
    {
     "data": {
      "text/plain": [
       "101.91807763040255"
      ]
     },
     "execution_count": 27,
     "metadata": {},
     "output_type": "execute_result"
    }
   ],
   "source": [
    "np.average([cf.estimate(2013, coeff=coeff_groups[g], julian=True) for g in year_groups],\n",
    "           weights=[ 0.11805617,  0.09453281,  0.09984598,  0.10010485,  0.10132526,\n",
    "         0.08849121,  0.09737656,  0.10368745,  0.09248664,  0.10409308])"
   ]
  },
  {
   "cell_type": "code",
   "execution_count": null,
   "metadata": {
    "collapsed": true
   },
   "outputs": [],
   "source": []
  },
  {
   "cell_type": "code",
   "execution_count": 28,
   "metadata": {
    "collapsed": false
   },
   "outputs": [
    {
     "data": {
      "text/plain": [
       "{0: datetime.datetime(2012, 3, 17, 8, 0, tzinfo=<DstTzInfo 'US/Eastern' EDT-1 day, 20:00:00 DST>),\n",
       " 1: None,\n",
       " 2: None,\n",
       " 3: datetime.datetime(2012, 3, 17, 10, 0, tzinfo=<DstTzInfo 'US/Eastern' EDT-1 day, 20:00:00 DST>),\n",
       " 4: datetime.datetime(2012, 3, 18, 3, 0, tzinfo=<DstTzInfo 'US/Eastern' EDT-1 day, 20:00:00 DST>),\n",
       " 5: datetime.datetime(2012, 3, 17, 16, 0, tzinfo=<DstTzInfo 'US/Eastern' EDT-1 day, 20:00:00 DST>),\n",
       " 6: datetime.datetime(2012, 3, 17, 15, 0, tzinfo=<DstTzInfo 'US/Eastern' EDT-1 day, 20:00:00 DST>),\n",
       " 7: datetime.datetime(2012, 3, 17, 17, 0, tzinfo=<DstTzInfo 'US/Eastern' EDT-1 day, 20:00:00 DST>),\n",
       " 8: datetime.datetime(2012, 3, 17, 5, 0, tzinfo=<DstTzInfo 'US/Eastern' EDT-1 day, 20:00:00 DST>),\n",
       " 9: datetime.datetime(2012, 3, 14, 20, 0, tzinfo=<DstTzInfo 'US/Eastern' EDT-1 day, 20:00:00 DST>)}"
      ]
     },
     "execution_count": 28,
     "metadata": {},
     "output_type": "execute_result"
    }
   ],
   "source": [
    "{g: cf.estimate_safely(2012, coeff=coeff_groups[g]) for g in year_groups}"
   ]
  },
  {
   "cell_type": "code",
   "execution_count": 29,
   "metadata": {
    "collapsed": false
   },
   "outputs": [
    {
     "data": {
      "text/plain": [
       "{0: 77.33333333333333,\n",
       " 1: 0,\n",
       " 2: 0,\n",
       " 3: 77.41666666666667,\n",
       " 4: 78.125,\n",
       " 5: 77.66666666666667,\n",
       " 6: 77.625,\n",
       " 7: 77.70833333333333,\n",
       " 8: 77.20833333333333,\n",
       " 9: 74.83333333333333}"
      ]
     },
     "execution_count": 29,
     "metadata": {},
     "output_type": "execute_result"
    }
   ],
   "source": [
    "{g: cf.estimate_safely(2012, coeff=coeff_groups[g], julian=True) for g in year_groups}"
   ]
  },
  {
   "cell_type": "code",
   "execution_count": 31,
   "metadata": {
    "collapsed": false
   },
   "outputs": [],
   "source": [
    "#np.average([cf.estimate(2012, coeff=coeff_groups[g], julian=True) for g in year_groups],\n",
    "#           weights=[ 0.09823927,  0.10500143,  0.11086415,  0.08473071,  0.1080169 ,\n",
    "#         0.09673472,  0.10157162,  0.09526025,  0.09733707,  0.10224388])"
   ]
  },
  {
   "cell_type": "code",
   "execution_count": null,
   "metadata": {
    "collapsed": true
   },
   "outputs": [],
   "source": []
  },
  {
   "cell_type": "code",
   "execution_count": 32,
   "metadata": {
    "collapsed": false
   },
   "outputs": [
    {
     "data": {
      "text/plain": [
       "{0: datetime.datetime(2011, 4, 12, 10, 0, tzinfo=<DstTzInfo 'US/Eastern' EDT-1 day, 20:00:00 DST>),\n",
       " 1: datetime.datetime(2011, 4, 6, 18, 0, tzinfo=<DstTzInfo 'US/Eastern' EDT-1 day, 20:00:00 DST>),\n",
       " 2: datetime.datetime(2011, 4, 4, 15, 0, tzinfo=<DstTzInfo 'US/Eastern' EDT-1 day, 20:00:00 DST>),\n",
       " 3: datetime.datetime(2011, 4, 2, 21, 0, tzinfo=<DstTzInfo 'US/Eastern' EDT-1 day, 20:00:00 DST>),\n",
       " 4: datetime.datetime(2011, 4, 11, 6, 0, tzinfo=<DstTzInfo 'US/Eastern' EDT-1 day, 20:00:00 DST>),\n",
       " 5: datetime.datetime(2011, 4, 10, 13, 0, tzinfo=<DstTzInfo 'US/Eastern' EDT-1 day, 20:00:00 DST>),\n",
       " 6: datetime.datetime(2011, 4, 10, 6, 0, tzinfo=<DstTzInfo 'US/Eastern' EDT-1 day, 20:00:00 DST>),\n",
       " 7: datetime.datetime(2011, 4, 11, 22, 0, tzinfo=<DstTzInfo 'US/Eastern' EDT-1 day, 20:00:00 DST>),\n",
       " 8: datetime.datetime(2011, 4, 8, 8, 0, tzinfo=<DstTzInfo 'US/Eastern' EDT-1 day, 20:00:00 DST>),\n",
       " 9: datetime.datetime(2011, 4, 5, 2, 0, tzinfo=<DstTzInfo 'US/Eastern' EDT-1 day, 20:00:00 DST>)}"
      ]
     },
     "execution_count": 32,
     "metadata": {},
     "output_type": "execute_result"
    }
   ],
   "source": [
    "{g: cf.estimate_safely(2011, coeff=coeff_groups[g]) for g in year_groups}"
   ]
  },
  {
   "cell_type": "code",
   "execution_count": 33,
   "metadata": {
    "collapsed": false
   },
   "outputs": [
    {
     "data": {
      "text/plain": [
       "{0: 102.41666666666667,\n",
       " 1: 96.75,\n",
       " 2: 94.625,\n",
       " 3: 92.875,\n",
       " 4: 101.25,\n",
       " 5: 100.54166666666667,\n",
       " 6: 100.25,\n",
       " 7: 101.91666666666667,\n",
       " 8: 98.33333333333333,\n",
       " 9: 95.08333333333333}"
      ]
     },
     "execution_count": 33,
     "metadata": {},
     "output_type": "execute_result"
    }
   ],
   "source": [
    "{g: cf.estimate_safely(2011, coeff=coeff_groups[g], julian=True) for g in year_groups}"
   ]
  },
  {
   "cell_type": "code",
   "execution_count": 34,
   "metadata": {
    "collapsed": false
   },
   "outputs": [
    {
     "data": {
      "text/plain": [
       "98.347737287227361"
      ]
     },
     "execution_count": 34,
     "metadata": {},
     "output_type": "execute_result"
    }
   ],
   "source": [
    "np.average([cf.estimate(2011, coeff=coeff_groups[g], julian=True) for g in year_groups],\n",
    "           weights=[ 0.09420239,  0.10841383,  0.1057638 ,  0.09290006,  0.10940376,\n",
    "         0.09782415,  0.08843418,  0.09464257,  0.10285494,  0.10556031])"
   ]
  },
  {
   "cell_type": "code",
   "execution_count": null,
   "metadata": {
    "collapsed": true
   },
   "outputs": [],
   "source": []
  },
  {
   "cell_type": "code",
   "execution_count": 35,
   "metadata": {
    "collapsed": false
   },
   "outputs": [
    {
     "data": {
      "text/plain": [
       "{0: datetime.datetime(2010, 4, 4, 3, 0, tzinfo=<DstTzInfo 'US/Eastern' EDT-1 day, 20:00:00 DST>),\n",
       " 1: datetime.datetime(2010, 3, 31, 15, 0, tzinfo=<DstTzInfo 'US/Eastern' EDT-1 day, 20:00:00 DST>),\n",
       " 2: datetime.datetime(2010, 3, 29, 0, 0, tzinfo=<DstTzInfo 'US/Eastern' EDT-1 day, 20:00:00 DST>),\n",
       " 3: datetime.datetime(2010, 3, 27, 18, 0, tzinfo=<DstTzInfo 'US/Eastern' EDT-1 day, 20:00:00 DST>),\n",
       " 4: datetime.datetime(2010, 4, 3, 2, 0, tzinfo=<DstTzInfo 'US/Eastern' EDT-1 day, 20:00:00 DST>),\n",
       " 5: datetime.datetime(2010, 4, 2, 14, 0, tzinfo=<DstTzInfo 'US/Eastern' EDT-1 day, 20:00:00 DST>),\n",
       " 6: datetime.datetime(2010, 4, 2, 14, 0, tzinfo=<DstTzInfo 'US/Eastern' EDT-1 day, 20:00:00 DST>),\n",
       " 7: datetime.datetime(2010, 4, 3, 16, 0, tzinfo=<DstTzInfo 'US/Eastern' EDT-1 day, 20:00:00 DST>),\n",
       " 8: datetime.datetime(2010, 4, 2, 2, 0, tzinfo=<DstTzInfo 'US/Eastern' EDT-1 day, 20:00:00 DST>),\n",
       " 9: datetime.datetime(2010, 3, 31, 12, 0, tzinfo=<DstTzInfo 'US/Eastern' EDT-1 day, 20:00:00 DST>)}"
      ]
     },
     "execution_count": 35,
     "metadata": {},
     "output_type": "execute_result"
    }
   ],
   "source": [
    "{g: cf.estimate_safely(2010, coeff=coeff_groups[g]) for g in year_groups}"
   ]
  },
  {
   "cell_type": "code",
   "execution_count": 36,
   "metadata": {
    "collapsed": false
   },
   "outputs": [
    {
     "data": {
      "text/plain": [
       "{0: 94.125,\n",
       " 1: 90.625,\n",
       " 2: 88.0,\n",
       " 3: 86.75,\n",
       " 4: 93.08333333333333,\n",
       " 5: 92.58333333333333,\n",
       " 6: 92.58333333333333,\n",
       " 7: 93.66666666666667,\n",
       " 8: 92.08333333333333,\n",
       " 9: 90.5}"
      ]
     },
     "execution_count": 36,
     "metadata": {},
     "output_type": "execute_result"
    }
   ],
   "source": [
    "{g: cf.estimate_safely(2010, coeff=coeff_groups[g], julian=True) for g in year_groups}"
   ]
  },
  {
   "cell_type": "code",
   "execution_count": 37,
   "metadata": {
    "collapsed": false
   },
   "outputs": [
    {
     "data": {
      "text/plain": [
       "91.388543269031231"
      ]
     },
     "execution_count": 37,
     "metadata": {},
     "output_type": "execute_result"
    }
   ],
   "source": [
    "np.average([cf.estimate(2010, coeff=coeff_groups[g], julian=True) for g in year_groups],\n",
    "           weights=[ 0.09374255,  0.10277694,  0.09821435,  0.10011219,  0.10117275,\n",
    "         0.10833134,  0.0976068 ,  0.09622928,  0.10213214,  0.09968167])"
   ]
  }
 ],
 "metadata": {
  "kernelspec": {
   "display_name": "Python 3",
   "language": "python",
   "name": "python3"
  },
  "language_info": {
   "codemirror_mode": {
    "name": "ipython",
    "version": 3
   },
   "file_extension": ".py",
   "mimetype": "text/x-python",
   "name": "python",
   "nbconvert_exporter": "python",
   "pygments_lexer": "ipython3",
   "version": "3.5.1"
  }
 },
 "nbformat": 4,
 "nbformat_minor": 0
}
