{
 "cells": [
  {
   "cell_type": "code",
   "execution_count": 1,
   "metadata": {
    "collapsed": false
   },
   "outputs": [
    {
     "data": {
      "text/plain": [
       "'/Users/tomyun/Google Drive/Projects/RDA/work/nb/time-series-cluster'"
      ]
     },
     "execution_count": 1,
     "metadata": {},
     "output_type": "execute_result"
    }
   ],
   "source": [
    "import os\n",
    "os.getcwd()"
   ]
  },
  {
   "cell_type": "code",
   "execution_count": 2,
   "metadata": {
    "collapsed": true
   },
   "outputs": [],
   "source": [
    "import sys\n",
    "sys.path.append('../../code')"
   ]
  },
  {
   "cell_type": "code",
   "execution_count": 3,
   "metadata": {
    "collapsed": true
   },
   "outputs": [],
   "source": [
    "import numpy as np"
   ]
  },
  {
   "cell_type": "code",
   "execution_count": 4,
   "metadata": {
    "collapsed": false
   },
   "outputs": [],
   "source": [
    "import pheno"
   ]
  },
  {
   "cell_type": "code",
   "execution_count": 5,
   "metadata": {
    "collapsed": true
   },
   "outputs": [],
   "source": [
    "from pheno.data.dataset import DataSet"
   ]
  },
  {
   "cell_type": "code",
   "execution_count": 6,
   "metadata": {
    "collapsed": false
   },
   "outputs": [],
   "source": [
    "ds = DataSet('usa_ds3505', 'cherry_dc', translator={\n",
    "    'DC': 724050,\n",
    "}).set(cultivar='Yoshino', stage='Peak Bloom')"
   ]
  },
  {
   "cell_type": "code",
   "execution_count": 7,
   "metadata": {
    "collapsed": true
   },
   "outputs": [],
   "source": [
    "cf = pheno.estimation.ChillingForce(ds)"
   ]
  },
  {
   "cell_type": "code",
   "execution_count": null,
   "metadata": {
    "collapsed": true
   },
   "outputs": [],
   "source": []
  },
  {
   "cell_type": "code",
   "execution_count": 8,
   "metadata": {
    "collapsed": true
   },
   "outputs": [],
   "source": [
    "year_groups = {\n",
    " 0: [1945, 1948, 1994],\n",
    " 1: [1940, 1943, 1954, 1959, 1961, 1963, 1964, 1976, 1981, 1982, 2001, 2002],\n",
    " 2: [1958, 1960, 1966, 1978, 1979, 1980, 1983, 1991, 2007, 2009],\n",
    " 3: [1942, 1952, 1955, 1967, 1987, 1992, 1996, 1997, 2003],\n",
    " 4: [1941, 1953, 1988, 1993],\n",
    " 5: [1947, 1951, 1957, 1962, 1975, 1977, 1985, 1990, 2004],\n",
    " 6: [1944, 1965, 1968, 1984, 1986, 1989, 1995, 1999, 2000, 2005],\n",
    " 7: [1949, 1950, 1956, 1969, 1974, 1998, 2006, 2008]\n",
    "}"
   ]
  },
  {
   "cell_type": "code",
   "execution_count": 9,
   "metadata": {
    "collapsed": false
   },
   "outputs": [
    {
     "name": "stdout",
     "output_type": "stream",
     "text": [
      "Optimization terminated successfully.\n",
      "         Current function value: 1.407240\n",
      "         Iterations: 47\n",
      "         Function evaluations: 128\n",
      "Optimization terminated successfully.\n",
      "         Current function value: 6.118513\n",
      "         Iterations: 54\n",
      "         Function evaluations: 142\n",
      "Optimization terminated successfully.\n",
      "         Current function value: 0.895882\n",
      "         Iterations: 73\n",
      "         Function evaluations: 168\n",
      "Optimization terminated successfully.\n",
      "         Current function value: 7.004284\n",
      "         Iterations: 52\n",
      "         Function evaluations: 134\n",
      "Optimization terminated successfully.\n",
      "         Current function value: 2.528140\n",
      "         Iterations: 50\n",
      "         Function evaluations: 136\n",
      "Optimization terminated successfully.\n",
      "         Current function value: 4.089305\n",
      "         Iterations: 50\n",
      "         Function evaluations: 127\n",
      "Optimization terminated successfully.\n",
      "         Current function value: 3.108093\n",
      "         Iterations: 75\n",
      "         Function evaluations: 180\n",
      "Optimization terminated successfully.\n",
      "         Current function value: 4.074741\n",
      "         Iterations: 52\n",
      "         Function evaluations: 128\n"
     ]
    }
   ],
   "source": [
    "coeff_groups = {g: cf.calibrate(year_groups[g], method='nelder-mead') for g in year_groups}"
   ]
  },
  {
   "cell_type": "code",
   "execution_count": null,
   "metadata": {
    "collapsed": true
   },
   "outputs": [],
   "source": []
  },
  {
   "cell_type": "code",
   "execution_count": 10,
   "metadata": {
    "collapsed": false
   },
   "outputs": [
    {
     "data": {
      "text/plain": [
       "{0: datetime.datetime(2015, 4, 9, 13, 0, tzinfo=<DstTzInfo 'US/Eastern' EDT-1 day, 20:00:00 DST>),\n",
       " 1: datetime.datetime(2015, 4, 7, 13, 0, tzinfo=<DstTzInfo 'US/Eastern' EDT-1 day, 20:00:00 DST>),\n",
       " 2: datetime.datetime(2015, 4, 11, 14, 0, tzinfo=<DstTzInfo 'US/Eastern' EDT-1 day, 20:00:00 DST>),\n",
       " 3: datetime.datetime(2015, 4, 11, 17, 0, tzinfo=<DstTzInfo 'US/Eastern' EDT-1 day, 20:00:00 DST>),\n",
       " 4: datetime.datetime(2015, 4, 6, 22, 0, tzinfo=<DstTzInfo 'US/Eastern' EDT-1 day, 20:00:00 DST>),\n",
       " 5: datetime.datetime(2015, 4, 10, 22, 0, tzinfo=<DstTzInfo 'US/Eastern' EDT-1 day, 20:00:00 DST>),\n",
       " 6: datetime.datetime(2015, 4, 10, 16, 0, tzinfo=<DstTzInfo 'US/Eastern' EDT-1 day, 20:00:00 DST>),\n",
       " 7: datetime.datetime(2015, 4, 11, 19, 0, tzinfo=<DstTzInfo 'US/Eastern' EDT-1 day, 20:00:00 DST>)}"
      ]
     },
     "execution_count": 10,
     "metadata": {},
     "output_type": "execute_result"
    }
   ],
   "source": [
    "{g: cf.estimate(2015, coeff=coeff_groups[g]) for g in year_groups}"
   ]
  },
  {
   "cell_type": "code",
   "execution_count": 11,
   "metadata": {
    "collapsed": false
   },
   "outputs": [
    {
     "data": {
      "text/plain": [
       "{0: 99.54166666666667,\n",
       " 1: 97.54166666666667,\n",
       " 2: 101.58333333333333,\n",
       " 3: 101.70833333333333,\n",
       " 4: 96.91666666666667,\n",
       " 5: 100.91666666666667,\n",
       " 6: 100.66666666666667,\n",
       " 7: 101.79166666666667}"
      ]
     },
     "execution_count": 11,
     "metadata": {},
     "output_type": "execute_result"
    }
   ],
   "source": [
    "{g: cf.estimate(2015, coeff=coeff_groups[g], julian=True) for g in year_groups}"
   ]
  },
  {
   "cell_type": "code",
   "execution_count": 13,
   "metadata": {
    "collapsed": false
   },
   "outputs": [
    {
     "data": {
      "text/plain": [
       "100.08333333333334"
      ]
     },
     "execution_count": 13,
     "metadata": {},
     "output_type": "execute_result"
    }
   ],
   "source": [
    "np.average([cf.estimate(2015, coeff=coeff_groups[g], julian=True) for g in year_groups])"
   ]
  },
  {
   "cell_type": "code",
   "execution_count": null,
   "metadata": {
    "collapsed": true
   },
   "outputs": [],
   "source": []
  },
  {
   "cell_type": "code",
   "execution_count": 16,
   "metadata": {
    "collapsed": false
   },
   "outputs": [
    {
     "data": {
      "text/plain": [
       "{0: datetime.datetime(2014, 4, 8, 4, 0, tzinfo=<DstTzInfo 'US/Eastern' EDT-1 day, 20:00:00 DST>),\n",
       " 1: datetime.datetime(2014, 4, 2, 17, 0, tzinfo=<DstTzInfo 'US/Eastern' EDT-1 day, 20:00:00 DST>),\n",
       " 2: datetime.datetime(2014, 4, 3, 21, 0, tzinfo=<DstTzInfo 'US/Eastern' EDT-1 day, 20:00:00 DST>),\n",
       " 3: datetime.datetime(2014, 4, 4, 3, 0, tzinfo=<DstTzInfo 'US/Eastern' EDT-1 day, 20:00:00 DST>),\n",
       " 4: datetime.datetime(2014, 4, 2, 19, 0, tzinfo=<DstTzInfo 'US/Eastern' EDT-1 day, 20:00:00 DST>),\n",
       " 5: datetime.datetime(2014, 4, 8, 19, 0, tzinfo=<DstTzInfo 'US/Eastern' EDT-1 day, 20:00:00 DST>),\n",
       " 6: datetime.datetime(2014, 4, 2, 19, 0, tzinfo=<DstTzInfo 'US/Eastern' EDT-1 day, 20:00:00 DST>),\n",
       " 7: datetime.datetime(2014, 4, 9, 21, 0, tzinfo=<DstTzInfo 'US/Eastern' EDT-1 day, 20:00:00 DST>)}"
      ]
     },
     "execution_count": 16,
     "metadata": {},
     "output_type": "execute_result"
    }
   ],
   "source": [
    "{g: cf.estimate(2014, coeff=coeff_groups[g]) for g in year_groups}"
   ]
  },
  {
   "cell_type": "code",
   "execution_count": 17,
   "metadata": {
    "collapsed": false
   },
   "outputs": [
    {
     "data": {
      "text/plain": [
       "{0: 98.16666666666667,\n",
       " 1: 92.70833333333333,\n",
       " 2: 93.875,\n",
       " 3: 94.125,\n",
       " 4: 92.79166666666667,\n",
       " 5: 98.79166666666667,\n",
       " 6: 92.79166666666667,\n",
       " 7: 99.875}"
      ]
     },
     "execution_count": 17,
     "metadata": {},
     "output_type": "execute_result"
    }
   ],
   "source": [
    "{g: cf.estimate(2014, coeff=coeff_groups[g], julian=True) for g in year_groups}"
   ]
  },
  {
   "cell_type": "code",
   "execution_count": 18,
   "metadata": {
    "collapsed": false
   },
   "outputs": [
    {
     "data": {
      "text/plain": [
       "95.390625"
      ]
     },
     "execution_count": 18,
     "metadata": {},
     "output_type": "execute_result"
    }
   ],
   "source": [
    "np.average([cf.estimate(2014, coeff=coeff_groups[g], julian=True) for g in year_groups])"
   ]
  },
  {
   "cell_type": "code",
   "execution_count": null,
   "metadata": {
    "collapsed": true
   },
   "outputs": [],
   "source": []
  },
  {
   "cell_type": "code",
   "execution_count": 33,
   "metadata": {
    "collapsed": false
   },
   "outputs": [
    {
     "data": {
      "text/plain": [
       "{0: None,\n",
       " 1: datetime.datetime(2013, 4, 11, 8, 0, tzinfo=<DstTzInfo 'US/Eastern' EDT-1 day, 20:00:00 DST>),\n",
       " 2: datetime.datetime(2013, 4, 10, 20, 0, tzinfo=<DstTzInfo 'US/Eastern' EDT-1 day, 20:00:00 DST>),\n",
       " 3: datetime.datetime(2013, 4, 10, 22, 0, tzinfo=<DstTzInfo 'US/Eastern' EDT-1 day, 20:00:00 DST>),\n",
       " 4: datetime.datetime(2013, 4, 10, 8, 0, tzinfo=<DstTzInfo 'US/Eastern' EDT-1 day, 20:00:00 DST>),\n",
       " 5: datetime.datetime(2013, 4, 12, 22, 0, tzinfo=<DstTzInfo 'US/Eastern' EDT-1 day, 20:00:00 DST>),\n",
       " 6: datetime.datetime(2013, 4, 10, 11, 0, tzinfo=<DstTzInfo 'US/Eastern' EDT-1 day, 20:00:00 DST>),\n",
       " 7: datetime.datetime(2013, 4, 13, 20, 0, tzinfo=<DstTzInfo 'US/Eastern' EDT-1 day, 20:00:00 DST>)}"
      ]
     },
     "execution_count": 33,
     "metadata": {},
     "output_type": "execute_result"
    }
   ],
   "source": [
    "{g: cf.estimate_safely(2013, coeff=coeff_groups[g]) for g in year_groups}"
   ]
  },
  {
   "cell_type": "code",
   "execution_count": 32,
   "metadata": {
    "collapsed": false
   },
   "outputs": [
    {
     "data": {
      "text/plain": [
       "{0: 0,\n",
       " 1: 101.33333333333333,\n",
       " 2: 100.83333333333333,\n",
       " 3: 100.91666666666667,\n",
       " 4: 100.33333333333333,\n",
       " 5: 102.91666666666667,\n",
       " 6: 100.45833333333333,\n",
       " 7: 103.83333333333333}"
      ]
     },
     "execution_count": 32,
     "metadata": {},
     "output_type": "execute_result"
    }
   ],
   "source": [
    "{g: cf.estimate_safely(2013, coeff=coeff_groups[g], julian=True) for g in year_groups}"
   ]
  },
  {
   "cell_type": "code",
   "execution_count": null,
   "metadata": {
    "collapsed": true
   },
   "outputs": [],
   "source": []
  },
  {
   "cell_type": "code",
   "execution_count": 22,
   "metadata": {
    "collapsed": false
   },
   "outputs": [
    {
     "data": {
      "text/plain": [
       "{0: None,\n",
       " 1: datetime.datetime(2012, 3, 13, 11, 0, tzinfo=<DstTzInfo 'US/Eastern' EDT-1 day, 20:00:00 DST>),\n",
       " 2: datetime.datetime(2012, 3, 16, 5, 0, tzinfo=<DstTzInfo 'US/Eastern' EDT-1 day, 20:00:00 DST>),\n",
       " 3: datetime.datetime(2012, 3, 15, 17, 0, tzinfo=<DstTzInfo 'US/Eastern' EDT-1 day, 20:00:00 DST>),\n",
       " 4: datetime.datetime(2012, 3, 14, 13, 0, tzinfo=<DstTzInfo 'US/Eastern' EDT-1 day, 20:00:00 DST>),\n",
       " 5: datetime.datetime(2012, 3, 19, 22, 0, tzinfo=<DstTzInfo 'US/Eastern' EDT-1 day, 20:00:00 DST>),\n",
       " 6: datetime.datetime(2012, 3, 15, 14, 0, tzinfo=<DstTzInfo 'US/Eastern' EDT-1 day, 20:00:00 DST>),\n",
       " 7: datetime.datetime(2012, 3, 20, 23, 0, tzinfo=<DstTzInfo 'US/Eastern' EDT-1 day, 20:00:00 DST>)}"
      ]
     },
     "execution_count": 22,
     "metadata": {},
     "output_type": "execute_result"
    }
   ],
   "source": [
    "{g: cf.estimate_safely(2012, coeff=coeff_groups[g]) for g in year_groups}"
   ]
  },
  {
   "cell_type": "code",
   "execution_count": 23,
   "metadata": {
    "collapsed": false
   },
   "outputs": [
    {
     "data": {
      "text/plain": [
       "{0: 0,\n",
       " 1: 73.45833333333333,\n",
       " 2: 76.20833333333333,\n",
       " 3: 75.70833333333333,\n",
       " 4: 74.54166666666667,\n",
       " 5: 79.91666666666667,\n",
       " 6: 75.58333333333333,\n",
       " 7: 80.95833333333333}"
      ]
     },
     "execution_count": 23,
     "metadata": {},
     "output_type": "execute_result"
    }
   ],
   "source": [
    "{g: cf.estimate_safely(2012, coeff=coeff_groups[g], julian=True) for g in year_groups}"
   ]
  },
  {
   "cell_type": "code",
   "execution_count": null,
   "metadata": {
    "collapsed": true
   },
   "outputs": [],
   "source": []
  },
  {
   "cell_type": "code",
   "execution_count": 24,
   "metadata": {
    "collapsed": false
   },
   "outputs": [
    {
     "data": {
      "text/plain": [
       "{0: datetime.datetime(2011, 4, 3, 12, 0, tzinfo=<DstTzInfo 'US/Eastern' EDT-1 day, 20:00:00 DST>),\n",
       " 1: datetime.datetime(2011, 4, 11, 18, 0, tzinfo=<DstTzInfo 'US/Eastern' EDT-1 day, 20:00:00 DST>),\n",
       " 2: datetime.datetime(2011, 4, 11, 0, 0, tzinfo=<DstTzInfo 'US/Eastern' EDT-1 day, 20:00:00 DST>),\n",
       " 3: datetime.datetime(2011, 4, 11, 4, 0, tzinfo=<DstTzInfo 'US/Eastern' EDT-1 day, 20:00:00 DST>),\n",
       " 4: datetime.datetime(2011, 4, 7, 19, 0, tzinfo=<DstTzInfo 'US/Eastern' EDT-1 day, 20:00:00 DST>),\n",
       " 5: datetime.datetime(2011, 4, 6, 15, 0, tzinfo=<DstTzInfo 'US/Eastern' EDT-1 day, 20:00:00 DST>),\n",
       " 6: datetime.datetime(2011, 4, 7, 17, 0, tzinfo=<DstTzInfo 'US/Eastern' EDT-1 day, 20:00:00 DST>),\n",
       " 7: datetime.datetime(2011, 4, 7, 18, 0, tzinfo=<DstTzInfo 'US/Eastern' EDT-1 day, 20:00:00 DST>)}"
      ]
     },
     "execution_count": 24,
     "metadata": {},
     "output_type": "execute_result"
    }
   ],
   "source": [
    "{g: cf.estimate_safely(2011, coeff=coeff_groups[g]) for g in year_groups}"
   ]
  },
  {
   "cell_type": "code",
   "execution_count": 25,
   "metadata": {
    "collapsed": false
   },
   "outputs": [
    {
     "data": {
      "text/plain": [
       "{0: 93.5,\n",
       " 1: 101.75,\n",
       " 2: 101.0,\n",
       " 3: 101.16666666666667,\n",
       " 4: 97.79166666666667,\n",
       " 5: 96.625,\n",
       " 6: 97.70833333333333,\n",
       " 7: 97.75}"
      ]
     },
     "execution_count": 25,
     "metadata": {},
     "output_type": "execute_result"
    }
   ],
   "source": [
    "{g: cf.estimate_safely(2011, coeff=coeff_groups[g], julian=True) for g in year_groups}"
   ]
  },
  {
   "cell_type": "code",
   "execution_count": 27,
   "metadata": {
    "collapsed": false
   },
   "outputs": [
    {
     "data": {
      "text/plain": [
       "98.411458333333343"
      ]
     },
     "execution_count": 27,
     "metadata": {},
     "output_type": "execute_result"
    }
   ],
   "source": [
    "np.average([cf.estimate(2011, coeff=coeff_groups[g], julian=True) for g in year_groups])"
   ]
  },
  {
   "cell_type": "code",
   "execution_count": null,
   "metadata": {
    "collapsed": true
   },
   "outputs": [],
   "source": []
  },
  {
   "cell_type": "code",
   "execution_count": 28,
   "metadata": {
    "collapsed": false
   },
   "outputs": [
    {
     "data": {
      "text/plain": [
       "{0: datetime.datetime(2010, 3, 31, 23, 0, tzinfo=<DstTzInfo 'US/Eastern' EDT-1 day, 20:00:00 DST>),\n",
       " 1: datetime.datetime(2010, 4, 2, 20, 0, tzinfo=<DstTzInfo 'US/Eastern' EDT-1 day, 20:00:00 DST>),\n",
       " 2: datetime.datetime(2010, 4, 2, 11, 0, tzinfo=<DstTzInfo 'US/Eastern' EDT-1 day, 20:00:00 DST>),\n",
       " 3: datetime.datetime(2010, 4, 2, 14, 0, tzinfo=<DstTzInfo 'US/Eastern' EDT-1 day, 20:00:00 DST>),\n",
       " 4: datetime.datetime(2010, 4, 1, 12, 0, tzinfo=<DstTzInfo 'US/Eastern' EDT-1 day, 20:00:00 DST>),\n",
       " 5: datetime.datetime(2010, 4, 1, 10, 0, tzinfo=<DstTzInfo 'US/Eastern' EDT-1 day, 20:00:00 DST>),\n",
       " 6: datetime.datetime(2010, 4, 1, 13, 0, tzinfo=<DstTzInfo 'US/Eastern' EDT-1 day, 20:00:00 DST>),\n",
       " 7: datetime.datetime(2010, 4, 2, 3, 0, tzinfo=<DstTzInfo 'US/Eastern' EDT-1 day, 20:00:00 DST>)}"
      ]
     },
     "execution_count": 28,
     "metadata": {},
     "output_type": "execute_result"
    }
   ],
   "source": [
    "{g: cf.estimate_safely(2010, coeff=coeff_groups[g]) for g in year_groups}"
   ]
  },
  {
   "cell_type": "code",
   "execution_count": 29,
   "metadata": {
    "collapsed": false
   },
   "outputs": [
    {
     "data": {
      "text/plain": [
       "{0: 90.95833333333333,\n",
       " 1: 92.83333333333333,\n",
       " 2: 92.45833333333333,\n",
       " 3: 92.58333333333333,\n",
       " 4: 91.5,\n",
       " 5: 91.41666666666667,\n",
       " 6: 91.54166666666667,\n",
       " 7: 92.125}"
      ]
     },
     "execution_count": 29,
     "metadata": {},
     "output_type": "execute_result"
    }
   ],
   "source": [
    "{g: cf.estimate_safely(2010, coeff=coeff_groups[g], julian=True) for g in year_groups}"
   ]
  },
  {
   "cell_type": "code",
   "execution_count": 30,
   "metadata": {
    "collapsed": false
   },
   "outputs": [
    {
     "data": {
      "text/plain": [
       "91.927083333333343"
      ]
     },
     "execution_count": 30,
     "metadata": {},
     "output_type": "execute_result"
    }
   ],
   "source": [
    "np.average([cf.estimate(2010, coeff=coeff_groups[g], julian=True) for g in year_groups])"
   ]
  }
 ],
 "metadata": {
  "kernelspec": {
   "display_name": "Python 3",
   "language": "python",
   "name": "python3"
  },
  "language_info": {
   "codemirror_mode": {
    "name": "ipython",
    "version": 3
   },
   "file_extension": ".py",
   "mimetype": "text/x-python",
   "name": "python",
   "nbconvert_exporter": "python",
   "pygments_lexer": "ipython3",
   "version": "3.5.1"
  }
 },
 "nbformat": 4,
 "nbformat_minor": 0
}
