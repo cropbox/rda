{
 "cells": [
  {
   "cell_type": "code",
   "execution_count": 1,
   "metadata": {
    "collapsed": false
   },
   "outputs": [
    {
     "data": {
      "text/plain": [
       "'/Users/tomyun/Google Drive/Projects/RDA/work/nb/time-series-cluster'"
      ]
     },
     "execution_count": 1,
     "metadata": {},
     "output_type": "execute_result"
    }
   ],
   "source": [
    "import os\n",
    "os.getcwd()"
   ]
  },
  {
   "cell_type": "code",
   "execution_count": 2,
   "metadata": {
    "collapsed": true
   },
   "outputs": [],
   "source": [
    "import sys\n",
    "sys.path.append('../../code')"
   ]
  },
  {
   "cell_type": "code",
   "execution_count": 3,
   "metadata": {
    "collapsed": true
   },
   "outputs": [],
   "source": [
    "import numpy as np"
   ]
  },
  {
   "cell_type": "code",
   "execution_count": 4,
   "metadata": {
    "collapsed": false
   },
   "outputs": [],
   "source": [
    "import pheno"
   ]
  },
  {
   "cell_type": "code",
   "execution_count": 5,
   "metadata": {
    "collapsed": true
   },
   "outputs": [],
   "source": [
    "from pheno.data.dataset import DataSet"
   ]
  },
  {
   "cell_type": "code",
   "execution_count": 6,
   "metadata": {
    "collapsed": false
   },
   "outputs": [],
   "source": [
    "ds = DataSet('usa_ds3505', 'cherry_dc', translator={\n",
    "    'DC': 724050,\n",
    "}).set(cultivar='Yoshino', stage='Peak Bloom')"
   ]
  },
  {
   "cell_type": "code",
   "execution_count": 7,
   "metadata": {
    "collapsed": true
   },
   "outputs": [],
   "source": [
    "cf = pheno.estimation.ChillingForce(ds)"
   ]
  },
  {
   "cell_type": "code",
   "execution_count": null,
   "metadata": {
    "collapsed": true
   },
   "outputs": [],
   "source": []
  },
  {
   "cell_type": "code",
   "execution_count": 8,
   "metadata": {
    "collapsed": true
   },
   "outputs": [],
   "source": [
    "year_groups = {\n",
    " 0: [1941, 1947, 1960, 1993],\n",
    " 1: [1950],\n",
    " 2: [1963, 1987, 1989, 1998, 2000, 2003],\n",
    " 3: [1942, 1944, 1958, 1959, 1968, 1969, 1991, 1999, 2002],\n",
    " 4: [1974, 1983],\n",
    " 5: [1954, 1961, 1976, 1981, 1984, 2004],\n",
    " 6: [1940, 1945, 1948, 1949, 1951, 1957, 1962, 1965, 1966, 1975, 1978, 1979, 1980, 1982, 1995, 2005],\n",
    " 7: [1977, 1985, 1994, 1997, 2007, 2008, 2009],\n",
    " 8: [1943, 1964, 1967, 1986, 1988, 2006],\n",
    " 9: [1992],\n",
    " 10: [1952, 1953, 1955, 1956, 1990, 1996, 2001]\n",
    "}"
   ]
  },
  {
   "cell_type": "code",
   "execution_count": 9,
   "metadata": {
    "collapsed": false
   },
   "outputs": [
    {
     "name": "stdout",
     "output_type": "stream",
     "text": [
      "Optimization terminated successfully.\n",
      "         Current function value: 3.016304\n",
      "         Iterations: 58\n",
      "         Function evaluations: 149\n",
      "Optimization terminated successfully.\n",
      "         Current function value: 365.000000\n",
      "         Iterations: 18\n",
      "         Function evaluations: 89\n",
      "Optimization terminated successfully.\n",
      "         Current function value: 3.417217\n",
      "         Iterations: 54\n",
      "         Function evaluations: 135\n",
      "Optimization terminated successfully.\n",
      "         Current function value: 3.454985\n",
      "         Iterations: 44\n",
      "         Function evaluations: 122\n",
      "Optimization terminated successfully.\n",
      "         Current function value: 365.000000\n",
      "         Iterations: 18\n",
      "         Function evaluations: 89\n",
      "Optimization terminated successfully.\n",
      "         Current function value: 6.061199\n",
      "         Iterations: 51\n",
      "         Function evaluations: 129\n",
      "Optimization terminated successfully.\n",
      "         Current function value: 4.402419\n",
      "         Iterations: 52\n",
      "         Function evaluations: 131\n",
      "Optimization terminated successfully.\n",
      "         Current function value: 4.763712\n",
      "         Iterations: 47\n",
      "         Function evaluations: 131\n",
      "Optimization terminated successfully.\n",
      "         Current function value: 2.800463\n",
      "         Iterations: 46\n",
      "         Function evaluations: 119\n",
      "Optimization terminated successfully.\n",
      "         Current function value: 0.041667\n",
      "         Iterations: 47\n",
      "         Function evaluations: 137\n",
      "Optimization terminated successfully.\n",
      "         Current function value: 3.312584\n",
      "         Iterations: 42\n",
      "         Function evaluations: 118\n"
     ]
    }
   ],
   "source": [
    "coeff_groups = {g: cf.calibrate(year_groups[g], method='nelder-mead') for g in year_groups}"
   ]
  },
  {
   "cell_type": "code",
   "execution_count": null,
   "metadata": {
    "collapsed": true
   },
   "outputs": [],
   "source": []
  },
  {
   "cell_type": "code",
   "execution_count": 10,
   "metadata": {
    "collapsed": false
   },
   "outputs": [
    {
     "data": {
      "text/plain": [
       "{0: datetime.datetime(2015, 4, 9, 6, 0, tzinfo=<DstTzInfo 'US/Eastern' EDT-1 day, 20:00:00 DST>),\n",
       " 1: datetime.datetime(2015, 4, 18, 5, 0, tzinfo=<DstTzInfo 'US/Eastern' EDT-1 day, 20:00:00 DST>),\n",
       " 2: datetime.datetime(2015, 4, 3, 2, 0, tzinfo=<DstTzInfo 'US/Eastern' EDT-1 day, 20:00:00 DST>),\n",
       " 3: datetime.datetime(2015, 4, 13, 0, 0, tzinfo=<DstTzInfo 'US/Eastern' EDT-1 day, 20:00:00 DST>),\n",
       " 4: datetime.datetime(2015, 4, 18, 5, 0, tzinfo=<DstTzInfo 'US/Eastern' EDT-1 day, 20:00:00 DST>),\n",
       " 5: datetime.datetime(2015, 4, 13, 11, 0, tzinfo=<DstTzInfo 'US/Eastern' EDT-1 day, 20:00:00 DST>),\n",
       " 6: datetime.datetime(2015, 4, 11, 8, 0, tzinfo=<DstTzInfo 'US/Eastern' EDT-1 day, 20:00:00 DST>),\n",
       " 7: datetime.datetime(2015, 4, 12, 14, 0, tzinfo=<DstTzInfo 'US/Eastern' EDT-1 day, 20:00:00 DST>),\n",
       " 8: datetime.datetime(2015, 4, 13, 13, 0, tzinfo=<DstTzInfo 'US/Eastern' EDT-1 day, 20:00:00 DST>),\n",
       " 9: datetime.datetime(2015, 4, 8, 14, 0, tzinfo=<DstTzInfo 'US/Eastern' EDT-1 day, 20:00:00 DST>),\n",
       " 10: datetime.datetime(2015, 4, 11, 17, 0, tzinfo=<DstTzInfo 'US/Eastern' EDT-1 day, 20:00:00 DST>)}"
      ]
     },
     "execution_count": 10,
     "metadata": {},
     "output_type": "execute_result"
    }
   ],
   "source": [
    "{g: cf.estimate(2015, coeff=coeff_groups[g]) for g in year_groups}"
   ]
  },
  {
   "cell_type": "code",
   "execution_count": 11,
   "metadata": {
    "collapsed": false
   },
   "outputs": [
    {
     "data": {
      "text/plain": [
       "{0: 99.25,\n",
       " 1: 108.20833333333333,\n",
       " 2: 93.08333333333333,\n",
       " 3: 103.0,\n",
       " 4: 108.20833333333333,\n",
       " 5: 103.45833333333333,\n",
       " 6: 101.33333333333333,\n",
       " 7: 102.58333333333333,\n",
       " 8: 103.54166666666667,\n",
       " 9: 98.58333333333333,\n",
       " 10: 101.70833333333333}"
      ]
     },
     "execution_count": 11,
     "metadata": {},
     "output_type": "execute_result"
    }
   ],
   "source": [
    "{g: cf.estimate(2015, coeff=coeff_groups[g], julian=True) for g in year_groups}"
   ]
  },
  {
   "cell_type": "code",
   "execution_count": 12,
   "metadata": {
    "collapsed": false
   },
   "outputs": [
    {
     "ename": "TypeError",
     "evalue": "Axis must be specified when shapes of a and weights differ.",
     "output_type": "error",
     "traceback": [
      "\u001b[0;31m---------------------------------------------------------------------------\u001b[0m",
      "\u001b[0;31mTypeError\u001b[0m                                 Traceback (most recent call last)",
      "\u001b[0;32m<ipython-input-12-08dcf9567bc8>\u001b[0m in \u001b[0;36m<module>\u001b[0;34m()\u001b[0m\n\u001b[1;32m      1\u001b[0m np.average([cf.estimate(2015, coeff=coeff_groups[g], julian=True) for g in year_groups],\n\u001b[0;32m----> 2\u001b[0;31m            weights=[0.10161205, 0.09434977, 0.09927689, 0.10427572, 0.1184648, 0.10689178, 0.08038753, 0.08733794, 0.10181833, 0.10558518])\n\u001b[0m",
      "\u001b[0;32m/usr/local/lib/python3.5/site-packages/numpy/lib/function_base.py\u001b[0m in \u001b[0;36maverage\u001b[0;34m(a, axis, weights, returned)\u001b[0m\n\u001b[1;32m    577\u001b[0m             \u001b[0;32mif\u001b[0m \u001b[0maxis\u001b[0m \u001b[0;32mis\u001b[0m \u001b[0;32mNone\u001b[0m\u001b[0;34m:\u001b[0m\u001b[0;34m\u001b[0m\u001b[0m\n\u001b[1;32m    578\u001b[0m                 raise TypeError(\n\u001b[0;32m--> 579\u001b[0;31m                     \u001b[0;34m\"Axis must be specified when shapes of a and weights \"\u001b[0m\u001b[0;34m\u001b[0m\u001b[0m\n\u001b[0m\u001b[1;32m    580\u001b[0m                     \"differ.\")\n\u001b[1;32m    581\u001b[0m             \u001b[0;32mif\u001b[0m \u001b[0mwgt\u001b[0m\u001b[0;34m.\u001b[0m\u001b[0mndim\u001b[0m \u001b[0;34m!=\u001b[0m \u001b[0;36m1\u001b[0m\u001b[0;34m:\u001b[0m\u001b[0;34m\u001b[0m\u001b[0m\n",
      "\u001b[0;31mTypeError\u001b[0m: Axis must be specified when shapes of a and weights differ."
     ]
    }
   ],
   "source": [
    "np.average([cf.estimate(2015, coeff=coeff_groups[g], julian=True) for g in year_groups],\n",
    "           weights=[0.10161205, 0.09434977, 0.09927689, 0.10427572, 0.1184648, 0.10689178, 0.08038753, 0.08733794, 0.10181833, 0.10558518])"
   ]
  },
  {
   "cell_type": "code",
   "execution_count": null,
   "metadata": {
    "collapsed": true
   },
   "outputs": [],
   "source": []
  },
  {
   "cell_type": "code",
   "execution_count": null,
   "metadata": {
    "collapsed": false
   },
   "outputs": [],
   "source": [
    "{g: cf.estimate(2014, coeff=coeff_groups[g]) for g in year_groups}"
   ]
  },
  {
   "cell_type": "code",
   "execution_count": null,
   "metadata": {
    "collapsed": false
   },
   "outputs": [],
   "source": [
    "{g: cf.estimate(2014, coeff=coeff_groups[g], julian=True) for g in year_groups}"
   ]
  },
  {
   "cell_type": "code",
   "execution_count": null,
   "metadata": {
    "collapsed": false
   },
   "outputs": [],
   "source": [
    "np.average([cf.estimate(2014, coeff=coeff_groups[g], julian=True) for g in year_groups],\n",
    "           weights=[0.09949975, 0.09694437, 0.10421432, 0.09531736, 0.10910458, 0.09590825, 0.09849159, 0.10340876, 0.10012342, 0.0969876])"
   ]
  },
  {
   "cell_type": "code",
   "execution_count": null,
   "metadata": {
    "collapsed": true
   },
   "outputs": [],
   "source": []
  },
  {
   "cell_type": "code",
   "execution_count": null,
   "metadata": {
    "collapsed": false
   },
   "outputs": [],
   "source": [
    "{g: cf.estimate(2013, coeff=coeff_groups[g]) for g in year_groups}"
   ]
  },
  {
   "cell_type": "code",
   "execution_count": null,
   "metadata": {
    "collapsed": false
   },
   "outputs": [],
   "source": [
    "{g: cf.estimate(2013, coeff=coeff_groups[g], julian=True) for g in year_groups}"
   ]
  },
  {
   "cell_type": "code",
   "execution_count": null,
   "metadata": {
    "collapsed": false
   },
   "outputs": [],
   "source": [
    "np.average([cf.estimate(2013, coeff=coeff_groups[g], julian=True) for g in year_groups],\n",
    "           weights=[0.08179916, 0.11072514, 0.10126655, 0.09834699, 0.09971944, 0.10624896, 0.10814733, 0.10900153, 0.08688896, 0.09785595])"
   ]
  },
  {
   "cell_type": "code",
   "execution_count": null,
   "metadata": {
    "collapsed": true
   },
   "outputs": [],
   "source": []
  },
  {
   "cell_type": "code",
   "execution_count": null,
   "metadata": {
    "collapsed": false
   },
   "outputs": [],
   "source": [
    "{g: cf.estimate_safely(2012, coeff=coeff_groups[g]) for g in year_groups}"
   ]
  },
  {
   "cell_type": "code",
   "execution_count": null,
   "metadata": {
    "collapsed": false
   },
   "outputs": [],
   "source": [
    "{g: cf.estimate_safely(2012, coeff=coeff_groups[g], julian=True) for g in year_groups}"
   ]
  },
  {
   "cell_type": "code",
   "execution_count": null,
   "metadata": {
    "collapsed": true
   },
   "outputs": [],
   "source": []
  },
  {
   "cell_type": "code",
   "execution_count": null,
   "metadata": {
    "collapsed": false
   },
   "outputs": [],
   "source": [
    "{g: cf.estimate_safely(2011, coeff=coeff_groups[g]) for g in year_groups}"
   ]
  },
  {
   "cell_type": "code",
   "execution_count": null,
   "metadata": {
    "collapsed": false
   },
   "outputs": [],
   "source": [
    "{g: cf.estimate_safely(2011, coeff=coeff_groups[g], julian=True) for g in year_groups}"
   ]
  },
  {
   "cell_type": "code",
   "execution_count": null,
   "metadata": {
    "collapsed": false
   },
   "outputs": [],
   "source": [
    "np.average([cf.estimate(2011, coeff=coeff_groups[g], julian=True) for g in year_groups],\n",
    "           weights=[0.09587449, 0.1090192, 0.10762814, 0.09305648, 0.10291478, 0.08911466, 0.09508037, 0.09287938, 0.1079545, 0.10647799])"
   ]
  },
  {
   "cell_type": "code",
   "execution_count": null,
   "metadata": {
    "collapsed": true
   },
   "outputs": [],
   "source": []
  },
  {
   "cell_type": "code",
   "execution_count": null,
   "metadata": {
    "collapsed": false
   },
   "outputs": [],
   "source": [
    "{g: cf.estimate_safely(2010, coeff=coeff_groups[g]) for g in year_groups}"
   ]
  },
  {
   "cell_type": "code",
   "execution_count": null,
   "metadata": {
    "collapsed": false
   },
   "outputs": [],
   "source": [
    "{g: cf.estimate_safely(2010, coeff=coeff_groups[g], julian=True) for g in year_groups}"
   ]
  },
  {
   "cell_type": "code",
   "execution_count": null,
   "metadata": {
    "collapsed": false
   },
   "outputs": [],
   "source": [
    "np.average([cf.estimate(2010, coeff=coeff_groups[g], julian=True) for g in year_groups],\n",
    "           weights=[0.10593241, 0.09837075, 0.11298145, 0.09436486, 0.11091351, 0.09777633, 0.0925214, 0.08644812, 0.09942708, 0.1012641])"
   ]
  }
 ],
 "metadata": {
  "kernelspec": {
   "display_name": "Python 3",
   "language": "python",
   "name": "python3"
  },
  "language_info": {
   "codemirror_mode": {
    "name": "ipython",
    "version": 3
   },
   "file_extension": ".py",
   "mimetype": "text/x-python",
   "name": "python",
   "nbconvert_exporter": "python",
   "pygments_lexer": "ipython3",
   "version": "3.5.1"
  }
 },
 "nbformat": 4,
 "nbformat_minor": 0
}
