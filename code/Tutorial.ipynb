{
 "cells": [
  {
   "cell_type": "markdown",
   "metadata": {},
   "source": [
    "## Tutorial"
   ]
  },
  {
   "cell_type": "markdown",
   "metadata": {},
   "source": [
    "Let's start with importing our package."
   ]
  },
  {
   "cell_type": "code",
   "execution_count": 1,
   "metadata": {
    "collapsed": true
   },
   "outputs": [],
   "source": [
    "import pheno"
   ]
  },
  {
   "cell_type": "markdown",
   "metadata": {},
   "source": [
    "Set up an environment for nice plotting within this notebook."
   ]
  },
  {
   "cell_type": "code",
   "execution_count": 2,
   "metadata": {
    "collapsed": true
   },
   "outputs": [],
   "source": [
    "%matplotlib inline"
   ]
  },
  {
   "cell_type": "markdown",
   "metadata": {},
   "source": [
    "### Dataset"
   ]
  },
  {
   "cell_type": "markdown",
   "metadata": {},
   "source": [
    "#### Load"
   ]
  },
  {
   "cell_type": "markdown",
   "metadata": {},
   "source": [
    "We're going to look at cherry blossoms at Washington, D.C. The meteorological (weather) dataset is called `usa_ds3505` and downloaded from [NOAA NCDC](http://gis.ncdc.noaa.gov).  The observation dataset is called `cherry_dc` and managed by [NPS](http://www.nps.gov/cherry/). You can access actual files in HDF5 format (.h5) at `/input/df/met` and `/input/df/obs` directories.\n",
    "\n",
    "`translator` argument specifies a mapping of station codes between observation and meteorological datasets. In this example, `cherry_dc` is an observation dataset collected from `DC`, which is mapped to the Reagan National Airport, whose station code is `724050` in `usa_ds3505` dataset."
   ]
  },
  {
   "cell_type": "code",
   "execution_count": 3,
   "metadata": {
    "collapsed": true
   },
   "outputs": [],
   "source": [
    "ds = pheno.data.DataSet('usa_ds3505', 'cherry_dc', translator={'DC': 724050})"
   ]
  },
  {
   "cell_type": "markdown",
   "metadata": {},
   "source": [
    "The dataset may consists of multiple locations, cultivars, or phenological stages."
   ]
  },
  {
   "cell_type": "code",
   "execution_count": 4,
   "metadata": {
    "collapsed": false
   },
   "outputs": [
    {
     "name": "stdout",
     "output_type": "stream",
     "text": [
      "met_station=724050, obs_station=DC, cultivar=None, stage=None\n"
     ]
    }
   ],
   "source": [
    "print(ds)"
   ]
  },
  {
   "cell_type": "markdown",
   "metadata": {},
   "source": [
    "The dataset has two cultivars."
   ]
  },
  {
   "cell_type": "code",
   "execution_count": 5,
   "metadata": {
    "collapsed": false
   },
   "outputs": [
    {
     "data": {
      "text/plain": [
       "['Kwanzan', 'Yoshino']"
      ]
     },
     "execution_count": 5,
     "metadata": {},
     "output_type": "execute_result"
    }
   ],
   "source": [
    "ds.cultivars()"
   ]
  },
  {
   "cell_type": "markdown",
   "metadata": {},
   "source": [
    "The observations were made at five different phenological stages."
   ]
  },
  {
   "cell_type": "code",
   "execution_count": 6,
   "metadata": {
    "collapsed": false
   },
   "outputs": [
    {
     "data": {
      "text/plain": [
       "['Extension of Florets',\n",
       " 'Florets Visible',\n",
       " 'Green Color In Buds',\n",
       " 'Peak Bloom',\n",
       " 'Peduncle Elongation',\n",
       " 'Puffy White']"
      ]
     },
     "execution_count": 6,
     "metadata": {},
     "output_type": "execute_result"
    }
   ],
   "source": [
    "ds.stages()"
   ]
  },
  {
   "cell_type": "markdown",
   "metadata": {},
   "source": [
    "To create a model for a single location/cultivar/stage, explicitly set `cultivar` and `stage` arguments."
   ]
  },
  {
   "cell_type": "code",
   "execution_count": 7,
   "metadata": {
    "collapsed": false
   },
   "outputs": [
    {
     "data": {
      "text/plain": [
       "<pheno.data.dataset.DataSet at 0x112b88dd8>"
      ]
     },
     "execution_count": 7,
     "metadata": {},
     "output_type": "execute_result"
    }
   ],
   "source": [
    "ds.set(cultivar='Yoshino', stage='Peak Bloom')"
   ]
  },
  {
   "cell_type": "markdown",
   "metadata": {},
   "source": [
    "#### Data Exploration"
   ]
  },
  {
   "cell_type": "markdown",
   "metadata": {},
   "source": [
    "Selected weather data can be obtained by `weather()` method and viewed in `DataFrame`."
   ]
  },
  {
   "cell_type": "code",
   "execution_count": 8,
   "metadata": {
    "collapsed": false
   },
   "outputs": [
    {
     "data": {
      "text/html": [
       "<div>\n",
       "<table border=\"1\" class=\"dataframe\">\n",
       "  <thead>\n",
       "    <tr style=\"text-align: right;\">\n",
       "      <th></th>\n",
       "      <th>tavg</th>\n",
       "    </tr>\n",
       "    <tr>\n",
       "      <th>timestamp</th>\n",
       "      <th></th>\n",
       "    </tr>\n",
       "  </thead>\n",
       "  <tbody>\n",
       "    <tr>\n",
       "      <th>2015-06-30 19:00:00</th>\n",
       "      <td>31.180000</td>\n",
       "    </tr>\n",
       "    <tr>\n",
       "      <th>2015-06-30 20:00:00</th>\n",
       "      <td>31.620000</td>\n",
       "    </tr>\n",
       "    <tr>\n",
       "      <th>2015-06-30 21:00:00</th>\n",
       "      <td>31.100000</td>\n",
       "    </tr>\n",
       "    <tr>\n",
       "      <th>2015-06-30 22:00:00</th>\n",
       "      <td>31.033333</td>\n",
       "    </tr>\n",
       "    <tr>\n",
       "      <th>2015-06-30 23:00:00</th>\n",
       "      <td>30.440000</td>\n",
       "    </tr>\n",
       "  </tbody>\n",
       "</table>\n",
       "</div>"
      ],
      "text/plain": [
       "                          tavg\n",
       "timestamp                     \n",
       "2015-06-30 19:00:00  31.180000\n",
       "2015-06-30 20:00:00  31.620000\n",
       "2015-06-30 21:00:00  31.100000\n",
       "2015-06-30 22:00:00  31.033333\n",
       "2015-06-30 23:00:00  30.440000"
      ]
     },
     "execution_count": 8,
     "metadata": {},
     "output_type": "execute_result"
    }
   ],
   "source": [
    "ds.weather().tail()"
   ]
  },
  {
   "cell_type": "markdown",
   "metadata": {},
   "source": [
    "Or directly plotted in this notebook."
   ]
  },
  {
   "cell_type": "code",
   "execution_count": 9,
   "metadata": {
    "collapsed": false
   },
   "outputs": [
    {
     "data": {
      "text/plain": [
       "<matplotlib.axes._subplots.AxesSubplot at 0x113277860>"
      ]
     },
     "execution_count": 9,
     "metadata": {},
     "output_type": "execute_result"
    },
    {
     "data": {
      "image/png": "[encoded data removed]",
      "text/plain": [
       "<matplotlib.figure.Figure at 0x113277ac8>"
      ]
     },
     "metadata": {},
     "output_type": "display_data"
    }
   ],
   "source": [
    "ds.weather().loc['2014'].plot()"
   ]
  },
  {
   "cell_type": "markdown",
   "metadata": {},
   "source": [
    "Selected observation can be retrieved in a similar manner using `observation()`."
   ]
  },
  {
   "cell_type": "code",
   "execution_count": 10,
   "metadata": {
    "collapsed": false
   },
   "outputs": [
    {
     "data": {
      "text/plain": [
       "year\n",
       "2010   2010-03-31\n",
       "2011   2011-03-29\n",
       "2012   2012-03-20\n",
       "2013   2013-04-09\n",
       "2014   2014-04-10\n",
       "Name: Peak Bloom, dtype: datetime64[ns]"
      ]
     },
     "execution_count": 10,
     "metadata": {},
     "output_type": "execute_result"
    }
   ],
   "source": [
    "ds.observation().tail()"
   ]
  },
  {
   "cell_type": "markdown",
   "metadata": {},
   "source": [
    "### Estimator"
   ]
  },
  {
   "cell_type": "markdown",
   "metadata": {},
   "source": [
    "#### Calibration"
   ]
  },
  {
   "cell_type": "markdown",
   "metadata": {},
   "source": [
    "`Estimator` is a model class that implements own algorithm for phenology prediction. `pheno.estimation` package provides more than four individual models.\n",
    "\n",
    "Our growing degree hour model can be instantiated with the dataset we just created."
   ]
  },
  {
   "cell_type": "code",
   "execution_count": 11,
   "metadata": {
    "collapsed": true
   },
   "outputs": [],
   "source": [
    "gd = pheno.estimation.GrowingDegree(ds)"
   ]
  },
  {
   "cell_type": "markdown",
   "metadata": {},
   "source": [
    "For any prediction, we must specify model parameters. An easy way to find them is to just call `calibrate()` method. Let's do it with 11 years of data from 2000 to 2010.\n",
    "\n",
    "Note that a tuple `(2000, 2010)` will be conveniently translated into a list of consecutive years like `[2000, 2001, ..., 2009, 2010]`. Be careful with double parentheses though.\n",
    "\n",
    "Calibration could take up to a few minutes or an hour depending on your computing power."
   ]
  },
  {
   "cell_type": "code",
   "execution_count": 12,
   "metadata": {
    "collapsed": false
   },
   "outputs": [
    {
     "name": "stdout",
     "output_type": "stream",
     "text": [
      "differential_evolution step 1: f(x)= 3.40299\n",
      "differential_evolution step 2: f(x)= 3.40299\n",
      "differential_evolution step 3: f(x)= 3.40299\n",
      "differential_evolution step 4: f(x)= 3.40299\n",
      "differential_evolution step 5: f(x)= 3.40299\n",
      "differential_evolution step 6: f(x)= 3.40299\n",
      "differential_evolution step 7: f(x)= 2.88809\n",
      "differential_evolution step 8: f(x)= 2.88809\n",
      "differential_evolution step 9: f(x)= 2.88809\n",
      "differential_evolution step 10: f(x)= 2.88809\n",
      "differential_evolution step 11: f(x)= 2.88809\n",
      "differential_evolution step 12: f(x)= 1.98189\n",
      "differential_evolution step 13: f(x)= 1.98189\n",
      "differential_evolution step 14: f(x)= 1.98189\n",
      "differential_evolution step 15: f(x)= 1.98189\n",
      "differential_evolution step 16: f(x)= 1.98189\n",
      "differential_evolution step 17: f(x)= 1.98189\n",
      "differential_evolution step 18: f(x)= 1.98189\n",
      "differential_evolution step 19: f(x)= 1.98189\n",
      "differential_evolution step 20: f(x)= 1.97658\n",
      "differential_evolution step 21: f(x)= 1.96866\n",
      "differential_evolution step 22: f(x)= 1.96666\n",
      "differential_evolution step 23: f(x)= 1.96666\n",
      "differential_evolution step 24: f(x)= 1.96666\n",
      "differential_evolution step 25: f(x)= 1.96666\n",
      "differential_evolution step 26: f(x)= 1.94519\n",
      "differential_evolution step 27: f(x)= 1.94519\n",
      "differential_evolution step 28: f(x)= 1.94519\n",
      "differential_evolution step 29: f(x)= 1.94519\n",
      "differential_evolution step 30: f(x)= 1.94519\n",
      "differential_evolution step 31: f(x)= 1.94406\n",
      "differential_evolution step 32: f(x)= 1.94406\n"
     ]
    },
    {
     "data": {
      "text/plain": [
       "{'Ds': 32.91447929543088, 'Rd': 127.36946222589518, 'Tb': 6.8328184059665684}"
      ]
     },
     "execution_count": 12,
     "metadata": {},
     "output_type": "execute_result"
    }
   ],
   "source": [
    "gd.calibrate((2000, 2010))"
   ]
  },
  {
   "cell_type": "markdown",
   "metadata": {},
   "source": [
    "#### Estimation"
   ]
  },
  {
   "cell_type": "markdown",
   "metadata": {},
   "source": [
    "The calibrated parameter is in a Python dictionary. For example, here we have a starting date (`Ds`) of 32 that indicates the beginnig of February. Base temperature (`Tb`) of 6.83 does not sound too bad. Accumulation requirement (`Rd`) is 127.37."
   ]
  },
  {
   "cell_type": "markdown",
   "metadata": {},
   "source": [
    "First check the actual full bloom date for 2010."
   ]
  },
  {
   "cell_type": "code",
   "execution_count": 13,
   "metadata": {
    "collapsed": false
   },
   "outputs": [
    {
     "data": {
      "text/plain": [
       "datetime.datetime(2010, 3, 31, 12, 0)"
      ]
     },
     "execution_count": 13,
     "metadata": {},
     "output_type": "execute_result"
    }
   ],
   "source": [
    "gd.observe(2010)"
   ]
  },
  {
   "cell_type": "markdown",
   "metadata": {},
   "source": [
    "Then predict a full bloom date with our model."
   ]
  },
  {
   "cell_type": "code",
   "execution_count": 14,
   "metadata": {
    "collapsed": false
   },
   "outputs": [
    {
     "data": {
      "text/plain": [
       "datetime.datetime(2010, 3, 31, 15, 0)"
      ]
     },
     "execution_count": 14,
     "metadata": {},
     "output_type": "execute_result"
    }
   ],
   "source": [
    "gd.estimate(2010)"
   ]
  },
  {
   "cell_type": "markdown",
   "metadata": {},
   "source": [
    "As 2010 was a part of our calibration dataset, it's not surprising to see that they are very close."
   ]
  },
  {
   "cell_type": "markdown",
   "metadata": {},
   "source": [
    "Let's do a test with another year that was not included in the calibration dataset."
   ]
  },
  {
   "cell_type": "code",
   "execution_count": 15,
   "metadata": {
    "collapsed": false
   },
   "outputs": [
    {
     "data": {
      "text/plain": [
       "datetime.datetime(2015, 4, 7, 5, 0)"
      ]
     },
     "execution_count": 15,
     "metadata": {},
     "output_type": "execute_result"
    }
   ],
   "source": [
    "gd.estimate(2015)"
   ]
  },
  {
   "cell_type": "markdown",
   "metadata": {},
   "source": [
    "The full bloom date of 2015 is estimated to April 7, which is not very far from the actual date, [April 10](http://havecamerawilltravel.com/cherry-blossoms/2015-peak-bloom-forecasts/)."
   ]
  },
  {
   "cell_type": "markdown",
   "metadata": {},
   "source": [
    "### Plot"
   ]
  },
  {
   "cell_type": "markdown",
   "metadata": {},
   "source": [
    "We can easily make a plot with the model output."
   ]
  },
  {
   "cell_type": "code",
   "execution_count": 16,
   "metadata": {
    "collapsed": true
   },
   "outputs": [],
   "source": [
    "import matplotlib.pyplot as plt"
   ]
  },
  {
   "cell_type": "markdown",
   "metadata": {},
   "source": [
    "`x` axis of the plot will be years from 2000 to 2010."
   ]
  },
  {
   "cell_type": "code",
   "execution_count": 17,
   "metadata": {
    "collapsed": false
   },
   "outputs": [
    {
     "data": {
      "text/plain": [
       "[2000, 2001, 2002, 2003, 2004, 2005, 2006, 2007, 2008, 2009, 2010]"
      ]
     },
     "execution_count": 17,
     "metadata": {},
     "output_type": "execute_result"
    }
   ],
   "source": [
    "x = gd._years((2000, 2010))\n",
    "x"
   ]
  },
  {
   "cell_type": "markdown",
   "metadata": {},
   "source": [
    "`y` axis of the plot will have observations and estimations."
   ]
  },
  {
   "cell_type": "code",
   "execution_count": 18,
   "metadata": {
    "collapsed": true
   },
   "outputs": [],
   "source": [
    "y_obs = gd.observes(x, julian=True)\n",
    "y_est = gd.estimates(x, julian=True)"
   ]
  },
  {
   "cell_type": "markdown",
   "metadata": {},
   "source": [
    "`matplotlib` provides a function for line graph. Solid line indicates observation and dashed line indicates estimation."
   ]
  },
  {
   "cell_type": "code",
   "execution_count": 19,
   "metadata": {
    "collapsed": false
   },
   "outputs": [
    {
     "data": {
      "text/plain": [
       "[<matplotlib.lines.Line2D at 0x1156d65f8>,\n",
       " <matplotlib.lines.Line2D at 0x1156d6978>]"
      ]
     },
     "execution_count": 19,
     "metadata": {},
     "output_type": "execute_result"
    },
    {
     "data": {
      "image/png": "[encoded data removed]",
      "text/plain": [
       "<matplotlib.figure.Figure at 0x1157cb6d8>"
      ]
     },
     "metadata": {},
     "output_type": "display_data"
    }
   ],
   "source": [
    "plt.plot(\n",
    "    x, y_obs, '-',\n",
    "    x, y_est, '--'\n",
    ")"
   ]
  },
  {
   "cell_type": "markdown",
   "metadata": {},
   "source": [
    "A scatter plot can be also easily made out of the same data."
   ]
  },
  {
   "cell_type": "code",
   "execution_count": 20,
   "metadata": {
    "collapsed": false
   },
   "outputs": [
    {
     "data": {
      "text/plain": [
       "<matplotlib.collections.PathCollection at 0x1199c7940>"
      ]
     },
     "execution_count": 20,
     "metadata": {},
     "output_type": "execute_result"
    },
    {
     "data": {
      "image/png": "[encoded data removed]",
      "text/plain": [
       "<matplotlib.figure.Figure at 0x1156f0f60>"
      ]
     },
     "metadata": {},
     "output_type": "display_data"
    }
   ],
   "source": [
    "plt.scatter(y_obs, y_est)"
   ]
  },
  {
   "cell_type": "markdown",
   "metadata": {},
   "source": [
    "### Ensemble"
   ]
  },
  {
   "cell_type": "markdown",
   "metadata": {},
   "source": [
    "`Ensemble` model is composed of multiple other models. First create four individual models as described above. The same dataset will be used."
   ]
  },
  {
   "cell_type": "code",
   "execution_count": 21,
   "metadata": {
    "collapsed": false
   },
   "outputs": [],
   "source": [
    "models = [\n",
    "    pheno.estimation.GrowingDegree(ds),\n",
    "    pheno.estimation.ChillingForce(ds),\n",
    "    pheno.estimation.BetaFunc(ds),\n",
    "    pheno.estimation.StandardTemperature(ds),\n",
    "]"
   ]
  },
  {
   "cell_type": "markdown",
   "metadata": {},
   "source": [
    "Calibrate models."
   ]
  },
  {
   "cell_type": "code",
   "execution_count": 22,
   "metadata": {
    "collapsed": false
   },
   "outputs": [
    {
     "name": "stdout",
     "output_type": "stream",
     "text": [
      "differential_evolution step 1: f(x)= 1.50913\n",
      "differential_evolution step 2: f(x)= 1.50913\n",
      "differential_evolution step 3: f(x)= 1.50913\n",
      "differential_evolution step 4: f(x)= 1.50913\n",
      "differential_evolution step 5: f(x)= 1.44928\n",
      "differential_evolution step 6: f(x)= 1.44928\n",
      "differential_evolution step 7: f(x)= 1.44928\n",
      "differential_evolution step 8: f(x)= 1.33799\n",
      "differential_evolution step 9: f(x)= 1.33799\n",
      "differential_evolution step 10: f(x)= 1.33799\n",
      "differential_evolution step 11: f(x)= 1.33799\n",
      "differential_evolution step 12: f(x)= 1.33799\n",
      "differential_evolution step 13: f(x)= 1.33799\n",
      "differential_evolution step 14: f(x)= 1.33799\n",
      "differential_evolution step 15: f(x)= 1.22037\n",
      "differential_evolution step 16: f(x)= 1.22037\n",
      "differential_evolution step 17: f(x)= 1.22037\n",
      "differential_evolution step 18: f(x)= 1.22037\n",
      "differential_evolution step 19: f(x)= 1.22037\n",
      "differential_evolution step 20: f(x)= 1.22037\n",
      "differential_evolution step 21: f(x)= 1.20642\n",
      "differential_evolution step 22: f(x)= 1.20642\n",
      "differential_evolution step 23: f(x)= 1.20642\n",
      "differential_evolution step 24: f(x)= 1.20642\n",
      "differential_evolution step 25: f(x)= 1.20642\n",
      "differential_evolution step 26: f(x)= 1.20642\n",
      "differential_evolution step 27: f(x)= 1.20642\n",
      "differential_evolution step 28: f(x)= 1.20089\n",
      "differential_evolution step 29: f(x)= 1.20089\n",
      "differential_evolution step 30: f(x)= 1.20089\n",
      "differential_evolution step 31: f(x)= 1.20089\n",
      "differential_evolution step 32: f(x)= 1.19992\n",
      "differential_evolution step 33: f(x)= 1.18573\n",
      "differential_evolution step 34: f(x)= 1.18573\n",
      "differential_evolution step 35: f(x)= 1.18573\n",
      "differential_evolution step 36: f(x)= 1.18573\n",
      "differential_evolution step 37: f(x)= 1.18573\n",
      "differential_evolution step 38: f(x)= 1.18573\n",
      "differential_evolution step 39: f(x)= 1.18573\n",
      "differential_evolution step 40: f(x)= 1.18573\n",
      "differential_evolution step 41: f(x)= 1.18573\n",
      "differential_evolution step 42: f(x)= 1.18573\n",
      "differential_evolution step 43: f(x)= 1.18573\n",
      "differential_evolution step 44: f(x)= 1.18573\n",
      "differential_evolution step 45: f(x)= 1.18573\n",
      "differential_evolution step 46: f(x)= 1.18573\n",
      "differential_evolution step 47: f(x)= 1.18463\n",
      "differential_evolution step 48: f(x)= 1.18463\n",
      "differential_evolution step 1: f(x)= 2.81463\n",
      "differential_evolution step 2: f(x)= 2.81463\n",
      "differential_evolution step 3: f(x)= 1.55326\n",
      "differential_evolution step 4: f(x)= 1.55326\n",
      "differential_evolution step 5: f(x)= 1.55326\n",
      "differential_evolution step 6: f(x)= 1.55326\n",
      "differential_evolution step 7: f(x)= 1.55326\n",
      "differential_evolution step 8: f(x)= 1.55326\n",
      "differential_evolution step 9: f(x)= 1.55326\n",
      "differential_evolution step 10: f(x)= 1.55326\n",
      "differential_evolution step 11: f(x)= 1.55326\n",
      "differential_evolution step 12: f(x)= 1.44448\n",
      "differential_evolution step 13: f(x)= 1.44448\n",
      "differential_evolution step 14: f(x)= 1.44448\n",
      "differential_evolution step 15: f(x)= 1.44448\n",
      "differential_evolution step 16: f(x)= 1.44448\n",
      "differential_evolution step 17: f(x)= 1.44448\n",
      "differential_evolution step 18: f(x)= 1.44448\n",
      "differential_evolution step 19: f(x)= 1.44348\n",
      "differential_evolution step 20: f(x)= 1.44277\n",
      "differential_evolution step 21: f(x)= 1.44277\n",
      "differential_evolution step 22: f(x)= 1.44277\n",
      "differential_evolution step 23: f(x)= 1.44047\n",
      "differential_evolution step 24: f(x)= 1.43695\n",
      "differential_evolution step 25: f(x)= 1.43695\n",
      "differential_evolution step 26: f(x)= 1.43695\n",
      "differential_evolution step 27: f(x)= 1.43695\n",
      "differential_evolution step 28: f(x)= 1.43695\n",
      "differential_evolution step 29: f(x)= 1.42339\n",
      "differential_evolution step 30: f(x)= 1.42339\n",
      "differential_evolution step 31: f(x)= 1.42339\n",
      "differential_evolution step 32: f(x)= 1.42319\n",
      "differential_evolution step 33: f(x)= 1.42217\n",
      "differential_evolution step 34: f(x)= 1.42217\n",
      "differential_evolution step 35: f(x)= 1.42217\n",
      "differential_evolution step 36: f(x)= 1.42146\n",
      "differential_evolution step 37: f(x)= 1.42146\n",
      "differential_evolution step 38: f(x)= 1.42146\n",
      "differential_evolution step 1: f(x)= 4.80996\n",
      "differential_evolution step 2: f(x)= 3.49247\n",
      "differential_evolution step 3: f(x)= 3.49247\n",
      "differential_evolution step 4: f(x)= 3.49247\n",
      "differential_evolution step 5: f(x)= 3.49247\n",
      "differential_evolution step 6: f(x)= 3.43323\n",
      "differential_evolution step 7: f(x)= 3.16767\n",
      "differential_evolution step 8: f(x)= 3.16767\n",
      "differential_evolution step 9: f(x)= 3.16767\n",
      "differential_evolution step 10: f(x)= 1.85483\n",
      "differential_evolution step 11: f(x)= 1.85483\n",
      "differential_evolution step 12: f(x)= 1.85483\n",
      "differential_evolution step 13: f(x)= 1.73905\n",
      "differential_evolution step 14: f(x)= 1.73905\n",
      "differential_evolution step 15: f(x)= 1.72175\n",
      "differential_evolution step 16: f(x)= 1.72175\n",
      "differential_evolution step 17: f(x)= 1.72175\n",
      "differential_evolution step 18: f(x)= 1.66145\n",
      "differential_evolution step 19: f(x)= 1.57967\n",
      "differential_evolution step 20: f(x)= 1.57967\n",
      "differential_evolution step 21: f(x)= 1.57967\n",
      "differential_evolution step 22: f(x)= 1.57967\n",
      "differential_evolution step 23: f(x)= 1.57967\n",
      "differential_evolution step 24: f(x)= 1.57967\n",
      "differential_evolution step 25: f(x)= 1.38098\n",
      "differential_evolution step 26: f(x)= 1.38098\n",
      "differential_evolution step 27: f(x)= 1.38098\n",
      "differential_evolution step 28: f(x)= 1.19811\n",
      "differential_evolution step 29: f(x)= 1.19811\n",
      "differential_evolution step 30: f(x)= 1.19811\n",
      "differential_evolution step 31: f(x)= 1.19811\n",
      "differential_evolution step 32: f(x)= 1.19811\n",
      "differential_evolution step 33: f(x)= 1.19811\n",
      "differential_evolution step 34: f(x)= 1.16753\n",
      "differential_evolution step 35: f(x)= 1.16753\n",
      "differential_evolution step 36: f(x)= 1.16753\n",
      "differential_evolution step 37: f(x)= 1.16753\n",
      "differential_evolution step 38: f(x)= 1.16753\n",
      "differential_evolution step 39: f(x)= 1.16753\n",
      "differential_evolution step 40: f(x)= 1.16753\n",
      "differential_evolution step 41: f(x)= 1.16753\n",
      "differential_evolution step 42: f(x)= 1.16753\n",
      "differential_evolution step 43: f(x)= 1.16753\n",
      "differential_evolution step 44: f(x)= 1.16753\n",
      "differential_evolution step 45: f(x)= 1.16753\n",
      "differential_evolution step 46: f(x)= 1.16753\n",
      "differential_evolution step 47: f(x)= 1.16753\n",
      "differential_evolution step 48: f(x)= 1.16753\n",
      "differential_evolution step 49: f(x)= 1.16753\n",
      "differential_evolution step 50: f(x)= 1.16753\n",
      "differential_evolution step 51: f(x)= 1.16753\n",
      "differential_evolution step 52: f(x)= 1.16654\n",
      "differential_evolution step 53: f(x)= 1.16654\n",
      "differential_evolution step 54: f(x)= 1.16654\n",
      "differential_evolution step 55: f(x)= 1.16654\n",
      "differential_evolution step 56: f(x)= 1.16654\n",
      "differential_evolution step 57: f(x)= 1.16654\n",
      "differential_evolution step 58: f(x)= 1.16654\n",
      "differential_evolution step 59: f(x)= 1.16505\n",
      "differential_evolution step 60: f(x)= 1.16505\n",
      "differential_evolution step 61: f(x)= 1.16505\n",
      "differential_evolution step 62: f(x)= 1.16394\n",
      "differential_evolution step 63: f(x)= 1.16394\n",
      "differential_evolution step 64: f(x)= 1.16107\n",
      "differential_evolution step 65: f(x)= 1.16107\n",
      "differential_evolution step 66: f(x)= 1.15458\n",
      "differential_evolution step 67: f(x)= 1.15458\n",
      "differential_evolution step 68: f(x)= 1.15458\n",
      "differential_evolution step 69: f(x)= 1.15458\n",
      "differential_evolution step 70: f(x)= 1.15458\n",
      "differential_evolution step 71: f(x)= 1.15458\n",
      "differential_evolution step 72: f(x)= 1.15458\n",
      "differential_evolution step 1: f(x)= 4.14072\n",
      "differential_evolution step 2: f(x)= 4.14072\n",
      "differential_evolution step 3: f(x)= 3.41107\n",
      "differential_evolution step 4: f(x)= 3.41107\n",
      "differential_evolution step 5: f(x)= 2.62346\n",
      "differential_evolution step 6: f(x)= 2.62346\n",
      "differential_evolution step 7: f(x)= 2.62346\n",
      "differential_evolution step 8: f(x)= 2.62346\n",
      "differential_evolution step 9: f(x)= 2.19598\n",
      "differential_evolution step 10: f(x)= 2.19598\n",
      "differential_evolution step 11: f(x)= 2.19598\n",
      "differential_evolution step 12: f(x)= 2.19598\n",
      "differential_evolution step 13: f(x)= 2.19598\n",
      "differential_evolution step 14: f(x)= 1.9754\n",
      "differential_evolution step 15: f(x)= 1.9754\n",
      "differential_evolution step 16: f(x)= 1.57353\n",
      "differential_evolution step 17: f(x)= 1.37983\n",
      "differential_evolution step 18: f(x)= 1.14248\n",
      "differential_evolution step 19: f(x)= 1.14248\n",
      "differential_evolution step 20: f(x)= 1.14248\n",
      "differential_evolution step 21: f(x)= 1.14248\n",
      "differential_evolution step 22: f(x)= 1.14248\n",
      "differential_evolution step 23: f(x)= 1.14248\n",
      "differential_evolution step 24: f(x)= 1.14248\n",
      "differential_evolution step 25: f(x)= 1.14248\n",
      "differential_evolution step 26: f(x)= 1.14248\n",
      "differential_evolution step 27: f(x)= 1.14109\n",
      "differential_evolution step 28: f(x)= 1.14109\n",
      "differential_evolution step 29: f(x)= 1.14109\n",
      "differential_evolution step 30: f(x)= 1.12783\n",
      "differential_evolution step 31: f(x)= 1.12783\n",
      "differential_evolution step 32: f(x)= 1.12783\n",
      "differential_evolution step 33: f(x)= 1.12783\n",
      "differential_evolution step 34: f(x)= 1.12783\n",
      "differential_evolution step 35: f(x)= 1.12783\n",
      "differential_evolution step 36: f(x)= 1.12783\n",
      "differential_evolution step 37: f(x)= 1.12783\n",
      "differential_evolution step 38: f(x)= 1.12783\n",
      "differential_evolution step 39: f(x)= 1.12783\n",
      "differential_evolution step 40: f(x)= 1.12783\n",
      "differential_evolution step 41: f(x)= 1.12513\n",
      "differential_evolution step 42: f(x)= 1.1122\n",
      "differential_evolution step 43: f(x)= 1.11128\n",
      "differential_evolution step 44: f(x)= 1.11128\n",
      "differential_evolution step 45: f(x)= 1.10463\n",
      "differential_evolution step 46: f(x)= 1.10463\n",
      "differential_evolution step 47: f(x)= 1.10463\n",
      "differential_evolution step 48: f(x)= 1.10463\n",
      "differential_evolution step 49: f(x)= 1.10161\n",
      "differential_evolution step 50: f(x)= 1.10161\n",
      "differential_evolution step 51: f(x)= 1.08933\n",
      "differential_evolution step 52: f(x)= 1.08933\n",
      "differential_evolution step 53: f(x)= 1.08547\n",
      "differential_evolution step 54: f(x)= 1.08547\n",
      "differential_evolution step 55: f(x)= 1.08547\n",
      "differential_evolution step 56: f(x)= 1.08547\n",
      "differential_evolution step 57: f(x)= 1.08547\n",
      "differential_evolution step 58: f(x)= 1.08547\n"
     ]
    },
    {
     "data": {
      "text/plain": [
       "[{'Ds': 38.59697820860022, 'Rd': 187.96236114531837, 'Tb': 4.395446931578781},\n",
       " {'Ds': -50.77286337618488,\n",
       "  'Rc': -147.82469562761776,\n",
       "  'Rh': 95.712069205922106,\n",
       "  'Tc': 8.889474570937459},\n",
       " {'Ds': 37.299912333090468,\n",
       "  'Rg': 5.6249362856718932,\n",
       "  'To': 35.008147949994793,\n",
       "  'Tx': 49.835176563123575},\n",
       " {'Ds': 22.699459516860099,\n",
       "  'Ea': 103.53785790323901,\n",
       "  'Rd': 157.44139740230762,\n",
       "  'Ts': 3.4811247738160178}]"
      ]
     },
     "execution_count": 22,
     "metadata": {},
     "output_type": "execute_result"
    }
   ],
   "source": [
    "years = (2005, 2010)\n",
    "[m.calibrate(years) for m in models]"
   ]
  },
  {
   "cell_type": "markdown",
   "metadata": {},
   "source": [
    "Then create an ensemble out of them. `use()` method takes care of setting up weight coefficients."
   ]
  },
  {
   "cell_type": "code",
   "execution_count": 23,
   "metadata": {
    "collapsed": false
   },
   "outputs": [],
   "source": [
    "en = pheno.estimation.Ensemble(ds).use(models, years, how='RMSE')"
   ]
  },
  {
   "cell_type": "markdown",
   "metadata": {},
   "source": [
    "Weight coefficients can be now viewed."
   ]
  },
  {
   "cell_type": "code",
   "execution_count": 24,
   "metadata": {
    "collapsed": false
   },
   "outputs": [
    {
     "data": {
      "text/plain": [
       "OrderedDict([('w0', 0.2531142933959537), ('w1', 0.21094368029501018), ('w2', 0.25970387737600165), ('w3', 0.27623814893303444)])"
      ]
     },
     "execution_count": 24,
     "metadata": {},
     "output_type": "execute_result"
    }
   ],
   "source": [
    "en.coeff"
   ]
  },
  {
   "cell_type": "markdown",
   "metadata": {},
   "source": [
    "You should be already familiar with the basic use of the model as it is based on the same `Estimator` class."
   ]
  },
  {
   "cell_type": "code",
   "execution_count": 25,
   "metadata": {
    "collapsed": false
   },
   "outputs": [
    {
     "data": {
      "text/plain": [
       "datetime.datetime(2010, 3, 31, 6, 27, 6, 470627)"
      ]
     },
     "execution_count": 25,
     "metadata": {},
     "output_type": "execute_result"
    }
   ],
   "source": [
    "en.estimate(2010)"
   ]
  },
  {
   "cell_type": "markdown",
   "metadata": {},
   "source": [
    "### Remarks"
   ]
  },
  {
   "cell_type": "markdown",
   "metadata": {},
   "source": [
    "So far, the essence of `pheno` package has been introduced. It should be sufficient for running individual/ensemble models for a simple configuration with a single location/cultivar/stage of the dataset. But when it comes to multiple datasets compiled with multiple configurations, manual management of models will be extremely painful. That's why `ModelSuite`, `ModelGroup`, and `ModelCollection` from `pheno.model` package would come in handy.\n",
    "\n",
    "- `ModelSuite`: a suite of models run on a single configuration\n",
    "- `ModelGroup`: a group of suites run on a dataset, likely consists of multiple configurations\n",
    "- `ModelCollection`: a collection of groups run on multiple datasets, mostly for aggregating cross-validation results\n",
    "\n",
    "They are equipped with diverse methods for producing tables and figures. Look at all that extravagant list of files in the SPACE drive.\n",
    "\n",
    "Descriptions on these classess may deserve another tutorial. In the mean time, please refer to `main.py` in the repository for a sneak peek."
   ]
  }
 ],
 "metadata": {
  "kernelspec": {
   "display_name": "Python 3",
   "language": "python",
   "name": "python3"
  },
  "language_info": {
   "codemirror_mode": {
    "name": "ipython",
    "version": 3
   },
   "file_extension": ".py",
   "mimetype": "text/x-python",
   "name": "python",
   "nbconvert_exporter": "python",
   "pygments_lexer": "ipython3",
   "version": "3.4.3"
  }
 },
 "nbformat": 4,
 "nbformat_minor": 0
}
